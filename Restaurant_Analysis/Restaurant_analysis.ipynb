{
 "cells": [
  {
   "cell_type": "markdown",
   "metadata": {},
   "source": [
    "<div style=\"border:solid black 2px; padding: 20px\"><h1 style=\"color:black; margin-bottom:20px\">Reviewer's comment v1</h1>\n",
    "Halo Ahmad !\n",
    "\n",
    "Perkenalkan saya disini sebagai Code Reviewers, disini dengan senang hati saya akan mereview tugas Ahmad ya.\n",
    "\n",
    "Saya akan memberikan beberapa komen seperti dibawah ini, tolong jangan dipindah, dirubah, maupun dihapus ya.\n",
    "\n",
    "Komen yang saya berikan akan muncul dalam warna hijau, kuning, atau pun merah seperti ini:\n",
    "\n",
    "<div class=\"alert alert-success\">\n",
    "<b>Code Reviewers's comment v.1</b> <a class=\"tocSkip\"></a>\n",
    "\n",
    "Bagus, code yang dijalankan sudah sesuai dengan instruksi dari project.\n",
    "\n",
    "</div>\n",
    "\n",
    "<div class=\"alert alert-warning\">\n",
    "<b>Code Reviewers's comment v.1</b> <a class=\"tocSkip\"></a>\n",
    "\n",
    "Terdapat beberapa catatan.\n",
    "\n",
    "</div>\n",
    "\n",
    "<div class=\"alert alert-danger\">\n",
    "<b>Code Reviewers's comment v.1</b> <a class=\"tocSkip\"></a>\n",
    "\n",
    "Perlu beberapa perbaikan\n",
    "\n",
    "</div>\n",
    "\n",
    "Dan tentu saja Ahmad dapat menjawab saya dengan menggunakan ini\n",
    "\n",
    "<div class=\"alert alert-block alert-info\">\n",
    "<b>Student answer.</b> <a class=\"tocSkip\"></a>\n",
    "    \n",
    "Baik kak\n",
    "</div>"
   ]
  },
  {
   "cell_type": "markdown",
   "metadata": {},
   "source": [
    "# RESTAURANT ANALYSIS"
   ]
  },
  {
   "cell_type": "markdown",
   "metadata": {},
   "source": [
    "# Contents\n",
    "\n",
    "    1. Introduction\n",
    "    2. Menyiapkan Data Untuk Analisis\n",
    "    3. Analisis Data\n",
    "\n",
    "        3.1. Meneliti proporsi dari berbagai jenis usaha\n",
    "        3.2. Meliti proporsi dari usaha berbasis franchise (waralaba) dan nonfranchise\n",
    "        3.3. Menganalisis usaha yang berbasis franchise\n",
    "        3.4. Menentukan ciri-ciri dari jenis usaha berbasis franchise: memiliki banyak tempat dengan jumlah kursi \n",
    "        yang sedikit atau memiliki beberapa tempat dengan jumlah kursi yang banyak\n",
    "        3.5. Menentukan jumlah rata-rata kursi untuk setiap jenis usaha franchise\n",
    "        3.6. Menganalisis usaha berdasarkan nama jalan\n",
    "        3.7. Menampilkan sepuluh nama jalan teratas berdasarkan jumlah usaha (tempat makan)\n",
    "        3.8. Menemukan jumlah jalan yang hanya memiliki satu usaha (tempat makan)\n",
    "        3.9. Menganalisis jumlah kursi yang digunakan oleh tempat usaha untuk jalan yang dihuni oleh banyak \n",
    "        usaha (tempat makan)\n",
    "     4. Kesimpulan Umum"
   ]
  },
  {
   "cell_type": "markdown",
   "metadata": {},
   "source": [
    "# 1. Introduction"
   ]
  },
  {
   "cell_type": "markdown",
   "metadata": {},
   "source": [
    "# Deskripsi proyek\n",
    "\n",
    "Kamu telah memutuskan untuk membuka sebuah kafe kecil di Los Angeles. Kafe milikmu bisa dibilang cukup unik karena kamu \"memperkerjakan\" robot sebagai pelayan atau pramusaji. Proyek ini memang menjanjikan, tetapi membutuhkan modal yang besar. Oleh karena itu, kamu dan para mitra memutuskan untuk menarik minat investor agar mau berinvestasi. Mereka tertarik dengan kondisi pasar saat ini—tetapi, apakah kamu bisa mempertahankan kesuksesan saat daya tarik sang robot mulai pudar?\n",
    "Mengingat kamu adalah seorang pakar analisis, para mitra pun memintamu untuk mempersiapkan sejumlah riset pasar. Kamu memiliki data open-source terkait jenis-jenis usaha tempat makan di LA."
   ]
  },
  {
   "cell_type": "markdown",
   "metadata": {},
   "source": [
    "<div class=\"alert alert-success\">\n",
    "<b>Code Reviewers's comment v.1</b> <a class=\"tocSkip\"></a>\n",
    "\n",
    "Bagus, code yang dijalankan sudah sesuai dengan instruksi dari project.\n",
    "\n",
    "</div>"
   ]
  },
  {
   "cell_type": "markdown",
   "metadata": {},
   "source": [
    "# 2. Menyiapkan Data untuk Analisis\n",
    "\n"
   ]
  },
  {
   "cell_type": "code",
   "execution_count": 298,
   "metadata": {},
   "outputs": [],
   "source": [
    "import pandas as pd, numpy as np\n",
    "import datetime as dt\n",
    "import matplotlib.pyplot as plt, seaborn as sns\n",
    "from plotly import graph_objects as go\n",
    "import warnings\n",
    "warnings.filterwarnings('ignore')"
   ]
  },
  {
   "cell_type": "code",
   "execution_count": 299,
   "metadata": {},
   "outputs": [
    {
     "data": {
      "text/html": [
       "<div>\n",
       "<style scoped>\n",
       "    .dataframe tbody tr th:only-of-type {\n",
       "        vertical-align: middle;\n",
       "    }\n",
       "\n",
       "    .dataframe tbody tr th {\n",
       "        vertical-align: top;\n",
       "    }\n",
       "\n",
       "    .dataframe thead th {\n",
       "        text-align: right;\n",
       "    }\n",
       "</style>\n",
       "<table border=\"1\" class=\"dataframe\">\n",
       "  <thead>\n",
       "    <tr style=\"text-align: right;\">\n",
       "      <th></th>\n",
       "      <th>id</th>\n",
       "      <th>object_name</th>\n",
       "      <th>address</th>\n",
       "      <th>chain</th>\n",
       "      <th>object_type</th>\n",
       "      <th>number</th>\n",
       "    </tr>\n",
       "  </thead>\n",
       "  <tbody>\n",
       "    <tr>\n",
       "      <th>0</th>\n",
       "      <td>11786</td>\n",
       "      <td>HABITAT COFFEE SHOP</td>\n",
       "      <td>3708 N EAGLE ROCK BLVD</td>\n",
       "      <td>False</td>\n",
       "      <td>Cafe</td>\n",
       "      <td>26</td>\n",
       "    </tr>\n",
       "    <tr>\n",
       "      <th>1</th>\n",
       "      <td>11787</td>\n",
       "      <td>REILLY'S</td>\n",
       "      <td>100 WORLD WAY # 120</td>\n",
       "      <td>False</td>\n",
       "      <td>Restaurant</td>\n",
       "      <td>9</td>\n",
       "    </tr>\n",
       "    <tr>\n",
       "      <th>2</th>\n",
       "      <td>11788</td>\n",
       "      <td>STREET CHURROS</td>\n",
       "      <td>6801 HOLLYWOOD BLVD # 253</td>\n",
       "      <td>False</td>\n",
       "      <td>Fast Food</td>\n",
       "      <td>20</td>\n",
       "    </tr>\n",
       "    <tr>\n",
       "      <th>3</th>\n",
       "      <td>11789</td>\n",
       "      <td>TRINITI ECHO PARK</td>\n",
       "      <td>1814 W SUNSET BLVD</td>\n",
       "      <td>False</td>\n",
       "      <td>Restaurant</td>\n",
       "      <td>22</td>\n",
       "    </tr>\n",
       "    <tr>\n",
       "      <th>4</th>\n",
       "      <td>11790</td>\n",
       "      <td>POLLEN</td>\n",
       "      <td>2100 ECHO PARK AVE</td>\n",
       "      <td>False</td>\n",
       "      <td>Restaurant</td>\n",
       "      <td>20</td>\n",
       "    </tr>\n",
       "    <tr>\n",
       "      <th>...</th>\n",
       "      <td>...</td>\n",
       "      <td>...</td>\n",
       "      <td>...</td>\n",
       "      <td>...</td>\n",
       "      <td>...</td>\n",
       "      <td>...</td>\n",
       "    </tr>\n",
       "    <tr>\n",
       "      <th>9646</th>\n",
       "      <td>21432</td>\n",
       "      <td>HALL OF JUSTICE</td>\n",
       "      <td>217 W TEMPLE AVE</td>\n",
       "      <td>False</td>\n",
       "      <td>Restaurant</td>\n",
       "      <td>122</td>\n",
       "    </tr>\n",
       "    <tr>\n",
       "      <th>9647</th>\n",
       "      <td>21433</td>\n",
       "      <td>FIN-MELROSE</td>\n",
       "      <td>5750 MELROSE AVE</td>\n",
       "      <td>False</td>\n",
       "      <td>Restaurant</td>\n",
       "      <td>93</td>\n",
       "    </tr>\n",
       "    <tr>\n",
       "      <th>9648</th>\n",
       "      <td>21434</td>\n",
       "      <td>JUICY WINGZ</td>\n",
       "      <td>6741 HOLLYWOOD BLVD</td>\n",
       "      <td>True</td>\n",
       "      <td>Fast Food</td>\n",
       "      <td>15</td>\n",
       "    </tr>\n",
       "    <tr>\n",
       "      <th>9649</th>\n",
       "      <td>21435</td>\n",
       "      <td>MEDIDATE COFFEE</td>\n",
       "      <td>548 S SPRING ST STE 100</td>\n",
       "      <td>False</td>\n",
       "      <td>Cafe</td>\n",
       "      <td>6</td>\n",
       "    </tr>\n",
       "    <tr>\n",
       "      <th>9650</th>\n",
       "      <td>21436</td>\n",
       "      <td>CAFE SPROUTS</td>\n",
       "      <td>1300 S SAN PEDRO ST STE 111</td>\n",
       "      <td>True</td>\n",
       "      <td>Restaurant</td>\n",
       "      <td>19</td>\n",
       "    </tr>\n",
       "  </tbody>\n",
       "</table>\n",
       "<p>9651 rows × 6 columns</p>\n",
       "</div>"
      ],
      "text/plain": [
       "         id          object_name                      address  chain  \\\n",
       "0     11786  HABITAT COFFEE SHOP       3708 N EAGLE ROCK BLVD  False   \n",
       "1     11787             REILLY'S          100 WORLD WAY # 120  False   \n",
       "2     11788       STREET CHURROS    6801 HOLLYWOOD BLVD # 253  False   \n",
       "3     11789    TRINITI ECHO PARK           1814 W SUNSET BLVD  False   \n",
       "4     11790               POLLEN           2100 ECHO PARK AVE  False   \n",
       "...     ...                  ...                          ...    ...   \n",
       "9646  21432      HALL OF JUSTICE             217 W TEMPLE AVE  False   \n",
       "9647  21433          FIN-MELROSE             5750 MELROSE AVE  False   \n",
       "9648  21434          JUICY WINGZ          6741 HOLLYWOOD BLVD   True   \n",
       "9649  21435      MEDIDATE COFFEE      548 S SPRING ST STE 100  False   \n",
       "9650  21436         CAFE SPROUTS  1300 S SAN PEDRO ST STE 111   True   \n",
       "\n",
       "     object_type  number  \n",
       "0           Cafe      26  \n",
       "1     Restaurant       9  \n",
       "2      Fast Food      20  \n",
       "3     Restaurant      22  \n",
       "4     Restaurant      20  \n",
       "...          ...     ...  \n",
       "9646  Restaurant     122  \n",
       "9647  Restaurant      93  \n",
       "9648   Fast Food      15  \n",
       "9649        Cafe       6  \n",
       "9650  Restaurant      19  \n",
       "\n",
       "[9651 rows x 6 columns]"
      ]
     },
     "execution_count": 299,
     "metadata": {},
     "output_type": "execute_result"
    }
   ],
   "source": [
    "rest = pd.read_csv('/datasets/rest_data_us.csv')\n",
    "rest"
   ]
  },
  {
   "cell_type": "code",
   "execution_count": 300,
   "metadata": {},
   "outputs": [
    {
     "name": "stdout",
     "output_type": "stream",
     "text": [
      "<class 'pandas.core.frame.DataFrame'>\n",
      "RangeIndex: 9651 entries, 0 to 9650\n",
      "Data columns (total 6 columns):\n",
      " #   Column       Non-Null Count  Dtype \n",
      "---  ------       --------------  ----- \n",
      " 0   id           9651 non-null   int64 \n",
      " 1   object_name  9651 non-null   object\n",
      " 2   address      9651 non-null   object\n",
      " 3   chain        9648 non-null   object\n",
      " 4   object_type  9651 non-null   object\n",
      " 5   number       9651 non-null   int64 \n",
      "dtypes: int64(2), object(4)\n",
      "memory usage: 452.5+ KB\n"
     ]
    }
   ],
   "source": [
    "rest.info()"
   ]
  },
  {
   "cell_type": "markdown",
   "metadata": {},
   "source": [
    "Tabel rest berisi data tentang:\n",
    "\n",
    "    - id - no ID usaha\n",
    "    - object_name — nama usaha\n",
    "    - chain — usaha berbasis waralaba (TRUE/FALSE)\n",
    "    - object_type — jenis usaha\n",
    "    - address — alamat\n",
    "    - number — jumlah kursi"
   ]
  },
  {
   "cell_type": "code",
   "execution_count": 301,
   "metadata": {},
   "outputs": [
    {
     "data": {
      "text/plain": [
       "id             0\n",
       "object_name    0\n",
       "address        0\n",
       "chain          3\n",
       "object_type    0\n",
       "number         0\n",
       "dtype: int64"
      ]
     },
     "execution_count": 301,
     "metadata": {},
     "output_type": "execute_result"
    }
   ],
   "source": [
    "#Mengecek missing vslues\n",
    "rest.isnull().sum()\n",
    "\n",
    "#Di kolom chain terdapat 3 missing values"
   ]
  },
  {
   "cell_type": "code",
   "execution_count": 302,
   "metadata": {},
   "outputs": [],
   "source": [
    "#Karena jumlahnya sangat sedikit, missing values bisa dihilangkan\n",
    "rest = rest.dropna().reset_index(drop=True)"
   ]
  },
  {
   "cell_type": "code",
   "execution_count": 303,
   "metadata": {},
   "outputs": [
    {
     "data": {
      "text/plain": [
       "id             0\n",
       "object_name    0\n",
       "address        0\n",
       "chain          0\n",
       "object_type    0\n",
       "number         0\n",
       "dtype: int64"
      ]
     },
     "execution_count": 303,
     "metadata": {},
     "output_type": "execute_result"
    }
   ],
   "source": [
    "rest.isnull().sum()"
   ]
  },
  {
   "cell_type": "code",
   "execution_count": 304,
   "metadata": {},
   "outputs": [
    {
     "data": {
      "text/plain": [
       "0"
      ]
     },
     "execution_count": 304,
     "metadata": {},
     "output_type": "execute_result"
    }
   ],
   "source": [
    "rest.duplicated().sum()\n",
    "\n",
    "#Tidak ada data duplikat"
   ]
  },
  {
   "cell_type": "code",
   "execution_count": 305,
   "metadata": {},
   "outputs": [],
   "source": [
    "rest['chain'] = rest['chain'].astype(bool)"
   ]
  },
  {
   "cell_type": "code",
   "execution_count": 306,
   "metadata": {},
   "outputs": [
    {
     "name": "stdout",
     "output_type": "stream",
     "text": [
      "<class 'pandas.core.frame.DataFrame'>\n",
      "RangeIndex: 9648 entries, 0 to 9647\n",
      "Data columns (total 6 columns):\n",
      " #   Column       Non-Null Count  Dtype \n",
      "---  ------       --------------  ----- \n",
      " 0   id           9648 non-null   int64 \n",
      " 1   object_name  9648 non-null   object\n",
      " 2   address      9648 non-null   object\n",
      " 3   chain        9648 non-null   bool  \n",
      " 4   object_type  9648 non-null   object\n",
      " 5   number       9648 non-null   int64 \n",
      "dtypes: bool(1), int64(2), object(3)\n",
      "memory usage: 386.4+ KB\n"
     ]
    }
   ],
   "source": [
    "rest.info()"
   ]
  },
  {
   "cell_type": "markdown",
   "metadata": {},
   "source": [
    "- Kesimpulan:\n",
    "    - Tabel Rest memberikan informasi tentang seluruh nama-nama usaha tempat makan di Los Angeles\n",
    "    - Terdiri dari 9648 baris data dan 6 kolom\n",
    "    - Masing-masing data tempat usaha memiliki data nama, alamat, jenis usaha, tipe usaha, dan jumlah kursi yang digunakan"
   ]
  },
  {
   "cell_type": "markdown",
   "metadata": {},
   "source": [
    "<div class=\"alert alert-success\">\n",
    "<b>Code Reviewers's comment v.1</b> <a class=\"tocSkip\"></a>\n",
    "\n",
    "Bagus, code yang dijalankan sudah sesuai dengan instruksi dari project.\n",
    "\n",
    "</div>"
   ]
  },
  {
   "cell_type": "markdown",
   "metadata": {},
   "source": [
    "# 3. Analisis Data"
   ]
  },
  {
   "cell_type": "markdown",
   "metadata": {},
   "source": [
    "# 3.1. Meneliti proporsi dari berbagai jenis usaha"
   ]
  },
  {
   "cell_type": "code",
   "execution_count": 307,
   "metadata": {},
   "outputs": [
    {
     "data": {
      "text/plain": [
       "(9648,)"
      ]
     },
     "execution_count": 307,
     "metadata": {},
     "output_type": "execute_result"
    }
   ],
   "source": [
    "rest['object_name'].shape\n",
    "#Total usaha tempat makan di Los Angeles sebanyak 9648 usaha"
   ]
  },
  {
   "cell_type": "code",
   "execution_count": 308,
   "metadata": {},
   "outputs": [
    {
     "data": {
      "text/plain": [
       "Restaurant    7253\n",
       "Fast Food     1066\n",
       "Cafe           435\n",
       "Pizza          319\n",
       "Bar            292\n",
       "Bakery         283\n",
       "Name: object_type, dtype: int64"
      ]
     },
     "execution_count": 308,
     "metadata": {},
     "output_type": "execute_result"
    }
   ],
   "source": [
    "#Menghitung jumlah bisnis berdasarkan jenisnya\n",
    "business_counts = rest['object_type'].value_counts()\n",
    "business_counts"
   ]
  },
  {
   "cell_type": "code",
   "execution_count": 309,
   "metadata": {},
   "outputs": [
    {
     "data": {
      "image/png": "[encoded data removed]",
      "text/plain": [
       "<Figure size 576x432 with 1 Axes>"
      ]
     },
     "metadata": {},
     "output_type": "display_data"
    }
   ],
   "source": [
    "#Membuat diagram batang untuk jumlah berbagai jenis usaha\n",
    "plt.figure(figsize=(8, 6))\n",
    "business_counts.plot(kind='bar', xlabel='Jenis Usaha', ylabel='Jumlah', color='red')\n",
    "plt.title('Jumlah Berbagai Jenis Usaha')\n",
    "plt.legend()\n",
    "plt.show()"
   ]
  },
  {
   "cell_type": "code",
   "execution_count": 310,
   "metadata": {},
   "outputs": [
    {
     "data": {
      "image/png": "[encoded data removed]",
      "text/plain": [
       "<Figure size 576x432 with 1 Axes>"
      ]
     },
     "metadata": {},
     "output_type": "display_data"
    }
   ],
   "source": [
    "#Membuat grafik piechart untuk proporsi berbagai jenis usaha\n",
    "plt.figure(figsize=(8, 6))\n",
    "business_counts.plot(kind='pie', autopct='%1.1f%%', startangle=140)\n",
    "plt.title('Proporsi Berbagai Jenis Usaha')\n",
    "plt.axis('equal')\n",
    "plt.legend()\n",
    "plt.show()"
   ]
  },
  {
   "cell_type": "markdown",
   "metadata": {},
   "source": [
    "   -Kesimpulan:\n",
    "   \n",
    "        - Berdasarkan jenis usahanya, usaha yang paling banyak di Los Angeles adalah restaurant sebanyak 7253 tempat \n",
    "        atau 75.2 % "
   ]
  },
  {
   "cell_type": "markdown",
   "metadata": {},
   "source": [
    "<div class=\"alert alert-success\">\n",
    "<b>Code Reviewers's comment v.1</b> <a class=\"tocSkip\"></a>\n",
    "\n",
    "Bagus, code yang dijalankan sudah sesuai dengan instruksi dari project.\n",
    "\n",
    "</div>"
   ]
  },
  {
   "cell_type": "markdown",
   "metadata": {},
   "source": [
    "# 3.2. Meneliti proporsi dari usaha berbasis Franchise (waralaba) dan nonfranchise"
   ]
  },
  {
   "cell_type": "code",
   "execution_count": 311,
   "metadata": {},
   "outputs": [
    {
     "data": {
      "text/html": [
       "<div>\n",
       "<style scoped>\n",
       "    .dataframe tbody tr th:only-of-type {\n",
       "        vertical-align: middle;\n",
       "    }\n",
       "\n",
       "    .dataframe tbody tr th {\n",
       "        vertical-align: top;\n",
       "    }\n",
       "\n",
       "    .dataframe thead th {\n",
       "        text-align: right;\n",
       "    }\n",
       "</style>\n",
       "<table border=\"1\" class=\"dataframe\">\n",
       "  <thead>\n",
       "    <tr style=\"text-align: right;\">\n",
       "      <th></th>\n",
       "      <th>id</th>\n",
       "      <th>object_name</th>\n",
       "      <th>address</th>\n",
       "      <th>franchise</th>\n",
       "      <th>object_type</th>\n",
       "      <th>number</th>\n",
       "    </tr>\n",
       "  </thead>\n",
       "  <tbody>\n",
       "    <tr>\n",
       "      <th>0</th>\n",
       "      <td>11786</td>\n",
       "      <td>HABITAT COFFEE SHOP</td>\n",
       "      <td>3708 N EAGLE ROCK BLVD</td>\n",
       "      <td>No</td>\n",
       "      <td>Cafe</td>\n",
       "      <td>26</td>\n",
       "    </tr>\n",
       "    <tr>\n",
       "      <th>1</th>\n",
       "      <td>11787</td>\n",
       "      <td>REILLY'S</td>\n",
       "      <td>100 WORLD WAY # 120</td>\n",
       "      <td>No</td>\n",
       "      <td>Restaurant</td>\n",
       "      <td>9</td>\n",
       "    </tr>\n",
       "    <tr>\n",
       "      <th>2</th>\n",
       "      <td>11788</td>\n",
       "      <td>STREET CHURROS</td>\n",
       "      <td>6801 HOLLYWOOD BLVD # 253</td>\n",
       "      <td>No</td>\n",
       "      <td>Fast Food</td>\n",
       "      <td>20</td>\n",
       "    </tr>\n",
       "    <tr>\n",
       "      <th>3</th>\n",
       "      <td>11789</td>\n",
       "      <td>TRINITI ECHO PARK</td>\n",
       "      <td>1814 W SUNSET BLVD</td>\n",
       "      <td>No</td>\n",
       "      <td>Restaurant</td>\n",
       "      <td>22</td>\n",
       "    </tr>\n",
       "    <tr>\n",
       "      <th>4</th>\n",
       "      <td>11790</td>\n",
       "      <td>POLLEN</td>\n",
       "      <td>2100 ECHO PARK AVE</td>\n",
       "      <td>No</td>\n",
       "      <td>Restaurant</td>\n",
       "      <td>20</td>\n",
       "    </tr>\n",
       "    <tr>\n",
       "      <th>5</th>\n",
       "      <td>11791</td>\n",
       "      <td>THE SPOT GRILL</td>\n",
       "      <td>10004 NATIONAL BLVD</td>\n",
       "      <td>No</td>\n",
       "      <td>Restaurant</td>\n",
       "      <td>14</td>\n",
       "    </tr>\n",
       "    <tr>\n",
       "      <th>6</th>\n",
       "      <td>11792</td>\n",
       "      <td>CPK</td>\n",
       "      <td>100 WORLD WAY # 126</td>\n",
       "      <td>No</td>\n",
       "      <td>Restaurant</td>\n",
       "      <td>100</td>\n",
       "    </tr>\n",
       "    <tr>\n",
       "      <th>7</th>\n",
       "      <td>11793</td>\n",
       "      <td>PHO LALA</td>\n",
       "      <td>3500 W 6TH ST STE 226</td>\n",
       "      <td>No</td>\n",
       "      <td>Restaurant</td>\n",
       "      <td>7</td>\n",
       "    </tr>\n",
       "    <tr>\n",
       "      <th>8</th>\n",
       "      <td>11794</td>\n",
       "      <td>ABC DONUTS</td>\n",
       "      <td>3027 N SAN FERNANDO RD UNIT 103</td>\n",
       "      <td>Yes</td>\n",
       "      <td>Fast Food</td>\n",
       "      <td>1</td>\n",
       "    </tr>\n",
       "    <tr>\n",
       "      <th>9</th>\n",
       "      <td>11795</td>\n",
       "      <td>UPSTAIRS</td>\n",
       "      <td>3707 N CAHUENGA BLVD</td>\n",
       "      <td>No</td>\n",
       "      <td>Restaurant</td>\n",
       "      <td>35</td>\n",
       "    </tr>\n",
       "  </tbody>\n",
       "</table>\n",
       "</div>"
      ],
      "text/plain": [
       "      id          object_name                          address franchise  \\\n",
       "0  11786  HABITAT COFFEE SHOP           3708 N EAGLE ROCK BLVD        No   \n",
       "1  11787             REILLY'S              100 WORLD WAY # 120        No   \n",
       "2  11788       STREET CHURROS        6801 HOLLYWOOD BLVD # 253        No   \n",
       "3  11789    TRINITI ECHO PARK               1814 W SUNSET BLVD        No   \n",
       "4  11790               POLLEN               2100 ECHO PARK AVE        No   \n",
       "5  11791       THE SPOT GRILL              10004 NATIONAL BLVD        No   \n",
       "6  11792                  CPK              100 WORLD WAY # 126        No   \n",
       "7  11793             PHO LALA            3500 W 6TH ST STE 226        No   \n",
       "8  11794           ABC DONUTS  3027 N SAN FERNANDO RD UNIT 103       Yes   \n",
       "9  11795             UPSTAIRS             3707 N CAHUENGA BLVD        No   \n",
       "\n",
       "  object_type  number  \n",
       "0        Cafe      26  \n",
       "1  Restaurant       9  \n",
       "2   Fast Food      20  \n",
       "3  Restaurant      22  \n",
       "4  Restaurant      20  \n",
       "5  Restaurant      14  \n",
       "6  Restaurant     100  \n",
       "7  Restaurant       7  \n",
       "8   Fast Food       1  \n",
       "9  Restaurant      35  "
      ]
     },
     "execution_count": 311,
     "metadata": {},
     "output_type": "execute_result"
    }
   ],
   "source": [
    "rest = rest.rename(columns={'chain': 'franchise'})\n",
    "rest['franchise'] = rest['franchise'].replace(True, 'Yes').replace(False, 'No')\n",
    "rest.head(10)"
   ]
  },
  {
   "cell_type": "code",
   "execution_count": 312,
   "metadata": {},
   "outputs": [
    {
     "data": {
      "text/plain": [
       "No     5972\n",
       "Yes    3676\n",
       "Name: franchise, dtype: int64"
      ]
     },
     "execution_count": 312,
     "metadata": {},
     "output_type": "execute_result"
    }
   ],
   "source": [
    "#Jumlah usaha yang berbasis franchise dan nonfranchise\n",
    "rest['franchise'].value_counts()"
   ]
  },
  {
   "cell_type": "code",
   "execution_count": 313,
   "metadata": {},
   "outputs": [
    {
     "data": {
      "text/plain": [
       "<AxesSubplot:xlabel='franchise', ylabel='count'>"
      ]
     },
     "execution_count": 313,
     "metadata": {},
     "output_type": "execute_result"
    },
    {
     "data": {
      "image/png": "[encoded data removed]",
      "text/plain": [
       "<Figure size 432x288 with 1 Axes>"
      ]
     },
     "metadata": {},
     "output_type": "display_data"
    }
   ],
   "source": [
    "#Diagram batang untuk jumlah usaha berbasis franchise dan nonfranchise\n",
    "sns.countplot(rest['franchise'])"
   ]
  },
  {
   "cell_type": "code",
   "execution_count": 314,
   "metadata": {},
   "outputs": [
    {
     "data": {
      "text/plain": [
       "No     0.618988\n",
       "Yes    0.381012\n",
       "Name: franchise, dtype: float64"
      ]
     },
     "execution_count": 314,
     "metadata": {},
     "output_type": "execute_result"
    }
   ],
   "source": [
    "#Menghitung proporsi dari usaha franchise dan nonfranchise\n",
    "proporsi_franchise = rest['franchise'].value_counts(normalize=True)\n",
    "proporsi_franchise"
   ]
  },
  {
   "cell_type": "code",
   "execution_count": 315,
   "metadata": {},
   "outputs": [
    {
     "data": {
      "image/png": "[encoded data removed]",
      "text/plain": [
       "<Figure size 576x432 with 1 Axes>"
      ]
     },
     "metadata": {},
     "output_type": "display_data"
    }
   ],
   "source": [
    "#Membuat piechart untuk proporsi franchise\n",
    "plt.figure(figsize=(8, 6))\n",
    "proporsi_franchise.plot(kind='pie', autopct='%1.1f%%', colors=['dodgerblue', 'orange'])\n",
    "plt.title('Proporsi Jenis Usaha Berbasis Franchise dan Nonfranchise ')\n",
    "plt.ylabel('')\n",
    "plt.show()"
   ]
  },
  {
   "cell_type": "markdown",
   "metadata": {},
   "source": [
    "Kesimpulan:\n",
    "\n",
    "    - Jenis usaha yang berbasis franchise lebih sedikit daripada nonfranchise yakni berjumlah 3676 usaha atau 38.1 %.\n",
    "    - Jenis usaha yang tidak berbasis franchise berjumlah 5972 usaha atau 61.9 %"
   ]
  },
  {
   "cell_type": "markdown",
   "metadata": {},
   "source": [
    "<div class=\"alert alert-success\">\n",
    "<b>Code Reviewers's comment v.1</b> <a class=\"tocSkip\"></a>\n",
    "\n",
    "Bagus, code yang dijalankan sudah sesuai dengan instruksi dari project.\n",
    "\n",
    "</div>"
   ]
  },
  {
   "cell_type": "markdown",
   "metadata": {},
   "source": [
    "# 3.3. Menganalisis usaha yang berbasis franchise"
   ]
  },
  {
   "cell_type": "code",
   "execution_count": 316,
   "metadata": {},
   "outputs": [
    {
     "data": {
      "text/plain": [
       "Restaurant    7253\n",
       "Fast Food     1066\n",
       "Cafe           435\n",
       "Pizza          319\n",
       "Bar            292\n",
       "Bakery         283\n",
       "Name: object_type, dtype: int64"
      ]
     },
     "execution_count": 316,
     "metadata": {},
     "output_type": "execute_result"
    }
   ],
   "source": [
    "rest['object_type'].value_counts()"
   ]
  },
  {
   "cell_type": "code",
   "execution_count": 317,
   "metadata": {},
   "outputs": [
    {
     "data": {
      "text/html": [
       "<div>\n",
       "<style scoped>\n",
       "    .dataframe tbody tr th:only-of-type {\n",
       "        vertical-align: middle;\n",
       "    }\n",
       "\n",
       "    .dataframe tbody tr th {\n",
       "        vertical-align: top;\n",
       "    }\n",
       "\n",
       "    .dataframe thead th {\n",
       "        text-align: right;\n",
       "    }\n",
       "</style>\n",
       "<table border=\"1\" class=\"dataframe\">\n",
       "  <thead>\n",
       "    <tr style=\"text-align: right;\">\n",
       "      <th>franchise</th>\n",
       "      <th>No</th>\n",
       "      <th>Yes</th>\n",
       "    </tr>\n",
       "    <tr>\n",
       "      <th>object_type</th>\n",
       "      <th></th>\n",
       "      <th></th>\n",
       "    </tr>\n",
       "  </thead>\n",
       "  <tbody>\n",
       "    <tr>\n",
       "      <th>Restaurant</th>\n",
       "      <td>4961.0</td>\n",
       "      <td>2292.0</td>\n",
       "    </tr>\n",
       "    <tr>\n",
       "      <th>Fast Food</th>\n",
       "      <td>461.0</td>\n",
       "      <td>605.0</td>\n",
       "    </tr>\n",
       "    <tr>\n",
       "      <th>Bakery</th>\n",
       "      <td>1.0</td>\n",
       "      <td>283.0</td>\n",
       "    </tr>\n",
       "    <tr>\n",
       "      <th>Cafe</th>\n",
       "      <td>169.0</td>\n",
       "      <td>266.0</td>\n",
       "    </tr>\n",
       "    <tr>\n",
       "      <th>Pizza</th>\n",
       "      <td>166.0</td>\n",
       "      <td>153.0</td>\n",
       "    </tr>\n",
       "    <tr>\n",
       "      <th>Bar</th>\n",
       "      <td>215.0</td>\n",
       "      <td>77.0</td>\n",
       "    </tr>\n",
       "  </tbody>\n",
       "</table>\n",
       "</div>"
      ],
      "text/plain": [
       "franchise        No     Yes\n",
       "object_type                \n",
       "Restaurant   4961.0  2292.0\n",
       "Fast Food     461.0   605.0\n",
       "Bakery          1.0   283.0\n",
       "Cafe          169.0   266.0\n",
       "Pizza         166.0   153.0\n",
       "Bar           215.0    77.0"
      ]
     },
     "execution_count": 317,
     "metadata": {},
     "output_type": "execute_result"
    }
   ],
   "source": [
    "#Menghitung jenis usaha yang berbasis franchise dan nonfranchise\n",
    "franchise_type = pd.pivot_table(rest, index='object_type', columns=['franchise'], values='object_name', aggfunc='count').fillna(1)\n",
    "franchise_type.sort_values(by='Yes', ascending=False)"
   ]
  },
  {
   "cell_type": "code",
   "execution_count": 318,
   "metadata": {},
   "outputs": [
    {
     "data": {
      "text/plain": [
       "<AxesSubplot:xlabel='object_type'>"
      ]
     },
     "execution_count": 318,
     "metadata": {},
     "output_type": "execute_result"
    },
    {
     "data": {
      "image/png": "[encoded data removed]",
      "text/plain": [
       "<Figure size 432x288 with 1 Axes>"
      ]
     },
     "metadata": {},
     "output_type": "display_data"
    }
   ],
   "source": [
    "franchise_type.sort_values(by='Yes', ascending=False).plot(kind='bar')"
   ]
  },
  {
   "cell_type": "code",
   "execution_count": 319,
   "metadata": {},
   "outputs": [
    {
     "data": {
      "text/html": [
       "<div>\n",
       "<style scoped>\n",
       "    .dataframe tbody tr th:only-of-type {\n",
       "        vertical-align: middle;\n",
       "    }\n",
       "\n",
       "    .dataframe tbody tr th {\n",
       "        vertical-align: top;\n",
       "    }\n",
       "\n",
       "    .dataframe thead th {\n",
       "        text-align: right;\n",
       "    }\n",
       "</style>\n",
       "<table border=\"1\" class=\"dataframe\">\n",
       "  <thead>\n",
       "    <tr style=\"text-align: right;\">\n",
       "      <th>franchise</th>\n",
       "      <th>No</th>\n",
       "      <th>Yes</th>\n",
       "      <th>ratio</th>\n",
       "    </tr>\n",
       "    <tr>\n",
       "      <th>object_type</th>\n",
       "      <th></th>\n",
       "      <th></th>\n",
       "      <th></th>\n",
       "    </tr>\n",
       "  </thead>\n",
       "  <tbody>\n",
       "    <tr>\n",
       "      <th>Bakery</th>\n",
       "      <td>1.0</td>\n",
       "      <td>283.0</td>\n",
       "      <td>99.647887</td>\n",
       "    </tr>\n",
       "    <tr>\n",
       "      <th>Cafe</th>\n",
       "      <td>169.0</td>\n",
       "      <td>266.0</td>\n",
       "      <td>61.149425</td>\n",
       "    </tr>\n",
       "    <tr>\n",
       "      <th>Fast Food</th>\n",
       "      <td>461.0</td>\n",
       "      <td>605.0</td>\n",
       "      <td>56.754221</td>\n",
       "    </tr>\n",
       "    <tr>\n",
       "      <th>Pizza</th>\n",
       "      <td>166.0</td>\n",
       "      <td>153.0</td>\n",
       "      <td>47.962382</td>\n",
       "    </tr>\n",
       "    <tr>\n",
       "      <th>Restaurant</th>\n",
       "      <td>4961.0</td>\n",
       "      <td>2292.0</td>\n",
       "      <td>31.600717</td>\n",
       "    </tr>\n",
       "    <tr>\n",
       "      <th>Bar</th>\n",
       "      <td>215.0</td>\n",
       "      <td>77.0</td>\n",
       "      <td>26.369863</td>\n",
       "    </tr>\n",
       "  </tbody>\n",
       "</table>\n",
       "</div>"
      ],
      "text/plain": [
       "franchise        No     Yes      ratio\n",
       "object_type                           \n",
       "Bakery          1.0   283.0  99.647887\n",
       "Cafe          169.0   266.0  61.149425\n",
       "Fast Food     461.0   605.0  56.754221\n",
       "Pizza         166.0   153.0  47.962382\n",
       "Restaurant   4961.0  2292.0  31.600717\n",
       "Bar           215.0    77.0  26.369863"
      ]
     },
     "execution_count": 319,
     "metadata": {},
     "output_type": "execute_result"
    }
   ],
   "source": [
    "franchise_type['ratio'] = (franchise_type['Yes'] / (franchise_type['Yes'] + franchise_type['No'])) * 100\n",
    "franchise_type.sort_values(by='ratio', ascending=False)"
   ]
  },
  {
   "cell_type": "code",
   "execution_count": 320,
   "metadata": {},
   "outputs": [
    {
     "data": {
      "text/plain": [
       "<AxesSubplot:title={'center':'Perbandingan Antara Jumlah Usaha Franchise dengan Nonfranchise'}, xlabel='Jenis Usaha'>"
      ]
     },
     "execution_count": 320,
     "metadata": {},
     "output_type": "execute_result"
    },
    {
     "data": {
      "image/png": "[encoded data removed]",
      "text/plain": [
       "<Figure size 432x288 with 1 Axes>"
      ]
     },
     "metadata": {},
     "output_type": "display_data"
    }
   ],
   "source": [
    "franchise_type['ratio'].plot(kind='bar', color='purple', xlabel='Jenis Usaha', title='Perbandingan Antara Jumlah Usaha Franchise dengan Nonfranchise')"
   ]
  },
  {
   "cell_type": "markdown",
   "metadata": {},
   "source": [
    "Kesimpulan:\n",
    "\n",
    "    - Dari keenam jenis usaha, semuanya memiliki jenis usaha franchise. Jenis usaha yang paling banyak \n",
    "    franchisenya adalah jenis Restaurant sebanyak 2292 usaha. Namun secara ratio jenis usaha Restaurant memiliki \n",
    "    ratio franchise paling kecil yakni 31.6 %\n",
    "    - Dari segi ratio, jenis usaha Bakery memiliki ratio franchise terbesar yakni 99.64 %. Dari 284 \n",
    "    tempat usaha Bakery, hanya 1 tempat yang nonfranchise."
   ]
  },
  {
   "cell_type": "markdown",
   "metadata": {},
   "source": [
    "<div class=\"alert alert-success\">\n",
    "<b>Code Reviewers's comment v.1</b> <a class=\"tocSkip\"></a>\n",
    "\n",
    "Bagus, code yang dijalankan sudah sesuai dengan instruksi dari project.\n",
    "\n",
    "</div>"
   ]
  },
  {
   "cell_type": "markdown",
   "metadata": {},
   "source": [
    "# 3.4. Menentukan ciri-ciri jenis usaha berbasis waralaba: memiliki banyak tempat dengan jumlah kursi yang sedikit atau memiliki beberapa tempat dengan jumlah kursi yang banyak"
   ]
  },
  {
   "cell_type": "code",
   "execution_count": 321,
   "metadata": {},
   "outputs": [
    {
     "data": {
      "text/html": [
       "<div>\n",
       "<style scoped>\n",
       "    .dataframe tbody tr th:only-of-type {\n",
       "        vertical-align: middle;\n",
       "    }\n",
       "\n",
       "    .dataframe tbody tr th {\n",
       "        vertical-align: top;\n",
       "    }\n",
       "\n",
       "    .dataframe thead th {\n",
       "        text-align: right;\n",
       "    }\n",
       "</style>\n",
       "<table border=\"1\" class=\"dataframe\">\n",
       "  <thead>\n",
       "    <tr style=\"text-align: right;\">\n",
       "      <th></th>\n",
       "      <th>id</th>\n",
       "      <th>object_name</th>\n",
       "      <th>address</th>\n",
       "      <th>franchise</th>\n",
       "      <th>object_type</th>\n",
       "      <th>number</th>\n",
       "    </tr>\n",
       "  </thead>\n",
       "  <tbody>\n",
       "    <tr>\n",
       "      <th>224</th>\n",
       "      <td>12380</td>\n",
       "      <td>KABUKI JAPANESE RESTAURANT</td>\n",
       "      <td>1545 N VINE ST</td>\n",
       "      <td>Yes</td>\n",
       "      <td>Restaurant</td>\n",
       "      <td>229</td>\n",
       "    </tr>\n",
       "    <tr>\n",
       "      <th>184</th>\n",
       "      <td>12261</td>\n",
       "      <td>MOUNTAINGATE COUNTRY CLUB</td>\n",
       "      <td>12445 MOUNTAIN GATE DR</td>\n",
       "      <td>Yes</td>\n",
       "      <td>Restaurant</td>\n",
       "      <td>229</td>\n",
       "    </tr>\n",
       "    <tr>\n",
       "      <th>2828</th>\n",
       "      <td>19169</td>\n",
       "      <td>MANNA KOREAN BBQ</td>\n",
       "      <td>3986 WILSHIRE BLVD</td>\n",
       "      <td>Yes</td>\n",
       "      <td>Restaurant</td>\n",
       "      <td>229</td>\n",
       "    </tr>\n",
       "    <tr>\n",
       "      <th>2081</th>\n",
       "      <td>17264</td>\n",
       "      <td>CHUCK E CHEESE'S #397</td>\n",
       "      <td>2706 WILSHIRE BLVD</td>\n",
       "      <td>Yes</td>\n",
       "      <td>Restaurant</td>\n",
       "      <td>228</td>\n",
       "    </tr>\n",
       "    <tr>\n",
       "      <th>179</th>\n",
       "      <td>12243</td>\n",
       "      <td>USC MAIN KITCHEN-BASEMENT</td>\n",
       "      <td>3607 TROUSDALE PKWY</td>\n",
       "      <td>Yes</td>\n",
       "      <td>Restaurant</td>\n",
       "      <td>227</td>\n",
       "    </tr>\n",
       "    <tr>\n",
       "      <th>...</th>\n",
       "      <td>...</td>\n",
       "      <td>...</td>\n",
       "      <td>...</td>\n",
       "      <td>...</td>\n",
       "      <td>...</td>\n",
       "      <td>...</td>\n",
       "    </tr>\n",
       "    <tr>\n",
       "      <th>2050</th>\n",
       "      <td>17178</td>\n",
       "      <td>RASPADOS DON MANUEL</td>\n",
       "      <td>2848 E 4TH ST</td>\n",
       "      <td>Yes</td>\n",
       "      <td>Restaurant</td>\n",
       "      <td>1</td>\n",
       "    </tr>\n",
       "    <tr>\n",
       "      <th>2074</th>\n",
       "      <td>17244</td>\n",
       "      <td>PARU'S INDIAN RESTAURANT</td>\n",
       "      <td>5140 W SUNSET BLVD</td>\n",
       "      <td>Yes</td>\n",
       "      <td>Restaurant</td>\n",
       "      <td>1</td>\n",
       "    </tr>\n",
       "    <tr>\n",
       "      <th>2115</th>\n",
       "      <td>17363</td>\n",
       "      <td>BERLIN CURRYWURST</td>\n",
       "      <td>3827 W SUNSET BLVD STE #C</td>\n",
       "      <td>Yes</td>\n",
       "      <td>Restaurant</td>\n",
       "      <td>1</td>\n",
       "    </tr>\n",
       "    <tr>\n",
       "      <th>2116</th>\n",
       "      <td>17364</td>\n",
       "      <td>VICKY'S RESTAURANT</td>\n",
       "      <td>2308 E 1ST ST</td>\n",
       "      <td>Yes</td>\n",
       "      <td>Restaurant</td>\n",
       "      <td>1</td>\n",
       "    </tr>\n",
       "    <tr>\n",
       "      <th>0</th>\n",
       "      <td>11794</td>\n",
       "      <td>ABC DONUTS</td>\n",
       "      <td>3027 N SAN FERNANDO RD UNIT 103</td>\n",
       "      <td>Yes</td>\n",
       "      <td>Fast Food</td>\n",
       "      <td>1</td>\n",
       "    </tr>\n",
       "  </tbody>\n",
       "</table>\n",
       "<p>3676 rows × 6 columns</p>\n",
       "</div>"
      ],
      "text/plain": [
       "         id                 object_name                          address  \\\n",
       "224   12380  KABUKI JAPANESE RESTAURANT                   1545 N VINE ST   \n",
       "184   12261   MOUNTAINGATE COUNTRY CLUB           12445 MOUNTAIN GATE DR   \n",
       "2828  19169            MANNA KOREAN BBQ               3986 WILSHIRE BLVD   \n",
       "2081  17264       CHUCK E CHEESE'S #397               2706 WILSHIRE BLVD   \n",
       "179   12243   USC MAIN KITCHEN-BASEMENT              3607 TROUSDALE PKWY   \n",
       "...     ...                         ...                              ...   \n",
       "2050  17178         RASPADOS DON MANUEL                    2848 E 4TH ST   \n",
       "2074  17244    PARU'S INDIAN RESTAURANT               5140 W SUNSET BLVD   \n",
       "2115  17363           BERLIN CURRYWURST        3827 W SUNSET BLVD STE #C   \n",
       "2116  17364          VICKY'S RESTAURANT                    2308 E 1ST ST   \n",
       "0     11794                  ABC DONUTS  3027 N SAN FERNANDO RD UNIT 103   \n",
       "\n",
       "     franchise object_type  number  \n",
       "224        Yes  Restaurant     229  \n",
       "184        Yes  Restaurant     229  \n",
       "2828       Yes  Restaurant     229  \n",
       "2081       Yes  Restaurant     228  \n",
       "179        Yes  Restaurant     227  \n",
       "...        ...         ...     ...  \n",
       "2050       Yes  Restaurant       1  \n",
       "2074       Yes  Restaurant       1  \n",
       "2115       Yes  Restaurant       1  \n",
       "2116       Yes  Restaurant       1  \n",
       "0          Yes   Fast Food       1  \n",
       "\n",
       "[3676 rows x 6 columns]"
      ]
     },
     "execution_count": 321,
     "metadata": {},
     "output_type": "execute_result"
    }
   ],
   "source": [
    "#Memfilter usaha yang berbasis franchise saja\n",
    "only_franchise = rest_franchise[rest_franchise['franchise'] == 'Yes'].sort_values(by='number', ascending=False)\n",
    "only_franchise"
   ]
  },
  {
   "cell_type": "code",
   "execution_count": 322,
   "metadata": {},
   "outputs": [
    {
     "data": {
      "text/html": [
       "<div>\n",
       "<style scoped>\n",
       "    .dataframe tbody tr th:only-of-type {\n",
       "        vertical-align: middle;\n",
       "    }\n",
       "\n",
       "    .dataframe tbody tr th {\n",
       "        vertical-align: top;\n",
       "    }\n",
       "\n",
       "    .dataframe thead th {\n",
       "        text-align: right;\n",
       "    }\n",
       "</style>\n",
       "<table border=\"1\" class=\"dataframe\">\n",
       "  <thead>\n",
       "    <tr style=\"text-align: right;\">\n",
       "      <th></th>\n",
       "      <th>object_type</th>\n",
       "      <th>total_places</th>\n",
       "    </tr>\n",
       "  </thead>\n",
       "  <tbody>\n",
       "    <tr>\n",
       "      <th>5</th>\n",
       "      <td>Restaurant</td>\n",
       "      <td>2292</td>\n",
       "    </tr>\n",
       "    <tr>\n",
       "      <th>3</th>\n",
       "      <td>Fast Food</td>\n",
       "      <td>605</td>\n",
       "    </tr>\n",
       "    <tr>\n",
       "      <th>0</th>\n",
       "      <td>Bakery</td>\n",
       "      <td>283</td>\n",
       "    </tr>\n",
       "    <tr>\n",
       "      <th>2</th>\n",
       "      <td>Cafe</td>\n",
       "      <td>266</td>\n",
       "    </tr>\n",
       "    <tr>\n",
       "      <th>4</th>\n",
       "      <td>Pizza</td>\n",
       "      <td>153</td>\n",
       "    </tr>\n",
       "    <tr>\n",
       "      <th>1</th>\n",
       "      <td>Bar</td>\n",
       "      <td>77</td>\n",
       "    </tr>\n",
       "  </tbody>\n",
       "</table>\n",
       "</div>"
      ],
      "text/plain": [
       "  object_type  total_places\n",
       "5  Restaurant          2292\n",
       "3   Fast Food           605\n",
       "0      Bakery           283\n",
       "2        Cafe           266\n",
       "4       Pizza           153\n",
       "1         Bar            77"
      ]
     },
     "execution_count": 322,
     "metadata": {},
     "output_type": "execute_result"
    }
   ],
   "source": [
    "#Menghitung jumlah tempat usaha yang berbasis franchise\n",
    "count_places_franchise = only_franchise.groupby('object_type').agg({'id':'count'}).reset_index()\n",
    "count_places_franchise.columns = ['object_type', 'total_places']\n",
    "count_places_franchise.sort_values(by='total_places', ascending=False)"
   ]
  },
  {
   "cell_type": "code",
   "execution_count": 323,
   "metadata": {},
   "outputs": [
    {
     "data": {
      "image/png": "[encoded data removed]",
      "text/plain": [
       "<Figure size 720x432 with 1 Axes>"
      ]
     },
     "metadata": {},
     "output_type": "display_data"
    }
   ],
   "source": [
    "#Membuat grafik jumlah tempat\n",
    "plt.figure(figsize=(10, 6))\n",
    "sns.set(style='darkgrid')\n",
    "sns.barplot(x='object_type', y='total_places', data=count_places_franchise, palette='coolwarm')\n",
    "plt.title('Jumlah Tempat untuk Setiap Jenis Usaha Franchise')\n",
    "plt.xlabel('Jenis Usaha')\n",
    "plt.ylabel('Jumlah Tempat')\n",
    "plt.xticks(rotation=45, ha='right')\n",
    "plt.tight_layout()"
   ]
  },
  {
   "cell_type": "markdown",
   "metadata": {},
   "source": [
    "Kesimpulan:\n",
    "\n",
    "    - Jenis usaha franchise yang memiliki tempat yang paling banyak adalah Restaurant sebanyak 2292 tempat usaha\n",
    "    - Jenis usaha franchise yang memiliki tempat yang paling sedikit adalah Bar sebanyak 77 tempat usaha"
   ]
  },
  {
   "cell_type": "code",
   "execution_count": 324,
   "metadata": {},
   "outputs": [
    {
     "data": {
      "text/html": [
       "<div>\n",
       "<style scoped>\n",
       "    .dataframe tbody tr th:only-of-type {\n",
       "        vertical-align: middle;\n",
       "    }\n",
       "\n",
       "    .dataframe tbody tr th {\n",
       "        vertical-align: top;\n",
       "    }\n",
       "\n",
       "    .dataframe thead th {\n",
       "        text-align: right;\n",
       "    }\n",
       "</style>\n",
       "<table border=\"1\" class=\"dataframe\">\n",
       "  <thead>\n",
       "    <tr style=\"text-align: right;\">\n",
       "      <th></th>\n",
       "      <th>object_type</th>\n",
       "      <th>total_seats</th>\n",
       "    </tr>\n",
       "  </thead>\n",
       "  <tbody>\n",
       "    <tr>\n",
       "      <th>5</th>\n",
       "      <td>Restaurant</td>\n",
       "      <td>102810</td>\n",
       "    </tr>\n",
       "    <tr>\n",
       "      <th>3</th>\n",
       "      <td>Fast Food</td>\n",
       "      <td>23044</td>\n",
       "    </tr>\n",
       "    <tr>\n",
       "      <th>2</th>\n",
       "      <td>Cafe</td>\n",
       "      <td>6894</td>\n",
       "    </tr>\n",
       "    <tr>\n",
       "      <th>0</th>\n",
       "      <td>Bakery</td>\n",
       "      <td>6162</td>\n",
       "    </tr>\n",
       "    <tr>\n",
       "      <th>4</th>\n",
       "      <td>Pizza</td>\n",
       "      <td>3906</td>\n",
       "    </tr>\n",
       "    <tr>\n",
       "      <th>1</th>\n",
       "      <td>Bar</td>\n",
       "      <td>3100</td>\n",
       "    </tr>\n",
       "  </tbody>\n",
       "</table>\n",
       "</div>"
      ],
      "text/plain": [
       "  object_type  total_seats\n",
       "5  Restaurant       102810\n",
       "3   Fast Food        23044\n",
       "2        Cafe         6894\n",
       "0      Bakery         6162\n",
       "4       Pizza         3906\n",
       "1         Bar         3100"
      ]
     },
     "execution_count": 324,
     "metadata": {},
     "output_type": "execute_result"
    }
   ],
   "source": [
    "#Menghitung jumlah kursi di setiap tempat usaha yang berbasis franchise\n",
    "count_seats_franchise = only_franchise.groupby('object_type').agg({'number':'sum'}).reset_index()\n",
    "count_seats_franchise.columns = ['object_type', 'total_seats']\n",
    "count_seats_franchise.sort_values(by='total_seats', ascending=False)"
   ]
  },
  {
   "cell_type": "code",
   "execution_count": 325,
   "metadata": {},
   "outputs": [
    {
     "data": {
      "image/png": "[encoded data removed]",
      "text/plain": [
       "<Figure size 720x432 with 1 Axes>"
      ]
     },
     "metadata": {},
     "output_type": "display_data"
    }
   ],
   "source": [
    "#Membuat grafik jumlah kursi\n",
    "plt.figure(figsize=(10, 6))\n",
    "sns.set(style='darkgrid')\n",
    "sns.barplot(x='object_type', y='total_seats', data=count_seats_franchise, palette='cividis')\n",
    "plt.title('Jumlah Kursi untuk Setiap Jenis Usaha Franchise')\n",
    "plt.xlabel('Jenis Usaha')\n",
    "plt.ylabel('Jumlah Kursi')\n",
    "plt.xticks(rotation=45, ha='right')\n",
    "plt.tight_layout()"
   ]
  },
  {
   "cell_type": "markdown",
   "metadata": {},
   "source": [
    "Kesimpulan:\n",
    "\n",
    "    - Jenis usaha franchise yang memiliki jumlah kursi paling banyak adalah Restaurant sebanyak 102810 kursi\n",
    "    - Jenis usaha franchise yang memiliki jumlah kursi paling sedikit adalah Bar sebanyak 3100 kursi\n",
    "    - Berdasarkan kedua grafik di atas, ciri-ciri usaha yang berbasis franchise adalah usaha yang memiliki \n",
    "    banyak tempat dan juga banyak kursi"
   ]
  },
  {
   "cell_type": "markdown",
   "metadata": {},
   "source": [
    "<div class=\"alert alert-success\">\n",
    "<b>Code Reviewers's comment v.1</b> <a class=\"tocSkip\"></a>\n",
    "\n",
    "Bagus, code yang dijalankan sudah sesuai dengan instruksi dari project.\n",
    "\n",
    "</div>"
   ]
  },
  {
   "cell_type": "markdown",
   "metadata": {},
   "source": [
    "# 3.5. Menentukan jumlah rata-rata kursi untuk setiap jenis usaha franchise"
   ]
  },
  {
   "cell_type": "code",
   "execution_count": 326,
   "metadata": {},
   "outputs": [
    {
     "data": {
      "text/html": [
       "<div>\n",
       "<style scoped>\n",
       "    .dataframe tbody tr th:only-of-type {\n",
       "        vertical-align: middle;\n",
       "    }\n",
       "\n",
       "    .dataframe tbody tr th {\n",
       "        vertical-align: top;\n",
       "    }\n",
       "\n",
       "    .dataframe thead th {\n",
       "        text-align: right;\n",
       "    }\n",
       "</style>\n",
       "<table border=\"1\" class=\"dataframe\">\n",
       "  <thead>\n",
       "    <tr style=\"text-align: right;\">\n",
       "      <th></th>\n",
       "      <th>id</th>\n",
       "      <th>object_name</th>\n",
       "      <th>address</th>\n",
       "      <th>franchise</th>\n",
       "      <th>object_type</th>\n",
       "      <th>number</th>\n",
       "    </tr>\n",
       "  </thead>\n",
       "  <tbody>\n",
       "    <tr>\n",
       "      <th>224</th>\n",
       "      <td>12380</td>\n",
       "      <td>KABUKI JAPANESE RESTAURANT</td>\n",
       "      <td>1545 N VINE ST</td>\n",
       "      <td>Yes</td>\n",
       "      <td>Restaurant</td>\n",
       "      <td>229</td>\n",
       "    </tr>\n",
       "    <tr>\n",
       "      <th>184</th>\n",
       "      <td>12261</td>\n",
       "      <td>MOUNTAINGATE COUNTRY CLUB</td>\n",
       "      <td>12445 MOUNTAIN GATE DR</td>\n",
       "      <td>Yes</td>\n",
       "      <td>Restaurant</td>\n",
       "      <td>229</td>\n",
       "    </tr>\n",
       "    <tr>\n",
       "      <th>2828</th>\n",
       "      <td>19169</td>\n",
       "      <td>MANNA KOREAN BBQ</td>\n",
       "      <td>3986 WILSHIRE BLVD</td>\n",
       "      <td>Yes</td>\n",
       "      <td>Restaurant</td>\n",
       "      <td>229</td>\n",
       "    </tr>\n",
       "    <tr>\n",
       "      <th>2081</th>\n",
       "      <td>17264</td>\n",
       "      <td>CHUCK E CHEESE'S #397</td>\n",
       "      <td>2706 WILSHIRE BLVD</td>\n",
       "      <td>Yes</td>\n",
       "      <td>Restaurant</td>\n",
       "      <td>228</td>\n",
       "    </tr>\n",
       "    <tr>\n",
       "      <th>179</th>\n",
       "      <td>12243</td>\n",
       "      <td>USC MAIN KITCHEN-BASEMENT</td>\n",
       "      <td>3607 TROUSDALE PKWY</td>\n",
       "      <td>Yes</td>\n",
       "      <td>Restaurant</td>\n",
       "      <td>227</td>\n",
       "    </tr>\n",
       "    <tr>\n",
       "      <th>...</th>\n",
       "      <td>...</td>\n",
       "      <td>...</td>\n",
       "      <td>...</td>\n",
       "      <td>...</td>\n",
       "      <td>...</td>\n",
       "      <td>...</td>\n",
       "    </tr>\n",
       "    <tr>\n",
       "      <th>2050</th>\n",
       "      <td>17178</td>\n",
       "      <td>RASPADOS DON MANUEL</td>\n",
       "      <td>2848 E 4TH ST</td>\n",
       "      <td>Yes</td>\n",
       "      <td>Restaurant</td>\n",
       "      <td>1</td>\n",
       "    </tr>\n",
       "    <tr>\n",
       "      <th>2074</th>\n",
       "      <td>17244</td>\n",
       "      <td>PARU'S INDIAN RESTAURANT</td>\n",
       "      <td>5140 W SUNSET BLVD</td>\n",
       "      <td>Yes</td>\n",
       "      <td>Restaurant</td>\n",
       "      <td>1</td>\n",
       "    </tr>\n",
       "    <tr>\n",
       "      <th>2115</th>\n",
       "      <td>17363</td>\n",
       "      <td>BERLIN CURRYWURST</td>\n",
       "      <td>3827 W SUNSET BLVD STE #C</td>\n",
       "      <td>Yes</td>\n",
       "      <td>Restaurant</td>\n",
       "      <td>1</td>\n",
       "    </tr>\n",
       "    <tr>\n",
       "      <th>2116</th>\n",
       "      <td>17364</td>\n",
       "      <td>VICKY'S RESTAURANT</td>\n",
       "      <td>2308 E 1ST ST</td>\n",
       "      <td>Yes</td>\n",
       "      <td>Restaurant</td>\n",
       "      <td>1</td>\n",
       "    </tr>\n",
       "    <tr>\n",
       "      <th>0</th>\n",
       "      <td>11794</td>\n",
       "      <td>ABC DONUTS</td>\n",
       "      <td>3027 N SAN FERNANDO RD UNIT 103</td>\n",
       "      <td>Yes</td>\n",
       "      <td>Fast Food</td>\n",
       "      <td>1</td>\n",
       "    </tr>\n",
       "  </tbody>\n",
       "</table>\n",
       "<p>3676 rows × 6 columns</p>\n",
       "</div>"
      ],
      "text/plain": [
       "         id                 object_name                          address  \\\n",
       "224   12380  KABUKI JAPANESE RESTAURANT                   1545 N VINE ST   \n",
       "184   12261   MOUNTAINGATE COUNTRY CLUB           12445 MOUNTAIN GATE DR   \n",
       "2828  19169            MANNA KOREAN BBQ               3986 WILSHIRE BLVD   \n",
       "2081  17264       CHUCK E CHEESE'S #397               2706 WILSHIRE BLVD   \n",
       "179   12243   USC MAIN KITCHEN-BASEMENT              3607 TROUSDALE PKWY   \n",
       "...     ...                         ...                              ...   \n",
       "2050  17178         RASPADOS DON MANUEL                    2848 E 4TH ST   \n",
       "2074  17244    PARU'S INDIAN RESTAURANT               5140 W SUNSET BLVD   \n",
       "2115  17363           BERLIN CURRYWURST        3827 W SUNSET BLVD STE #C   \n",
       "2116  17364          VICKY'S RESTAURANT                    2308 E 1ST ST   \n",
       "0     11794                  ABC DONUTS  3027 N SAN FERNANDO RD UNIT 103   \n",
       "\n",
       "     franchise object_type  number  \n",
       "224        Yes  Restaurant     229  \n",
       "184        Yes  Restaurant     229  \n",
       "2828       Yes  Restaurant     229  \n",
       "2081       Yes  Restaurant     228  \n",
       "179        Yes  Restaurant     227  \n",
       "...        ...         ...     ...  \n",
       "2050       Yes  Restaurant       1  \n",
       "2074       Yes  Restaurant       1  \n",
       "2115       Yes  Restaurant       1  \n",
       "2116       Yes  Restaurant       1  \n",
       "0          Yes   Fast Food       1  \n",
       "\n",
       "[3676 rows x 6 columns]"
      ]
     },
     "execution_count": 326,
     "metadata": {},
     "output_type": "execute_result"
    }
   ],
   "source": [
    "only_franchise"
   ]
  },
  {
   "cell_type": "code",
   "execution_count": 327,
   "metadata": {},
   "outputs": [
    {
     "data": {
      "text/plain": [
       "39.69423286180631"
      ]
     },
     "execution_count": 327,
     "metadata": {},
     "output_type": "execute_result"
    }
   ],
   "source": [
    "only_franchise['number'].mean()"
   ]
  },
  {
   "cell_type": "code",
   "execution_count": 328,
   "metadata": {},
   "outputs": [
    {
     "data": {
      "text/html": [
       "<div>\n",
       "<style scoped>\n",
       "    .dataframe tbody tr th:only-of-type {\n",
       "        vertical-align: middle;\n",
       "    }\n",
       "\n",
       "    .dataframe tbody tr th {\n",
       "        vertical-align: top;\n",
       "    }\n",
       "\n",
       "    .dataframe thead th {\n",
       "        text-align: right;\n",
       "    }\n",
       "</style>\n",
       "<table border=\"1\" class=\"dataframe\">\n",
       "  <thead>\n",
       "    <tr style=\"text-align: right;\">\n",
       "      <th></th>\n",
       "      <th>avg_seats</th>\n",
       "    </tr>\n",
       "    <tr>\n",
       "      <th>object_type</th>\n",
       "      <th></th>\n",
       "    </tr>\n",
       "  </thead>\n",
       "  <tbody>\n",
       "    <tr>\n",
       "      <th>Restaurant</th>\n",
       "      <td>44.856021</td>\n",
       "    </tr>\n",
       "    <tr>\n",
       "      <th>Bar</th>\n",
       "      <td>40.259740</td>\n",
       "    </tr>\n",
       "    <tr>\n",
       "      <th>Fast Food</th>\n",
       "      <td>38.089256</td>\n",
       "    </tr>\n",
       "    <tr>\n",
       "      <th>Cafe</th>\n",
       "      <td>25.917293</td>\n",
       "    </tr>\n",
       "    <tr>\n",
       "      <th>Pizza</th>\n",
       "      <td>25.529412</td>\n",
       "    </tr>\n",
       "    <tr>\n",
       "      <th>Bakery</th>\n",
       "      <td>21.773852</td>\n",
       "    </tr>\n",
       "  </tbody>\n",
       "</table>\n",
       "</div>"
      ],
      "text/plain": [
       "             avg_seats\n",
       "object_type           \n",
       "Restaurant   44.856021\n",
       "Bar          40.259740\n",
       "Fast Food    38.089256\n",
       "Cafe         25.917293\n",
       "Pizza        25.529412\n",
       "Bakery       21.773852"
      ]
     },
     "execution_count": 328,
     "metadata": {},
     "output_type": "execute_result"
    }
   ],
   "source": [
    "avg_seats_number = only_franchise.groupby('object_type').agg(mean=('number', 'mean')).sort_values(by='mean', ascending=False)\n",
    "avg_seats_number.columns =['avg_seats']\n",
    "avg_seats_number"
   ]
  },
  {
   "cell_type": "code",
   "execution_count": 329,
   "metadata": {},
   "outputs": [
    {
     "data": {
      "text/plain": [
       "<AxesSubplot:title={'center':'Rata-rata Jumlah Kursi'}, xlabel='Jenis Usaha'>"
      ]
     },
     "execution_count": 329,
     "metadata": {},
     "output_type": "execute_result"
    },
    {
     "data": {
      "image/png": "[encoded data removed]",
      "text/plain": [
       "<Figure size 432x288 with 1 Axes>"
      ]
     },
     "metadata": {},
     "output_type": "display_data"
    }
   ],
   "source": [
    "only_franchise.groupby('object_type').agg(mean=('number', 'mean')).plot(kind='bar', color='green', title='Rata-rata Jumlah Kursi', xlabel='Jenis Usaha')"
   ]
  },
  {
   "cell_type": "markdown",
   "metadata": {},
   "source": [
    "Kesimpulan:\n",
    "\n",
    "- Untuk usaha franchise, Restaurant memiliki rata-rata jumlah kursi yang paling banyak yakni 44 sampai 45 kursi \n",
    "- Bakery memiliki rata-rata jumlah kursi yang paling sedikit yakni 21 sampai 22 kursi"
   ]
  },
  {
   "cell_type": "markdown",
   "metadata": {},
   "source": [
    "<div class=\"alert alert-success\">\n",
    "<b>Code Reviewers's comment v.1</b> <a class=\"tocSkip\"></a>\n",
    "\n",
    "Bagus, code yang dijalankan sudah sesuai dengan instruksi dari project.\n",
    "\n",
    "</div>"
   ]
  },
  {
   "cell_type": "markdown",
   "metadata": {},
   "source": [
    "# 3.6. Menganalisis Usaha Berdasarkan Nama Jalan (Alamat)"
   ]
  },
  {
   "cell_type": "code",
   "execution_count": 330,
   "metadata": {},
   "outputs": [
    {
     "data": {
      "text/plain": [
       "0              [3708, N, EAGLE, ROCK, BLVD]\n",
       "1                 [100, WORLD, WAY, #, 120]\n",
       "2           [6801, HOLLYWOOD, BLVD, #, 253]\n",
       "3                   [1814, W, SUNSET, BLVD]\n",
       "4                   [2100, ECHO, PARK, AVE]\n",
       "                       ...                 \n",
       "9643                  [217, W, TEMPLE, AVE]\n",
       "9644                   [5750, MELROSE, AVE]\n",
       "9645                [6741, HOLLYWOOD, BLVD]\n",
       "9646         [548, S, SPRING, ST, STE, 100]\n",
       "9647    [1300, S, SAN, PEDRO, ST, STE, 111]\n",
       "Name: address, Length: 9648, dtype: object"
      ]
     },
     "execution_count": 330,
     "metadata": {},
     "output_type": "execute_result"
    }
   ],
   "source": [
    "#Memisahkan nama jalan dari kolom address\n",
    "rest['address'].str.split(' ')[0:]"
   ]
  },
  {
   "cell_type": "code",
   "execution_count": 331,
   "metadata": {},
   "outputs": [
    {
     "data": {
      "text/html": [
       "<div>\n",
       "<style scoped>\n",
       "    .dataframe tbody tr th:only-of-type {\n",
       "        vertical-align: middle;\n",
       "    }\n",
       "\n",
       "    .dataframe tbody tr th {\n",
       "        vertical-align: top;\n",
       "    }\n",
       "\n",
       "    .dataframe thead th {\n",
       "        text-align: right;\n",
       "    }\n",
       "</style>\n",
       "<table border=\"1\" class=\"dataframe\">\n",
       "  <thead>\n",
       "    <tr style=\"text-align: right;\">\n",
       "      <th></th>\n",
       "      <th>id</th>\n",
       "      <th>object_name</th>\n",
       "      <th>address</th>\n",
       "      <th>franchise</th>\n",
       "      <th>object_type</th>\n",
       "      <th>number</th>\n",
       "      <th>street</th>\n",
       "    </tr>\n",
       "  </thead>\n",
       "  <tbody>\n",
       "    <tr>\n",
       "      <th>0</th>\n",
       "      <td>11786</td>\n",
       "      <td>HABITAT COFFEE SHOP</td>\n",
       "      <td>3708 N EAGLE ROCK BLVD</td>\n",
       "      <td>No</td>\n",
       "      <td>Cafe</td>\n",
       "      <td>26</td>\n",
       "      <td>N EAGLE ROCK BLVD</td>\n",
       "    </tr>\n",
       "    <tr>\n",
       "      <th>1</th>\n",
       "      <td>11787</td>\n",
       "      <td>REILLY'S</td>\n",
       "      <td>100 WORLD WAY # 120</td>\n",
       "      <td>No</td>\n",
       "      <td>Restaurant</td>\n",
       "      <td>9</td>\n",
       "      <td>WORLD WAY # 120</td>\n",
       "    </tr>\n",
       "    <tr>\n",
       "      <th>2</th>\n",
       "      <td>11788</td>\n",
       "      <td>STREET CHURROS</td>\n",
       "      <td>6801 HOLLYWOOD BLVD # 253</td>\n",
       "      <td>No</td>\n",
       "      <td>Fast Food</td>\n",
       "      <td>20</td>\n",
       "      <td>HOLLYWOOD BLVD # 253</td>\n",
       "    </tr>\n",
       "    <tr>\n",
       "      <th>3</th>\n",
       "      <td>11789</td>\n",
       "      <td>TRINITI ECHO PARK</td>\n",
       "      <td>1814 W SUNSET BLVD</td>\n",
       "      <td>No</td>\n",
       "      <td>Restaurant</td>\n",
       "      <td>22</td>\n",
       "      <td>W SUNSET BLVD</td>\n",
       "    </tr>\n",
       "    <tr>\n",
       "      <th>4</th>\n",
       "      <td>11790</td>\n",
       "      <td>POLLEN</td>\n",
       "      <td>2100 ECHO PARK AVE</td>\n",
       "      <td>No</td>\n",
       "      <td>Restaurant</td>\n",
       "      <td>20</td>\n",
       "      <td>ECHO PARK AVE</td>\n",
       "    </tr>\n",
       "    <tr>\n",
       "      <th>...</th>\n",
       "      <td>...</td>\n",
       "      <td>...</td>\n",
       "      <td>...</td>\n",
       "      <td>...</td>\n",
       "      <td>...</td>\n",
       "      <td>...</td>\n",
       "      <td>...</td>\n",
       "    </tr>\n",
       "    <tr>\n",
       "      <th>9643</th>\n",
       "      <td>21432</td>\n",
       "      <td>HALL OF JUSTICE</td>\n",
       "      <td>217 W TEMPLE AVE</td>\n",
       "      <td>No</td>\n",
       "      <td>Restaurant</td>\n",
       "      <td>122</td>\n",
       "      <td>W TEMPLE AVE</td>\n",
       "    </tr>\n",
       "    <tr>\n",
       "      <th>9644</th>\n",
       "      <td>21433</td>\n",
       "      <td>FIN-MELROSE</td>\n",
       "      <td>5750 MELROSE AVE</td>\n",
       "      <td>No</td>\n",
       "      <td>Restaurant</td>\n",
       "      <td>93</td>\n",
       "      <td>MELROSE AVE</td>\n",
       "    </tr>\n",
       "    <tr>\n",
       "      <th>9645</th>\n",
       "      <td>21434</td>\n",
       "      <td>JUICY WINGZ</td>\n",
       "      <td>6741 HOLLYWOOD BLVD</td>\n",
       "      <td>Yes</td>\n",
       "      <td>Fast Food</td>\n",
       "      <td>15</td>\n",
       "      <td>HOLLYWOOD BLVD</td>\n",
       "    </tr>\n",
       "    <tr>\n",
       "      <th>9646</th>\n",
       "      <td>21435</td>\n",
       "      <td>MEDIDATE COFFEE</td>\n",
       "      <td>548 S SPRING ST STE 100</td>\n",
       "      <td>No</td>\n",
       "      <td>Cafe</td>\n",
       "      <td>6</td>\n",
       "      <td>S SPRING ST STE 100</td>\n",
       "    </tr>\n",
       "    <tr>\n",
       "      <th>9647</th>\n",
       "      <td>21436</td>\n",
       "      <td>CAFE SPROUTS</td>\n",
       "      <td>1300 S SAN PEDRO ST STE 111</td>\n",
       "      <td>Yes</td>\n",
       "      <td>Restaurant</td>\n",
       "      <td>19</td>\n",
       "      <td>S SAN PEDRO ST STE 111</td>\n",
       "    </tr>\n",
       "  </tbody>\n",
       "</table>\n",
       "<p>9648 rows × 7 columns</p>\n",
       "</div>"
      ],
      "text/plain": [
       "         id          object_name                      address franchise  \\\n",
       "0     11786  HABITAT COFFEE SHOP       3708 N EAGLE ROCK BLVD        No   \n",
       "1     11787             REILLY'S          100 WORLD WAY # 120        No   \n",
       "2     11788       STREET CHURROS    6801 HOLLYWOOD BLVD # 253        No   \n",
       "3     11789    TRINITI ECHO PARK           1814 W SUNSET BLVD        No   \n",
       "4     11790               POLLEN           2100 ECHO PARK AVE        No   \n",
       "...     ...                  ...                          ...       ...   \n",
       "9643  21432      HALL OF JUSTICE             217 W TEMPLE AVE        No   \n",
       "9644  21433          FIN-MELROSE             5750 MELROSE AVE        No   \n",
       "9645  21434          JUICY WINGZ          6741 HOLLYWOOD BLVD       Yes   \n",
       "9646  21435      MEDIDATE COFFEE      548 S SPRING ST STE 100        No   \n",
       "9647  21436         CAFE SPROUTS  1300 S SAN PEDRO ST STE 111       Yes   \n",
       "\n",
       "     object_type  number                  street  \n",
       "0           Cafe      26       N EAGLE ROCK BLVD  \n",
       "1     Restaurant       9         WORLD WAY # 120  \n",
       "2      Fast Food      20    HOLLYWOOD BLVD # 253  \n",
       "3     Restaurant      22           W SUNSET BLVD  \n",
       "4     Restaurant      20           ECHO PARK AVE  \n",
       "...          ...     ...                     ...  \n",
       "9643  Restaurant     122            W TEMPLE AVE  \n",
       "9644  Restaurant      93             MELROSE AVE  \n",
       "9645   Fast Food      15          HOLLYWOOD BLVD  \n",
       "9646        Cafe       6     S SPRING ST STE 100  \n",
       "9647  Restaurant      19  S SAN PEDRO ST STE 111  \n",
       "\n",
       "[9648 rows x 7 columns]"
      ]
     },
     "execution_count": 331,
     "metadata": {},
     "output_type": "execute_result"
    }
   ],
   "source": [
    "rest['street'] = rest['address'].apply(lambda x: ' '.join(x.split(' ')[1:])).to_frame()\n",
    "rest"
   ]
  },
  {
   "cell_type": "markdown",
   "metadata": {},
   "source": [
    "***3.6.1.Membuat grafik yang menampilkan sepuluh nama jalan teratas berdasarkan jumlah usaha (tempat makan)***"
   ]
  },
  {
   "cell_type": "code",
   "execution_count": 332,
   "metadata": {},
   "outputs": [
    {
     "data": {
      "text/plain": [
       "W SUNSET BLVD        296\n",
       "W PICO BLVD          288\n",
       "HOLLYWOOD BLVD       167\n",
       "WILSHIRE BLVD        161\n",
       "S VERMONT AVE        148\n",
       "SANTA MONICA BLVD    146\n",
       "W 3RD ST             145\n",
       "BEVERLY BLVD         135\n",
       "S FIGUEROA ST        134\n",
       "S WESTERN AVE        128\n",
       "Name: street, dtype: int64"
      ]
     },
     "execution_count": 332,
     "metadata": {},
     "output_type": "execute_result"
    }
   ],
   "source": [
    "top_10_street = rest['street'].value_counts().nlargest(10)\n",
    "top_10_street"
   ]
  },
  {
   "cell_type": "code",
   "execution_count": 333,
   "metadata": {},
   "outputs": [
    {
     "data": {
      "image/png": "[encoded data removed]",
      "text/plain": [
       "<Figure size 720x432 with 1 Axes>"
      ]
     },
     "metadata": {},
     "output_type": "display_data"
    }
   ],
   "source": [
    "#Membuat grafik nama jalan dengan jumlah usaha tempat makan terbanyak\n",
    "plt.figure(figsize=(10, 6))\n",
    "sns.set(style='darkgrid')\n",
    "sns.barplot(x=top_10_street.index, y=top_10_street.values, palette='cividis')\n",
    "plt.title('Top 10 Nama Jalan dengan Tempat Makan Terbanyak')\n",
    "plt.xlabel('Jenis Usaha')\n",
    "plt.ylabel('Jumlah Tempat')\n",
    "plt.xticks(rotation=45, ha='right')\n",
    "plt.show()"
   ]
  },
  {
   "cell_type": "markdown",
   "metadata": {},
   "source": [
    "Kesimpulan:\n",
    "\n",
    "    - Daerah di Los Angeles yang memiliki usaha tempat makan paling banyak adalah di Jalan W SUNSET BLVD \n",
    "    sebanyak 296 tempat, disusul oleh Jalan W PICO BLVD sebanyak 288 tempat."
   ]
  },
  {
   "cell_type": "markdown",
   "metadata": {},
   "source": [
    "<div class=\"alert alert-success\">\n",
    "<b>Code Reviewers's comment v.1</b> <a class=\"tocSkip\"></a>\n",
    "\n",
    "Bagus, code yang dijalankan sudah sesuai dengan instruksi dari project.\n",
    "\n",
    "</div>"
   ]
  },
  {
   "cell_type": "markdown",
   "metadata": {},
   "source": [
    "***3.6.2.Menemukan jumlah jalan yang hanya memiliki satu usaha (tempat makan)***"
   ]
  },
  {
   "cell_type": "markdown",
   "metadata": {},
   "source": [
    "<div class=\"alert alert-success\">\n",
    "<b>Code Reviewers's comment v.1</b> <a class=\"tocSkip\"></a>\n",
    "\n",
    "Bagus, code yang dijalankan sudah sesuai dengan instruksi dari project.\n",
    "\n",
    "</div>"
   ]
  },
  {
   "cell_type": "code",
   "execution_count": 334,
   "metadata": {},
   "outputs": [
    {
     "data": {
      "text/plain": [
       "W SUNSET BLVD            296\n",
       "W PICO BLVD              288\n",
       "HOLLYWOOD BLVD           167\n",
       "WILSHIRE BLVD            161\n",
       "S VERMONT AVE            148\n",
       "                        ... \n",
       "S WESTERN AVE # D & E      1\n",
       "WORLD WAY # T71            1\n",
       "E 3RD ST STE 101           1\n",
       "RIVERSIDE DR               1\n",
       "W SLAUSON AVE # f-27       1\n",
       "Name: street, Length: 3097, dtype: int64"
      ]
     },
     "execution_count": 334,
     "metadata": {},
     "output_type": "execute_result"
    }
   ],
   "source": [
    "#Menghitung jumlah usaha untuk setiap nama jalan\n",
    "counts_per_street = rest['street'].value_counts()\n",
    "counts_per_street"
   ]
  },
  {
   "cell_type": "code",
   "execution_count": 335,
   "metadata": {},
   "outputs": [
    {
     "name": "stdout",
     "output_type": "stream",
     "text": [
      "Jalan di Los Angeles yang hanya memiliki satu usaha tempat makan berjumlah:\n"
     ]
    },
    {
     "data": {
      "text/plain": [
       "2481"
      ]
     },
     "execution_count": 335,
     "metadata": {},
     "output_type": "execute_result"
    }
   ],
   "source": [
    "print(\"Jalan di Los Angeles yang hanya memiliki satu usaha tempat makan berjumlah:\")\n",
    "(counts_per_street == 1).sum()"
   ]
  },
  {
   "cell_type": "markdown",
   "metadata": {},
   "source": [
    "***3.6.3. Menganalisis distribusi jumlah kursi untuk jalan yang dihuni oleh banyak usaha (tempat makan)***"
   ]
  },
  {
   "cell_type": "code",
   "execution_count": 336,
   "metadata": {},
   "outputs": [
    {
     "data": {
      "text/plain": [
       "W SUNSET BLVD        296\n",
       "W PICO BLVD          288\n",
       "HOLLYWOOD BLVD       167\n",
       "WILSHIRE BLVD        161\n",
       "S VERMONT AVE        148\n",
       "SANTA MONICA BLVD    146\n",
       "W 3RD ST             145\n",
       "BEVERLY BLVD         135\n",
       "S FIGUEROA ST        134\n",
       "S WESTERN AVE        128\n",
       "Name: street, dtype: int64"
      ]
     },
     "execution_count": 336,
     "metadata": {},
     "output_type": "execute_result"
    }
   ],
   "source": [
    "top_10_street"
   ]
  },
  {
   "cell_type": "code",
   "execution_count": 337,
   "metadata": {},
   "outputs": [
    {
     "data": {
      "text/html": [
       "<div>\n",
       "<style scoped>\n",
       "    .dataframe tbody tr th:only-of-type {\n",
       "        vertical-align: middle;\n",
       "    }\n",
       "\n",
       "    .dataframe tbody tr th {\n",
       "        vertical-align: top;\n",
       "    }\n",
       "\n",
       "    .dataframe thead th {\n",
       "        text-align: right;\n",
       "    }\n",
       "</style>\n",
       "<table border=\"1\" class=\"dataframe\">\n",
       "  <thead>\n",
       "    <tr style=\"text-align: right;\">\n",
       "      <th></th>\n",
       "      <th>id</th>\n",
       "      <th>object_name</th>\n",
       "      <th>address</th>\n",
       "      <th>franchise</th>\n",
       "      <th>object_type</th>\n",
       "      <th>number</th>\n",
       "      <th>street</th>\n",
       "    </tr>\n",
       "  </thead>\n",
       "  <tbody>\n",
       "    <tr>\n",
       "      <th>0</th>\n",
       "      <td>11789</td>\n",
       "      <td>TRINITI ECHO PARK</td>\n",
       "      <td>1814 W SUNSET BLVD</td>\n",
       "      <td>No</td>\n",
       "      <td>Restaurant</td>\n",
       "      <td>22</td>\n",
       "      <td>W SUNSET BLVD</td>\n",
       "    </tr>\n",
       "    <tr>\n",
       "      <th>1</th>\n",
       "      <td>11796</td>\n",
       "      <td>EL POLLO LOCO</td>\n",
       "      <td>5319 W SUNSET BLVD</td>\n",
       "      <td>Yes</td>\n",
       "      <td>Restaurant</td>\n",
       "      <td>38</td>\n",
       "      <td>W SUNSET BLVD</td>\n",
       "    </tr>\n",
       "    <tr>\n",
       "      <th>2</th>\n",
       "      <td>11800</td>\n",
       "      <td>CUSCATLECA BAKERY</td>\n",
       "      <td>2501 W SUNSET BLVD #A</td>\n",
       "      <td>Yes</td>\n",
       "      <td>Bakery</td>\n",
       "      <td>26</td>\n",
       "      <td>W SUNSET BLVD #A</td>\n",
       "    </tr>\n",
       "    <tr>\n",
       "      <th>3</th>\n",
       "      <td>11817</td>\n",
       "      <td>DUNES RESTAURANT</td>\n",
       "      <td>5625 W SUNSET BLVD</td>\n",
       "      <td>Yes</td>\n",
       "      <td>Restaurant</td>\n",
       "      <td>118</td>\n",
       "      <td>W SUNSET BLVD</td>\n",
       "    </tr>\n",
       "    <tr>\n",
       "      <th>4</th>\n",
       "      <td>11819</td>\n",
       "      <td>ONO HAWAIIAN BBQ</td>\n",
       "      <td>5539 W SUNSET BLVD</td>\n",
       "      <td>Yes</td>\n",
       "      <td>Restaurant</td>\n",
       "      <td>35</td>\n",
       "      <td>W SUNSET BLVD</td>\n",
       "    </tr>\n",
       "    <tr>\n",
       "      <th>...</th>\n",
       "      <td>...</td>\n",
       "      <td>...</td>\n",
       "      <td>...</td>\n",
       "      <td>...</td>\n",
       "      <td>...</td>\n",
       "      <td>...</td>\n",
       "      <td>...</td>\n",
       "    </tr>\n",
       "    <tr>\n",
       "      <th>363</th>\n",
       "      <td>21284</td>\n",
       "      <td>PA ORD EXPRESS</td>\n",
       "      <td>5301 W SUNSET BLVD # 11</td>\n",
       "      <td>No</td>\n",
       "      <td>Fast Food</td>\n",
       "      <td>31</td>\n",
       "      <td>W SUNSET BLVD # 11</td>\n",
       "    </tr>\n",
       "    <tr>\n",
       "      <th>364</th>\n",
       "      <td>21309</td>\n",
       "      <td>BUTTER'S ICE CREAM</td>\n",
       "      <td>2925 W SUNSET BLVD</td>\n",
       "      <td>No</td>\n",
       "      <td>Restaurant</td>\n",
       "      <td>29</td>\n",
       "      <td>W SUNSET BLVD</td>\n",
       "    </tr>\n",
       "    <tr>\n",
       "      <th>365</th>\n",
       "      <td>21313</td>\n",
       "      <td>REGULA GUY'S PIZZA</td>\n",
       "      <td>5173 W SUNSET BLVD</td>\n",
       "      <td>No</td>\n",
       "      <td>Pizza</td>\n",
       "      <td>20</td>\n",
       "      <td>W SUNSET BLVD</td>\n",
       "    </tr>\n",
       "    <tr>\n",
       "      <th>366</th>\n",
       "      <td>21348</td>\n",
       "      <td>7-ELEVEN STORE #18778D</td>\n",
       "      <td>7600 W SUNSET BLVD</td>\n",
       "      <td>No</td>\n",
       "      <td>Restaurant</td>\n",
       "      <td>1</td>\n",
       "      <td>W SUNSET BLVD</td>\n",
       "    </tr>\n",
       "    <tr>\n",
       "      <th>367</th>\n",
       "      <td>21368</td>\n",
       "      <td>HYDE LLC</td>\n",
       "      <td>8029 W SUNSET BLVD</td>\n",
       "      <td>No</td>\n",
       "      <td>Restaurant</td>\n",
       "      <td>42</td>\n",
       "      <td>W SUNSET BLVD</td>\n",
       "    </tr>\n",
       "  </tbody>\n",
       "</table>\n",
       "<p>368 rows × 7 columns</p>\n",
       "</div>"
      ],
      "text/plain": [
       "        id             object_name                  address franchise  \\\n",
       "0    11789       TRINITI ECHO PARK       1814 W SUNSET BLVD        No   \n",
       "1    11796           EL POLLO LOCO       5319 W SUNSET BLVD       Yes   \n",
       "2    11800       CUSCATLECA BAKERY    2501 W SUNSET BLVD #A       Yes   \n",
       "3    11817        DUNES RESTAURANT       5625 W SUNSET BLVD       Yes   \n",
       "4    11819        ONO HAWAIIAN BBQ       5539 W SUNSET BLVD       Yes   \n",
       "..     ...                     ...                      ...       ...   \n",
       "363  21284          PA ORD EXPRESS  5301 W SUNSET BLVD # 11        No   \n",
       "364  21309      BUTTER'S ICE CREAM       2925 W SUNSET BLVD        No   \n",
       "365  21313      REGULA GUY'S PIZZA       5173 W SUNSET BLVD        No   \n",
       "366  21348  7-ELEVEN STORE #18778D       7600 W SUNSET BLVD        No   \n",
       "367  21368                HYDE LLC       8029 W SUNSET BLVD        No   \n",
       "\n",
       "    object_type  number              street  \n",
       "0    Restaurant      22       W SUNSET BLVD  \n",
       "1    Restaurant      38       W SUNSET BLVD  \n",
       "2        Bakery      26    W SUNSET BLVD #A  \n",
       "3    Restaurant     118       W SUNSET BLVD  \n",
       "4    Restaurant      35       W SUNSET BLVD  \n",
       "..          ...     ...                 ...  \n",
       "363   Fast Food      31  W SUNSET BLVD # 11  \n",
       "364  Restaurant      29       W SUNSET BLVD  \n",
       "365       Pizza      20       W SUNSET BLVD  \n",
       "366  Restaurant       1       W SUNSET BLVD  \n",
       "367  Restaurant      42       W SUNSET BLVD  \n",
       "\n",
       "[368 rows x 7 columns]"
      ]
     },
     "execution_count": 337,
     "metadata": {},
     "output_type": "execute_result"
    }
   ],
   "source": [
    "#Mengambil sampling tempat usaha di Jalan W Sunset BLVD\n",
    "seats_at_sunset_blvd = rest[rest['address'].str.contains(\"W SUNSET BLVD\")].reset_index(drop=True)\n",
    "seats_at_sunset_blvd"
   ]
  },
  {
   "cell_type": "code",
   "execution_count": 338,
   "metadata": {},
   "outputs": [
    {
     "data": {
      "text/plain": [
       "<AxesSubplot:xlabel='number', ylabel='Count'>"
      ]
     },
     "execution_count": 338,
     "metadata": {},
     "output_type": "execute_result"
    },
    {
     "data": {
      "image/png": "[encoded data removed]",
      "text/plain": [
       "<Figure size 432x288 with 1 Axes>"
      ]
     },
     "metadata": {},
     "output_type": "display_data"
    }
   ],
   "source": [
    "sns.histplot(seats_at_sunset_blvd['number'], color='orange')"
   ]
  },
  {
   "cell_type": "code",
   "execution_count": 339,
   "metadata": {},
   "outputs": [
    {
     "data": {
      "text/plain": [
       "17945"
      ]
     },
     "execution_count": 339,
     "metadata": {},
     "output_type": "execute_result"
    }
   ],
   "source": [
    "seats_at_sunset_blvd['number'].sum()"
   ]
  },
  {
   "cell_type": "code",
   "execution_count": 340,
   "metadata": {},
   "outputs": [
    {
     "data": {
      "text/plain": [
       "count    368.000000\n",
       "mean      48.763587\n",
       "std       49.511522\n",
       "min        1.000000\n",
       "25%       16.000000\n",
       "50%       34.000000\n",
       "75%       49.000000\n",
       "max      229.000000\n",
       "Name: number, dtype: float64"
      ]
     },
     "execution_count": 340,
     "metadata": {},
     "output_type": "execute_result"
    }
   ],
   "source": [
    "seats_at_sunset_blvd['number'].describe()"
   ]
  },
  {
   "cell_type": "markdown",
   "metadata": {},
   "source": [
    "Kesimpulan:\n",
    "\n",
    "    - Di Jalan W Sunset Blvd terdapat 296 tempat usaha makan dengan total kursi yang digunakan berjumlah 17945 kursi.\n",
    "    - Rata-rata jumlah kursi yang digunakan sebanyak 48 sampai 49 kursi\n",
    "    - Jumlah kursi yang palig sedikit digunakan adalah 1 kursi, sedangkan jumlah kursi yang paling banyak digunakan\n",
    "    adalah 229 kursi."
   ]
  },
  {
   "cell_type": "markdown",
   "metadata": {},
   "source": [
    "# 4. Kesimpulan Umum"
   ]
  },
  {
   "cell_type": "markdown",
   "metadata": {},
   "source": [
    "1. Tabel data Rest memberikan informasi tentang seluruh nama-nama usaha tempat makan di Los Angeles\n",
    "2. Tabel data Rest terdiri dari 9648 baris data dan 6 kolom\n",
    "3. Masing-masing data tempat usaha memiliki data nama, alamat, jenis usaha, tipe usaha, dan jumlah kursi yang digunakan\n",
    "4. Berdasarkan jenis usahanya, usaha yang paling banyak di Los Angeles adalah restaurant sebanyak 7253 tempat atau 75.2 % \n",
    "5. Jenis usaha yang berbasis franchise lebih sedikit daripada nonfranchise yakni berjumlah 3676 usaha atau 38.1 %.\n",
    "6. Jenis usaha yang tidak berbasis franchise berjumlah 5972 usaha atau 61.9 %\n",
    "7. Dari keenam jenis usaha, semuanya memiliki jenis usaha franchise. Jenis usaha yang paling banyak \n",
    "    franchisenya adalah jenis Restaurant sebanyak 2292 usaha. Namun secara ratio jenis usaha Restaurant memiliki \n",
    "    ratio franchise paling kecil yakni 31.6 %\n",
    "8. Dari segi ratio, jenis usaha Bakery memiliki ratio franchise terbesar yakni 99.64 %. Dari 284 tempat usaha Bakery, hanya 1 tempat yang nonfranchise.\n",
    "9. Jenis usaha franchise yang memiliki tempat yang paling banyak adalah Restaurant sebanyak 2292 tempat usaha.\n",
    "10. Jenis usaha franchise yang memiliki tempat yang paling sedikit adalah Bar sebanyak 77 tempat usaha.\n",
    "11. Jenis usaha franchise yang memiliki jumlah kursi paling banyak adalah Restaurant sebanyak 102810 kursi.\n",
    "12. Jenis usaha franchise yang memiliki jumlah kursi paling sedikit adalah Bar sebanyak 3100 kursi.\n",
    "13. Berdasarkan kedua grafik di atas, ciri-ciri usaha yang berbasis franchise adalah usaha yang memiliki \n",
    "    banyak tempat dan juga banyak kursi.\n",
    "14. Untuk usaha franchise, Restaurant memiliki rata-rata jumlah kursi yang paling banyak yakni 44 sampai 45 kursi.\n",
    "15. Bakery memiliki rata-rata jumlah kursi yang paling sedikit yakni 21 sampai 22 kursi.\n",
    "16. Daerah di Los Angeles yang memiliki usaha tempat makan paling banyak adalah di Jalan W SUNSET BLVD sebanyak \n",
    "296 tempat, disusul oleh Jalan W PICO BLVD sebanyak 288 tempat.\n",
    "17. Terdapat 2481 Jalan di Los Angeles yang hanya memiliki satu usaha tempat makan.\n",
    "18. Di Jalan W Sunset Blvd terdapat 296 tempat usaha makan dengan total kursi yang digunakan berjumlah 17945 kursi.\n",
    "19. Rata-rata jumlah kursi yang digunakan di Jalan W Sunset Blvd sebanyak 48 sampai 49 kursi.\n",
    "20. Jumlah kursi yang palig sedikit digunakan adalah 1 kursi, sedangkan jumlah kursi yang paling banyak digunakan\n",
    "    adalah 229 kursi.\n"
   ]
  },
  {
   "cell_type": "markdown",
   "metadata": {},
   "source": [
    "***Saran:***\n",
    "\n",
    "- Untuk membuka kafe dengan menggunakan robot sebagai pelayan atau pramusaji, dibutuhkan analisis lebih lanjut \n",
    "    terkait perilaku konsumen dan Return On Investment (ROI).\n"
   ]
  },
  {
   "cell_type": "markdown",
   "metadata": {},
   "source": [
    "<div class=\"alert alert-success\">\n",
    "<b>Code Reviewers's comment v.1</b> <a class=\"tocSkip\"></a>\n",
    "\n",
    "Bagus, code yang dijalankan sudah sesuai dengan instruksi dari project.\n",
    "\n",
    "</div>"
   ]
  },
  {
   "cell_type": "markdown",
   "metadata": {},
   "source": [
    "# 5. Mempersiapkan presentasi\n",
    "\n"
   ]
  },
  {
   "cell_type": "markdown",
   "metadata": {},
   "source": [
    "File presentasi sprint 9 tersimpan dengan nama file Project sprint 9 pdf. \n",
    "Untuk membukanya silakan klik tautan ini: \n",
    "https://drive.google.com/drive/u/0/folders/1lkiEKA-QNAspfi60BekT4cgAPzHqM-9Q"
   ]
  },
  {
   "cell_type": "markdown",
   "metadata": {},
   "source": [
    "<div class=\"alert alert-success\">\n",
    "<b>Code Reviewers's comment v.1</b> <a class=\"tocSkip\"></a>\n",
    "\n",
    "Bagus, code yang dijalankan sudah sesuai dengan instruksi dari project.\n",
    "\n",
    "</div>"
   ]
  },
  {
   "cell_type": "code",
   "execution_count": null,
   "metadata": {},
   "outputs": [],
   "source": []
  }
 ],
 "metadata": {
  "kernelspec": {
   "display_name": "Python 3 (ipykernel)",
   "language": "python",
   "name": "python3"
  },
  "language_info": {
   "codemirror_mode": {
    "name": "ipython",
    "version": 3
   },
   "file_extension": ".py",
   "mimetype": "text/x-python",
   "name": "python",
   "nbconvert_exporter": "python",
   "pygments_lexer": "ipython3",
   "version": "3.9.19"
  },
  "toc": {
   "base_numbering": 1,
   "nav_menu": {},
   "number_sections": true,
   "sideBar": true,
   "skip_h1_title": true,
   "title_cell": "Table of Contents",
   "title_sidebar": "Contents",
   "toc_cell": false,
   "toc_position": {},
   "toc_section_display": true,
   "toc_window_display": false
  }
 },
 "nbformat": 4,
 "nbformat_minor": 2
}
