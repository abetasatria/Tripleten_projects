{
 "cells": [
  {
   "cell_type": "markdown",
   "metadata": {},
   "source": [
    "<div style=\"border:solid black 2px; padding: 20px\">\n",
    "\n",
    "# Reviewer's feedback v.1\n",
    "\n",
    "**Halo Ahmad**\n",
    "    \n",
    "**Greetings from Chamdani**\n",
    "\n",
    "Terima kasih telah mengirimkan project kamu dengan ini kamu sudah memulai sebuah langkah yang luar biasa saat ini. Disini saya akan mereview proyek kamu ya.\n",
    "\n",
    "Saya akan memberikan beberapa komentar dan feedback seperti dibawah ini, **mohon jangan dipindah, dirubah, maupun dihapus ya :).**\n",
    "    \n",
    "> Mohon diperhatikan bahwa apabila ada temuan atau kesalahan yang sama namun tidak ada komentar perbaikan disana, itu berarti kamu masih tetap harus memperbaikinya yaa.\n",
    "\n",
    "Komentar yang saya berikan akan muncul dalam warna hijau, kuning, atau pun merah seperti ini:\n",
    "\n",
    "</div>\n",
    "\n",
    "<div class=\"alert alert-success\">\n",
    "<b>Chamdani's comment v.*</b> <a class=\"tocSkip\"></a>\n",
    "\n",
    "Bagus, semua berjalan lancar.\n",
    "\n",
    "</div>\n",
    "\n",
    "<div class=\"alert alert-warning\">\n",
    "<b>Chamdani's comment v.*</b> <a class=\"tocSkip\"></a>\n",
    "\n",
    "Ada beberapa catatan.\n",
    "\n",
    "</div>\n",
    "\n",
    "<div class=\"alert alert-danger\">\n",
    "<b>Chamdani's comment v.*</b> <a class=\"tocSkip\"></a>\n",
    "\n",
    "Perlu beberapa perbaikan.\n",
    "\n",
    "</div>\n",
    "\n",
    "<div class=\"alert alert-info\">\n",
    "<b>Chamdani's info v.1</b> <a class=\"tocSkip\"></a>\n",
    "\n",
    "Catatan umum:\n",
    "* Fungsi `print` tidak diperlukan untuk mencetak suatu nilai\n",
    "* Lebih baik tulis kode pada bagian akhir cell code untuk menampilkan output tanpa `print`\n",
    "* Perintah soal yang ada dalam tanda kurung siku `[...]` sebaiknya dihilangkan\n",
    "* Sangat disarankan untuk menggunakan cell markdown untuk memberikan deskripsi temuan atau kesimpulan.\n",
    "* Tidak disarankan menggunakan cell code untuk memberikan penjelasan / deskripsi.\n",
    "* Untuk menghindari galat pada notebook project kamu. Batasi jumlah output yang dikeluarkan setiap kode dengan batas max 10 baris data.\n",
    "\n",
    "</div>\n",
    "\n",
    "<div style=\"border:solid gray 5px; padding: 20px\" class=\"alert alert-warning\">\n",
    "\n",
    "**INGATLAH** \n",
    "* Project kamu tidak akan bisa diterima bila kamu masih memiliki feedback berwarna merah. \n",
    "* Kamu hanya memiliki 3 kali kesempatan iterasi submission disetiap projectnya \n",
    "* Jika merasa kesulitan kamu dapat menuliskan responmu atas feedback saya menggunakan blok markdown warna biru dan kamu bisa mengirimkan project pada submission selanjutnya untuk mendapatkan jawaban / respon dari saya segera yaa\n",
    "\n",
    "Kamu dapat menjawab saya dengan menggunakan blok berwarna biru seperti ini\n",
    "\n",
    "<div class=\"alert alert-info\">\n",
    "<b>Student answer</b> <a class=\"tocSkip\"></a>\n",
    "\n",
    "Siap kak.\n",
    "\n",
    "</div>"
   ]
  },
  {
   "cell_type": "markdown",
   "metadata": {},
   "source": [
    "<div style=\"border:solid black 2px; padding: 20px\" class=\"alert alert-success\">\n",
    "    \n",
    "# General feedback v.1 *Project Accepted*\n",
    "\n",
    "Terima kasih banyak telah mengirimkan proyek Anda! \n",
    "<br>\n",
    "    \n",
    "Secara keseluruhan, proyek Anda **SANGAT** mengesankan. Semoga apa yang kamu pelajari dalam project ini dapat membantu meningkatkan kemampuanmu. Pertahankan apa yang sudah bagus, dan tingkatkan apa yang menurutmu masih perlu ditingkatkan. Semoga berhasil pada project selanjutnya yaa :)\n",
    "\n",
    "**TETAP SEMANGAT!!**\n",
    "    \n",
    "</div>"
   ]
  },
  {
   "cell_type": "markdown",
   "metadata": {},
   "source": [
    "# A/A/B TESTING: MENCARI PENGARUH PERUBAHAN FONT TERHADAP PENJUALAN DI APLIKASI PENJUALAN MAKANAN"
   ]
  },
  {
   "cell_type": "markdown",
   "metadata": {},
   "source": [
    "# Contents\n",
    "\n",
    "    1. Introduction\n",
    "    2. Menyiapkan Data Untuk Analisis\n",
    "    3. Analisis Data\n",
    "        3.1. Menghitung rata-rata jumlah peristiwa per pengguna\n",
    "        3.2. Menganalisa ketimpangan data\n",
    "        3.3. Memeriksa jumlah pengguna di masing-masing kelompok\n",
    "        \n",
    "    4. Mempelajari funnel peristiwanya\n",
    "        4.1. Menganalisa peristiwa apa saja yang ada dalam log dan menghitung frekuensi kemunculannya\n",
    "        4.2. Menemukan jumlah pengguna yang melakukan setiap tindakan\n",
    "        4.3. Menggunakan funnel peristiwa untuk menemukan persentase pengguna yang terus berlanjut dari satu tahap ke tahap berikutnya\n",
    "        \n",
    "    5. Mempelajari hasil eksperimen\n",
    "        5.1. Menghitung jumlah pengguna yang ada di setiap kelompok\n",
    "        5.2. Memeriksa apakah ada perbedaan yang signifikan antara grup 246 dan 247 sebagai kelompok kontrol\n",
    "        5.3.Menghitung persentase jumlah pengguna pada setiap event dalam setiap kelompok kontrol\n",
    "        5.4.Membandingkan antara kelompok kontrol (246 dan 247) dengan kelompok 248 \n",
    "        5.5.Melakukan uji hipotesis dengan nilai alpha yang berbeda dengan sebelumnya\n",
    "    6. Kesimpulan Umum\n",
    "    7. Rekomendasi dan Saran"
   ]
  },
  {
   "cell_type": "markdown",
   "metadata": {},
   "source": [
    "# 1. Introduction\n",
    "\n",
    "Deskripsi Proyek\n",
    "\n",
    "Kamu bekerja di sebuah startup yang menjual produk makanan. Kamu perlu mencari tahu perilaku pengguna aplikasi dari perusahaan tersebut.\n",
    "\n",
    "Pertama-tama, kamu perlu mempelajari funnel penjualannya terlebih dahulu. Temukan jalur yang harus dilalui pengguna untuk bisa mencapai tahap pembelian. Berapa banyak pengguna yang benar-benar berhasil mencapai tahap pembelian? Berapa banyak pengguna yang terhenti pada tahap-tahap sebelumnya? Pada tahap mana persisnya hal tersebut terjadi?\n",
    "\n",
    "Kemudian, lihat hasil dari A/A/B testing (Baca terus untuk mengetahui informasi lebih lanjut tentang A/A/B testing). Tim web designer ingin mengubah font untuk keseluruhan aplikasi, tetapi product manager merasa khawatir jika para pengguna justru akan merasa bahwa desain baru tersebut mengganggu. Mereka pun memutuskan untuk mengambil keputusan berdasarkan hasil A/A/B testing.\n",
    "\n",
    "Para pengguna dibagi menjadi tiga kelompok: dua kelompok kontrol diperlihatkan dengan versi font lama dan satu kelompok uji diperlihatkan dengan versi font terbaru. Tugasmu adalah mencari tahu font mana yang akan memberi hasil terbaik.\n",
    "\n",
    "Membuat dua kelompok A (kontrol) memang memberikan keuntungan tertentu. Kita bisa menetapkan aturan bahwa keakuratan pengujian hanya akan diterima jika kedua kelompok kontrol memberikan hasil yang serupa. Jika ada perbedaan yang signifikan di antara kedua kelompok A, hal ini bisa membantu kita untuk mengidentifikasi faktor-faktor yang mungkin mendistorsi hasil yang kita peroleh. Membandingkan kelompok kontrol juga akan memberikan kita gambaran terkait berapa lama waktu dan data yang diperlukan saat menjalankan proses selanjutnya.\n",
    "\n"
   ]
  },
  {
   "cell_type": "markdown",
   "metadata": {},
   "source": [
    "<div class=\"alert alert-success\">\n",
    "<b>Chamdani's comment v.1</b> <a class=\"tocSkip\"></a>\n",
    "\n",
    "Hebat, Kerja bagus!\n",
    "\n",
    "</div>"
   ]
  },
  {
   "cell_type": "markdown",
   "metadata": {},
   "source": [
    "# 2. Menyiapkan Data Untuk Analisa"
   ]
  },
  {
   "cell_type": "code",
   "execution_count": 1,
   "metadata": {},
   "outputs": [],
   "source": [
    "import pandas as pd, numpy as np\n",
    "import datetime as dt\n",
    "import matplotlib.pyplot as plt, seaborn as sns\n",
    "from plotly import graph_objects as go\n",
    "import warnings\n",
    "warnings.filterwarnings('ignore')\n",
    "import math \n",
    "import numpy as np\n",
    "from statsmodels.stats.weightstats import ztest\n",
    "from scipy.stats import norm"
   ]
  },
  {
   "cell_type": "code",
   "execution_count": 2,
   "metadata": {},
   "outputs": [
    {
     "data": {
      "text/html": [
       "<div>\n",
       "<style scoped>\n",
       "    .dataframe tbody tr th:only-of-type {\n",
       "        vertical-align: middle;\n",
       "    }\n",
       "\n",
       "    .dataframe tbody tr th {\n",
       "        vertical-align: top;\n",
       "    }\n",
       "\n",
       "    .dataframe thead th {\n",
       "        text-align: right;\n",
       "    }\n",
       "</style>\n",
       "<table border=\"1\" class=\"dataframe\">\n",
       "  <thead>\n",
       "    <tr style=\"text-align: right;\">\n",
       "      <th></th>\n",
       "      <th>EventName</th>\n",
       "      <th>DeviceIDHash</th>\n",
       "      <th>EventTimestamp</th>\n",
       "      <th>ExpId</th>\n",
       "    </tr>\n",
       "  </thead>\n",
       "  <tbody>\n",
       "    <tr>\n",
       "      <th>0</th>\n",
       "      <td>MainScreenAppear</td>\n",
       "      <td>4575588528974610257</td>\n",
       "      <td>1564029816</td>\n",
       "      <td>246</td>\n",
       "    </tr>\n",
       "    <tr>\n",
       "      <th>1</th>\n",
       "      <td>MainScreenAppear</td>\n",
       "      <td>7416695313311560658</td>\n",
       "      <td>1564053102</td>\n",
       "      <td>246</td>\n",
       "    </tr>\n",
       "    <tr>\n",
       "      <th>2</th>\n",
       "      <td>PaymentScreenSuccessful</td>\n",
       "      <td>3518123091307005509</td>\n",
       "      <td>1564054127</td>\n",
       "      <td>248</td>\n",
       "    </tr>\n",
       "    <tr>\n",
       "      <th>3</th>\n",
       "      <td>CartScreenAppear</td>\n",
       "      <td>3518123091307005509</td>\n",
       "      <td>1564054127</td>\n",
       "      <td>248</td>\n",
       "    </tr>\n",
       "    <tr>\n",
       "      <th>4</th>\n",
       "      <td>PaymentScreenSuccessful</td>\n",
       "      <td>6217807653094995999</td>\n",
       "      <td>1564055322</td>\n",
       "      <td>248</td>\n",
       "    </tr>\n",
       "    <tr>\n",
       "      <th>...</th>\n",
       "      <td>...</td>\n",
       "      <td>...</td>\n",
       "      <td>...</td>\n",
       "      <td>...</td>\n",
       "    </tr>\n",
       "    <tr>\n",
       "      <th>244121</th>\n",
       "      <td>MainScreenAppear</td>\n",
       "      <td>4599628364049201812</td>\n",
       "      <td>1565212345</td>\n",
       "      <td>247</td>\n",
       "    </tr>\n",
       "    <tr>\n",
       "      <th>244122</th>\n",
       "      <td>MainScreenAppear</td>\n",
       "      <td>5849806612437486590</td>\n",
       "      <td>1565212439</td>\n",
       "      <td>246</td>\n",
       "    </tr>\n",
       "    <tr>\n",
       "      <th>244123</th>\n",
       "      <td>MainScreenAppear</td>\n",
       "      <td>5746969938801999050</td>\n",
       "      <td>1565212483</td>\n",
       "      <td>246</td>\n",
       "    </tr>\n",
       "    <tr>\n",
       "      <th>244124</th>\n",
       "      <td>MainScreenAppear</td>\n",
       "      <td>5746969938801999050</td>\n",
       "      <td>1565212498</td>\n",
       "      <td>246</td>\n",
       "    </tr>\n",
       "    <tr>\n",
       "      <th>244125</th>\n",
       "      <td>OffersScreenAppear</td>\n",
       "      <td>5746969938801999050</td>\n",
       "      <td>1565212517</td>\n",
       "      <td>246</td>\n",
       "    </tr>\n",
       "  </tbody>\n",
       "</table>\n",
       "<p>244126 rows × 4 columns</p>\n",
       "</div>"
      ],
      "text/plain": [
       "                      EventName         DeviceIDHash  EventTimestamp  ExpId\n",
       "0              MainScreenAppear  4575588528974610257      1564029816    246\n",
       "1              MainScreenAppear  7416695313311560658      1564053102    246\n",
       "2       PaymentScreenSuccessful  3518123091307005509      1564054127    248\n",
       "3              CartScreenAppear  3518123091307005509      1564054127    248\n",
       "4       PaymentScreenSuccessful  6217807653094995999      1564055322    248\n",
       "...                         ...                  ...             ...    ...\n",
       "244121         MainScreenAppear  4599628364049201812      1565212345    247\n",
       "244122         MainScreenAppear  5849806612437486590      1565212439    246\n",
       "244123         MainScreenAppear  5746969938801999050      1565212483    246\n",
       "244124         MainScreenAppear  5746969938801999050      1565212498    246\n",
       "244125       OffersScreenAppear  5746969938801999050      1565212517    246\n",
       "\n",
       "[244126 rows x 4 columns]"
      ]
     },
     "execution_count": 2,
     "metadata": {},
     "output_type": "execute_result"
    }
   ],
   "source": [
    "experiment = pd.read_csv('/datasets/logs_exp_us.csv', sep='\\t')\n",
    "experiment"
   ]
  },
  {
   "cell_type": "markdown",
   "metadata": {},
   "source": [
    "Deskripsi data:\n",
    "\n",
    "Setiap entri log adalah catatan tindakan pengguna atau suatu peristiwa.\n",
    "\n",
    "    - EventName — nama peristiwa\n",
    "    - DeviceIDHash — ID unik pengguna\n",
    "    - EventTimestamp — waktu peristiwa\n",
    "    - ExpId — nomor eksperimen: 246 dan 247 untuk kelompok kontrol, 248 untuk kelompok uji"
   ]
  },
  {
   "cell_type": "markdown",
   "metadata": {},
   "source": [
    "<div class=\"alert alert-success\">\n",
    "<b>Chamdani's comment v.1</b> <a class=\"tocSkip\"></a>\n",
    "\n",
    "Hebat, Kerja bagus!\n",
    "\n",
    "</div>"
   ]
  },
  {
   "cell_type": "code",
   "execution_count": 3,
   "metadata": {},
   "outputs": [
    {
     "name": "stdout",
     "output_type": "stream",
     "text": [
      "<class 'pandas.core.frame.DataFrame'>\n",
      "RangeIndex: 244126 entries, 0 to 244125\n",
      "Data columns (total 4 columns):\n",
      " #   Column          Non-Null Count   Dtype \n",
      "---  ------          --------------   ----- \n",
      " 0   EventName       244126 non-null  object\n",
      " 1   DeviceIDHash    244126 non-null  int64 \n",
      " 2   EventTimestamp  244126 non-null  int64 \n",
      " 3   ExpId           244126 non-null  int64 \n",
      "dtypes: int64(3), object(1)\n",
      "memory usage: 7.5+ MB\n"
     ]
    }
   ],
   "source": [
    "experiment.info()"
   ]
  },
  {
   "cell_type": "code",
   "execution_count": 4,
   "metadata": {},
   "outputs": [
    {
     "data": {
      "text/html": [
       "<div>\n",
       "<style scoped>\n",
       "    .dataframe tbody tr th:only-of-type {\n",
       "        vertical-align: middle;\n",
       "    }\n",
       "\n",
       "    .dataframe tbody tr th {\n",
       "        vertical-align: top;\n",
       "    }\n",
       "\n",
       "    .dataframe thead th {\n",
       "        text-align: right;\n",
       "    }\n",
       "</style>\n",
       "<table border=\"1\" class=\"dataframe\">\n",
       "  <thead>\n",
       "    <tr style=\"text-align: right;\">\n",
       "      <th></th>\n",
       "      <th>event</th>\n",
       "      <th>user_id</th>\n",
       "      <th>timestamp</th>\n",
       "      <th>exp_id</th>\n",
       "    </tr>\n",
       "  </thead>\n",
       "  <tbody>\n",
       "    <tr>\n",
       "      <th>0</th>\n",
       "      <td>MainScreenAppear</td>\n",
       "      <td>4575588528974610257</td>\n",
       "      <td>1564029816</td>\n",
       "      <td>246</td>\n",
       "    </tr>\n",
       "    <tr>\n",
       "      <th>1</th>\n",
       "      <td>MainScreenAppear</td>\n",
       "      <td>7416695313311560658</td>\n",
       "      <td>1564053102</td>\n",
       "      <td>246</td>\n",
       "    </tr>\n",
       "    <tr>\n",
       "      <th>2</th>\n",
       "      <td>PaymentScreenSuccessful</td>\n",
       "      <td>3518123091307005509</td>\n",
       "      <td>1564054127</td>\n",
       "      <td>248</td>\n",
       "    </tr>\n",
       "    <tr>\n",
       "      <th>3</th>\n",
       "      <td>CartScreenAppear</td>\n",
       "      <td>3518123091307005509</td>\n",
       "      <td>1564054127</td>\n",
       "      <td>248</td>\n",
       "    </tr>\n",
       "    <tr>\n",
       "      <th>4</th>\n",
       "      <td>PaymentScreenSuccessful</td>\n",
       "      <td>6217807653094995999</td>\n",
       "      <td>1564055322</td>\n",
       "      <td>248</td>\n",
       "    </tr>\n",
       "    <tr>\n",
       "      <th>...</th>\n",
       "      <td>...</td>\n",
       "      <td>...</td>\n",
       "      <td>...</td>\n",
       "      <td>...</td>\n",
       "    </tr>\n",
       "    <tr>\n",
       "      <th>244121</th>\n",
       "      <td>MainScreenAppear</td>\n",
       "      <td>4599628364049201812</td>\n",
       "      <td>1565212345</td>\n",
       "      <td>247</td>\n",
       "    </tr>\n",
       "    <tr>\n",
       "      <th>244122</th>\n",
       "      <td>MainScreenAppear</td>\n",
       "      <td>5849806612437486590</td>\n",
       "      <td>1565212439</td>\n",
       "      <td>246</td>\n",
       "    </tr>\n",
       "    <tr>\n",
       "      <th>244123</th>\n",
       "      <td>MainScreenAppear</td>\n",
       "      <td>5746969938801999050</td>\n",
       "      <td>1565212483</td>\n",
       "      <td>246</td>\n",
       "    </tr>\n",
       "    <tr>\n",
       "      <th>244124</th>\n",
       "      <td>MainScreenAppear</td>\n",
       "      <td>5746969938801999050</td>\n",
       "      <td>1565212498</td>\n",
       "      <td>246</td>\n",
       "    </tr>\n",
       "    <tr>\n",
       "      <th>244125</th>\n",
       "      <td>OffersScreenAppear</td>\n",
       "      <td>5746969938801999050</td>\n",
       "      <td>1565212517</td>\n",
       "      <td>246</td>\n",
       "    </tr>\n",
       "  </tbody>\n",
       "</table>\n",
       "<p>244126 rows × 4 columns</p>\n",
       "</div>"
      ],
      "text/plain": [
       "                          event              user_id   timestamp  exp_id\n",
       "0              MainScreenAppear  4575588528974610257  1564029816     246\n",
       "1              MainScreenAppear  7416695313311560658  1564053102     246\n",
       "2       PaymentScreenSuccessful  3518123091307005509  1564054127     248\n",
       "3              CartScreenAppear  3518123091307005509  1564054127     248\n",
       "4       PaymentScreenSuccessful  6217807653094995999  1564055322     248\n",
       "...                         ...                  ...         ...     ...\n",
       "244121         MainScreenAppear  4599628364049201812  1565212345     247\n",
       "244122         MainScreenAppear  5849806612437486590  1565212439     246\n",
       "244123         MainScreenAppear  5746969938801999050  1565212483     246\n",
       "244124         MainScreenAppear  5746969938801999050  1565212498     246\n",
       "244125       OffersScreenAppear  5746969938801999050  1565212517     246\n",
       "\n",
       "[244126 rows x 4 columns]"
      ]
     },
     "execution_count": 4,
     "metadata": {},
     "output_type": "execute_result"
    }
   ],
   "source": [
    "#Mengubah nama kolom\n",
    "experiment.rename(columns={\n",
    "    'EventName': 'event', 'DeviceIDHash': 'user_id', 'EventTimestamp': 'timestamp', 'ExpId': 'exp_id'\n",
    "},inplace=True)\n",
    "experiment"
   ]
  },
  {
   "cell_type": "markdown",
   "metadata": {},
   "source": [
    "<div class=\"alert alert-success\">\n",
    "<b>Chamdani's comment v.1</b> <a class=\"tocSkip\"></a>\n",
    "\n",
    "Hebat, Kerja bagus!\n",
    "\n",
    "</div>"
   ]
  },
  {
   "cell_type": "code",
   "execution_count": 6,
   "metadata": {},
   "outputs": [
    {
     "data": {
      "text/plain": [
       "413"
      ]
     },
     "execution_count": 6,
     "metadata": {},
     "output_type": "execute_result"
    }
   ],
   "source": [
    "#Memeriksa data duplikat\n",
    "experiment.duplicated().sum()"
   ]
  },
  {
   "cell_type": "code",
   "execution_count": 6,
   "metadata": {},
   "outputs": [
    {
     "data": {
      "text/plain": [
       "0"
      ]
     },
     "execution_count": 6,
     "metadata": {},
     "output_type": "execute_result"
    }
   ],
   "source": [
    "#Terdapat 413 data duplikat. Karena hanya sedikit maka bisa dihilangkan\n",
    "experiment = experiment.drop_duplicates().reset_index(drop=True)\n",
    "experiment.duplicated().sum()"
   ]
  },
  {
   "cell_type": "code",
   "execution_count": 7,
   "metadata": {},
   "outputs": [
    {
     "data": {
      "text/plain": [
       "(243713, 4)"
      ]
     },
     "execution_count": 7,
     "metadata": {},
     "output_type": "execute_result"
    }
   ],
   "source": [
    "experiment.shape"
   ]
  },
  {
   "cell_type": "code",
   "execution_count": 8,
   "metadata": {},
   "outputs": [],
   "source": [
    "#Menambahkan kolom date_time\n",
    "experiment['date_time'] = pd.to_datetime(experiment['timestamp'], unit='s')"
   ]
  },
  {
   "cell_type": "code",
   "execution_count": 9,
   "metadata": {},
   "outputs": [
    {
     "data": {
      "text/html": [
       "<div>\n",
       "<style scoped>\n",
       "    .dataframe tbody tr th:only-of-type {\n",
       "        vertical-align: middle;\n",
       "    }\n",
       "\n",
       "    .dataframe tbody tr th {\n",
       "        vertical-align: top;\n",
       "    }\n",
       "\n",
       "    .dataframe thead th {\n",
       "        text-align: right;\n",
       "    }\n",
       "</style>\n",
       "<table border=\"1\" class=\"dataframe\">\n",
       "  <thead>\n",
       "    <tr style=\"text-align: right;\">\n",
       "      <th></th>\n",
       "      <th>event</th>\n",
       "      <th>user_id</th>\n",
       "      <th>timestamp</th>\n",
       "      <th>exp_id</th>\n",
       "      <th>date_time</th>\n",
       "      <th>date</th>\n",
       "    </tr>\n",
       "  </thead>\n",
       "  <tbody>\n",
       "    <tr>\n",
       "      <th>0</th>\n",
       "      <td>MainScreenAppear</td>\n",
       "      <td>4575588528974610257</td>\n",
       "      <td>1564029816</td>\n",
       "      <td>246</td>\n",
       "      <td>2019-07-25 04:43:36</td>\n",
       "      <td>2019-07-25</td>\n",
       "    </tr>\n",
       "    <tr>\n",
       "      <th>1</th>\n",
       "      <td>MainScreenAppear</td>\n",
       "      <td>7416695313311560658</td>\n",
       "      <td>1564053102</td>\n",
       "      <td>246</td>\n",
       "      <td>2019-07-25 11:11:42</td>\n",
       "      <td>2019-07-25</td>\n",
       "    </tr>\n",
       "    <tr>\n",
       "      <th>2</th>\n",
       "      <td>PaymentScreenSuccessful</td>\n",
       "      <td>3518123091307005509</td>\n",
       "      <td>1564054127</td>\n",
       "      <td>248</td>\n",
       "      <td>2019-07-25 11:28:47</td>\n",
       "      <td>2019-07-25</td>\n",
       "    </tr>\n",
       "    <tr>\n",
       "      <th>3</th>\n",
       "      <td>CartScreenAppear</td>\n",
       "      <td>3518123091307005509</td>\n",
       "      <td>1564054127</td>\n",
       "      <td>248</td>\n",
       "      <td>2019-07-25 11:28:47</td>\n",
       "      <td>2019-07-25</td>\n",
       "    </tr>\n",
       "    <tr>\n",
       "      <th>4</th>\n",
       "      <td>PaymentScreenSuccessful</td>\n",
       "      <td>6217807653094995999</td>\n",
       "      <td>1564055322</td>\n",
       "      <td>248</td>\n",
       "      <td>2019-07-25 11:48:42</td>\n",
       "      <td>2019-07-25</td>\n",
       "    </tr>\n",
       "    <tr>\n",
       "      <th>...</th>\n",
       "      <td>...</td>\n",
       "      <td>...</td>\n",
       "      <td>...</td>\n",
       "      <td>...</td>\n",
       "      <td>...</td>\n",
       "      <td>...</td>\n",
       "    </tr>\n",
       "    <tr>\n",
       "      <th>243708</th>\n",
       "      <td>MainScreenAppear</td>\n",
       "      <td>4599628364049201812</td>\n",
       "      <td>1565212345</td>\n",
       "      <td>247</td>\n",
       "      <td>2019-08-07 21:12:25</td>\n",
       "      <td>2019-08-07</td>\n",
       "    </tr>\n",
       "    <tr>\n",
       "      <th>243709</th>\n",
       "      <td>MainScreenAppear</td>\n",
       "      <td>5849806612437486590</td>\n",
       "      <td>1565212439</td>\n",
       "      <td>246</td>\n",
       "      <td>2019-08-07 21:13:59</td>\n",
       "      <td>2019-08-07</td>\n",
       "    </tr>\n",
       "    <tr>\n",
       "      <th>243710</th>\n",
       "      <td>MainScreenAppear</td>\n",
       "      <td>5746969938801999050</td>\n",
       "      <td>1565212483</td>\n",
       "      <td>246</td>\n",
       "      <td>2019-08-07 21:14:43</td>\n",
       "      <td>2019-08-07</td>\n",
       "    </tr>\n",
       "    <tr>\n",
       "      <th>243711</th>\n",
       "      <td>MainScreenAppear</td>\n",
       "      <td>5746969938801999050</td>\n",
       "      <td>1565212498</td>\n",
       "      <td>246</td>\n",
       "      <td>2019-08-07 21:14:58</td>\n",
       "      <td>2019-08-07</td>\n",
       "    </tr>\n",
       "    <tr>\n",
       "      <th>243712</th>\n",
       "      <td>OffersScreenAppear</td>\n",
       "      <td>5746969938801999050</td>\n",
       "      <td>1565212517</td>\n",
       "      <td>246</td>\n",
       "      <td>2019-08-07 21:15:17</td>\n",
       "      <td>2019-08-07</td>\n",
       "    </tr>\n",
       "  </tbody>\n",
       "</table>\n",
       "<p>243713 rows × 6 columns</p>\n",
       "</div>"
      ],
      "text/plain": [
       "                          event              user_id   timestamp  exp_id  \\\n",
       "0              MainScreenAppear  4575588528974610257  1564029816     246   \n",
       "1              MainScreenAppear  7416695313311560658  1564053102     246   \n",
       "2       PaymentScreenSuccessful  3518123091307005509  1564054127     248   \n",
       "3              CartScreenAppear  3518123091307005509  1564054127     248   \n",
       "4       PaymentScreenSuccessful  6217807653094995999  1564055322     248   \n",
       "...                         ...                  ...         ...     ...   \n",
       "243708         MainScreenAppear  4599628364049201812  1565212345     247   \n",
       "243709         MainScreenAppear  5849806612437486590  1565212439     246   \n",
       "243710         MainScreenAppear  5746969938801999050  1565212483     246   \n",
       "243711         MainScreenAppear  5746969938801999050  1565212498     246   \n",
       "243712       OffersScreenAppear  5746969938801999050  1565212517     246   \n",
       "\n",
       "                 date_time       date  \n",
       "0      2019-07-25 04:43:36 2019-07-25  \n",
       "1      2019-07-25 11:11:42 2019-07-25  \n",
       "2      2019-07-25 11:28:47 2019-07-25  \n",
       "3      2019-07-25 11:28:47 2019-07-25  \n",
       "4      2019-07-25 11:48:42 2019-07-25  \n",
       "...                    ...        ...  \n",
       "243708 2019-08-07 21:12:25 2019-08-07  \n",
       "243709 2019-08-07 21:13:59 2019-08-07  \n",
       "243710 2019-08-07 21:14:43 2019-08-07  \n",
       "243711 2019-08-07 21:14:58 2019-08-07  \n",
       "243712 2019-08-07 21:15:17 2019-08-07  \n",
       "\n",
       "[243713 rows x 6 columns]"
      ]
     },
     "execution_count": 9,
     "metadata": {},
     "output_type": "execute_result"
    }
   ],
   "source": [
    "#Menambahkan kolom date\n",
    "experiment['date'] = experiment['date_time'].dt.floor('1D')\n",
    "experiment"
   ]
  },
  {
   "cell_type": "markdown",
   "metadata": {},
   "source": [
    "Kesimpulan Awal:\n",
    "\n",
    "    - Data experiment berisi tentang perbandingan setiap pengguna di masing-masing kelompok dalam setiap event\n",
    "    - Awalnya tabel data experiment terdiri dari 4 kolom dan 244126 baris\n",
    "    - Setelah dihilangkan data duplikat sebanyak 413 baris dan ditambah kolom, maka tabel data experiment menjadi \n",
    "    terdiri dari 6 kolom dan 143713 baris"
   ]
  },
  {
   "cell_type": "markdown",
   "metadata": {},
   "source": [
    "<div class=\"alert alert-success\">\n",
    "<b>Chamdani's comment v.1</b> <a class=\"tocSkip\"></a>\n",
    "\n",
    "Hebat, Kerja bagus!\n",
    "\n",
    "</div>"
   ]
  },
  {
   "cell_type": "markdown",
   "metadata": {},
   "source": [
    "# 3. Analisa Data"
   ]
  },
  {
   "cell_type": "markdown",
   "metadata": {},
   "source": [
    "# 3.1. Menghitung rata-rata jumlah peristiwa per pengguna"
   ]
  },
  {
   "cell_type": "code",
   "execution_count": 10,
   "metadata": {},
   "outputs": [
    {
     "data": {
      "text/plain": [
       "MainScreenAppear           119101\n",
       "OffersScreenAppear          46808\n",
       "CartScreenAppear            42668\n",
       "PaymentScreenSuccessful     34118\n",
       "Tutorial                     1018\n",
       "Name: event, dtype: int64"
      ]
     },
     "execution_count": 10,
     "metadata": {},
     "output_type": "execute_result"
    }
   ],
   "source": [
    "experiment['event'].value_counts()"
   ]
  },
  {
   "cell_type": "code",
   "execution_count": 11,
   "metadata": {},
   "outputs": [
    {
     "name": "stdout",
     "output_type": "stream",
     "text": [
      "Jumlah peristiwa yang tercatat dalam log ada: 243713 events\n"
     ]
    }
   ],
   "source": [
    "#Menghitung jumlah peristiwa yang tercatat dalam log\n",
    "events = len(experiment)\n",
    "print('Jumlah peristiwa yang tercatat dalam log ada: {} events'. format(events))"
   ]
  },
  {
   "cell_type": "code",
   "execution_count": 12,
   "metadata": {},
   "outputs": [
    {
     "name": "stdout",
     "output_type": "stream",
     "text": [
      "Jumlah users yang ada dalam log: 7551 users\n"
     ]
    }
   ],
   "source": [
    "#Menghitung jumlah users yang ada dalam log\n",
    "users = len(experiment['user_id'].unique())\n",
    "print('Jumlah users yang ada dalam log: {} users'. format(users))"
   ]
  },
  {
   "cell_type": "code",
   "execution_count": 13,
   "metadata": {},
   "outputs": [
    {
     "name": "stdout",
     "output_type": "stream",
     "text": [
      "Rata-rata jumlah peristiwa per pengguna ada: 32 events per users\n"
     ]
    }
   ],
   "source": [
    "#Menghitung rata-rata jumlah peristiwa per pengguna\n",
    "events_per_user = round(events /users)\n",
    "print('Rata-rata jumlah peristiwa per pengguna ada: {} events per users'. format(events_per_user))"
   ]
  },
  {
   "cell_type": "markdown",
   "metadata": {},
   "source": [
    "<div class=\"alert alert-success\">\n",
    "<b>Chamdani's comment v.1</b> <a class=\"tocSkip\"></a>\n",
    "\n",
    "Hebat, Kerja bagus!\n",
    "\n",
    "</div>"
   ]
  },
  {
   "cell_type": "markdown",
   "metadata": {},
   "source": [
    "# 3.2. Menganalisa ketimpangan data"
   ]
  },
  {
   "cell_type": "markdown",
   "metadata": {},
   "source": [
    "Pada tahap ini kita akan memeriksa apakah ada ketimpangan data dari awal sampai akhir. Jika ditemukan ketimpangan maka data yang timpang akan dibuang"
   ]
  },
  {
   "cell_type": "code",
   "execution_count": 14,
   "metadata": {},
   "outputs": [
    {
     "name": "stdout",
     "output_type": "stream",
     "text": [
      "2019-07-25 04:43:36\n",
      "2019-08-07 21:15:17\n"
     ]
    }
   ],
   "source": [
    "#Menemukan tanggal minimum dan tanggal maksimum\n",
    "print(experiment['date_time'].min())\n",
    "print(experiment['date_time'].max())"
   ]
  },
  {
   "cell_type": "markdown",
   "metadata": {},
   "source": [
    "    - Eksperimen dimulai pada tanggal 25 Juli 2019 jam 04.43 dan berakhir pada tanggal 7 Agustus 2019 jam 21.15"
   ]
  },
  {
   "cell_type": "code",
   "execution_count": 15,
   "metadata": {},
   "outputs": [
    {
     "data": {
      "text/plain": [
       "<AxesSubplot:>"
      ]
     },
     "execution_count": 15,
     "metadata": {},
     "output_type": "execute_result"
    },
    {
     "data": {
      "image/png": "[encoded data removed]",
      "text/plain": [
       "<Figure size 1008x360 with 1 Axes>"
      ]
     },
     "metadata": {
      "needs_background": "light"
     },
     "output_type": "display_data"
    }
   ],
   "source": [
    "experiment['date_time'].hist(bins=100, figsize=(14, 5))"
   ]
  },
  {
   "cell_type": "code",
   "execution_count": 16,
   "metadata": {},
   "outputs": [
    {
     "data": {
      "text/html": [
       "<div>\n",
       "<style scoped>\n",
       "    .dataframe tbody tr th:only-of-type {\n",
       "        vertical-align: middle;\n",
       "    }\n",
       "\n",
       "    .dataframe tbody tr th {\n",
       "        vertical-align: top;\n",
       "    }\n",
       "\n",
       "    .dataframe thead th {\n",
       "        text-align: right;\n",
       "    }\n",
       "</style>\n",
       "<table border=\"1\" class=\"dataframe\">\n",
       "  <thead>\n",
       "    <tr style=\"text-align: right;\">\n",
       "      <th></th>\n",
       "      <th>user_id</th>\n",
       "    </tr>\n",
       "    <tr>\n",
       "      <th>date</th>\n",
       "      <th></th>\n",
       "    </tr>\n",
       "  </thead>\n",
       "  <tbody>\n",
       "    <tr>\n",
       "      <th>2019-07-25</th>\n",
       "      <td>9</td>\n",
       "    </tr>\n",
       "    <tr>\n",
       "      <th>2019-07-26</th>\n",
       "      <td>31</td>\n",
       "    </tr>\n",
       "    <tr>\n",
       "      <th>2019-07-27</th>\n",
       "      <td>55</td>\n",
       "    </tr>\n",
       "    <tr>\n",
       "      <th>2019-07-28</th>\n",
       "      <td>105</td>\n",
       "    </tr>\n",
       "    <tr>\n",
       "      <th>2019-07-29</th>\n",
       "      <td>184</td>\n",
       "    </tr>\n",
       "    <tr>\n",
       "      <th>2019-07-30</th>\n",
       "      <td>412</td>\n",
       "    </tr>\n",
       "    <tr>\n",
       "      <th>2019-07-31</th>\n",
       "      <td>2030</td>\n",
       "    </tr>\n",
       "    <tr>\n",
       "      <th>2019-08-01</th>\n",
       "      <td>36141</td>\n",
       "    </tr>\n",
       "    <tr>\n",
       "      <th>2019-08-02</th>\n",
       "      <td>35554</td>\n",
       "    </tr>\n",
       "    <tr>\n",
       "      <th>2019-08-03</th>\n",
       "      <td>33282</td>\n",
       "    </tr>\n",
       "    <tr>\n",
       "      <th>2019-08-04</th>\n",
       "      <td>32968</td>\n",
       "    </tr>\n",
       "    <tr>\n",
       "      <th>2019-08-05</th>\n",
       "      <td>36058</td>\n",
       "    </tr>\n",
       "    <tr>\n",
       "      <th>2019-08-06</th>\n",
       "      <td>35788</td>\n",
       "    </tr>\n",
       "    <tr>\n",
       "      <th>2019-08-07</th>\n",
       "      <td>31096</td>\n",
       "    </tr>\n",
       "  </tbody>\n",
       "</table>\n",
       "</div>"
      ],
      "text/plain": [
       "            user_id\n",
       "date               \n",
       "2019-07-25        9\n",
       "2019-07-26       31\n",
       "2019-07-27       55\n",
       "2019-07-28      105\n",
       "2019-07-29      184\n",
       "2019-07-30      412\n",
       "2019-07-31     2030\n",
       "2019-08-01    36141\n",
       "2019-08-02    35554\n",
       "2019-08-03    33282\n",
       "2019-08-04    32968\n",
       "2019-08-05    36058\n",
       "2019-08-06    35788\n",
       "2019-08-07    31096"
      ]
     },
     "execution_count": 16,
     "metadata": {},
     "output_type": "execute_result"
    }
   ],
   "source": [
    "experiment.pivot_table(index='date', values='user_id', aggfunc='count')"
   ]
  },
  {
   "cell_type": "markdown",
   "metadata": {},
   "source": [
    "    - Berdasarkan grafik di atas, ada ketimpangan data. Data dari tanggal 2019-07-25 sampai 2019-07-31 jumlahnya sangat \n",
    "    sedikit (dibawah 3000). Sedangkan data dari tanggal 2019-08-01 sampai 2019-08-07 jumlahnya sangat banyak (diatas 30000)"
   ]
  },
  {
   "cell_type": "markdown",
   "metadata": {},
   "source": [
    "<div class=\"alert alert-success\">\n",
    "<b>Chamdani's comment v.1</b> <a class=\"tocSkip\"></a>\n",
    "\n",
    "Hebat, Kerja bagus!\n",
    "\n",
    "</div>"
   ]
  },
  {
   "cell_type": "code",
   "execution_count": 17,
   "metadata": {},
   "outputs": [
    {
     "data": {
      "text/plain": [
       "<AxesSubplot:xlabel='date'>"
      ]
     },
     "execution_count": 17,
     "metadata": {},
     "output_type": "execute_result"
    },
    {
     "data": {
      "image/png": "[encoded data removed]",
      "text/plain": [
       "<Figure size 432x288 with 1 Axes>"
      ]
     },
     "metadata": {
      "needs_background": "light"
     },
     "output_type": "display_data"
    }
   ],
   "source": [
    "experiment.pivot_table(index='date', values='user_id', aggfunc='count').plot(style='o-', grid=True)"
   ]
  },
  {
   "cell_type": "code",
   "execution_count": 18,
   "metadata": {},
   "outputs": [
    {
     "data": {
      "text/html": [
       "<div>\n",
       "<style scoped>\n",
       "    .dataframe tbody tr th:only-of-type {\n",
       "        vertical-align: middle;\n",
       "    }\n",
       "\n",
       "    .dataframe tbody tr th {\n",
       "        vertical-align: top;\n",
       "    }\n",
       "\n",
       "    .dataframe thead th {\n",
       "        text-align: right;\n",
       "    }\n",
       "</style>\n",
       "<table border=\"1\" class=\"dataframe\">\n",
       "  <thead>\n",
       "    <tr style=\"text-align: right;\">\n",
       "      <th></th>\n",
       "      <th>event</th>\n",
       "      <th>user_id</th>\n",
       "      <th>timestamp</th>\n",
       "      <th>exp_id</th>\n",
       "      <th>date_time</th>\n",
       "      <th>date</th>\n",
       "    </tr>\n",
       "  </thead>\n",
       "  <tbody>\n",
       "    <tr>\n",
       "      <th>2826</th>\n",
       "      <td>Tutorial</td>\n",
       "      <td>3737462046622621720</td>\n",
       "      <td>1564618048</td>\n",
       "      <td>246</td>\n",
       "      <td>2019-08-01 00:07:28</td>\n",
       "      <td>2019-08-01</td>\n",
       "    </tr>\n",
       "    <tr>\n",
       "      <th>2827</th>\n",
       "      <td>MainScreenAppear</td>\n",
       "      <td>3737462046622621720</td>\n",
       "      <td>1564618080</td>\n",
       "      <td>246</td>\n",
       "      <td>2019-08-01 00:08:00</td>\n",
       "      <td>2019-08-01</td>\n",
       "    </tr>\n",
       "    <tr>\n",
       "      <th>2828</th>\n",
       "      <td>MainScreenAppear</td>\n",
       "      <td>3737462046622621720</td>\n",
       "      <td>1564618135</td>\n",
       "      <td>246</td>\n",
       "      <td>2019-08-01 00:08:55</td>\n",
       "      <td>2019-08-01</td>\n",
       "    </tr>\n",
       "    <tr>\n",
       "      <th>2829</th>\n",
       "      <td>OffersScreenAppear</td>\n",
       "      <td>3737462046622621720</td>\n",
       "      <td>1564618138</td>\n",
       "      <td>246</td>\n",
       "      <td>2019-08-01 00:08:58</td>\n",
       "      <td>2019-08-01</td>\n",
       "    </tr>\n",
       "    <tr>\n",
       "      <th>2830</th>\n",
       "      <td>MainScreenAppear</td>\n",
       "      <td>1433840883824088890</td>\n",
       "      <td>1564618139</td>\n",
       "      <td>247</td>\n",
       "      <td>2019-08-01 00:08:59</td>\n",
       "      <td>2019-08-01</td>\n",
       "    </tr>\n",
       "    <tr>\n",
       "      <th>...</th>\n",
       "      <td>...</td>\n",
       "      <td>...</td>\n",
       "      <td>...</td>\n",
       "      <td>...</td>\n",
       "      <td>...</td>\n",
       "      <td>...</td>\n",
       "    </tr>\n",
       "    <tr>\n",
       "      <th>243708</th>\n",
       "      <td>MainScreenAppear</td>\n",
       "      <td>4599628364049201812</td>\n",
       "      <td>1565212345</td>\n",
       "      <td>247</td>\n",
       "      <td>2019-08-07 21:12:25</td>\n",
       "      <td>2019-08-07</td>\n",
       "    </tr>\n",
       "    <tr>\n",
       "      <th>243709</th>\n",
       "      <td>MainScreenAppear</td>\n",
       "      <td>5849806612437486590</td>\n",
       "      <td>1565212439</td>\n",
       "      <td>246</td>\n",
       "      <td>2019-08-07 21:13:59</td>\n",
       "      <td>2019-08-07</td>\n",
       "    </tr>\n",
       "    <tr>\n",
       "      <th>243710</th>\n",
       "      <td>MainScreenAppear</td>\n",
       "      <td>5746969938801999050</td>\n",
       "      <td>1565212483</td>\n",
       "      <td>246</td>\n",
       "      <td>2019-08-07 21:14:43</td>\n",
       "      <td>2019-08-07</td>\n",
       "    </tr>\n",
       "    <tr>\n",
       "      <th>243711</th>\n",
       "      <td>MainScreenAppear</td>\n",
       "      <td>5746969938801999050</td>\n",
       "      <td>1565212498</td>\n",
       "      <td>246</td>\n",
       "      <td>2019-08-07 21:14:58</td>\n",
       "      <td>2019-08-07</td>\n",
       "    </tr>\n",
       "    <tr>\n",
       "      <th>243712</th>\n",
       "      <td>OffersScreenAppear</td>\n",
       "      <td>5746969938801999050</td>\n",
       "      <td>1565212517</td>\n",
       "      <td>246</td>\n",
       "      <td>2019-08-07 21:15:17</td>\n",
       "      <td>2019-08-07</td>\n",
       "    </tr>\n",
       "  </tbody>\n",
       "</table>\n",
       "<p>240887 rows × 6 columns</p>\n",
       "</div>"
      ],
      "text/plain": [
       "                     event              user_id   timestamp  exp_id  \\\n",
       "2826              Tutorial  3737462046622621720  1564618048     246   \n",
       "2827      MainScreenAppear  3737462046622621720  1564618080     246   \n",
       "2828      MainScreenAppear  3737462046622621720  1564618135     246   \n",
       "2829    OffersScreenAppear  3737462046622621720  1564618138     246   \n",
       "2830      MainScreenAppear  1433840883824088890  1564618139     247   \n",
       "...                    ...                  ...         ...     ...   \n",
       "243708    MainScreenAppear  4599628364049201812  1565212345     247   \n",
       "243709    MainScreenAppear  5849806612437486590  1565212439     246   \n",
       "243710    MainScreenAppear  5746969938801999050  1565212483     246   \n",
       "243711    MainScreenAppear  5746969938801999050  1565212498     246   \n",
       "243712  OffersScreenAppear  5746969938801999050  1565212517     246   \n",
       "\n",
       "                 date_time       date  \n",
       "2826   2019-08-01 00:07:28 2019-08-01  \n",
       "2827   2019-08-01 00:08:00 2019-08-01  \n",
       "2828   2019-08-01 00:08:55 2019-08-01  \n",
       "2829   2019-08-01 00:08:58 2019-08-01  \n",
       "2830   2019-08-01 00:08:59 2019-08-01  \n",
       "...                    ...        ...  \n",
       "243708 2019-08-07 21:12:25 2019-08-07  \n",
       "243709 2019-08-07 21:13:59 2019-08-07  \n",
       "243710 2019-08-07 21:14:43 2019-08-07  \n",
       "243711 2019-08-07 21:14:58 2019-08-07  \n",
       "243712 2019-08-07 21:15:17 2019-08-07  \n",
       "\n",
       "[240887 rows x 6 columns]"
      ]
     },
     "execution_count": 18,
     "metadata": {},
     "output_type": "execute_result"
    }
   ],
   "source": [
    "#Membuang data dari tanggal 2019-07-25 sampai dengan tanggal 2019-07-31\n",
    "experiment_filtered = experiment.query('date > \"2019-07-31\"')\n",
    "experiment_filtered"
   ]
  },
  {
   "cell_type": "code",
   "execution_count": 19,
   "metadata": {},
   "outputs": [
    {
     "data": {
      "text/plain": [
       "((243713, 6), (240887, 6))"
      ]
     },
     "execution_count": 19,
     "metadata": {},
     "output_type": "execute_result"
    }
   ],
   "source": [
    "experiment.shape, experiment_filtered.shape"
   ]
  },
  {
   "cell_type": "markdown",
   "metadata": {},
   "source": [
    "    - Dari data awal berjumlah 243713 entries, setelah sebagian data dibuang sekarang menjadi 240887 entries.\n",
    "    - Ada selisih data sebesar 2826 entries"
   ]
  },
  {
   "cell_type": "markdown",
   "metadata": {},
   "source": [
    "<div class=\"alert alert-success\">\n",
    "<b>Chamdani's comment v.1</b> <a class=\"tocSkip\"></a>\n",
    "\n",
    "Hebat, Kerja bagus!\n",
    "\n",
    "</div>"
   ]
  },
  {
   "cell_type": "code",
   "execution_count": 20,
   "metadata": {},
   "outputs": [
    {
     "data": {
      "text/plain": [
       "<AxesSubplot:>"
      ]
     },
     "execution_count": 20,
     "metadata": {},
     "output_type": "execute_result"
    },
    {
     "data": {
      "image/png": "[encoded data removed]",
      "text/plain": [
       "<Figure size 1008x360 with 1 Axes>"
      ]
     },
     "metadata": {
      "needs_background": "light"
     },
     "output_type": "display_data"
    }
   ],
   "source": [
    "experiment_filtered['date_time'].hist(bins=100, figsize=(14, 5))"
   ]
  },
  {
   "cell_type": "markdown",
   "metadata": {},
   "source": [
    "    - Dari grafik di atas terlihat sudah tidak ada ketimpangan data"
   ]
  },
  {
   "cell_type": "markdown",
   "metadata": {},
   "source": [
    "<div class=\"alert alert-success\">\n",
    "<b>Chamdani's comment v.1</b> <a class=\"tocSkip\"></a>\n",
    "\n",
    "Hebat, Kerja bagus!\n",
    "\n",
    "</div>"
   ]
  },
  {
   "cell_type": "code",
   "execution_count": 21,
   "metadata": {},
   "outputs": [
    {
     "name": "stdout",
     "output_type": "stream",
     "text": [
      "Jumlah peristiwa yang tercatat dalam log baru ada: 240887 events\n",
      "Jumlah users yang ada dalam log baru: 7534 users\n",
      "Rata-rata jumlah peristiwa per pengguna dalam log baru ada: 32 events per users\n"
     ]
    }
   ],
   "source": [
    "events_filtered = len(experiment_filtered)\n",
    "print('Jumlah peristiwa yang tercatat dalam log baru ada: {} events'. format(events_filtered))\n",
    "users_filtered = len(experiment_filtered['user_id'].unique())\n",
    "print('Jumlah users yang ada dalam log baru: {} users'. format(users_filtered))\n",
    "events_per_user_filtered = round(events_filtered /users_filtered)\n",
    "print('Rata-rata jumlah peristiwa per pengguna dalam log baru ada: {} events per users'. format(events_per_user_filtered))"
   ]
  },
  {
   "cell_type": "code",
   "execution_count": 22,
   "metadata": {},
   "outputs": [
    {
     "data": {
      "text/plain": [
       "1.159560630741897"
      ]
     },
     "execution_count": 22,
     "metadata": {},
     "output_type": "execute_result"
    }
   ],
   "source": [
    "#Menghitung persentase data yang dibuang\n",
    "(experiment.shape[0] - experiment_filtered.shape[0]) / experiment.shape[0] * 100"
   ]
  },
  {
   "cell_type": "markdown",
   "metadata": {},
   "source": [
    "    -Data yang dibuang hanya sedikit yakni 1.16 %, artinya masih bisa digunakan"
   ]
  },
  {
   "cell_type": "markdown",
   "metadata": {},
   "source": [
    "<div class=\"alert alert-success\">\n",
    "<b>Chamdani's comment v.1</b> <a class=\"tocSkip\"></a>\n",
    "\n",
    "Hebat, Kerja bagus!\n",
    "\n",
    "</div>"
   ]
  },
  {
   "cell_type": "markdown",
   "metadata": {},
   "source": [
    "# 3.3. Memeriksa jumlah pengguna di masing-masing kelompok"
   ]
  },
  {
   "cell_type": "code",
   "execution_count": 23,
   "metadata": {},
   "outputs": [
    {
     "data": {
      "text/html": [
       "<div>\n",
       "<style scoped>\n",
       "    .dataframe tbody tr th:only-of-type {\n",
       "        vertical-align: middle;\n",
       "    }\n",
       "\n",
       "    .dataframe tbody tr th {\n",
       "        vertical-align: top;\n",
       "    }\n",
       "\n",
       "    .dataframe thead th {\n",
       "        text-align: right;\n",
       "    }\n",
       "</style>\n",
       "<table border=\"1\" class=\"dataframe\">\n",
       "  <thead>\n",
       "    <tr style=\"text-align: right;\">\n",
       "      <th></th>\n",
       "      <th>user_id</th>\n",
       "    </tr>\n",
       "    <tr>\n",
       "      <th>event</th>\n",
       "      <th></th>\n",
       "    </tr>\n",
       "  </thead>\n",
       "  <tbody>\n",
       "    <tr>\n",
       "      <th>MainScreenAppear</th>\n",
       "      <td>7419</td>\n",
       "    </tr>\n",
       "    <tr>\n",
       "      <th>OffersScreenAppear</th>\n",
       "      <td>4593</td>\n",
       "    </tr>\n",
       "    <tr>\n",
       "      <th>CartScreenAppear</th>\n",
       "      <td>3734</td>\n",
       "    </tr>\n",
       "    <tr>\n",
       "      <th>PaymentScreenSuccessful</th>\n",
       "      <td>3539</td>\n",
       "    </tr>\n",
       "    <tr>\n",
       "      <th>Tutorial</th>\n",
       "      <td>840</td>\n",
       "    </tr>\n",
       "  </tbody>\n",
       "</table>\n",
       "</div>"
      ],
      "text/plain": [
       "                         user_id\n",
       "event                           \n",
       "MainScreenAppear            7419\n",
       "OffersScreenAppear          4593\n",
       "CartScreenAppear            3734\n",
       "PaymentScreenSuccessful     3539\n",
       "Tutorial                     840"
      ]
     },
     "execution_count": 23,
     "metadata": {},
     "output_type": "execute_result"
    }
   ],
   "source": [
    "users_per_event = (\n",
    "    experiment_filtered.pivot_table(\n",
    "    index='event', values='user_id', aggfunc='nunique')\n",
    "    .sort_values('user_id', ascending=False)\n",
    ")\n",
    "users_per_event"
   ]
  },
  {
   "cell_type": "code",
   "execution_count": 24,
   "metadata": {},
   "outputs": [
    {
     "data": {
      "text/html": [
       "<div>\n",
       "<style scoped>\n",
       "    .dataframe tbody tr th:only-of-type {\n",
       "        vertical-align: middle;\n",
       "    }\n",
       "\n",
       "    .dataframe tbody tr th {\n",
       "        vertical-align: top;\n",
       "    }\n",
       "\n",
       "    .dataframe thead th {\n",
       "        text-align: right;\n",
       "    }\n",
       "</style>\n",
       "<table border=\"1\" class=\"dataframe\">\n",
       "  <thead>\n",
       "    <tr style=\"text-align: right;\">\n",
       "      <th></th>\n",
       "      <th>event</th>\n",
       "      <th>user_id</th>\n",
       "      <th>timestamp</th>\n",
       "      <th>exp_id</th>\n",
       "      <th>date_time</th>\n",
       "      <th>date</th>\n",
       "    </tr>\n",
       "  </thead>\n",
       "  <tbody>\n",
       "    <tr>\n",
       "      <th>2826</th>\n",
       "      <td>Tutorial</td>\n",
       "      <td>3737462046622621720</td>\n",
       "      <td>1564618048</td>\n",
       "      <td>246</td>\n",
       "      <td>2019-08-01 00:07:28</td>\n",
       "      <td>2019-08-01</td>\n",
       "    </tr>\n",
       "    <tr>\n",
       "      <th>2827</th>\n",
       "      <td>MainScreenAppear</td>\n",
       "      <td>3737462046622621720</td>\n",
       "      <td>1564618080</td>\n",
       "      <td>246</td>\n",
       "      <td>2019-08-01 00:08:00</td>\n",
       "      <td>2019-08-01</td>\n",
       "    </tr>\n",
       "    <tr>\n",
       "      <th>2828</th>\n",
       "      <td>MainScreenAppear</td>\n",
       "      <td>3737462046622621720</td>\n",
       "      <td>1564618135</td>\n",
       "      <td>246</td>\n",
       "      <td>2019-08-01 00:08:55</td>\n",
       "      <td>2019-08-01</td>\n",
       "    </tr>\n",
       "    <tr>\n",
       "      <th>2829</th>\n",
       "      <td>OffersScreenAppear</td>\n",
       "      <td>3737462046622621720</td>\n",
       "      <td>1564618138</td>\n",
       "      <td>246</td>\n",
       "      <td>2019-08-01 00:08:58</td>\n",
       "      <td>2019-08-01</td>\n",
       "    </tr>\n",
       "    <tr>\n",
       "      <th>2830</th>\n",
       "      <td>MainScreenAppear</td>\n",
       "      <td>1433840883824088890</td>\n",
       "      <td>1564618139</td>\n",
       "      <td>247</td>\n",
       "      <td>2019-08-01 00:08:59</td>\n",
       "      <td>2019-08-01</td>\n",
       "    </tr>\n",
       "    <tr>\n",
       "      <th>...</th>\n",
       "      <td>...</td>\n",
       "      <td>...</td>\n",
       "      <td>...</td>\n",
       "      <td>...</td>\n",
       "      <td>...</td>\n",
       "      <td>...</td>\n",
       "    </tr>\n",
       "    <tr>\n",
       "      <th>243708</th>\n",
       "      <td>MainScreenAppear</td>\n",
       "      <td>4599628364049201812</td>\n",
       "      <td>1565212345</td>\n",
       "      <td>247</td>\n",
       "      <td>2019-08-07 21:12:25</td>\n",
       "      <td>2019-08-07</td>\n",
       "    </tr>\n",
       "    <tr>\n",
       "      <th>243709</th>\n",
       "      <td>MainScreenAppear</td>\n",
       "      <td>5849806612437486590</td>\n",
       "      <td>1565212439</td>\n",
       "      <td>246</td>\n",
       "      <td>2019-08-07 21:13:59</td>\n",
       "      <td>2019-08-07</td>\n",
       "    </tr>\n",
       "    <tr>\n",
       "      <th>243710</th>\n",
       "      <td>MainScreenAppear</td>\n",
       "      <td>5746969938801999050</td>\n",
       "      <td>1565212483</td>\n",
       "      <td>246</td>\n",
       "      <td>2019-08-07 21:14:43</td>\n",
       "      <td>2019-08-07</td>\n",
       "    </tr>\n",
       "    <tr>\n",
       "      <th>243711</th>\n",
       "      <td>MainScreenAppear</td>\n",
       "      <td>5746969938801999050</td>\n",
       "      <td>1565212498</td>\n",
       "      <td>246</td>\n",
       "      <td>2019-08-07 21:14:58</td>\n",
       "      <td>2019-08-07</td>\n",
       "    </tr>\n",
       "    <tr>\n",
       "      <th>243712</th>\n",
       "      <td>OffersScreenAppear</td>\n",
       "      <td>5746969938801999050</td>\n",
       "      <td>1565212517</td>\n",
       "      <td>246</td>\n",
       "      <td>2019-08-07 21:15:17</td>\n",
       "      <td>2019-08-07</td>\n",
       "    </tr>\n",
       "  </tbody>\n",
       "</table>\n",
       "<p>240887 rows × 6 columns</p>\n",
       "</div>"
      ],
      "text/plain": [
       "                     event              user_id   timestamp  exp_id  \\\n",
       "2826              Tutorial  3737462046622621720  1564618048     246   \n",
       "2827      MainScreenAppear  3737462046622621720  1564618080     246   \n",
       "2828      MainScreenAppear  3737462046622621720  1564618135     246   \n",
       "2829    OffersScreenAppear  3737462046622621720  1564618138     246   \n",
       "2830      MainScreenAppear  1433840883824088890  1564618139     247   \n",
       "...                    ...                  ...         ...     ...   \n",
       "243708    MainScreenAppear  4599628364049201812  1565212345     247   \n",
       "243709    MainScreenAppear  5849806612437486590  1565212439     246   \n",
       "243710    MainScreenAppear  5746969938801999050  1565212483     246   \n",
       "243711    MainScreenAppear  5746969938801999050  1565212498     246   \n",
       "243712  OffersScreenAppear  5746969938801999050  1565212517     246   \n",
       "\n",
       "                 date_time       date  \n",
       "2826   2019-08-01 00:07:28 2019-08-01  \n",
       "2827   2019-08-01 00:08:00 2019-08-01  \n",
       "2828   2019-08-01 00:08:55 2019-08-01  \n",
       "2829   2019-08-01 00:08:58 2019-08-01  \n",
       "2830   2019-08-01 00:08:59 2019-08-01  \n",
       "...                    ...        ...  \n",
       "243708 2019-08-07 21:12:25 2019-08-07  \n",
       "243709 2019-08-07 21:13:59 2019-08-07  \n",
       "243710 2019-08-07 21:14:43 2019-08-07  \n",
       "243711 2019-08-07 21:14:58 2019-08-07  \n",
       "243712 2019-08-07 21:15:17 2019-08-07  \n",
       "\n",
       "[240887 rows x 6 columns]"
      ]
     },
     "execution_count": 24,
     "metadata": {},
     "output_type": "execute_result"
    }
   ],
   "source": [
    "experiment_filtered"
   ]
  },
  {
   "cell_type": "code",
   "execution_count": 25,
   "metadata": {},
   "outputs": [
    {
     "data": {
      "text/plain": [
       "248    84563\n",
       "246    79302\n",
       "247    77022\n",
       "Name: exp_id, dtype: int64"
      ]
     },
     "execution_count": 25,
     "metadata": {},
     "output_type": "execute_result"
    }
   ],
   "source": [
    "#Menghitung jumlah pengguna di setiap kelompok untuk semua event\n",
    "experiment_filtered['exp_id'].value_counts()"
   ]
  },
  {
   "cell_type": "markdown",
   "metadata": {},
   "source": [
    "    - Ketiga kelompok pengguna masih ada di dalam data yang telah difilter dan jumlah anggota tiap kelompok tidak \n",
    "    berbeda jauh"
   ]
  },
  {
   "cell_type": "markdown",
   "metadata": {},
   "source": [
    "<div class=\"alert alert-success\">\n",
    "<b>Chamdani's comment v.1</b> <a class=\"tocSkip\"></a>\n",
    "\n",
    "Hebat, Kerja bagus!\n",
    "\n",
    "</div>"
   ]
  },
  {
   "cell_type": "markdown",
   "metadata": {},
   "source": [
    "# 4. Mempelajari funnel peristiwanya"
   ]
  },
  {
   "cell_type": "markdown",
   "metadata": {},
   "source": [
    "# 4.1. Menganalisa peristiwa apa saja yang ada dalam log dan menghitung frekuensi kemunculannya"
   ]
  },
  {
   "cell_type": "code",
   "execution_count": 26,
   "metadata": {},
   "outputs": [
    {
     "data": {
      "text/plain": [
       "MainScreenAppear           117328\n",
       "OffersScreenAppear          46333\n",
       "CartScreenAppear            42303\n",
       "PaymentScreenSuccessful     33918\n",
       "Tutorial                     1005\n",
       "Name: event, dtype: int64"
      ]
     },
     "execution_count": 26,
     "metadata": {},
     "output_type": "execute_result"
    }
   ],
   "source": [
    "experiment_filtered['event'].value_counts()"
   ]
  },
  {
   "cell_type": "code",
   "execution_count": 27,
   "metadata": {},
   "outputs": [
    {
     "data": {
      "text/plain": [
       "<AxesSubplot:title={'center':'Frekuensi Setiap Event'}>"
      ]
     },
     "execution_count": 27,
     "metadata": {},
     "output_type": "execute_result"
    },
    {
     "data": {
      "image/png": "[encoded data removed]",
      "text/plain": [
       "<Figure size 432x288 with 1 Axes>"
      ]
     },
     "metadata": {
      "needs_background": "light"
     },
     "output_type": "display_data"
    }
   ],
   "source": [
    "experiment_filtered['event'].value_counts().plot(kind='bar', title='Frekuensi Setiap Event', color='green')"
   ]
  },
  {
   "cell_type": "markdown",
   "metadata": {},
   "source": [
    "    - MainScreenAppear memiliki frekuensi paling banyak yakni 117328 kali. Hal ini wajar karena setiap user yang \n",
    "    masuk ke aplikasi akan langsung masuk ke MainScreen (layar utama)\n",
    "    \n",
    "    - Untuk tutorial hanya sedikit yang mengaksesnya, hanya 1005 kali. "
   ]
  },
  {
   "cell_type": "markdown",
   "metadata": {},
   "source": [
    "<div class=\"alert alert-success\">\n",
    "<b>Chamdani's comment v.1</b> <a class=\"tocSkip\"></a>\n",
    "\n",
    "Hebat, Kerja bagus!\n",
    "\n",
    "</div>"
   ]
  },
  {
   "cell_type": "markdown",
   "metadata": {},
   "source": [
    "# 4.2. Menemukan jumlah pengguna yang melakukan setiap tindakan"
   ]
  },
  {
   "cell_type": "code",
   "execution_count": 28,
   "metadata": {},
   "outputs": [
    {
     "data": {
      "text/html": [
       "<div>\n",
       "<style scoped>\n",
       "    .dataframe tbody tr th:only-of-type {\n",
       "        vertical-align: middle;\n",
       "    }\n",
       "\n",
       "    .dataframe tbody tr th {\n",
       "        vertical-align: top;\n",
       "    }\n",
       "\n",
       "    .dataframe thead th {\n",
       "        text-align: right;\n",
       "    }\n",
       "</style>\n",
       "<table border=\"1\" class=\"dataframe\">\n",
       "  <thead>\n",
       "    <tr style=\"text-align: right;\">\n",
       "      <th></th>\n",
       "      <th>user_id</th>\n",
       "    </tr>\n",
       "    <tr>\n",
       "      <th>event</th>\n",
       "      <th></th>\n",
       "    </tr>\n",
       "  </thead>\n",
       "  <tbody>\n",
       "    <tr>\n",
       "      <th>MainScreenAppear</th>\n",
       "      <td>7419</td>\n",
       "    </tr>\n",
       "    <tr>\n",
       "      <th>OffersScreenAppear</th>\n",
       "      <td>4593</td>\n",
       "    </tr>\n",
       "    <tr>\n",
       "      <th>CartScreenAppear</th>\n",
       "      <td>3734</td>\n",
       "    </tr>\n",
       "    <tr>\n",
       "      <th>PaymentScreenSuccessful</th>\n",
       "      <td>3539</td>\n",
       "    </tr>\n",
       "    <tr>\n",
       "      <th>Tutorial</th>\n",
       "      <td>840</td>\n",
       "    </tr>\n",
       "  </tbody>\n",
       "</table>\n",
       "</div>"
      ],
      "text/plain": [
       "                         user_id\n",
       "event                           \n",
       "MainScreenAppear            7419\n",
       "OffersScreenAppear          4593\n",
       "CartScreenAppear            3734\n",
       "PaymentScreenSuccessful     3539\n",
       "Tutorial                     840"
      ]
     },
     "execution_count": 28,
     "metadata": {},
     "output_type": "execute_result"
    }
   ],
   "source": [
    "users_per_event = (\n",
    "    experiment_filtered.pivot_table(\n",
    "    index='event', values='user_id', aggfunc='nunique')\n",
    "    .sort_values('user_id', ascending=False)\n",
    ")\n",
    "users_per_event"
   ]
  },
  {
   "cell_type": "code",
   "execution_count": 29,
   "metadata": {},
   "outputs": [
    {
     "data": {
      "text/plain": [
       "7534"
      ]
     },
     "execution_count": 29,
     "metadata": {},
     "output_type": "execute_result"
    }
   ],
   "source": [
    "experiment_filtered['user_id'].nunique()"
   ]
  },
  {
   "cell_type": "markdown",
   "metadata": {},
   "source": [
    "Total pengguna berjumlah 7534 users"
   ]
  },
  {
   "cell_type": "code",
   "execution_count": 30,
   "metadata": {},
   "outputs": [
    {
     "data": {
      "text/html": [
       "<div>\n",
       "<style scoped>\n",
       "    .dataframe tbody tr th:only-of-type {\n",
       "        vertical-align: middle;\n",
       "    }\n",
       "\n",
       "    .dataframe tbody tr th {\n",
       "        vertical-align: top;\n",
       "    }\n",
       "\n",
       "    .dataframe thead th {\n",
       "        text-align: right;\n",
       "    }\n",
       "</style>\n",
       "<table border=\"1\" class=\"dataframe\">\n",
       "  <thead>\n",
       "    <tr style=\"text-align: right;\">\n",
       "      <th></th>\n",
       "      <th>user_id</th>\n",
       "    </tr>\n",
       "    <tr>\n",
       "      <th>event</th>\n",
       "      <th></th>\n",
       "    </tr>\n",
       "  </thead>\n",
       "  <tbody>\n",
       "    <tr>\n",
       "      <th>MainScreenAppear</th>\n",
       "      <td>0.984736</td>\n",
       "    </tr>\n",
       "    <tr>\n",
       "      <th>OffersScreenAppear</th>\n",
       "      <td>0.609636</td>\n",
       "    </tr>\n",
       "    <tr>\n",
       "      <th>CartScreenAppear</th>\n",
       "      <td>0.495620</td>\n",
       "    </tr>\n",
       "    <tr>\n",
       "      <th>PaymentScreenSuccessful</th>\n",
       "      <td>0.469737</td>\n",
       "    </tr>\n",
       "    <tr>\n",
       "      <th>Tutorial</th>\n",
       "      <td>0.111495</td>\n",
       "    </tr>\n",
       "  </tbody>\n",
       "</table>\n",
       "</div>"
      ],
      "text/plain": [
       "                          user_id\n",
       "event                            \n",
       "MainScreenAppear         0.984736\n",
       "OffersScreenAppear       0.609636\n",
       "CartScreenAppear         0.495620\n",
       "PaymentScreenSuccessful  0.469737\n",
       "Tutorial                 0.111495"
      ]
     },
     "execution_count": 30,
     "metadata": {},
     "output_type": "execute_result"
    }
   ],
   "source": [
    "#Proporsi pengguna yang melakukan tindakan setidaknya sekali\n",
    "users_per_event / experiment_filtered['user_id'].nunique()"
   ]
  },
  {
   "cell_type": "markdown",
   "metadata": {},
   "source": [
    "    - Proporsi setiap event:\n",
    "    \n",
    "        - Main Screen Appear = 98.4 %\n",
    "        - Offers Screen Appear = 60.9 %\n",
    "        - Cart Screen Appear = 49.5 %\n",
    "        - Payment Screen Successful = 46.9 %\n",
    "        - Tutorial = 11.14 %"
   ]
  },
  {
   "cell_type": "markdown",
   "metadata": {},
   "source": [
    "    - Berdasarkan data di atas, urutan yang terjadi dalam experiment ini adalah sebagai berikut:\n",
    "\n",
    "        - 1. Main Screen Appear\n",
    "        - 2. Offers Screen Appear\n",
    "        - 3. Cart Screen Appear\n",
    "        - 4. Payment Screen Successful\n",
    "        \n",
    "     - Untuk tahap Tutorial, ini dianggap sebagai outliers dan tidak akan dimasukkan ke dalam hitungan funnel"
   ]
  },
  {
   "cell_type": "markdown",
   "metadata": {},
   "source": [
    "<div class=\"alert alert-success\">\n",
    "<b>Chamdani's comment v.1</b> <a class=\"tocSkip\"></a>\n",
    "\n",
    "Hebat, Kerja bagus!\n",
    "\n",
    "</div>"
   ]
  },
  {
   "cell_type": "markdown",
   "metadata": {},
   "source": [
    "# 4.3. Menggunakan funnel peristiwa untuk menemukan persentase pengguna yang terus berlanjut dari satu tahap ke tahap berikutnya"
   ]
  },
  {
   "cell_type": "code",
   "execution_count": 31,
   "metadata": {},
   "outputs": [
    {
     "data": {
      "text/html": [
       "<div>\n",
       "<style scoped>\n",
       "    .dataframe tbody tr th:only-of-type {\n",
       "        vertical-align: middle;\n",
       "    }\n",
       "\n",
       "    .dataframe tbody tr th {\n",
       "        vertical-align: top;\n",
       "    }\n",
       "\n",
       "    .dataframe thead th {\n",
       "        text-align: right;\n",
       "    }\n",
       "</style>\n",
       "<table border=\"1\" class=\"dataframe\">\n",
       "  <thead>\n",
       "    <tr style=\"text-align: right;\">\n",
       "      <th></th>\n",
       "      <th>user_id</th>\n",
       "    </tr>\n",
       "    <tr>\n",
       "      <th>event</th>\n",
       "      <th></th>\n",
       "    </tr>\n",
       "  </thead>\n",
       "  <tbody>\n",
       "    <tr>\n",
       "      <th>MainScreenAppear</th>\n",
       "      <td>7419</td>\n",
       "    </tr>\n",
       "    <tr>\n",
       "      <th>OffersScreenAppear</th>\n",
       "      <td>4593</td>\n",
       "    </tr>\n",
       "    <tr>\n",
       "      <th>CartScreenAppear</th>\n",
       "      <td>3734</td>\n",
       "    </tr>\n",
       "    <tr>\n",
       "      <th>PaymentScreenSuccessful</th>\n",
       "      <td>3539</td>\n",
       "    </tr>\n",
       "    <tr>\n",
       "      <th>Tutorial</th>\n",
       "      <td>840</td>\n",
       "    </tr>\n",
       "  </tbody>\n",
       "</table>\n",
       "</div>"
      ],
      "text/plain": [
       "                         user_id\n",
       "event                           \n",
       "MainScreenAppear            7419\n",
       "OffersScreenAppear          4593\n",
       "CartScreenAppear            3734\n",
       "PaymentScreenSuccessful     3539\n",
       "Tutorial                     840"
      ]
     },
     "execution_count": 31,
     "metadata": {},
     "output_type": "execute_result"
    }
   ],
   "source": [
    "users_per_event"
   ]
  },
  {
   "cell_type": "code",
   "execution_count": 32,
   "metadata": {},
   "outputs": [
    {
     "data": {
      "text/html": [
       "<div>\n",
       "<style scoped>\n",
       "    .dataframe tbody tr th:only-of-type {\n",
       "        vertical-align: middle;\n",
       "    }\n",
       "\n",
       "    .dataframe tbody tr th {\n",
       "        vertical-align: top;\n",
       "    }\n",
       "\n",
       "    .dataframe thead th {\n",
       "        text-align: right;\n",
       "    }\n",
       "</style>\n",
       "<table border=\"1\" class=\"dataframe\">\n",
       "  <thead>\n",
       "    <tr style=\"text-align: right;\">\n",
       "      <th></th>\n",
       "      <th>user_id</th>\n",
       "    </tr>\n",
       "    <tr>\n",
       "      <th>event</th>\n",
       "      <th></th>\n",
       "    </tr>\n",
       "  </thead>\n",
       "  <tbody>\n",
       "    <tr>\n",
       "      <th>MainScreenAppear</th>\n",
       "      <td>7419</td>\n",
       "    </tr>\n",
       "    <tr>\n",
       "      <th>OffersScreenAppear</th>\n",
       "      <td>4593</td>\n",
       "    </tr>\n",
       "    <tr>\n",
       "      <th>CartScreenAppear</th>\n",
       "      <td>3734</td>\n",
       "    </tr>\n",
       "    <tr>\n",
       "      <th>PaymentScreenSuccessful</th>\n",
       "      <td>3539</td>\n",
       "    </tr>\n",
       "  </tbody>\n",
       "</table>\n",
       "</div>"
      ],
      "text/plain": [
       "                         user_id\n",
       "event                           \n",
       "MainScreenAppear            7419\n",
       "OffersScreenAppear          4593\n",
       "CartScreenAppear            3734\n",
       "PaymentScreenSuccessful     3539"
      ]
     },
     "execution_count": 32,
     "metadata": {},
     "output_type": "execute_result"
    }
   ],
   "source": [
    "#Data tutorial dianggap outlier maka akan dibuang\n",
    "users_funnel = users_per_event[:-1]\n",
    "users_funnel"
   ]
  },
  {
   "cell_type": "code",
   "execution_count": 33,
   "metadata": {},
   "outputs": [
    {
     "data": {
      "text/html": [
       "<div>\n",
       "<style scoped>\n",
       "    .dataframe tbody tr th:only-of-type {\n",
       "        vertical-align: middle;\n",
       "    }\n",
       "\n",
       "    .dataframe tbody tr th {\n",
       "        vertical-align: top;\n",
       "    }\n",
       "\n",
       "    .dataframe thead th {\n",
       "        text-align: right;\n",
       "    }\n",
       "</style>\n",
       "<table border=\"1\" class=\"dataframe\">\n",
       "  <thead>\n",
       "    <tr style=\"text-align: right;\">\n",
       "      <th></th>\n",
       "      <th>user_id</th>\n",
       "    </tr>\n",
       "    <tr>\n",
       "      <th>event</th>\n",
       "      <th></th>\n",
       "    </tr>\n",
       "  </thead>\n",
       "  <tbody>\n",
       "    <tr>\n",
       "      <th>MainScreenAppear</th>\n",
       "      <td>NaN</td>\n",
       "    </tr>\n",
       "    <tr>\n",
       "      <th>OffersScreenAppear</th>\n",
       "      <td>7419.0</td>\n",
       "    </tr>\n",
       "    <tr>\n",
       "      <th>CartScreenAppear</th>\n",
       "      <td>4593.0</td>\n",
       "    </tr>\n",
       "    <tr>\n",
       "      <th>PaymentScreenSuccessful</th>\n",
       "      <td>3734.0</td>\n",
       "    </tr>\n",
       "  </tbody>\n",
       "</table>\n",
       "</div>"
      ],
      "text/plain": [
       "                         user_id\n",
       "event                           \n",
       "MainScreenAppear             NaN\n",
       "OffersScreenAppear        7419.0\n",
       "CartScreenAppear          4593.0\n",
       "PaymentScreenSuccessful   3734.0"
      ]
     },
     "execution_count": 33,
     "metadata": {},
     "output_type": "execute_result"
    }
   ],
   "source": [
    "#Untuk menghitung rasio pengguna yang terus berlanjut ke tahap selanjutnya yang pertama kita majukan jumlah user_id ke tahap selanjutnya\n",
    "users_funnel.shift()"
   ]
  },
  {
   "cell_type": "code",
   "execution_count": 34,
   "metadata": {},
   "outputs": [
    {
     "data": {
      "text/html": [
       "<div>\n",
       "<style scoped>\n",
       "    .dataframe tbody tr th:only-of-type {\n",
       "        vertical-align: middle;\n",
       "    }\n",
       "\n",
       "    .dataframe tbody tr th {\n",
       "        vertical-align: top;\n",
       "    }\n",
       "\n",
       "    .dataframe thead th {\n",
       "        text-align: right;\n",
       "    }\n",
       "</style>\n",
       "<table border=\"1\" class=\"dataframe\">\n",
       "  <thead>\n",
       "    <tr style=\"text-align: right;\">\n",
       "      <th></th>\n",
       "      <th>user_id</th>\n",
       "    </tr>\n",
       "    <tr>\n",
       "      <th>event</th>\n",
       "      <th></th>\n",
       "    </tr>\n",
       "  </thead>\n",
       "  <tbody>\n",
       "    <tr>\n",
       "      <th>MainScreenAppear</th>\n",
       "      <td>1.000000</td>\n",
       "    </tr>\n",
       "    <tr>\n",
       "      <th>OffersScreenAppear</th>\n",
       "      <td>0.619086</td>\n",
       "    </tr>\n",
       "    <tr>\n",
       "      <th>CartScreenAppear</th>\n",
       "      <td>0.812976</td>\n",
       "    </tr>\n",
       "    <tr>\n",
       "      <th>PaymentScreenSuccessful</th>\n",
       "      <td>0.947777</td>\n",
       "    </tr>\n",
       "  </tbody>\n",
       "</table>\n",
       "</div>"
      ],
      "text/plain": [
       "                          user_id\n",
       "event                            \n",
       "MainScreenAppear         1.000000\n",
       "OffersScreenAppear       0.619086\n",
       "CartScreenAppear         0.812976\n",
       "PaymentScreenSuccessful  0.947777"
      ]
     },
     "execution_count": 34,
     "metadata": {},
     "output_type": "execute_result"
    }
   ],
   "source": [
    "#Menghitung rasio penguna dengan tahap sebelumya\n",
    "(users_funnel / users_funnel.shift()).fillna(1)"
   ]
  },
  {
   "cell_type": "markdown",
   "metadata": {},
   "source": [
    "- Dari data di atas dapat kita ketahui bahwa:\n",
    "\n",
    "    - Dari 100 % user di tahap MainScreenAppear, hanya 61.9 % yang lanjut ke tahap OffersScreenAppear.\n",
    "    - Lalu dari OffersScreenAppear, yang lanjut ke CartScreenAppear hanya 81.29 %.\n",
    "    - Dan terakhir, dari CartScreenAppear yang lanjut ke PaymentScreenSuccessful ada 94.77 % users\n",
    "    \n",
    "- Kita kehilangan banyak pengguna pada tahap dari MainScreenAppear ke OffersScreenAppear. Yang lanjut hanya 61.9 %. Artinya kita kehilangan 38.1 % pengguna"
   ]
  },
  {
   "cell_type": "code",
   "execution_count": 35,
   "metadata": {},
   "outputs": [
    {
     "data": {
      "text/plain": [
       "47.70184661005526"
      ]
     },
     "execution_count": 35,
     "metadata": {},
     "output_type": "execute_result"
    }
   ],
   "source": [
    "# Menghitung persentase pengguna yang berhasil menyelesaikan seluruh tahapan yang ada, dari peristiwa pertama hingga pembayaran\n",
    "(users_per_event.loc['PaymentScreenSuccessful'] / users_per_event.loc['MainScreenAppear'])['user_id'] * 100"
   ]
  },
  {
   "cell_type": "markdown",
   "metadata": {},
   "source": [
    "    - Pengguna yang berhasil menyelesaikan seluruh tahapan dari awal sampai pembayaran ada 47.7 %"
   ]
  },
  {
   "cell_type": "markdown",
   "metadata": {},
   "source": [
    "<div class=\"alert alert-success\">\n",
    "<b>Chamdani's comment v.1</b> <a class=\"tocSkip\"></a>\n",
    "\n",
    "Hebat, Kerja bagus!\n",
    "\n",
    "</div>"
   ]
  },
  {
   "cell_type": "markdown",
   "metadata": {},
   "source": [
    "# 5. Mempelajari hasil eksperimen\n",
    "\n",
    "\n"
   ]
  },
  {
   "cell_type": "markdown",
   "metadata": {},
   "source": [
    "# 5.1. Menghitung jumlah pengguna yang ada di setiap kelompok"
   ]
  },
  {
   "cell_type": "code",
   "execution_count": 36,
   "metadata": {},
   "outputs": [
    {
     "data": {
      "text/html": [
       "<div>\n",
       "<style scoped>\n",
       "    .dataframe tbody tr th:only-of-type {\n",
       "        vertical-align: middle;\n",
       "    }\n",
       "\n",
       "    .dataframe tbody tr th {\n",
       "        vertical-align: top;\n",
       "    }\n",
       "\n",
       "    .dataframe thead th {\n",
       "        text-align: right;\n",
       "    }\n",
       "</style>\n",
       "<table border=\"1\" class=\"dataframe\">\n",
       "  <thead>\n",
       "    <tr style=\"text-align: right;\">\n",
       "      <th>exp_id</th>\n",
       "      <th>246</th>\n",
       "      <th>247</th>\n",
       "      <th>248</th>\n",
       "    </tr>\n",
       "    <tr>\n",
       "      <th>event</th>\n",
       "      <th></th>\n",
       "      <th></th>\n",
       "      <th></th>\n",
       "    </tr>\n",
       "  </thead>\n",
       "  <tbody>\n",
       "    <tr>\n",
       "      <th>MainScreenAppear</th>\n",
       "      <td>2450</td>\n",
       "      <td>2476</td>\n",
       "      <td>2493</td>\n",
       "    </tr>\n",
       "    <tr>\n",
       "      <th>OffersScreenAppear</th>\n",
       "      <td>1542</td>\n",
       "      <td>1520</td>\n",
       "      <td>1531</td>\n",
       "    </tr>\n",
       "    <tr>\n",
       "      <th>CartScreenAppear</th>\n",
       "      <td>1266</td>\n",
       "      <td>1238</td>\n",
       "      <td>1230</td>\n",
       "    </tr>\n",
       "    <tr>\n",
       "      <th>PaymentScreenSuccessful</th>\n",
       "      <td>1200</td>\n",
       "      <td>1158</td>\n",
       "      <td>1181</td>\n",
       "    </tr>\n",
       "    <tr>\n",
       "      <th>Tutorial</th>\n",
       "      <td>278</td>\n",
       "      <td>283</td>\n",
       "      <td>279</td>\n",
       "    </tr>\n",
       "  </tbody>\n",
       "</table>\n",
       "</div>"
      ],
      "text/plain": [
       "exp_id                    246   247   248\n",
       "event                                    \n",
       "MainScreenAppear         2450  2476  2493\n",
       "OffersScreenAppear       1542  1520  1531\n",
       "CartScreenAppear         1266  1238  1230\n",
       "PaymentScreenSuccessful  1200  1158  1181\n",
       "Tutorial                  278   283   279"
      ]
     },
     "execution_count": 36,
     "metadata": {},
     "output_type": "execute_result"
    }
   ],
   "source": [
    "users_event_each_group = experiment_filtered.pivot_table(index='event',\n",
    "                                                         values='user_id',\n",
    "                                                         columns='exp_id',\n",
    "                                                        aggfunc='nunique').sort_values(by=246, ascending=False)\n",
    "users_event_each_group"
   ]
  },
  {
   "cell_type": "code",
   "execution_count": 37,
   "metadata": {},
   "outputs": [
    {
     "data": {
      "text/html": [
       "<div>\n",
       "<style scoped>\n",
       "    .dataframe tbody tr th:only-of-type {\n",
       "        vertical-align: middle;\n",
       "    }\n",
       "\n",
       "    .dataframe tbody tr th {\n",
       "        vertical-align: top;\n",
       "    }\n",
       "\n",
       "    .dataframe thead th {\n",
       "        text-align: right;\n",
       "    }\n",
       "</style>\n",
       "<table border=\"1\" class=\"dataframe\">\n",
       "  <thead>\n",
       "    <tr style=\"text-align: right;\">\n",
       "      <th></th>\n",
       "      <th>user_id</th>\n",
       "    </tr>\n",
       "    <tr>\n",
       "      <th>exp_id</th>\n",
       "      <th></th>\n",
       "    </tr>\n",
       "  </thead>\n",
       "  <tbody>\n",
       "    <tr>\n",
       "      <th>246</th>\n",
       "      <td>2484</td>\n",
       "    </tr>\n",
       "    <tr>\n",
       "      <th>247</th>\n",
       "      <td>2513</td>\n",
       "    </tr>\n",
       "    <tr>\n",
       "      <th>248</th>\n",
       "      <td>2537</td>\n",
       "    </tr>\n",
       "  </tbody>\n",
       "</table>\n",
       "</div>"
      ],
      "text/plain": [
       "        user_id\n",
       "exp_id         \n",
       "246        2484\n",
       "247        2513\n",
       "248        2537"
      ]
     },
     "execution_count": 37,
     "metadata": {},
     "output_type": "execute_result"
    }
   ],
   "source": [
    "users_each_count = experiment_filtered.pivot_table(index='exp_id',\n",
    "                                                   values='user_id',\n",
    "                                                   aggfunc='nunique')\n",
    "users_each_count"
   ]
  },
  {
   "cell_type": "markdown",
   "metadata": {},
   "source": [
    "    - Jumlah pengguna di masing-masing kelompok tidak berbeda jauh,\n",
    "        - di grup 246 ada 2484 pengguna, \n",
    "        - di grup 247 ada 2513 pengguna,\n",
    "        - di grup 248 ada 2537 pengguna"
   ]
  },
  {
   "cell_type": "markdown",
   "metadata": {},
   "source": [
    "<div class=\"alert alert-success\">\n",
    "<b>Chamdani's comment v.1</b> <a class=\"tocSkip\"></a>\n",
    "\n",
    "Hebat, Kerja bagus!\n",
    "\n",
    "</div>"
   ]
  },
  {
   "cell_type": "markdown",
   "metadata": {},
   "source": [
    "# 5.2. Memeriksa apakah ada perbedaan yang signifikan antara grup 246 dan 247 sebagai kelompok kontrol\n"
   ]
  },
  {
   "cell_type": "code",
   "execution_count": 38,
   "metadata": {},
   "outputs": [],
   "source": [
    "# Library uji statistik\n",
    "import scipy.stats as stats\n",
    "from scipy.stats import mannwhitneyu"
   ]
  },
  {
   "cell_type": "code",
   "execution_count": 39,
   "metadata": {},
   "outputs": [
    {
     "data": {
      "text/plain": [
       "MainScreenAppear           37676\n",
       "OffersScreenAppear         14767\n",
       "CartScreenAppear           14690\n",
       "PaymentScreenSuccessful    11852\n",
       "Tutorial                     317\n",
       "Name: event, dtype: int64"
      ]
     },
     "execution_count": 39,
     "metadata": {},
     "output_type": "execute_result"
    }
   ],
   "source": [
    "group_246 = experiment_filtered[experiment_filtered['exp_id']==246]['event'].value_counts()\n",
    "group_246"
   ]
  },
  {
   "cell_type": "code",
   "execution_count": 40,
   "metadata": {},
   "outputs": [
    {
     "data": {
      "text/plain": [
       "MainScreenAppear           39090\n",
       "OffersScreenAppear         15179\n",
       "CartScreenAppear           12434\n",
       "PaymentScreenSuccessful     9981\n",
       "Tutorial                     338\n",
       "Name: event, dtype: int64"
      ]
     },
     "execution_count": 40,
     "metadata": {},
     "output_type": "execute_result"
    }
   ],
   "source": [
    "group_247 = experiment_filtered[experiment_filtered['exp_id']==247]['event'].value_counts()\n",
    "group_247"
   ]
  },
  {
   "cell_type": "markdown",
   "metadata": {},
   "source": [
    "Uji signifikansi dengan mannwhitneyu test:\n",
    "\n",
    "    - H0 = data group 246 dan group 247 secara statistik SAMA (tidak ada perbedaan yang signifikan)\n",
    "    - H1 = data group 246 dan group 247 secara statistik TIDAK SAMA (ada perbedaan yang signifikan)"
   ]
  },
  {
   "cell_type": "markdown",
   "metadata": {},
   "source": [
    "<div class=\"alert alert-success\">\n",
    "<b>Chamdani's comment v.1</b> <a class=\"tocSkip\"></a>\n",
    "\n",
    "Hebat, Kerja bagus!\n",
    "\n",
    "</div>"
   ]
  },
  {
   "cell_type": "code",
   "execution_count": 41,
   "metadata": {},
   "outputs": [
    {
     "name": "stdout",
     "output_type": "stream",
     "text": [
      "Alpha  : 0.05\n",
      "P-Value: 1.0\n",
      "H0 Diterima: Data group 246 dan group 247 SAMA, tidak ada perbedaan yang signifikan\n"
     ]
    }
   ],
   "source": [
    "alpha = 0.05\n",
    "p_value = mannwhitneyu(group_246, group_247, nan_policy='omit').pvalue\n",
    "print(f'Alpha  : {alpha}')\n",
    "print(f'P-Value: {p_value}')\n",
    "if p_value >= alpha:\n",
    "    print('H0 Diterima: Data group 246 dan group 247 SAMA, tidak ada perbedaan yang signifikan')\n",
    "else:\n",
    "    print('H0 Ditolak: Data group 246 dan group 247 TIDAK SAMA')"
   ]
  },
  {
   "cell_type": "markdown",
   "metadata": {},
   "source": [
    "Uji signifikansi dengan ztest, alpha=0.1"
   ]
  },
  {
   "cell_type": "markdown",
   "metadata": {},
   "source": [
    "<div class=\"alert alert-success\">\n",
    "<b>Chamdani's comment v.1</b> <a class=\"tocSkip\"></a>\n",
    "\n",
    "Hebat, Kerja bagus!\n",
    "\n",
    "</div>"
   ]
  },
  {
   "cell_type": "code",
   "execution_count": 42,
   "metadata": {},
   "outputs": [],
   "source": [
    "from scipy import stats\n",
    "import numpy as np\n",
    "import math\n",
    "\n",
    "def check_hypothesis(successes1, successes2, trials1, trials2, alpha=0.1):\n",
    "    #proporsi untuk group1\n",
    "    p1 = successes1/trials1\n",
    "    \n",
    "    #proporsi untuk group2\n",
    "    p2 = successes2/trials2\n",
    "    \n",
    "    #kombinasi dataset\n",
    "    p_combined = (successes1 + successes2) / (trials1 + trials2)\n",
    "    \n",
    "    #selisih \n",
    "    difference = p1 - p2\n",
    "    \n",
    "    #standar deviasi untuk distribusi normal\n",
    "    z_value = difference / math.sqrt(p_combined * (1 - p_combined) * (1/trials1 + 1/trials2))\n",
    "    \n",
    "    #set standard distribusi normal (mean 0, standard deviasi 1)\n",
    "    distr = stats.norm(0, 1)\n",
    "    \n",
    "    p_value = (1 - distr.cdf(abs(z_value))) * 2\n",
    "    print('p_value:', p_value)\n",
    "    \n",
    "    if (p_value < alpha):\n",
    "        print('Menolak H0: ADA perbedaan yang signifikan diantara kedua grup')\n",
    "    else:\n",
    "        print('Menerima H0: TIDAK ADA perbedaan yang signifikan diantara kedua grup')"
   ]
  },
  {
   "cell_type": "code",
   "execution_count": 43,
   "metadata": {},
   "outputs": [
    {
     "name": "stdout",
     "output_type": "stream",
     "text": [
      "p_value: [0.75705972]\n",
      "Menerima H0: TIDAK ADA perbedaan yang signifikan diantara kedua grup\n"
     ]
    }
   ],
   "source": [
    "check_hypothesis(users_event_each_group.loc['MainScreenAppear', 246],\n",
    "                users_event_each_group.loc['MainScreenAppear', 247],\n",
    "                users_each_count.loc[246],\n",
    "                users_each_count.loc[247])"
   ]
  },
  {
   "cell_type": "markdown",
   "metadata": {},
   "source": [
    "    - Kesimpulan awal:\n",
    "        TIDAK ADA perbedaan yang signifikan antara group 246 dan 247"
   ]
  },
  {
   "cell_type": "markdown",
   "metadata": {},
   "source": [
    "<div class=\"alert alert-success\">\n",
    "<b>Chamdani's comment v.1</b> <a class=\"tocSkip\"></a>\n",
    "\n",
    "Hebat, Kerja bagus!\n",
    "\n",
    "</div>"
   ]
  },
  {
   "cell_type": "markdown",
   "metadata": {},
   "source": [
    "# 5.3.Menghitung persentase jumlah pengguna pada setiap event dalam setiap kelompok kontrol\n"
   ]
  },
  {
   "cell_type": "code",
   "execution_count": 44,
   "metadata": {},
   "outputs": [
    {
     "data": {
      "text/html": [
       "<div>\n",
       "<style scoped>\n",
       "    .dataframe tbody tr th:only-of-type {\n",
       "        vertical-align: middle;\n",
       "    }\n",
       "\n",
       "    .dataframe tbody tr th {\n",
       "        vertical-align: top;\n",
       "    }\n",
       "\n",
       "    .dataframe thead th {\n",
       "        text-align: right;\n",
       "    }\n",
       "</style>\n",
       "<table border=\"1\" class=\"dataframe\">\n",
       "  <thead>\n",
       "    <tr style=\"text-align: right;\">\n",
       "      <th>exp_id</th>\n",
       "      <th>246</th>\n",
       "      <th>247</th>\n",
       "      <th>248</th>\n",
       "    </tr>\n",
       "    <tr>\n",
       "      <th>event</th>\n",
       "      <th></th>\n",
       "      <th></th>\n",
       "      <th></th>\n",
       "    </tr>\n",
       "  </thead>\n",
       "  <tbody>\n",
       "    <tr>\n",
       "      <th>MainScreenAppear</th>\n",
       "      <td>2450</td>\n",
       "      <td>2476</td>\n",
       "      <td>2493</td>\n",
       "    </tr>\n",
       "    <tr>\n",
       "      <th>OffersScreenAppear</th>\n",
       "      <td>1542</td>\n",
       "      <td>1520</td>\n",
       "      <td>1531</td>\n",
       "    </tr>\n",
       "    <tr>\n",
       "      <th>CartScreenAppear</th>\n",
       "      <td>1266</td>\n",
       "      <td>1238</td>\n",
       "      <td>1230</td>\n",
       "    </tr>\n",
       "    <tr>\n",
       "      <th>PaymentScreenSuccessful</th>\n",
       "      <td>1200</td>\n",
       "      <td>1158</td>\n",
       "      <td>1181</td>\n",
       "    </tr>\n",
       "    <tr>\n",
       "      <th>Tutorial</th>\n",
       "      <td>278</td>\n",
       "      <td>283</td>\n",
       "      <td>279</td>\n",
       "    </tr>\n",
       "  </tbody>\n",
       "</table>\n",
       "</div>"
      ],
      "text/plain": [
       "exp_id                    246   247   248\n",
       "event                                    \n",
       "MainScreenAppear         2450  2476  2493\n",
       "OffersScreenAppear       1542  1520  1531\n",
       "CartScreenAppear         1266  1238  1230\n",
       "PaymentScreenSuccessful  1200  1158  1181\n",
       "Tutorial                  278   283   279"
      ]
     },
     "execution_count": 44,
     "metadata": {},
     "output_type": "execute_result"
    }
   ],
   "source": [
    "users_event_each_group = experiment_filtered.pivot_table(index='event',\n",
    "                                                         values='user_id',\n",
    "                                                         columns='exp_id',\n",
    "                                                        aggfunc='nunique').sort_values(by=246, ascending=False)\n",
    "users_event_each_group"
   ]
  },
  {
   "cell_type": "code",
   "execution_count": 45,
   "metadata": {},
   "outputs": [
    {
     "data": {
      "text/html": [
       "<div>\n",
       "<style scoped>\n",
       "    .dataframe tbody tr th:only-of-type {\n",
       "        vertical-align: middle;\n",
       "    }\n",
       "\n",
       "    .dataframe tbody tr th {\n",
       "        vertical-align: top;\n",
       "    }\n",
       "\n",
       "    .dataframe thead th {\n",
       "        text-align: right;\n",
       "    }\n",
       "</style>\n",
       "<table border=\"1\" class=\"dataframe\">\n",
       "  <thead>\n",
       "    <tr style=\"text-align: right;\">\n",
       "      <th></th>\n",
       "      <th>user_id</th>\n",
       "    </tr>\n",
       "    <tr>\n",
       "      <th>exp_id</th>\n",
       "      <th></th>\n",
       "    </tr>\n",
       "  </thead>\n",
       "  <tbody>\n",
       "    <tr>\n",
       "      <th>246</th>\n",
       "      <td>2484</td>\n",
       "    </tr>\n",
       "    <tr>\n",
       "      <th>247</th>\n",
       "      <td>2513</td>\n",
       "    </tr>\n",
       "    <tr>\n",
       "      <th>248</th>\n",
       "      <td>2537</td>\n",
       "    </tr>\n",
       "  </tbody>\n",
       "</table>\n",
       "</div>"
      ],
      "text/plain": [
       "        user_id\n",
       "exp_id         \n",
       "246        2484\n",
       "247        2513\n",
       "248        2537"
      ]
     },
     "execution_count": 45,
     "metadata": {},
     "output_type": "execute_result"
    }
   ],
   "source": [
    "users_each_count"
   ]
  },
  {
   "cell_type": "code",
   "execution_count": 46,
   "metadata": {},
   "outputs": [
    {
     "name": "stdout",
     "output_type": "stream",
     "text": [
      "\n",
      "Event: CartScreenAppear\n",
      "Experiment 246: 50.97%\n",
      "Experiment 247: 49.26%\n",
      "\n",
      "Event: MainScreenAppear\n",
      "Experiment 246: 98.63%\n",
      "Experiment 247: 98.53%\n",
      "\n",
      "Event: OffersScreenAppear\n",
      "Experiment 246: 62.08%\n",
      "Experiment 247: 60.49%\n",
      "\n",
      "Event: PaymentScreenSuccessful\n",
      "Experiment 246: 48.31%\n",
      "Experiment 247: 46.08%\n",
      "\n",
      "Event: Tutorial\n",
      "Experiment 246: 11.19%\n",
      "Experiment 247: 11.26%\n"
     ]
    }
   ],
   "source": [
    "#Menghitung persentase jumlah pengguna dalam setiap event\n",
    "users_event_each_group_filtered = pd.DataFrame({\n",
    "    'exp_id': [246, 247, 248],\n",
    "    'CartScreenAppear': [1266, 1238, 1230],\n",
    "    'MainScreenAppear': [2450, 2476, 2493],\n",
    "    'OffersScreenAppear': [1542, 1520, 1531],\n",
    "    'PaymentScreenSuccessful': [1200, 1158, 1181],\n",
    "    'Tutorial': [278, 283, 279]\n",
    "})\n",
    "\n",
    "#Dataframe users_each_count\n",
    "users_each_count = pd.DataFrame({\n",
    "    'exp_id': [246, 247],\n",
    "    'user_id': [2484, 2513]\n",
    "})\n",
    "\n",
    "#loop melalui setiap peristiwa\n",
    "for event in users_event_each_group_filtered.columns[1:]:\n",
    "    print(f\"\\nEvent: {event}\")\n",
    "    \n",
    "    #hitung persentase untuk setiap eksperimen\n",
    "    for exp_id in users_each_count['exp_id']:\n",
    "        total_users_exp = users_each_count[users_each_count['exp_id'] == exp_id]['user_id'].iloc[0]\n",
    "        users_with_event = users_event_each_group_filtered[users_event_each_group_filtered['exp_id'] == exp_id][event].iloc[0]\n",
    "        percentage = (users_with_event / total_users_exp) * 100\n",
    "        print(f\"Experiment {exp_id}: {percentage:.2f}%\")"
   ]
  },
  {
   "cell_type": "markdown",
   "metadata": {},
   "source": [
    "Dari perhitungan diatas persentase setiap event antara grup 246 dan 247 hampir sama. Artinya H0 sesuai, antara grup 246 dan 247 tidak ada perbedaan yang signifikan."
   ]
  },
  {
   "cell_type": "markdown",
   "metadata": {},
   "source": [
    "<div class=\"alert alert-success\">\n",
    "<b>Chamdani's comment v.1</b> <a class=\"tocSkip\"></a>\n",
    "\n",
    "Hebat, Kerja bagus!\n",
    "\n",
    "</div>"
   ]
  },
  {
   "cell_type": "code",
   "execution_count": 47,
   "metadata": {},
   "outputs": [
    {
     "data": {
      "text/html": [
       "<div>\n",
       "<style scoped>\n",
       "    .dataframe tbody tr th:only-of-type {\n",
       "        vertical-align: middle;\n",
       "    }\n",
       "\n",
       "    .dataframe tbody tr th {\n",
       "        vertical-align: top;\n",
       "    }\n",
       "\n",
       "    .dataframe thead th {\n",
       "        text-align: right;\n",
       "    }\n",
       "</style>\n",
       "<table border=\"1\" class=\"dataframe\">\n",
       "  <thead>\n",
       "    <tr style=\"text-align: right;\">\n",
       "      <th>exp_id</th>\n",
       "      <th>246</th>\n",
       "      <th>247</th>\n",
       "      <th>248</th>\n",
       "    </tr>\n",
       "    <tr>\n",
       "      <th>event</th>\n",
       "      <th></th>\n",
       "      <th></th>\n",
       "      <th></th>\n",
       "    </tr>\n",
       "  </thead>\n",
       "  <tbody>\n",
       "    <tr>\n",
       "      <th>MainScreenAppear</th>\n",
       "      <td>2450</td>\n",
       "      <td>2476</td>\n",
       "      <td>2493</td>\n",
       "    </tr>\n",
       "    <tr>\n",
       "      <th>OffersScreenAppear</th>\n",
       "      <td>1542</td>\n",
       "      <td>1520</td>\n",
       "      <td>1531</td>\n",
       "    </tr>\n",
       "    <tr>\n",
       "      <th>CartScreenAppear</th>\n",
       "      <td>1266</td>\n",
       "      <td>1238</td>\n",
       "      <td>1230</td>\n",
       "    </tr>\n",
       "    <tr>\n",
       "      <th>PaymentScreenSuccessful</th>\n",
       "      <td>1200</td>\n",
       "      <td>1158</td>\n",
       "      <td>1181</td>\n",
       "    </tr>\n",
       "    <tr>\n",
       "      <th>Tutorial</th>\n",
       "      <td>278</td>\n",
       "      <td>283</td>\n",
       "      <td>279</td>\n",
       "    </tr>\n",
       "  </tbody>\n",
       "</table>\n",
       "</div>"
      ],
      "text/plain": [
       "exp_id                    246   247   248\n",
       "event                                    \n",
       "MainScreenAppear         2450  2476  2493\n",
       "OffersScreenAppear       1542  1520  1531\n",
       "CartScreenAppear         1266  1238  1230\n",
       "PaymentScreenSuccessful  1200  1158  1181\n",
       "Tutorial                  278   283   279"
      ]
     },
     "execution_count": 47,
     "metadata": {},
     "output_type": "execute_result"
    }
   ],
   "source": [
    "users_event_each_group"
   ]
  },
  {
   "cell_type": "code",
   "execution_count": 48,
   "metadata": {},
   "outputs": [],
   "source": [
    "users_each_count = experiment_filtered.pivot_table(index='exp_id',\n",
    "                                                   values='user_id',\n",
    "                                                   aggfunc='nunique')"
   ]
  },
  {
   "cell_type": "code",
   "execution_count": 49,
   "metadata": {},
   "outputs": [],
   "source": [
    "#Membuat function untuk memeriksa uji hipotesis setiap event\n",
    "\n",
    "def check_event_hypothesis(users_event_each_group, users_each_count,\n",
    "                          event, exp1, exp2):\n",
    "    frac1 = users_event_each_group.loc[event, exp1] / users_each_count.loc[exp1]\n",
    "    frac2 = users_event_each_group.loc[event, exp2] / users_each_count.loc[exp2]\n",
    "    print(f'event {event} group {exp1}')\n",
    "    print(f'event {event} group {exp2}')\n",
    "    check_hypothesis(users_event_each_group.loc[event, exp1],\n",
    "                    users_event_each_group.loc[event, exp2],\n",
    "                    users_each_count.loc[exp1],\n",
    "                    users_each_count.loc[exp2], alpha=0.1\n",
    "                    )"
   ]
  },
  {
   "cell_type": "code",
   "execution_count": 50,
   "metadata": {},
   "outputs": [
    {
     "name": "stdout",
     "output_type": "stream",
     "text": [
      "event MainScreenAppear group 246\n",
      "event MainScreenAppear group 247\n",
      "p_value: [0.75705972]\n",
      "Menerima H0: TIDAK ADA perbedaan yang signifikan diantara kedua grup\n",
      "-----------------------------------------------------------------------------\n",
      "event OffersScreenAppear group 246\n",
      "event OffersScreenAppear group 247\n",
      "p_value: [0.24809546]\n",
      "Menerima H0: TIDAK ADA perbedaan yang signifikan diantara kedua grup\n",
      "-----------------------------------------------------------------------------\n",
      "event CartScreenAppear group 246\n",
      "event CartScreenAppear group 247\n",
      "p_value: [0.22883372]\n",
      "Menerima H0: TIDAK ADA perbedaan yang signifikan diantara kedua grup\n",
      "-----------------------------------------------------------------------------\n",
      "event PaymentScreenSuccessful group 246\n",
      "event PaymentScreenSuccessful group 247\n",
      "p_value: [0.11456679]\n",
      "Menerima H0: TIDAK ADA perbedaan yang signifikan diantara kedua grup\n",
      "-----------------------------------------------------------------------------\n",
      "event Tutorial group 246\n",
      "event Tutorial group 247\n",
      "p_value: [0.93769962]\n",
      "Menerima H0: TIDAK ADA perbedaan yang signifikan diantara kedua grup\n",
      "-----------------------------------------------------------------------------\n"
     ]
    }
   ],
   "source": [
    "for event in users_event_each_group.index:\n",
    "    check_event_hypothesis(users_event_each_group, users_each_count, \n",
    "                           event, 246, 247)\n",
    "    print('-----------------------------------------------------------------------------')"
   ]
  },
  {
   "cell_type": "markdown",
   "metadata": {},
   "source": [
    "    -Kesimpulan:\n",
    "        -Di semua event, TIDAK ADA perbedaan yang signifikan antara grup 246 dan 247"
   ]
  },
  {
   "cell_type": "markdown",
   "metadata": {},
   "source": [
    "<div class=\"alert alert-success\">\n",
    "<b>Chamdani's comment v.1</b> <a class=\"tocSkip\"></a>\n",
    "\n",
    "Hebat, Kerja bagus!\n",
    "\n",
    "</div>"
   ]
  },
  {
   "cell_type": "markdown",
   "metadata": {},
   "source": [
    "# 5.4.Membandingkan antara kelompok kontrol (246 dan 247) dengan kelompok 248 "
   ]
  },
  {
   "cell_type": "code",
   "execution_count": 51,
   "metadata": {},
   "outputs": [
    {
     "name": "stdout",
     "output_type": "stream",
     "text": [
      "event MainScreenAppear group 246\n",
      "event MainScreenAppear group 248\n",
      "p_value: [0.29497219]\n",
      "Menerima H0: TIDAK ADA perbedaan yang signifikan diantara kedua grup\n",
      "-----------------------------------------------------------------------------\n",
      "event OffersScreenAppear group 246\n",
      "event OffersScreenAppear group 248\n",
      "p_value: [0.20836205]\n",
      "Menerima H0: TIDAK ADA perbedaan yang signifikan diantara kedua grup\n",
      "-----------------------------------------------------------------------------\n",
      "event CartScreenAppear group 246\n",
      "event CartScreenAppear group 248\n",
      "p_value: [0.07842923]\n",
      "Menolak H0: ADA perbedaan yang signifikan diantara kedua grup\n",
      "-----------------------------------------------------------------------------\n",
      "event PaymentScreenSuccessful group 246\n",
      "event PaymentScreenSuccessful group 248\n",
      "p_value: [0.21225533]\n",
      "Menerima H0: TIDAK ADA perbedaan yang signifikan diantara kedua grup\n",
      "-----------------------------------------------------------------------------\n",
      "event Tutorial group 246\n",
      "event Tutorial group 248\n",
      "p_value: [0.8264294]\n",
      "Menerima H0: TIDAK ADA perbedaan yang signifikan diantara kedua grup\n",
      "-----------------------------------------------------------------------------\n"
     ]
    }
   ],
   "source": [
    "#Melakukan pengujian antara grup 246 dan grup 248\n",
    "for event in users_event_each_group.index:\n",
    "    check_event_hypothesis(users_event_each_group, users_each_count, \n",
    "                           event, 246, 248)\n",
    "    print('-----------------------------------------------------------------------------')"
   ]
  },
  {
   "cell_type": "markdown",
   "metadata": {},
   "source": [
    "-Kesimpulan:\n",
    "        -Di semua event, TIDAK ADA perbedaan yang signifikan antara grup 246 dan 248"
   ]
  },
  {
   "cell_type": "markdown",
   "metadata": {},
   "source": [
    "<div class=\"alert alert-success\">\n",
    "<b>Chamdani's comment v.1</b> <a class=\"tocSkip\"></a>\n",
    "\n",
    "Hebat, Kerja bagus!\n",
    "\n",
    "</div>"
   ]
  },
  {
   "cell_type": "code",
   "execution_count": 52,
   "metadata": {},
   "outputs": [
    {
     "name": "stdout",
     "output_type": "stream",
     "text": [
      "event MainScreenAppear group 247\n",
      "event MainScreenAppear group 248\n",
      "p_value: [0.45870536]\n",
      "Menerima H0: TIDAK ADA perbedaan yang signifikan diantara kedua grup\n",
      "-----------------------------------------------------------------------------\n",
      "event OffersScreenAppear group 247\n",
      "event OffersScreenAppear group 248\n",
      "p_value: [0.91978178]\n",
      "Menerima H0: TIDAK ADA perbedaan yang signifikan diantara kedua grup\n",
      "-----------------------------------------------------------------------------\n",
      "event CartScreenAppear group 247\n",
      "event CartScreenAppear group 248\n",
      "p_value: [0.57861979]\n",
      "Menerima H0: TIDAK ADA perbedaan yang signifikan diantara kedua grup\n",
      "-----------------------------------------------------------------------------\n",
      "event PaymentScreenSuccessful group 247\n",
      "event PaymentScreenSuccessful group 248\n",
      "p_value: [0.73734151]\n",
      "Menerima H0: TIDAK ADA perbedaan yang signifikan diantara kedua grup\n",
      "-----------------------------------------------------------------------------\n",
      "event Tutorial group 247\n",
      "event Tutorial group 248\n",
      "p_value: [0.76532392]\n",
      "Menerima H0: TIDAK ADA perbedaan yang signifikan diantara kedua grup\n",
      "-----------------------------------------------------------------------------\n"
     ]
    }
   ],
   "source": [
    "#Melakukan pengujian antara grup 247 dan grup 248\n",
    "for event in users_event_each_group.index:\n",
    "    check_event_hypothesis(users_event_each_group, users_each_count, \n",
    "                           event, 247, 248)\n",
    "    print('-----------------------------------------------------------------------------')"
   ]
  },
  {
   "cell_type": "markdown",
   "metadata": {},
   "source": [
    "-Kesimpulan:\n",
    "        -Di semua event, TIDAK ADA perbedaan yang signifikan antara grup 247 dan 248"
   ]
  },
  {
   "cell_type": "markdown",
   "metadata": {},
   "source": [
    "<div class=\"alert alert-success\">\n",
    "<b>Chamdani's comment v.1</b> <a class=\"tocSkip\"></a>\n",
    "\n",
    "Hebat, Kerja bagus!\n",
    "\n",
    "</div>"
   ]
  },
  {
   "cell_type": "markdown",
   "metadata": {},
   "source": [
    "Selanjutnya menggabungkan pengguna grup 246 dengan 247"
   ]
  },
  {
   "cell_type": "code",
   "execution_count": 53,
   "metadata": {},
   "outputs": [
    {
     "data": {
      "text/html": [
       "<div>\n",
       "<style scoped>\n",
       "    .dataframe tbody tr th:only-of-type {\n",
       "        vertical-align: middle;\n",
       "    }\n",
       "\n",
       "    .dataframe tbody tr th {\n",
       "        vertical-align: top;\n",
       "    }\n",
       "\n",
       "    .dataframe thead th {\n",
       "        text-align: right;\n",
       "    }\n",
       "</style>\n",
       "<table border=\"1\" class=\"dataframe\">\n",
       "  <thead>\n",
       "    <tr style=\"text-align: right;\">\n",
       "      <th>exp_id</th>\n",
       "      <th>247</th>\n",
       "      <th>248</th>\n",
       "    </tr>\n",
       "    <tr>\n",
       "      <th>event</th>\n",
       "      <th></th>\n",
       "      <th></th>\n",
       "    </tr>\n",
       "  </thead>\n",
       "  <tbody>\n",
       "    <tr>\n",
       "      <th>MainScreenAppear</th>\n",
       "      <td>4926</td>\n",
       "      <td>2493</td>\n",
       "    </tr>\n",
       "    <tr>\n",
       "      <th>OffersScreenAppear</th>\n",
       "      <td>3062</td>\n",
       "      <td>1531</td>\n",
       "    </tr>\n",
       "    <tr>\n",
       "      <th>CartScreenAppear</th>\n",
       "      <td>2504</td>\n",
       "      <td>1230</td>\n",
       "    </tr>\n",
       "    <tr>\n",
       "      <th>PaymentScreenSuccessful</th>\n",
       "      <td>2358</td>\n",
       "      <td>1181</td>\n",
       "    </tr>\n",
       "    <tr>\n",
       "      <th>Tutorial</th>\n",
       "      <td>561</td>\n",
       "      <td>279</td>\n",
       "    </tr>\n",
       "  </tbody>\n",
       "</table>\n",
       "</div>"
      ],
      "text/plain": [
       "exp_id                    247   248\n",
       "event                              \n",
       "MainScreenAppear         4926  2493\n",
       "OffersScreenAppear       3062  1531\n",
       "CartScreenAppear         2504  1230\n",
       "PaymentScreenSuccessful  2358  1181\n",
       "Tutorial                  561   279"
      ]
     },
     "execution_count": 53,
     "metadata": {},
     "output_type": "execute_result"
    }
   ],
   "source": [
    "users_event_each_group_control = users_event_each_group.copy()\n",
    "users_event_each_group_control.loc[:, 247] += users_event_each_group_control.loc[:, 246]\n",
    "users_event_each_group_control.drop(columns=246, inplace=True)\n",
    "users_event_each_group_control"
   ]
  },
  {
   "cell_type": "code",
   "execution_count": 54,
   "metadata": {},
   "outputs": [
    {
     "data": {
      "text/html": [
       "<div>\n",
       "<style scoped>\n",
       "    .dataframe tbody tr th:only-of-type {\n",
       "        vertical-align: middle;\n",
       "    }\n",
       "\n",
       "    .dataframe tbody tr th {\n",
       "        vertical-align: top;\n",
       "    }\n",
       "\n",
       "    .dataframe thead th {\n",
       "        text-align: right;\n",
       "    }\n",
       "</style>\n",
       "<table border=\"1\" class=\"dataframe\">\n",
       "  <thead>\n",
       "    <tr style=\"text-align: right;\">\n",
       "      <th></th>\n",
       "      <th>user_id</th>\n",
       "    </tr>\n",
       "    <tr>\n",
       "      <th>exp_id</th>\n",
       "      <th></th>\n",
       "    </tr>\n",
       "  </thead>\n",
       "  <tbody>\n",
       "    <tr>\n",
       "      <th>247</th>\n",
       "      <td>4997</td>\n",
       "    </tr>\n",
       "    <tr>\n",
       "      <th>248</th>\n",
       "      <td>2537</td>\n",
       "    </tr>\n",
       "  </tbody>\n",
       "</table>\n",
       "</div>"
      ],
      "text/plain": [
       "        user_id\n",
       "exp_id         \n",
       "247        4997\n",
       "248        2537"
      ]
     },
     "execution_count": 54,
     "metadata": {},
     "output_type": "execute_result"
    }
   ],
   "source": [
    "users_each_count_control = users_each_count.copy()\n",
    "users_each_count_control.loc[247] += users_each_count_control.loc[246]\n",
    "users_each_count_control.drop(246, inplace=True)\n",
    "users_each_count_control"
   ]
  },
  {
   "cell_type": "code",
   "execution_count": 55,
   "metadata": {},
   "outputs": [
    {
     "name": "stdout",
     "output_type": "stream",
     "text": [
      "event MainScreenAppear group 247\n",
      "event MainScreenAppear group 248\n",
      "p_value: [0.29424527]\n",
      "Menerima H0: TIDAK ADA perbedaan yang signifikan diantara kedua grup\n",
      "-----------------------------------------------------------------------------\n",
      "event OffersScreenAppear group 247\n",
      "event OffersScreenAppear group 248\n",
      "p_value: [0.4342555]\n",
      "Menerima H0: TIDAK ADA perbedaan yang signifikan diantara kedua grup\n",
      "-----------------------------------------------------------------------------\n",
      "event CartScreenAppear group 247\n",
      "event CartScreenAppear group 248\n",
      "p_value: [0.18175875]\n",
      "Menerima H0: TIDAK ADA perbedaan yang signifikan diantara kedua grup\n",
      "-----------------------------------------------------------------------------\n",
      "event PaymentScreenSuccessful group 247\n",
      "event PaymentScreenSuccessful group 248\n",
      "p_value: [0.60042943]\n",
      "Menerima H0: TIDAK ADA perbedaan yang signifikan diantara kedua grup\n",
      "-----------------------------------------------------------------------------\n",
      "event Tutorial group 247\n",
      "event Tutorial group 248\n",
      "p_value: [0.76486247]\n",
      "Menerima H0: TIDAK ADA perbedaan yang signifikan diantara kedua grup\n",
      "-----------------------------------------------------------------------------\n"
     ]
    }
   ],
   "source": [
    "#Melakukan pengujian antara grup gabungan (control) dan grup 248\n",
    "for event in users_event_each_group.index:\n",
    "    check_event_hypothesis(users_event_each_group_control, users_each_count_control, \n",
    "                           event, 247, 248)\n",
    "    print('-----------------------------------------------------------------------------')"
   ]
  },
  {
   "cell_type": "markdown",
   "metadata": {},
   "source": [
    "-Kesimpulan:\n",
    "        -Di semua event, TIDAK ADA perbedaan yang signifikan antara grup control (246 + 247) dan 248"
   ]
  },
  {
   "cell_type": "markdown",
   "metadata": {},
   "source": [
    "<div class=\"alert alert-success\">\n",
    "<b>Chamdani's comment v.1</b> <a class=\"tocSkip\"></a>\n",
    "\n",
    "Hebat, Kerja bagus!\n",
    "\n",
    "</div>"
   ]
  },
  {
   "cell_type": "markdown",
   "metadata": {},
   "source": [
    "# 5.5.Melakukan uji hipotesis dengan nilai alpha yang berbeda dengan sebelumnya\n"
   ]
  },
  {
   "cell_type": "markdown",
   "metadata": {},
   "source": [
    "Pengujian hipotesis yang dilakukan sebelumnya menggunakan nilai alpha=0.1. Sekarang kita akan melakukan pengujian dengan nilai alpha 0.05 dan 0.01"
   ]
  },
  {
   "cell_type": "code",
   "execution_count": 56,
   "metadata": {},
   "outputs": [
    {
     "name": "stdout",
     "output_type": "stream",
     "text": [
      "event MainScreenAppear group 246\n",
      "event MainScreenAppear group 247\n",
      "p_value: [0.75705972]\n",
      "Menerima H0: TIDAK ADA perbedaan yang signifikan diantara kedua grup\n",
      "-----------------------------------------------------------------------------\n",
      "event OffersScreenAppear group 246\n",
      "event OffersScreenAppear group 247\n",
      "p_value: [0.24809546]\n",
      "Menerima H0: TIDAK ADA perbedaan yang signifikan diantara kedua grup\n",
      "-----------------------------------------------------------------------------\n",
      "event CartScreenAppear group 246\n",
      "event CartScreenAppear group 247\n",
      "p_value: [0.22883372]\n",
      "Menerima H0: TIDAK ADA perbedaan yang signifikan diantara kedua grup\n",
      "-----------------------------------------------------------------------------\n",
      "event PaymentScreenSuccessful group 246\n",
      "event PaymentScreenSuccessful group 247\n",
      "p_value: [0.11456679]\n",
      "Menerima H0: TIDAK ADA perbedaan yang signifikan diantara kedua grup\n",
      "-----------------------------------------------------------------------------\n",
      "event Tutorial group 246\n",
      "event Tutorial group 247\n",
      "p_value: [0.93769962]\n",
      "Menerima H0: TIDAK ADA perbedaan yang signifikan diantara kedua grup\n",
      "-----------------------------------------------------------------------------\n"
     ]
    }
   ],
   "source": [
    "#Pengujian dengan nilai alpha=0.05\n",
    "#Pengujian antara grup 246 dengan 247\n",
    "def check_event_hypothesis(users_event_each_group, users_each_count,\n",
    "                          event, exp1, exp2):\n",
    "    frac1 = users_event_each_group.loc[event, exp1] / users_each_count.loc[exp1]\n",
    "    frac2 = users_event_each_group.loc[event, exp2] / users_each_count.loc[exp2]\n",
    "    print(f'event {event} group {exp1}')\n",
    "    print(f'event {event} group {exp2}')\n",
    "    check_hypothesis(users_event_each_group.loc[event, exp1],\n",
    "                    users_event_each_group.loc[event, exp2],\n",
    "                    users_each_count.loc[exp1],\n",
    "                    users_each_count.loc[exp2], alpha=0.05\n",
    "                    )\n",
    "    \n",
    "for event in users_event_each_group.index:\n",
    "    check_event_hypothesis(users_event_each_group, users_each_count, \n",
    "                           event, 246, 247)\n",
    "    print('-----------------------------------------------------------------------------')"
   ]
  },
  {
   "cell_type": "code",
   "execution_count": 57,
   "metadata": {},
   "outputs": [
    {
     "name": "stdout",
     "output_type": "stream",
     "text": [
      "event MainScreenAppear group 246\n",
      "event MainScreenAppear group 248\n",
      "p_value: [0.29497219]\n",
      "Menerima H0: TIDAK ADA perbedaan yang signifikan diantara kedua grup\n",
      "-----------------------------------------------------------------------------\n",
      "event OffersScreenAppear group 246\n",
      "event OffersScreenAppear group 248\n",
      "p_value: [0.20836205]\n",
      "Menerima H0: TIDAK ADA perbedaan yang signifikan diantara kedua grup\n",
      "-----------------------------------------------------------------------------\n",
      "event CartScreenAppear group 246\n",
      "event CartScreenAppear group 248\n",
      "p_value: [0.07842923]\n",
      "Menerima H0: TIDAK ADA perbedaan yang signifikan diantara kedua grup\n",
      "-----------------------------------------------------------------------------\n",
      "event PaymentScreenSuccessful group 246\n",
      "event PaymentScreenSuccessful group 248\n",
      "p_value: [0.21225533]\n",
      "Menerima H0: TIDAK ADA perbedaan yang signifikan diantara kedua grup\n",
      "-----------------------------------------------------------------------------\n",
      "event Tutorial group 246\n",
      "event Tutorial group 248\n",
      "p_value: [0.8264294]\n",
      "Menerima H0: TIDAK ADA perbedaan yang signifikan diantara kedua grup\n",
      "-----------------------------------------------------------------------------\n"
     ]
    }
   ],
   "source": [
    "#Pengujian antara grup 246 dengan 248\n",
    "for event in users_event_each_group.index:\n",
    "    check_event_hypothesis(users_event_each_group, users_each_count, \n",
    "                           event, 246, 248)\n",
    "    print('-----------------------------------------------------------------------------')"
   ]
  },
  {
   "cell_type": "code",
   "execution_count": 58,
   "metadata": {},
   "outputs": [
    {
     "name": "stdout",
     "output_type": "stream",
     "text": [
      "event MainScreenAppear group 247\n",
      "event MainScreenAppear group 248\n",
      "p_value: [0.45870536]\n",
      "Menerima H0: TIDAK ADA perbedaan yang signifikan diantara kedua grup\n",
      "-----------------------------------------------------------------------------\n",
      "event OffersScreenAppear group 247\n",
      "event OffersScreenAppear group 248\n",
      "p_value: [0.91978178]\n",
      "Menerima H0: TIDAK ADA perbedaan yang signifikan diantara kedua grup\n",
      "-----------------------------------------------------------------------------\n",
      "event CartScreenAppear group 247\n",
      "event CartScreenAppear group 248\n",
      "p_value: [0.57861979]\n",
      "Menerima H0: TIDAK ADA perbedaan yang signifikan diantara kedua grup\n",
      "-----------------------------------------------------------------------------\n",
      "event PaymentScreenSuccessful group 247\n",
      "event PaymentScreenSuccessful group 248\n",
      "p_value: [0.73734151]\n",
      "Menerima H0: TIDAK ADA perbedaan yang signifikan diantara kedua grup\n",
      "-----------------------------------------------------------------------------\n",
      "event Tutorial group 247\n",
      "event Tutorial group 248\n",
      "p_value: [0.76532392]\n",
      "Menerima H0: TIDAK ADA perbedaan yang signifikan diantara kedua grup\n",
      "-----------------------------------------------------------------------------\n"
     ]
    }
   ],
   "source": [
    "#Pengujian antara grup 247 dengan 248 \n",
    "for event in users_event_each_group.index:\n",
    "    check_event_hypothesis(users_event_each_group, users_each_count, \n",
    "                           event, 247, 248)\n",
    "    print('-----------------------------------------------------------------------------')"
   ]
  },
  {
   "cell_type": "code",
   "execution_count": 59,
   "metadata": {},
   "outputs": [
    {
     "name": "stdout",
     "output_type": "stream",
     "text": [
      "event MainScreenAppear group 247\n",
      "event MainScreenAppear group 248\n",
      "p_value: [0.29424527]\n",
      "Menerima H0: TIDAK ADA perbedaan yang signifikan diantara kedua grup\n",
      "-----------------------------------------------------------------------------\n",
      "event OffersScreenAppear group 247\n",
      "event OffersScreenAppear group 248\n",
      "p_value: [0.4342555]\n",
      "Menerima H0: TIDAK ADA perbedaan yang signifikan diantara kedua grup\n",
      "-----------------------------------------------------------------------------\n",
      "event CartScreenAppear group 247\n",
      "event CartScreenAppear group 248\n",
      "p_value: [0.18175875]\n",
      "Menerima H0: TIDAK ADA perbedaan yang signifikan diantara kedua grup\n",
      "-----------------------------------------------------------------------------\n",
      "event PaymentScreenSuccessful group 247\n",
      "event PaymentScreenSuccessful group 248\n",
      "p_value: [0.60042943]\n",
      "Menerima H0: TIDAK ADA perbedaan yang signifikan diantara kedua grup\n",
      "-----------------------------------------------------------------------------\n",
      "event Tutorial group 247\n",
      "event Tutorial group 248\n",
      "p_value: [0.76486247]\n",
      "Menerima H0: TIDAK ADA perbedaan yang signifikan diantara kedua grup\n",
      "-----------------------------------------------------------------------------\n"
     ]
    }
   ],
   "source": [
    "#Pengujian antara grup gabungan control dengan 248\n",
    "for event in users_event_each_group.index:\n",
    "    check_event_hypothesis(users_event_each_group_control, users_each_count_control, \n",
    "                           event, 247, 248)\n",
    "    print('-----------------------------------------------------------------------------')"
   ]
  },
  {
   "cell_type": "markdown",
   "metadata": {},
   "source": [
    "- Kesimpulan:\n",
    "    - Dengan nilai alpha=0.05, di setiap event TIDAK ADA perbedaan yang signifikan di semua grup."
   ]
  },
  {
   "cell_type": "markdown",
   "metadata": {},
   "source": [
    "<div class=\"alert alert-success\">\n",
    "<b>Chamdani's comment v.1</b> <a class=\"tocSkip\"></a>\n",
    "\n",
    "Hebat, Kerja bagus!\n",
    "\n",
    "</div>"
   ]
  },
  {
   "cell_type": "code",
   "execution_count": 60,
   "metadata": {},
   "outputs": [],
   "source": [
    "#Pengujian dengan nilai alpha=0.01\n",
    "\n",
    "def check_event_hypothesis(users_event_each_group, users_each_count,\n",
    "                          event, exp1, exp2):\n",
    "    frac1 = users_event_each_group.loc[event, exp1] / users_each_count.loc[exp1]\n",
    "    frac2 = users_event_each_group.loc[event, exp2] / users_each_count.loc[exp2]\n",
    "    print(f'event {event} group {exp1}')\n",
    "    print(f'event {event} group {exp2}')\n",
    "    check_hypothesis(users_event_each_group.loc[event, exp1],\n",
    "                    users_event_each_group.loc[event, exp2],\n",
    "                    users_each_count.loc[exp1],\n",
    "                    users_each_count.loc[exp2], alpha=0.01\n",
    "                    )"
   ]
  },
  {
   "cell_type": "code",
   "execution_count": 61,
   "metadata": {},
   "outputs": [
    {
     "name": "stdout",
     "output_type": "stream",
     "text": [
      "event MainScreenAppear group 246\n",
      "event MainScreenAppear group 247\n",
      "p_value: [0.75705972]\n",
      "Menerima H0: TIDAK ADA perbedaan yang signifikan diantara kedua grup\n",
      "-----------------------------------------------------------------------------\n",
      "event OffersScreenAppear group 246\n",
      "event OffersScreenAppear group 247\n",
      "p_value: [0.24809546]\n",
      "Menerima H0: TIDAK ADA perbedaan yang signifikan diantara kedua grup\n",
      "-----------------------------------------------------------------------------\n",
      "event CartScreenAppear group 246\n",
      "event CartScreenAppear group 247\n",
      "p_value: [0.22883372]\n",
      "Menerima H0: TIDAK ADA perbedaan yang signifikan diantara kedua grup\n",
      "-----------------------------------------------------------------------------\n",
      "event PaymentScreenSuccessful group 246\n",
      "event PaymentScreenSuccessful group 247\n",
      "p_value: [0.11456679]\n",
      "Menerima H0: TIDAK ADA perbedaan yang signifikan diantara kedua grup\n",
      "-----------------------------------------------------------------------------\n",
      "event Tutorial group 246\n",
      "event Tutorial group 247\n",
      "p_value: [0.93769962]\n",
      "Menerima H0: TIDAK ADA perbedaan yang signifikan diantara kedua grup\n",
      "-----------------------------------------------------------------------------\n"
     ]
    }
   ],
   "source": [
    "#Pengujian antara grup 246 dengan 247\n",
    "for event in users_event_each_group.index:\n",
    "    check_event_hypothesis(users_event_each_group, users_each_count, \n",
    "                           event, 246, 247)\n",
    "    print('-----------------------------------------------------------------------------')"
   ]
  },
  {
   "cell_type": "code",
   "execution_count": 62,
   "metadata": {},
   "outputs": [
    {
     "name": "stdout",
     "output_type": "stream",
     "text": [
      "event MainScreenAppear group 246\n",
      "event MainScreenAppear group 248\n",
      "p_value: [0.29497219]\n",
      "Menerima H0: TIDAK ADA perbedaan yang signifikan diantara kedua grup\n",
      "-----------------------------------------------------------------------------\n",
      "event OffersScreenAppear group 246\n",
      "event OffersScreenAppear group 248\n",
      "p_value: [0.20836205]\n",
      "Menerima H0: TIDAK ADA perbedaan yang signifikan diantara kedua grup\n",
      "-----------------------------------------------------------------------------\n",
      "event CartScreenAppear group 246\n",
      "event CartScreenAppear group 248\n",
      "p_value: [0.07842923]\n",
      "Menerima H0: TIDAK ADA perbedaan yang signifikan diantara kedua grup\n",
      "-----------------------------------------------------------------------------\n",
      "event PaymentScreenSuccessful group 246\n",
      "event PaymentScreenSuccessful group 248\n",
      "p_value: [0.21225533]\n",
      "Menerima H0: TIDAK ADA perbedaan yang signifikan diantara kedua grup\n",
      "-----------------------------------------------------------------------------\n",
      "event Tutorial group 246\n",
      "event Tutorial group 248\n",
      "p_value: [0.8264294]\n",
      "Menerima H0: TIDAK ADA perbedaan yang signifikan diantara kedua grup\n",
      "-----------------------------------------------------------------------------\n"
     ]
    }
   ],
   "source": [
    "#Pengujian antara grup 246 dengan 248\n",
    "for event in users_event_each_group.index:\n",
    "    check_event_hypothesis(users_event_each_group, users_each_count, \n",
    "                           event, 246, 248)\n",
    "    print('-----------------------------------------------------------------------------')"
   ]
  },
  {
   "cell_type": "code",
   "execution_count": 63,
   "metadata": {},
   "outputs": [
    {
     "name": "stdout",
     "output_type": "stream",
     "text": [
      "event MainScreenAppear group 247\n",
      "event MainScreenAppear group 248\n",
      "p_value: [0.45870536]\n",
      "Menerima H0: TIDAK ADA perbedaan yang signifikan diantara kedua grup\n",
      "-----------------------------------------------------------------------------\n",
      "event OffersScreenAppear group 247\n",
      "event OffersScreenAppear group 248\n",
      "p_value: [0.91978178]\n",
      "Menerima H0: TIDAK ADA perbedaan yang signifikan diantara kedua grup\n",
      "-----------------------------------------------------------------------------\n",
      "event CartScreenAppear group 247\n",
      "event CartScreenAppear group 248\n",
      "p_value: [0.57861979]\n",
      "Menerima H0: TIDAK ADA perbedaan yang signifikan diantara kedua grup\n",
      "-----------------------------------------------------------------------------\n",
      "event PaymentScreenSuccessful group 247\n",
      "event PaymentScreenSuccessful group 248\n",
      "p_value: [0.73734151]\n",
      "Menerima H0: TIDAK ADA perbedaan yang signifikan diantara kedua grup\n",
      "-----------------------------------------------------------------------------\n",
      "event Tutorial group 247\n",
      "event Tutorial group 248\n",
      "p_value: [0.76532392]\n",
      "Menerima H0: TIDAK ADA perbedaan yang signifikan diantara kedua grup\n",
      "-----------------------------------------------------------------------------\n"
     ]
    }
   ],
   "source": [
    "#Pengujian antara grup 247 dengan 248 \n",
    "for event in users_event_each_group.index:\n",
    "    check_event_hypothesis(users_event_each_group, users_each_count, \n",
    "                           event, 247, 248)\n",
    "    print('-----------------------------------------------------------------------------')"
   ]
  },
  {
   "cell_type": "code",
   "execution_count": 64,
   "metadata": {},
   "outputs": [
    {
     "name": "stdout",
     "output_type": "stream",
     "text": [
      "event MainScreenAppear group 247\n",
      "event MainScreenAppear group 248\n",
      "p_value: [0.29424527]\n",
      "Menerima H0: TIDAK ADA perbedaan yang signifikan diantara kedua grup\n",
      "-----------------------------------------------------------------------------\n",
      "event OffersScreenAppear group 247\n",
      "event OffersScreenAppear group 248\n",
      "p_value: [0.4342555]\n",
      "Menerima H0: TIDAK ADA perbedaan yang signifikan diantara kedua grup\n",
      "-----------------------------------------------------------------------------\n",
      "event CartScreenAppear group 247\n",
      "event CartScreenAppear group 248\n",
      "p_value: [0.18175875]\n",
      "Menerima H0: TIDAK ADA perbedaan yang signifikan diantara kedua grup\n",
      "-----------------------------------------------------------------------------\n",
      "event PaymentScreenSuccessful group 247\n",
      "event PaymentScreenSuccessful group 248\n",
      "p_value: [0.60042943]\n",
      "Menerima H0: TIDAK ADA perbedaan yang signifikan diantara kedua grup\n",
      "-----------------------------------------------------------------------------\n",
      "event Tutorial group 247\n",
      "event Tutorial group 248\n",
      "p_value: [0.76486247]\n",
      "Menerima H0: TIDAK ADA perbedaan yang signifikan diantara kedua grup\n",
      "-----------------------------------------------------------------------------\n"
     ]
    }
   ],
   "source": [
    "#Pengujian antara grup gabungan control dengan 248\n",
    "for event in users_event_each_group.index:\n",
    "    check_event_hypothesis(users_event_each_group_control, users_each_count_control, \n",
    "                           event, 247, 248)\n",
    "    print('-----------------------------------------------------------------------------')"
   ]
  },
  {
   "cell_type": "markdown",
   "metadata": {},
   "source": [
    "- Kesimpulan:\n",
    "    - Dengan nilai alpha=0.01, di setiap event TIDAK ADA perbedaan yang signifikan di semua grup."
   ]
  },
  {
   "cell_type": "markdown",
   "metadata": {},
   "source": [
    "<div class=\"alert alert-success\">\n",
    "<b>Chamdani's comment v.1</b> <a class=\"tocSkip\"></a>\n",
    "\n",
    "Hebat, Kerja bagus!\n",
    "\n",
    "</div>"
   ]
  },
  {
   "cell_type": "markdown",
   "metadata": {},
   "source": [
    "# 6. KESIMPULAN UMUM"
   ]
  },
  {
   "cell_type": "markdown",
   "metadata": {},
   "source": [
    "1. Data experiment berisi tentang perbandingan setiap pengguna di masing-masing kelompok dalam setiap event\n",
    "2. Awalnya tabel data experiment terdiri dari 4 kolom dan 244126 baris. Setelah dihilangkan data duplikat sebanyak 413 baris dan ditambah kolom, maka tabel data experiment menjadi terdiri dari 6 kolom dan 143713 baris\n",
    "3. Jumlah peristiwa yang tercatat dalam log ada: 243713 events\n",
    "4. Jumlah users yang ada dalam log: 7551 users\n",
    "5. Rata-rata jumlah peristiwa per pengguna ada: 32 events per users\n",
    "6. Eksperimen dimulai pada tanggal 25 Juli 2019 jam 04.43 dan berakhir pada tanggal 7 Agustus 2019 jam 21.15\n",
    "7. Berdasarkan grafik di atas, ada ketimpangan data. Data dari tanggal 2019-07-25 sampai 2019-07-31 jumlahnya sangat sedikit (dibawah 3000). Sedangkan data dari tanggal 2019-08-01 sampai 2019-08-07 jumlahnya sangat banyak (diatas 30000)\n",
    "8. Dari data awal berjumlah 243713 entries, setelah sebagian data dibuang sekarang menjadi 240887 entries. Ada selisih data sebesar 2826 entries\n",
    "9. Jumlah peristiwa yang tercatat dalam log baru ada: 240887 events\n",
    "10. Jumlah users yang ada dalam log baru: 7534 users\n",
    "11. Rata-rata jumlah peristiwa per pengguna dalam log baru ada: 32 events per users\n",
    "12. Data yang dibuang hanya sedikit yakni 1.16 %, artinya masih bisa digunakan\n",
    "13. Ketiga kelompok pengguna masih ada di dalam data yang telah difilter dan jumlah anggota tiap kelompok tidak \n",
    "    berbeda jauh\n",
    "14. MainScreenAppear memiliki frekuensi paling banyak yakni 117328 kali. Hal ini wajar karena setiap user yang \n",
    "    masuk ke aplikasi akan langsung masuk ke MainScreen (layar utama)\n",
    "15. Untuk tutorial hanya sedikit yang mengaksesnya, hanya 1005 kali\n",
    "16. Proporsi setiap event:\n",
    "\n",
    "    - Main Screen Appear = 98.4 %\n",
    "    - Offers Screen Appear = 60.9 %\n",
    "    - Cart Screen Appear = 49.5 %\n",
    "    - Payment Screen Successful = 46.9 %\n",
    "    - Tutorial = 11.14 %\n",
    "17. Berdasarkan data di atas, urutan yang terjadi dalam experiment ini adalah sebagai berikut:\n",
    "\n",
    "        - 1. Main Screen Appear\n",
    "        - 2. Offers Screen Appear\n",
    "        - 3. Cart Screen Appear\n",
    "        - 4. Payment Screen Successful\n",
    "        \n",
    "18. Untuk tahap Tutorial, dianggap sebagai outliers dan tidak akan dimasukkan ke dalam hitungan funnel\n",
    "19. Dari data di atas dapat kita ketahui bahwa:\n",
    "\n",
    "    - Dari 100 % user di tahap MainScreenAppear, hanya 61.9 % yang lanjut ke tahap OffersScreenAppear.\n",
    "    - Lalu dari OffersScreenAppear, yang lanjut ke CartScreenAppear hanya 81.29 %.\n",
    "    - Dan terakhir, dari CartScreenAppear yang lanjut ke PaymentScreenSuccessful ada 94.77 % users\n",
    "    \n",
    "20. Kita kehilangan banyak pengguna pada tahap dari MainScreenAppear ke OffersScreenAppear. Yang lanjut hanya 61.9 %, artinya kita kehilangan 38.1 % pengguna\n",
    "21. Pengguna yang berhasil menyelesaikan seluruh tahapan dari awal sampai pembayaran ada 47.7 %\n",
    "22. Jumlah pengguna di masing-masing kelompok tidak berbeda jauh,\n",
    "        - di grup 246 ada 2484 pengguna, \n",
    "        - di grup 247 ada 2513 pengguna,\n",
    "        - di grup 248 ada 2537 pengguna\n",
    "23. Dalam uji signifikasi TIDAK ADA perbedaan yang signifikan antara group 246 dan 247\n",
    "24. Dari perhitungan diatas persentase setiap event antara grup 246 dan 247 hampir sama. Artinya H0 sesuai, antara grup 246 dan 247 tidak ada perbedaan yang signifikan\n",
    "25. Hasil uji hipotesis dengan menggunakan nilai alpha=0.1:\n",
    "    - Di semua event, TIDAK ADA perbedaan yang signifikan antara grup 246 dan 248\n",
    "    - Di semua event, TIDAK ADA perbedaan yang signifikan antara grup 247 dan 248\n",
    "    - Di semua event, TIDAK ADA perbedaan yang signifikan antara grup control (246 + 247) dan 248\n",
    "26. Hasil uji hipotesis dengan menggunakan nilai alpha=0.05:\n",
    "    - Di semua event, TIDAK ADA perbedaan yang signifikan antara grup 246 dan 248\n",
    "    - Di semua event, TIDAK ADA perbedaan yang signifikan antara grup 247 dan 248\n",
    "    - Di semua event, TIDAK ADA perbedaan yang signifikan antara grup control (246 + 247) dan 248\n",
    "27. Hasil uji hipotesis dengan menggunakan nilai alpha=0.01:\n",
    "    - Di semua event, TIDAK ADA perbedaan yang signifikan antara grup 246 dan 248\n",
    "    - Di semua event, TIDAK ADA perbedaan yang signifikan antara grup 247 dan 248\n",
    "    - Di semua event, TIDAK ADA perbedaan yang signifikan antara grup control (246 + 247) dan 248"
   ]
  },
  {
   "cell_type": "markdown",
   "metadata": {},
   "source": [
    "<div class=\"alert alert-success\">\n",
    "<b>Chamdani's comment v.1</b> <a class=\"tocSkip\"></a>\n",
    "\n",
    "Hebat, Kerja bagus!\n",
    "\n",
    "</div>"
   ]
  },
  {
   "cell_type": "markdown",
   "metadata": {},
   "source": [
    "# 7. Rekomendasi dan Saran\n",
    "\n",
    "    - Pengguna yang berhasil menyelesaikan seluruh tahapan dari awal hingga pembayaran hanya 47.7 %, artinya kita kehilangan potensi pendapatan lebih dari 50 % pengguna.\n",
    "    - Harus ada analisis lanjutan terkait mengapa hanya ada 47.7 % pengguna yang menyelesaikan seluruh tahapan.\n",
    "    - Berdasarkan uji hipotesis, tidak ada perbedaan yang signifikan antara font yang lama dengan font yang baru. Artinya \n",
    "    harus dicari faktor lain yang membuat pengunjung aplikasi tidak menyelesaikan sampai tahap pembayaran."
   ]
  },
  {
   "cell_type": "markdown",
   "metadata": {},
   "source": [
    "<div class=\"alert alert-success\">\n",
    "<b>Chamdani's comment v.1</b> <a class=\"tocSkip\"></a>\n",
    "\n",
    "Hebat, Kerja bagus!\n",
    "\n",
    "</div>"
   ]
  },
  {
   "cell_type": "code",
   "execution_count": null,
   "metadata": {},
   "outputs": [],
   "source": []
  }
 ],
 "metadata": {
  "kernelspec": {
   "display_name": "Python 3 (ipykernel)",
   "language": "python",
   "name": "python3"
  },
  "language_info": {
   "codemirror_mode": {
    "name": "ipython",
    "version": 3
   },
   "file_extension": ".py",
   "mimetype": "text/x-python",
   "name": "python",
   "nbconvert_exporter": "python",
   "pygments_lexer": "ipython3",
   "version": "3.9.19"
  },
  "toc": {
   "base_numbering": 1,
   "nav_menu": {},
   "number_sections": true,
   "sideBar": true,
   "skip_h1_title": true,
   "title_cell": "Table of Contents",
   "title_sidebar": "Contents",
   "toc_cell": false,
   "toc_position": {},
   "toc_section_display": true,
   "toc_window_display": false
  }
 },
 "nbformat": 4,
 "nbformat_minor": 2
}
