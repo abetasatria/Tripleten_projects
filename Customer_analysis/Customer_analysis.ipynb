{
 "cells": [
  {
   "cell_type": "markdown",
   "metadata": {},
   "source": [
    "<div style=\"border:solid black 2px; padding: 20px\"><h1 style=\"color:black; margin-bottom:20px\">Reviewer's comment v1</h1>\n",
    "Halo Ahmad !\n",
    "\n",
    "Perkenalkan saya disini sebagai Code Reviewers, disini dengan senang hati saya akan mereview tugas Ahmad ya.\n",
    "\n",
    "Saya akan memberikan beberapa komen seperti dibawah ini, tolong jangan dipindah, dirubah, maupun dihapus ya.\n",
    "\n",
    "Komen yang saya berikan akan muncul dalam warna hijau, kuning, atau pun merah seperti ini:\n",
    "\n",
    "<div class=\"alert alert-success\">\n",
    "<b>Code Reviewers's comment v.1</b> <a class=\"tocSkip\"></a>\n",
    "\n",
    "Bagus, code yang dijalankan sudah sesuai dengan instruksi dari project.\n",
    "\n",
    "</div>\n",
    "\n",
    "<div class=\"alert alert-warning\">\n",
    "<b>Code Reviewers's comment v.1</b> <a class=\"tocSkip\"></a>\n",
    "\n",
    "Terdapat beberapa catatan.\n",
    "\n",
    "</div>\n",
    "\n",
    "<div class=\"alert alert-danger\">\n",
    "<b>Code Reviewers's comment v.1</b> <a class=\"tocSkip\"></a>\n",
    "\n",
    "Perlu beberapa perbaikan\n",
    "\n",
    "</div>\n",
    "\n",
    "Dan tentu saja Ahmad dapat menjawab saya dengan menggunakan ini\n",
    "\n",
    "<div class=\"alert alert-block alert-info\">\n",
    "<b>Student answer.</b> <a class=\"tocSkip\"></a>\n",
    "    \n",
    "Baik kak\n",
    "</div>"
   ]
  },
  {
   "cell_type": "markdown",
   "metadata": {},
   "source": [
    "<div class=\"alert alert-block alert-warning\">\n",
    "\n",
    "# General comments #1\n",
    "<b>Reviewer's comment</b> <a class=\"tocSkip\"></a>\n",
    "\n",
    "- Good Job Ahmad! Sebagian besar kamu telah menyelesaikan project ini dengan baik dan sudah sesuai ya!\n",
    "    - background project dll sudah di tulis\n",
    "    - sudah bisa melakukan eksplorasi data awal\n",
    "    - sudah melakukan data preprocessing dengan baik\n",
    "    - sudah bisa melakukan plotting dan pengambilan insight dari setiap plot\n",
    "    - sudah melakukan analisis bisnis terkait dengan metrics yang sudah ditentukan\n",
    "    - sudah bisa melakukan uji hipotesis\n",
    "- Next yang bisa diimprove\n",
    "    - akses terkait presentasi masih locked ya\n",
    "    \n",
    "- Keep going Ahmad, you are doing very well!\n",
    "    \n",
    "\n",
    "</div>"
   ]
  },
  {
   "cell_type": "markdown",
   "metadata": {},
   "source": [
    "<div class=\"alert alert-block alert-success\">\n",
    "\n",
    "# General comments #2\n",
    "<b>Reviewer's comment</b> <a class=\"tocSkip\"></a>\n",
    "\n",
    "- Good Job Ahmad! Revisi sudah sesuai ya!\n",
    "- Keep going Ahmad, you are doing very well!\n",
    "    \n",
    "\n",
    "</div>"
   ]
  },
  {
   "cell_type": "markdown",
   "metadata": {},
   "source": [
    "# FILE PRESENTASI DAN DASHBOARD\n",
    "\n",
    "1. Presentasi\n",
    "\n",
    "https://drive.google.com/drive/u/0/folders/1od_Yz6dgaAa6znwt_5fqgr6--EP09EAI\n",
    "\n",
    "2. Dashboard\n",
    "\n",
    "https://public.tableau.com/app/profile/ahmad.betasatria/viz/RetailData_17103033596420/DataPembeliandanpendapatantoko?publish=yes"
   ]
  },
  {
   "cell_type": "markdown",
   "metadata": {},
   "source": [
    "<div class=\"alert alert-danger\">\n",
    "<b>Code Reviewers's comment v.1</b> <a class=\"tocSkip\"></a>\n",
    "\n",
    "- file presentasi need access ya kak (tolong dibukakan aksesnya ya)\n",
    "\n",
    "</div>"
   ]
  },
  {
   "cell_type": "markdown",
   "metadata": {},
   "source": [
    "<div class=\"alert alert-block alert-info\">\n",
    "<b>Student answer.</b> <a class=\"tocSkip\"></a>\n",
    "    \n",
    "Baik kak\n",
    "</div>"
   ]
  },
  {
   "cell_type": "markdown",
   "metadata": {},
   "source": [
    "<div class=\"alert alert-success\">\n",
    "<b>Code Reviewers's comment v.2</b> <a class=\"tocSkip\"></a>\n",
    "\n",
    "Bagus, code yang dijalankan sudah sesuai dengan instruksi dari project.\n",
    "\n",
    "</div>"
   ]
  },
  {
   "cell_type": "markdown",
   "metadata": {},
   "source": [
    "# File Presentasi\n",
    "\n",
    "https://drive.google.com/file/d/16AYGGwrlNk545zScXeNP_4zgSmLtRYRI/view?usp=sharing"
   ]
  },
  {
   "cell_type": "markdown",
   "metadata": {},
   "source": [
    "# CUSTOMER ANALYSIS"
   ]
  },
  {
   "cell_type": "markdown",
   "metadata": {},
   "source": [
    "# CONTENTS\n",
    "\n",
    "    1. Introduction\n",
    "    2. Menyiapkan Dataset dan Mempelajari Informasi Umumnya\n",
    "    3. Exploratory Data Analysis\n",
    "        3.1. Memeriksa tipe data\n",
    "        3.2. Memeriksa nilai yang hilang\n",
    "        3.3. Memeriksa nilai duplikat\n",
    "    \n",
    "    4. Menganalisis Data\n",
    "        4.1. Menganalisis pendapatan berdasarkan pelanggan\n",
    "            a. Gambaran pendapatan kumulativ berdasarkan kelompok\n",
    "            b. Menghitung rata-rata pendapatan kumulativ\n",
    "            c. Gambaran perbedaan relatif untuk pendapatan rata-rata kumulatif kelompok 0 yang dibandingkan dengan \n",
    "            kelompok 1\n",
    "            d. Gambaran konversi kumulatif berdasarkan kelompok\n",
    "            e. Diagram tebar (scatter chart) untuk jumlah pesanan per pengguna\n",
    "            f. Menghitung persentil ke-95 dan ke-99 untuk jumlah pesanan per pengguna dan menentukan titik ketika \n",
    "            suatu data berubah menjadi anomali (outlier)\n",
    "            g. Membuat diagram tebar (scatter chart) untuk pendapatan\n",
    "            h. Menghitung persentil ke-95 dan ke-99 untuk pendapatan dan menentukan titik ketika suatu titik data \n",
    "            berubah menjadi anomali (outlier)\n",
    "            i. Menemukan signifikansi statistik perbedaan konversi antar kelompok menggunakan data mentah\n",
    "            j. Menemukan signifikansi statistik perbedaan konversi antar kelompok menggunakan data yang telah difilter\n",
    "        4.2.  Menghitung perbandingan antara peserta loyalty dengan yang bukan peserta loyalty\n",
    "                 \n",
    "    5. Analisis Kohort\n",
    "        5.1. Menghitung tingkat retensi pelanggan\n",
    "        5.2. Menghitung tingkat churn\n",
    "        \n",
    "    6. Kesimpulan Umum\n",
    "    7. Rekomendasi dan Saran\n"
   ]
  },
  {
   "cell_type": "markdown",
   "metadata": {},
   "source": [
    "# 1. INTRODUCTION"
   ]
  },
  {
   "cell_type": "markdown",
   "metadata": {},
   "source": [
    "         Toko bahan bangunan Home World sedang melakukan evaluasi terhadap kinerja perusahaan mereka. Mereka ingin menilai \n",
    "    kinerja setiap gerai/cabang yang mereka punya. Terdapat kumpulan data berisi data pembelian yang dilakukan di setiap \n",
    "    toko bahan bangunan Home World. Semua pelanggannya memiliki kartu anggota. Selain itu, mereka dapat menjadi anggota \n",
    "    program loyalitas toko dengan biaya 20 dollar per bulan. Program ini mencakup diskon, informasi penawaran khusus, \n",
    "    dan hadiah.\n",
    "\n",
    "    Manager proyek meminta kepada tim Data Analist untuk merumuskan metrik kinerja untuk gerai penjualan dan \n",
    "    menganalisis kinerjanya.  Apa yang membuat analisis ini diperlukan? Analisis semacam ini diperlukan untuk memahami toko \n",
    "    mana dalam rantai besar yang memerlukan dukungan, kita perlu mengembangkan metrik kinerja untuk gerai penjualan. \n",
    "    Data ini akan digunakan untuk menetapkan prioritas toko dan merumuskan KPI."
   ]
  },
  {
   "cell_type": "markdown",
   "metadata": {},
   "source": [
    "# 2. Menyiapkan Dataset yang akan digunakan"
   ]
  },
  {
   "cell_type": "markdown",
   "metadata": {},
   "source": [
    "Pada project kali ini kita akan menggunakan dua buah dataset:\n",
    "    \n",
    "    1. `dataset purchase` berisi data tentang:\n",
    "\n",
    "- `purchaseId`- Id pembelian\n",
    "- `product_ID`- Id produk\n",
    "- `purchasedate`- tanggal pembelian\n",
    "- `Quantity` — jumlah produk yang dibeli\n",
    "- `CustomerID`- Id customer\n",
    "- `ShopID`- Id toko\n",
    "- `loyalty_program` — apakah pelanggan merupakan loyalty customer atau bukan \n",
    "\n",
    "    2. `product_codes_us.csv` berisi data tentang:\n",
    "\n",
    "- `productID`- Id produk\n",
    "- `price_per_one`- harga produk satuan"
   ]
  },
  {
   "cell_type": "markdown",
   "metadata": {},
   "source": [
    "<div class=\"alert alert-success\">\n",
    "<b>Code Reviewers's comment v.1</b> <a class=\"tocSkip\"></a>\n",
    "\n",
    "Bagus, code yang dijalankan sudah sesuai dengan instruksi dari project.\n",
    "\n",
    "</div>"
   ]
  },
  {
   "cell_type": "code",
   "execution_count": 1,
   "metadata": {},
   "outputs": [],
   "source": [
    "# Memuat semua library\n",
    "import pandas as pd, numpy as np\n",
    "import datetime as dt\n",
    "import matplotlib.pyplot as plt, seaborn as sns\n",
    "import warnings\n",
    "warnings.filterwarnings('ignore')\n",
    "from scipy.stats import ttest_ind\n",
    "from scipy import stats"
   ]
  },
  {
   "cell_type": "code",
   "execution_count": 2,
   "metadata": {},
   "outputs": [],
   "source": [
    "#Memuat semua dataset\n",
    "purchase = pd.read_csv('/datasets/retail_dataset_us.csv')\n",
    "product = pd.read_csv('/datasets/product_codes_us.csv', sep=';')"
   ]
  },
  {
   "cell_type": "markdown",
   "metadata": {},
   "source": [
    "    1. Memeriksa dataset purchase"
   ]
  },
  {
   "cell_type": "code",
   "execution_count": 3,
   "metadata": {},
   "outputs": [
    {
     "data": {
      "text/html": [
       "<div>\n",
       "<style scoped>\n",
       "    .dataframe tbody tr th:only-of-type {\n",
       "        vertical-align: middle;\n",
       "    }\n",
       "\n",
       "    .dataframe tbody tr th {\n",
       "        vertical-align: top;\n",
       "    }\n",
       "\n",
       "    .dataframe thead th {\n",
       "        text-align: right;\n",
       "    }\n",
       "</style>\n",
       "<table border=\"1\" class=\"dataframe\">\n",
       "  <thead>\n",
       "    <tr style=\"text-align: right;\">\n",
       "      <th></th>\n",
       "      <th>purchaseid</th>\n",
       "      <th>item_ID</th>\n",
       "      <th>Quantity</th>\n",
       "      <th>purchasedate</th>\n",
       "      <th>CustomerID</th>\n",
       "      <th>loyalty_program</th>\n",
       "      <th>ShopID</th>\n",
       "    </tr>\n",
       "  </thead>\n",
       "  <tbody>\n",
       "    <tr>\n",
       "      <th>0</th>\n",
       "      <td>538280</td>\n",
       "      <td>21873</td>\n",
       "      <td>11</td>\n",
       "      <td>2016-12-10 12:50:00</td>\n",
       "      <td>18427.0</td>\n",
       "      <td>0</td>\n",
       "      <td>Shop 3</td>\n",
       "    </tr>\n",
       "    <tr>\n",
       "      <th>1</th>\n",
       "      <td>538862</td>\n",
       "      <td>22195</td>\n",
       "      <td>0</td>\n",
       "      <td>2016-12-14 14:11:00</td>\n",
       "      <td>22389.0</td>\n",
       "      <td>1</td>\n",
       "      <td>Shop 2</td>\n",
       "    </tr>\n",
       "    <tr>\n",
       "      <th>2</th>\n",
       "      <td>538855</td>\n",
       "      <td>21239</td>\n",
       "      <td>7</td>\n",
       "      <td>2016-12-14 13:50:00</td>\n",
       "      <td>22182.0</td>\n",
       "      <td>1</td>\n",
       "      <td>Shop 3</td>\n",
       "    </tr>\n",
       "    <tr>\n",
       "      <th>3</th>\n",
       "      <td>543543</td>\n",
       "      <td>22271</td>\n",
       "      <td>0</td>\n",
       "      <td>2017-02-09 15:33:00</td>\n",
       "      <td>23522.0</td>\n",
       "      <td>1</td>\n",
       "      <td>Shop 28</td>\n",
       "    </tr>\n",
       "    <tr>\n",
       "      <th>4</th>\n",
       "      <td>543812</td>\n",
       "      <td>79321</td>\n",
       "      <td>0</td>\n",
       "      <td>2017-02-13 14:40:00</td>\n",
       "      <td>23151.0</td>\n",
       "      <td>1</td>\n",
       "      <td>Shop 28</td>\n",
       "    </tr>\n",
       "  </tbody>\n",
       "</table>\n",
       "</div>"
      ],
      "text/plain": [
       "  purchaseid item_ID  Quantity         purchasedate  CustomerID  \\\n",
       "0     538280   21873        11  2016-12-10 12:50:00     18427.0   \n",
       "1     538862   22195         0  2016-12-14 14:11:00     22389.0   \n",
       "2     538855   21239         7  2016-12-14 13:50:00     22182.0   \n",
       "3     543543   22271         0  2017-02-09 15:33:00     23522.0   \n",
       "4     543812   79321         0  2017-02-13 14:40:00     23151.0   \n",
       "\n",
       "   loyalty_program   ShopID  \n",
       "0                0   Shop 3  \n",
       "1                1   Shop 2  \n",
       "2                1   Shop 3  \n",
       "3                1  Shop 28  \n",
       "4                1  Shop 28  "
      ]
     },
     "execution_count": 3,
     "metadata": {},
     "output_type": "execute_result"
    }
   ],
   "source": [
    "purchase.head()"
   ]
  },
  {
   "cell_type": "code",
   "execution_count": 4,
   "metadata": {},
   "outputs": [
    {
     "data": {
      "text/html": [
       "<div>\n",
       "<style scoped>\n",
       "    .dataframe tbody tr th:only-of-type {\n",
       "        vertical-align: middle;\n",
       "    }\n",
       "\n",
       "    .dataframe tbody tr th {\n",
       "        vertical-align: top;\n",
       "    }\n",
       "\n",
       "    .dataframe thead th {\n",
       "        text-align: right;\n",
       "    }\n",
       "</style>\n",
       "<table border=\"1\" class=\"dataframe\">\n",
       "  <thead>\n",
       "    <tr style=\"text-align: right;\">\n",
       "      <th></th>\n",
       "      <th>purchase_id</th>\n",
       "      <th>product_id</th>\n",
       "      <th>quantity</th>\n",
       "      <th>purchase_time</th>\n",
       "      <th>customer_id</th>\n",
       "      <th>loyalty_program</th>\n",
       "      <th>shop_id</th>\n",
       "    </tr>\n",
       "  </thead>\n",
       "  <tbody>\n",
       "    <tr>\n",
       "      <th>0</th>\n",
       "      <td>538280</td>\n",
       "      <td>21873</td>\n",
       "      <td>11</td>\n",
       "      <td>2016-12-10 12:50:00</td>\n",
       "      <td>18427.0</td>\n",
       "      <td>0</td>\n",
       "      <td>Shop 3</td>\n",
       "    </tr>\n",
       "    <tr>\n",
       "      <th>1</th>\n",
       "      <td>538862</td>\n",
       "      <td>22195</td>\n",
       "      <td>0</td>\n",
       "      <td>2016-12-14 14:11:00</td>\n",
       "      <td>22389.0</td>\n",
       "      <td>1</td>\n",
       "      <td>Shop 2</td>\n",
       "    </tr>\n",
       "    <tr>\n",
       "      <th>2</th>\n",
       "      <td>538855</td>\n",
       "      <td>21239</td>\n",
       "      <td>7</td>\n",
       "      <td>2016-12-14 13:50:00</td>\n",
       "      <td>22182.0</td>\n",
       "      <td>1</td>\n",
       "      <td>Shop 3</td>\n",
       "    </tr>\n",
       "    <tr>\n",
       "      <th>3</th>\n",
       "      <td>543543</td>\n",
       "      <td>22271</td>\n",
       "      <td>0</td>\n",
       "      <td>2017-02-09 15:33:00</td>\n",
       "      <td>23522.0</td>\n",
       "      <td>1</td>\n",
       "      <td>Shop 28</td>\n",
       "    </tr>\n",
       "    <tr>\n",
       "      <th>4</th>\n",
       "      <td>543812</td>\n",
       "      <td>79321</td>\n",
       "      <td>0</td>\n",
       "      <td>2017-02-13 14:40:00</td>\n",
       "      <td>23151.0</td>\n",
       "      <td>1</td>\n",
       "      <td>Shop 28</td>\n",
       "    </tr>\n",
       "    <tr>\n",
       "      <th>...</th>\n",
       "      <td>...</td>\n",
       "      <td>...</td>\n",
       "      <td>...</td>\n",
       "      <td>...</td>\n",
       "      <td>...</td>\n",
       "      <td>...</td>\n",
       "      <td>...</td>\n",
       "    </tr>\n",
       "    <tr>\n",
       "      <th>105330</th>\n",
       "      <td>538566</td>\n",
       "      <td>21826</td>\n",
       "      <td>1</td>\n",
       "      <td>2016-12-13 11:21:00</td>\n",
       "      <td>NaN</td>\n",
       "      <td>0</td>\n",
       "      <td>Shop 0</td>\n",
       "    </tr>\n",
       "    <tr>\n",
       "      <th>105331</th>\n",
       "      <td>540247</td>\n",
       "      <td>21742</td>\n",
       "      <td>0</td>\n",
       "      <td>2017-01-05 15:56:00</td>\n",
       "      <td>21143.0</td>\n",
       "      <td>0</td>\n",
       "      <td>Shop 24</td>\n",
       "    </tr>\n",
       "    <tr>\n",
       "      <th>105332</th>\n",
       "      <td>538068</td>\n",
       "      <td>85048</td>\n",
       "      <td>1</td>\n",
       "      <td>2016-12-09 14:05:00</td>\n",
       "      <td>23657.0</td>\n",
       "      <td>1</td>\n",
       "      <td>Shop 16</td>\n",
       "    </tr>\n",
       "    <tr>\n",
       "      <th>105333</th>\n",
       "      <td>538207</td>\n",
       "      <td>22818</td>\n",
       "      <td>11</td>\n",
       "      <td>2016-12-10 11:33:00</td>\n",
       "      <td>18427.0</td>\n",
       "      <td>0</td>\n",
       "      <td>Shop 29</td>\n",
       "    </tr>\n",
       "    <tr>\n",
       "      <th>105334</th>\n",
       "      <td>543977</td>\n",
       "      <td>22384</td>\n",
       "      <td>9</td>\n",
       "      <td>2017-02-14 15:35:00</td>\n",
       "      <td>21294.0</td>\n",
       "      <td>0</td>\n",
       "      <td>Shop 19</td>\n",
       "    </tr>\n",
       "  </tbody>\n",
       "</table>\n",
       "<p>105335 rows × 7 columns</p>\n",
       "</div>"
      ],
      "text/plain": [
       "       purchase_id product_id  quantity        purchase_time  customer_id  \\\n",
       "0           538280      21873        11  2016-12-10 12:50:00      18427.0   \n",
       "1           538862      22195         0  2016-12-14 14:11:00      22389.0   \n",
       "2           538855      21239         7  2016-12-14 13:50:00      22182.0   \n",
       "3           543543      22271         0  2017-02-09 15:33:00      23522.0   \n",
       "4           543812      79321         0  2017-02-13 14:40:00      23151.0   \n",
       "...            ...        ...       ...                  ...          ...   \n",
       "105330      538566      21826         1  2016-12-13 11:21:00          NaN   \n",
       "105331      540247      21742         0  2017-01-05 15:56:00      21143.0   \n",
       "105332      538068      85048         1  2016-12-09 14:05:00      23657.0   \n",
       "105333      538207      22818        11  2016-12-10 11:33:00      18427.0   \n",
       "105334      543977      22384         9  2017-02-14 15:35:00      21294.0   \n",
       "\n",
       "        loyalty_program  shop_id  \n",
       "0                     0   Shop 3  \n",
       "1                     1   Shop 2  \n",
       "2                     1   Shop 3  \n",
       "3                     1  Shop 28  \n",
       "4                     1  Shop 28  \n",
       "...                 ...      ...  \n",
       "105330                0   Shop 0  \n",
       "105331                0  Shop 24  \n",
       "105332                1  Shop 16  \n",
       "105333                0  Shop 29  \n",
       "105334                0  Shop 19  \n",
       "\n",
       "[105335 rows x 7 columns]"
      ]
     },
     "execution_count": 4,
     "metadata": {},
     "output_type": "execute_result"
    }
   ],
   "source": [
    "#Mengubah nama kolom\n",
    "purchase = purchase.rename(columns= {'purchaseid': 'purchase_id', 'item_ID': 'product_id', 'Quantity': 'quantity'\n",
    "                          , 'purchasedate': 'purchase_time', 'CustomerID': 'customer_id', 'ShopID': 'shop_id'})\n",
    "purchase"
   ]
  },
  {
   "cell_type": "code",
   "execution_count": 5,
   "metadata": {},
   "outputs": [
    {
     "name": "stdout",
     "output_type": "stream",
     "text": [
      "<class 'pandas.core.frame.DataFrame'>\n",
      "RangeIndex: 105335 entries, 0 to 105334\n",
      "Data columns (total 7 columns):\n",
      " #   Column           Non-Null Count   Dtype  \n",
      "---  ------           --------------   -----  \n",
      " 0   purchase_id      105335 non-null  object \n",
      " 1   product_id       105335 non-null  object \n",
      " 2   quantity         105335 non-null  int64  \n",
      " 3   purchase_time    105335 non-null  object \n",
      " 4   customer_id      69125 non-null   float64\n",
      " 5   loyalty_program  105335 non-null  int64  \n",
      " 6   shop_id          105335 non-null  object \n",
      "dtypes: float64(1), int64(2), object(4)\n",
      "memory usage: 5.6+ MB\n"
     ]
    }
   ],
   "source": [
    "purchase.info()"
   ]
  },
  {
   "cell_type": "markdown",
   "metadata": {},
   "source": [
    "    - Dataset purchase terdiri dari 7 kolom dan 105335 baris\n",
    "    - Kolom purchase_date dari type harus diganti ke datetime\n",
    "    - Di kolom customer_id ada missing values"
   ]
  },
  {
   "cell_type": "markdown",
   "metadata": {},
   "source": [
    "    2. Memeriksa Dataset product"
   ]
  },
  {
   "cell_type": "code",
   "execution_count": 6,
   "metadata": {},
   "outputs": [
    {
     "data": {
      "text/html": [
       "<div>\n",
       "<style scoped>\n",
       "    .dataframe tbody tr th:only-of-type {\n",
       "        vertical-align: middle;\n",
       "    }\n",
       "\n",
       "    .dataframe tbody tr th {\n",
       "        vertical-align: top;\n",
       "    }\n",
       "\n",
       "    .dataframe thead th {\n",
       "        text-align: right;\n",
       "    }\n",
       "</style>\n",
       "<table border=\"1\" class=\"dataframe\">\n",
       "  <thead>\n",
       "    <tr style=\"text-align: right;\">\n",
       "      <th></th>\n",
       "      <th>productID</th>\n",
       "      <th>price_per_one</th>\n",
       "    </tr>\n",
       "  </thead>\n",
       "  <tbody>\n",
       "    <tr>\n",
       "      <th>0</th>\n",
       "      <td>10002</td>\n",
       "      <td>0.85</td>\n",
       "    </tr>\n",
       "    <tr>\n",
       "      <th>1</th>\n",
       "      <td>10080</td>\n",
       "      <td>0.85</td>\n",
       "    </tr>\n",
       "    <tr>\n",
       "      <th>2</th>\n",
       "      <td>10120</td>\n",
       "      <td>0.21</td>\n",
       "    </tr>\n",
       "    <tr>\n",
       "      <th>3</th>\n",
       "      <td>10123C</td>\n",
       "      <td>0.65</td>\n",
       "    </tr>\n",
       "    <tr>\n",
       "      <th>4</th>\n",
       "      <td>10124A</td>\n",
       "      <td>0.42</td>\n",
       "    </tr>\n",
       "  </tbody>\n",
       "</table>\n",
       "</div>"
      ],
      "text/plain": [
       "  productID  price_per_one\n",
       "0     10002           0.85\n",
       "1     10080           0.85\n",
       "2     10120           0.21\n",
       "3    10123C           0.65\n",
       "4    10124A           0.42"
      ]
     },
     "execution_count": 6,
     "metadata": {},
     "output_type": "execute_result"
    }
   ],
   "source": [
    "product.head()"
   ]
  },
  {
   "cell_type": "code",
   "execution_count": 7,
   "metadata": {},
   "outputs": [
    {
     "data": {
      "text/html": [
       "<div>\n",
       "<style scoped>\n",
       "    .dataframe tbody tr th:only-of-type {\n",
       "        vertical-align: middle;\n",
       "    }\n",
       "\n",
       "    .dataframe tbody tr th {\n",
       "        vertical-align: top;\n",
       "    }\n",
       "\n",
       "    .dataframe thead th {\n",
       "        text-align: right;\n",
       "    }\n",
       "</style>\n",
       "<table border=\"1\" class=\"dataframe\">\n",
       "  <thead>\n",
       "    <tr style=\"text-align: right;\">\n",
       "      <th></th>\n",
       "      <th>product_id</th>\n",
       "      <th>price_per_one</th>\n",
       "    </tr>\n",
       "  </thead>\n",
       "  <tbody>\n",
       "    <tr>\n",
       "      <th>0</th>\n",
       "      <td>10002</td>\n",
       "      <td>0.85</td>\n",
       "    </tr>\n",
       "    <tr>\n",
       "      <th>1</th>\n",
       "      <td>10080</td>\n",
       "      <td>0.85</td>\n",
       "    </tr>\n",
       "    <tr>\n",
       "      <th>2</th>\n",
       "      <td>10120</td>\n",
       "      <td>0.21</td>\n",
       "    </tr>\n",
       "    <tr>\n",
       "      <th>3</th>\n",
       "      <td>10123C</td>\n",
       "      <td>0.65</td>\n",
       "    </tr>\n",
       "    <tr>\n",
       "      <th>4</th>\n",
       "      <td>10124A</td>\n",
       "      <td>0.42</td>\n",
       "    </tr>\n",
       "    <tr>\n",
       "      <th>...</th>\n",
       "      <td>...</td>\n",
       "      <td>...</td>\n",
       "    </tr>\n",
       "    <tr>\n",
       "      <th>3154</th>\n",
       "      <td>gift_0001_20</td>\n",
       "      <td>16.67</td>\n",
       "    </tr>\n",
       "    <tr>\n",
       "      <th>3155</th>\n",
       "      <td>gift_0001_30</td>\n",
       "      <td>25.00</td>\n",
       "    </tr>\n",
       "    <tr>\n",
       "      <th>3156</th>\n",
       "      <td>gift_0001_40</td>\n",
       "      <td>34.04</td>\n",
       "    </tr>\n",
       "    <tr>\n",
       "      <th>3157</th>\n",
       "      <td>gift_0001_50</td>\n",
       "      <td>42.55</td>\n",
       "    </tr>\n",
       "    <tr>\n",
       "      <th>3158</th>\n",
       "      <td>m</td>\n",
       "      <td>2.55</td>\n",
       "    </tr>\n",
       "  </tbody>\n",
       "</table>\n",
       "<p>3159 rows × 2 columns</p>\n",
       "</div>"
      ],
      "text/plain": [
       "        product_id  price_per_one\n",
       "0            10002           0.85\n",
       "1            10080           0.85\n",
       "2            10120           0.21\n",
       "3           10123C           0.65\n",
       "4           10124A           0.42\n",
       "...            ...            ...\n",
       "3154  gift_0001_20          16.67\n",
       "3155  gift_0001_30          25.00\n",
       "3156  gift_0001_40          34.04\n",
       "3157  gift_0001_50          42.55\n",
       "3158             m           2.55\n",
       "\n",
       "[3159 rows x 2 columns]"
      ]
     },
     "execution_count": 7,
     "metadata": {},
     "output_type": "execute_result"
    }
   ],
   "source": [
    "#Mengubah nama kolom\n",
    "product = product.rename(columns= {'productID': 'product_id'})\n",
    "product"
   ]
  },
  {
   "cell_type": "code",
   "execution_count": 8,
   "metadata": {},
   "outputs": [
    {
     "name": "stdout",
     "output_type": "stream",
     "text": [
      "<class 'pandas.core.frame.DataFrame'>\n",
      "RangeIndex: 3159 entries, 0 to 3158\n",
      "Data columns (total 2 columns):\n",
      " #   Column         Non-Null Count  Dtype  \n",
      "---  ------         --------------  -----  \n",
      " 0   product_id     3159 non-null   object \n",
      " 1   price_per_one  3159 non-null   float64\n",
      "dtypes: float64(1), object(1)\n",
      "memory usage: 49.5+ KB\n"
     ]
    }
   ],
   "source": [
    "product.info()"
   ]
  },
  {
   "cell_type": "markdown",
   "metadata": {},
   "source": [
    "    - Dataset product terdiri dari 2 kolom dan 3159 baris\n",
    "    - Tidak terdapat missing values"
   ]
  },
  {
   "cell_type": "markdown",
   "metadata": {},
   "source": [
    "<div class=\"alert alert-success\">\n",
    "<b>Code Reviewers's comment v.1</b> <a class=\"tocSkip\"></a>\n",
    "\n",
    "Bagus, code yang dijalankan sudah sesuai dengan instruksi dari project.\n",
    "\n",
    "</div>"
   ]
  },
  {
   "cell_type": "markdown",
   "metadata": {},
   "source": [
    "# 3. Exploratory Data Analysis"
   ]
  },
  {
   "cell_type": "markdown",
   "metadata": {},
   "source": [
    "***3.1. Memeriksa Missing Values***"
   ]
  },
  {
   "cell_type": "code",
   "execution_count": 9,
   "metadata": {},
   "outputs": [
    {
     "data": {
      "text/plain": [
       "purchase_id            0\n",
       "product_id             0\n",
       "quantity               0\n",
       "purchase_time          0\n",
       "customer_id        36210\n",
       "loyalty_program        0\n",
       "shop_id                0\n",
       "dtype: int64"
      ]
     },
     "execution_count": 9,
     "metadata": {},
     "output_type": "execute_result"
    }
   ],
   "source": [
    "purchase.isnull().sum()"
   ]
  },
  {
   "cell_type": "code",
   "execution_count": 10,
   "metadata": {},
   "outputs": [
    {
     "data": {
      "text/plain": [
       "purchase_id         0.000000\n",
       "product_id          0.000000\n",
       "quantity            0.000000\n",
       "purchase_time       0.000000\n",
       "customer_id        34.376038\n",
       "loyalty_program     0.000000\n",
       "shop_id             0.000000\n",
       "dtype: float64"
      ]
     },
     "execution_count": 10,
     "metadata": {},
     "output_type": "execute_result"
    }
   ],
   "source": [
    "purchase.isnull().sum() / purchase.shape[0] * 100"
   ]
  },
  {
   "cell_type": "markdown",
   "metadata": {},
   "source": [
    "    - Di kolom customer_id terdapat 36210 missing values atau 34.38 %"
   ]
  },
  {
   "cell_type": "code",
   "execution_count": 11,
   "metadata": {},
   "outputs": [],
   "source": [
    "# Mengganti missing values dengan 0\n",
    "purchase.fillna(0, inplace=True)"
   ]
  },
  {
   "cell_type": "code",
   "execution_count": 12,
   "metadata": {},
   "outputs": [
    {
     "data": {
      "text/plain": [
       "purchase_id        0\n",
       "product_id         0\n",
       "quantity           0\n",
       "purchase_time      0\n",
       "customer_id        0\n",
       "loyalty_program    0\n",
       "shop_id            0\n",
       "dtype: int64"
      ]
     },
     "execution_count": 12,
     "metadata": {},
     "output_type": "execute_result"
    }
   ],
   "source": [
    "purchase.isnull().sum()"
   ]
  },
  {
   "cell_type": "markdown",
   "metadata": {},
   "source": [
    "    - Sudah tidak ada missing values"
   ]
  },
  {
   "cell_type": "markdown",
   "metadata": {},
   "source": [
    "***3.2. Memeriksa tipe data***"
   ]
  },
  {
   "cell_type": "code",
   "execution_count": 13,
   "metadata": {},
   "outputs": [],
   "source": [
    "#Mengubah tipe data kolom purchase_time menjadi datetime\n",
    "purchase['purchase_time'] = pd.to_datetime(purchase['purchase_time'])"
   ]
  },
  {
   "cell_type": "code",
   "execution_count": 14,
   "metadata": {},
   "outputs": [
    {
     "name": "stdout",
     "output_type": "stream",
     "text": [
      "<class 'pandas.core.frame.DataFrame'>\n",
      "RangeIndex: 105335 entries, 0 to 105334\n",
      "Data columns (total 7 columns):\n",
      " #   Column           Non-Null Count   Dtype         \n",
      "---  ------           --------------   -----         \n",
      " 0   purchase_id      105335 non-null  object        \n",
      " 1   product_id       105335 non-null  object        \n",
      " 2   quantity         105335 non-null  int64         \n",
      " 3   purchase_time    105335 non-null  datetime64[ns]\n",
      " 4   customer_id      105335 non-null  float64       \n",
      " 5   loyalty_program  105335 non-null  int64         \n",
      " 6   shop_id          105335 non-null  object        \n",
      "dtypes: datetime64[ns](1), float64(1), int64(2), object(3)\n",
      "memory usage: 5.6+ MB\n"
     ]
    }
   ],
   "source": [
    "purchase.info()"
   ]
  },
  {
   "cell_type": "markdown",
   "metadata": {},
   "source": [
    "***3.3.Memeriksa nilai Duplikat***"
   ]
  },
  {
   "cell_type": "code",
   "execution_count": 15,
   "metadata": {},
   "outputs": [
    {
     "data": {
      "text/plain": [
       "1033"
      ]
     },
     "execution_count": 15,
     "metadata": {},
     "output_type": "execute_result"
    }
   ],
   "source": [
    "# a.Memeriksa nilai duplikat di dataset purchase\n",
    "purchase.duplicated().sum()"
   ]
  },
  {
   "cell_type": "code",
   "execution_count": 16,
   "metadata": {},
   "outputs": [],
   "source": [
    "# menghapus nilai duplikat\n",
    "purchase.drop_duplicates(ignore_index=True, inplace=True)"
   ]
  },
  {
   "cell_type": "code",
   "execution_count": 17,
   "metadata": {},
   "outputs": [
    {
     "data": {
      "text/plain": [
       "0"
      ]
     },
     "execution_count": 17,
     "metadata": {},
     "output_type": "execute_result"
    }
   ],
   "source": [
    "# memeriksa duplikat\n",
    "purchase.duplicated().sum()"
   ]
  },
  {
   "cell_type": "code",
   "execution_count": 18,
   "metadata": {},
   "outputs": [
    {
     "name": "stdout",
     "output_type": "stream",
     "text": [
      "<class 'pandas.core.frame.DataFrame'>\n",
      "RangeIndex: 104302 entries, 0 to 104301\n",
      "Data columns (total 7 columns):\n",
      " #   Column           Non-Null Count   Dtype         \n",
      "---  ------           --------------   -----         \n",
      " 0   purchase_id      104302 non-null  object        \n",
      " 1   product_id       104302 non-null  object        \n",
      " 2   quantity         104302 non-null  int64         \n",
      " 3   purchase_time    104302 non-null  datetime64[ns]\n",
      " 4   customer_id      104302 non-null  float64       \n",
      " 5   loyalty_program  104302 non-null  int64         \n",
      " 6   shop_id          104302 non-null  object        \n",
      "dtypes: datetime64[ns](1), float64(1), int64(2), object(3)\n",
      "memory usage: 5.6+ MB\n"
     ]
    }
   ],
   "source": [
    "purchase.info()"
   ]
  },
  {
   "cell_type": "markdown",
   "metadata": {},
   "source": [
    "    - Setelah dihilangkan nilai yang duplikat, dataset purchase memiliki 104302 baris"
   ]
  },
  {
   "cell_type": "code",
   "execution_count": 19,
   "metadata": {},
   "outputs": [
    {
     "data": {
      "text/plain": [
       "0"
      ]
     },
     "execution_count": 19,
     "metadata": {},
     "output_type": "execute_result"
    }
   ],
   "source": [
    "# b.Memeriksa nilai duplikat di dataset product\n",
    "product.duplicated().sum()"
   ]
  },
  {
   "cell_type": "markdown",
   "metadata": {},
   "source": [
    "    - Di dataset purchase dan dataset product tidak ada nilai yang duplikat"
   ]
  },
  {
   "cell_type": "markdown",
   "metadata": {},
   "source": [
    "<div class=\"alert alert-success\">\n",
    "<b>Code Reviewers's comment v.1</b> <a class=\"tocSkip\"></a>\n",
    "\n",
    "Bagus, code yang dijalankan sudah sesuai dengan instruksi dari project.\n",
    "\n",
    "</div>"
   ]
  },
  {
   "cell_type": "markdown",
   "metadata": {},
   "source": [
    "# 4. ANALISIS DATA"
   ]
  },
  {
   "cell_type": "markdown",
   "metadata": {},
   "source": [
    "# 4.1. Menganalisis pendapatan berdasarkan pelanggan"
   ]
  },
  {
   "cell_type": "code",
   "execution_count": 20,
   "metadata": {},
   "outputs": [
    {
     "data": {
      "text/html": [
       "<div>\n",
       "<style scoped>\n",
       "    .dataframe tbody tr th:only-of-type {\n",
       "        vertical-align: middle;\n",
       "    }\n",
       "\n",
       "    .dataframe tbody tr th {\n",
       "        vertical-align: top;\n",
       "    }\n",
       "\n",
       "    .dataframe thead th {\n",
       "        text-align: right;\n",
       "    }\n",
       "</style>\n",
       "<table border=\"1\" class=\"dataframe\">\n",
       "  <thead>\n",
       "    <tr style=\"text-align: right;\">\n",
       "      <th></th>\n",
       "      <th>purchase_id</th>\n",
       "      <th>product_id</th>\n",
       "      <th>quantity</th>\n",
       "      <th>purchase_time</th>\n",
       "      <th>customer_id</th>\n",
       "      <th>loyalty_program</th>\n",
       "      <th>shop_id</th>\n",
       "      <th>price_per_one</th>\n",
       "    </tr>\n",
       "  </thead>\n",
       "  <tbody>\n",
       "    <tr>\n",
       "      <th>0</th>\n",
       "      <td>538280</td>\n",
       "      <td>21873</td>\n",
       "      <td>11</td>\n",
       "      <td>2016-12-10 12:50:00</td>\n",
       "      <td>18427.0</td>\n",
       "      <td>0</td>\n",
       "      <td>Shop 3</td>\n",
       "      <td>0.42</td>\n",
       "    </tr>\n",
       "    <tr>\n",
       "      <th>1</th>\n",
       "      <td>541104</td>\n",
       "      <td>21873</td>\n",
       "      <td>0</td>\n",
       "      <td>2017-01-13 14:29:00</td>\n",
       "      <td>0.0</td>\n",
       "      <td>0</td>\n",
       "      <td>Shop 0</td>\n",
       "      <td>0.42</td>\n",
       "    </tr>\n",
       "    <tr>\n",
       "      <th>2</th>\n",
       "      <td>540418</td>\n",
       "      <td>21873</td>\n",
       "      <td>1</td>\n",
       "      <td>2017-01-07 11:04:00</td>\n",
       "      <td>0.0</td>\n",
       "      <td>0</td>\n",
       "      <td>Shop 0</td>\n",
       "      <td>0.42</td>\n",
       "    </tr>\n",
       "    <tr>\n",
       "      <th>3</th>\n",
       "      <td>541516</td>\n",
       "      <td>21873</td>\n",
       "      <td>2</td>\n",
       "      <td>2017-01-18 17:34:00</td>\n",
       "      <td>0.0</td>\n",
       "      <td>0</td>\n",
       "      <td>Shop 0</td>\n",
       "      <td>0.42</td>\n",
       "    </tr>\n",
       "    <tr>\n",
       "      <th>4</th>\n",
       "      <td>541566</td>\n",
       "      <td>21873</td>\n",
       "      <td>35</td>\n",
       "      <td>2017-01-19 11:50:00</td>\n",
       "      <td>23401.0</td>\n",
       "      <td>1</td>\n",
       "      <td>Shop 22</td>\n",
       "      <td>0.42</td>\n",
       "    </tr>\n",
       "    <tr>\n",
       "      <th>...</th>\n",
       "      <td>...</td>\n",
       "      <td>...</td>\n",
       "      <td>...</td>\n",
       "      <td>...</td>\n",
       "      <td>...</td>\n",
       "      <td>...</td>\n",
       "      <td>...</td>\n",
       "      <td>...</td>\n",
       "    </tr>\n",
       "    <tr>\n",
       "      <th>104297</th>\n",
       "      <td>538852</td>\n",
       "      <td>90058B</td>\n",
       "      <td>35</td>\n",
       "      <td>2016-12-14 13:33:00</td>\n",
       "      <td>23051.0</td>\n",
       "      <td>1</td>\n",
       "      <td>Shop 8</td>\n",
       "      <td>0.38</td>\n",
       "    </tr>\n",
       "    <tr>\n",
       "      <th>104298</th>\n",
       "      <td>539988</td>\n",
       "      <td>46138B</td>\n",
       "      <td>1</td>\n",
       "      <td>2016-12-23 16:06:00</td>\n",
       "      <td>23795.0</td>\n",
       "      <td>1</td>\n",
       "      <td>Shop 14</td>\n",
       "      <td>1.95</td>\n",
       "    </tr>\n",
       "    <tr>\n",
       "      <th>104299</th>\n",
       "      <td>537025</td>\n",
       "      <td>90053</td>\n",
       "      <td>0</td>\n",
       "      <td>2016-12-03 16:21:00</td>\n",
       "      <td>0.0</td>\n",
       "      <td>0</td>\n",
       "      <td>Shop 0</td>\n",
       "      <td>2.55</td>\n",
       "    </tr>\n",
       "    <tr>\n",
       "      <th>104300</th>\n",
       "      <td>542731</td>\n",
       "      <td>17028J</td>\n",
       "      <td>5</td>\n",
       "      <td>2017-01-31 15:27:00</td>\n",
       "      <td>19279.0</td>\n",
       "      <td>0</td>\n",
       "      <td>Shop 0</td>\n",
       "      <td>0.42</td>\n",
       "    </tr>\n",
       "    <tr>\n",
       "      <th>104301</th>\n",
       "      <td>C540246</td>\n",
       "      <td>79320</td>\n",
       "      <td>-2</td>\n",
       "      <td>2017-01-05 15:43:00</td>\n",
       "      <td>18760.0</td>\n",
       "      <td>0</td>\n",
       "      <td>Shop 19</td>\n",
       "      <td>4.95</td>\n",
       "    </tr>\n",
       "  </tbody>\n",
       "</table>\n",
       "<p>104302 rows × 8 columns</p>\n",
       "</div>"
      ],
      "text/plain": [
       "       purchase_id product_id  quantity       purchase_time  customer_id  \\\n",
       "0           538280      21873        11 2016-12-10 12:50:00      18427.0   \n",
       "1           541104      21873         0 2017-01-13 14:29:00          0.0   \n",
       "2           540418      21873         1 2017-01-07 11:04:00          0.0   \n",
       "3           541516      21873         2 2017-01-18 17:34:00          0.0   \n",
       "4           541566      21873        35 2017-01-19 11:50:00      23401.0   \n",
       "...            ...        ...       ...                 ...          ...   \n",
       "104297      538852     90058B        35 2016-12-14 13:33:00      23051.0   \n",
       "104298      539988     46138B         1 2016-12-23 16:06:00      23795.0   \n",
       "104299      537025      90053         0 2016-12-03 16:21:00          0.0   \n",
       "104300      542731     17028J         5 2017-01-31 15:27:00      19279.0   \n",
       "104301     C540246      79320        -2 2017-01-05 15:43:00      18760.0   \n",
       "\n",
       "        loyalty_program  shop_id  price_per_one  \n",
       "0                     0   Shop 3           0.42  \n",
       "1                     0   Shop 0           0.42  \n",
       "2                     0   Shop 0           0.42  \n",
       "3                     0   Shop 0           0.42  \n",
       "4                     1  Shop 22           0.42  \n",
       "...                 ...      ...            ...  \n",
       "104297                1   Shop 8           0.38  \n",
       "104298                1  Shop 14           1.95  \n",
       "104299                0   Shop 0           2.55  \n",
       "104300                0   Shop 0           0.42  \n",
       "104301                0  Shop 19           4.95  \n",
       "\n",
       "[104302 rows x 8 columns]"
      ]
     },
     "execution_count": 20,
     "metadata": {},
     "output_type": "execute_result"
    }
   ],
   "source": [
    "# Menggabungkan Dataset purchase dan product berdasarkan kolom 'product_id'\n",
    "purchase_product = pd.merge(purchase, product, on='product_id', how='inner')\n",
    "purchase_product"
   ]
  },
  {
   "cell_type": "code",
   "execution_count": 21,
   "metadata": {},
   "outputs": [],
   "source": [
    "#Menambahkan kolom date\n",
    "purchase_product['date']  = purchase['purchase_time'].dt.date"
   ]
  },
  {
   "cell_type": "code",
   "execution_count": 22,
   "metadata": {},
   "outputs": [
    {
     "name": "stdout",
     "output_type": "stream",
     "text": [
      "<class 'pandas.core.frame.DataFrame'>\n",
      "Int64Index: 104302 entries, 0 to 104301\n",
      "Data columns (total 9 columns):\n",
      " #   Column           Non-Null Count   Dtype         \n",
      "---  ------           --------------   -----         \n",
      " 0   purchase_id      104302 non-null  object        \n",
      " 1   product_id       104302 non-null  object        \n",
      " 2   quantity         104302 non-null  int64         \n",
      " 3   purchase_time    104302 non-null  datetime64[ns]\n",
      " 4   customer_id      104302 non-null  float64       \n",
      " 5   loyalty_program  104302 non-null  int64         \n",
      " 6   shop_id          104302 non-null  object        \n",
      " 7   price_per_one    104302 non-null  float64       \n",
      " 8   date             104302 non-null  datetime64[ns]\n",
      "dtypes: datetime64[ns](2), float64(2), int64(2), object(3)\n",
      "memory usage: 8.0+ MB\n"
     ]
    }
   ],
   "source": [
    "#Mengubah tipe data kolom date menjadi datetime\n",
    "purchase_product['date'] = pd.to_datetime(purchase_product['date'])\n",
    "purchase_product.info()"
   ]
  },
  {
   "cell_type": "code",
   "execution_count": 23,
   "metadata": {
    "scrolled": true
   },
   "outputs": [
    {
     "data": {
      "text/html": [
       "<div>\n",
       "<style scoped>\n",
       "    .dataframe tbody tr th:only-of-type {\n",
       "        vertical-align: middle;\n",
       "    }\n",
       "\n",
       "    .dataframe tbody tr th {\n",
       "        vertical-align: top;\n",
       "    }\n",
       "\n",
       "    .dataframe thead th {\n",
       "        text-align: right;\n",
       "    }\n",
       "</style>\n",
       "<table border=\"1\" class=\"dataframe\">\n",
       "  <thead>\n",
       "    <tr style=\"text-align: right;\">\n",
       "      <th></th>\n",
       "      <th>purchase_id</th>\n",
       "      <th>product_id</th>\n",
       "      <th>quantity</th>\n",
       "      <th>purchase_time</th>\n",
       "      <th>customer_id</th>\n",
       "      <th>loyalty_program</th>\n",
       "      <th>shop_id</th>\n",
       "      <th>price_per_one</th>\n",
       "      <th>date</th>\n",
       "      <th>revenue</th>\n",
       "    </tr>\n",
       "  </thead>\n",
       "  <tbody>\n",
       "    <tr>\n",
       "      <th>14359</th>\n",
       "      <td>541113</td>\n",
       "      <td>22835</td>\n",
       "      <td>2</td>\n",
       "      <td>2017-01-13 15:18:00</td>\n",
       "      <td>22454.0</td>\n",
       "      <td>1</td>\n",
       "      <td>Shop 4</td>\n",
       "      <td>4.25</td>\n",
       "      <td>2017-02-01</td>\n",
       "      <td>8.50</td>\n",
       "    </tr>\n",
       "    <tr>\n",
       "      <th>48177</th>\n",
       "      <td>536571</td>\n",
       "      <td>21790</td>\n",
       "      <td>11</td>\n",
       "      <td>2016-12-01 15:37:00</td>\n",
       "      <td>20375.0</td>\n",
       "      <td>0</td>\n",
       "      <td>Shop 28</td>\n",
       "      <td>0.72</td>\n",
       "      <td>2016-12-14</td>\n",
       "      <td>7.92</td>\n",
       "    </tr>\n",
       "    <tr>\n",
       "      <th>5897</th>\n",
       "      <td>544404</td>\n",
       "      <td>20726</td>\n",
       "      <td>19</td>\n",
       "      <td>2017-02-18 12:56:00</td>\n",
       "      <td>22080.0</td>\n",
       "      <td>1</td>\n",
       "      <td>Shop 7</td>\n",
       "      <td>0.00</td>\n",
       "      <td>2017-01-19</td>\n",
       "      <td>0.00</td>\n",
       "    </tr>\n",
       "    <tr>\n",
       "      <th>18943</th>\n",
       "      <td>540350</td>\n",
       "      <td>22645</td>\n",
       "      <td>0</td>\n",
       "      <td>2017-01-06 14:14:00</td>\n",
       "      <td>23962.0</td>\n",
       "      <td>1</td>\n",
       "      <td>Shop 10</td>\n",
       "      <td>1.25</td>\n",
       "      <td>2016-12-01</td>\n",
       "      <td>0.00</td>\n",
       "    </tr>\n",
       "    <tr>\n",
       "      <th>25167</th>\n",
       "      <td>539484</td>\n",
       "      <td>22951</td>\n",
       "      <td>23</td>\n",
       "      <td>2016-12-19 15:44:00</td>\n",
       "      <td>21319.0</td>\n",
       "      <td>0</td>\n",
       "      <td>Shop 14</td>\n",
       "      <td>0.42</td>\n",
       "      <td>2016-12-10</td>\n",
       "      <td>9.66</td>\n",
       "    </tr>\n",
       "    <tr>\n",
       "      <th>82834</th>\n",
       "      <td>544162</td>\n",
       "      <td>22919</td>\n",
       "      <td>6</td>\n",
       "      <td>2017-02-16 13:00:00</td>\n",
       "      <td>20638.0</td>\n",
       "      <td>0</td>\n",
       "      <td>Shop 27</td>\n",
       "      <td>0.65</td>\n",
       "      <td>2016-12-07</td>\n",
       "      <td>3.90</td>\n",
       "    </tr>\n",
       "    <tr>\n",
       "      <th>85590</th>\n",
       "      <td>542231</td>\n",
       "      <td>21547</td>\n",
       "      <td>4</td>\n",
       "      <td>2017-01-26 13:40:00</td>\n",
       "      <td>22393.0</td>\n",
       "      <td>1</td>\n",
       "      <td>Shop 0</td>\n",
       "      <td>2.95</td>\n",
       "      <td>2017-02-17</td>\n",
       "      <td>11.80</td>\n",
       "    </tr>\n",
       "    <tr>\n",
       "      <th>3978</th>\n",
       "      <td>536401</td>\n",
       "      <td>20966</td>\n",
       "      <td>2</td>\n",
       "      <td>2016-12-01 11:21:00</td>\n",
       "      <td>21541.0</td>\n",
       "      <td>0</td>\n",
       "      <td>Shop 8</td>\n",
       "      <td>0.00</td>\n",
       "      <td>2017-01-28</td>\n",
       "      <td>0.00</td>\n",
       "    </tr>\n",
       "    <tr>\n",
       "      <th>57256</th>\n",
       "      <td>542541</td>\n",
       "      <td>22358</td>\n",
       "      <td>0</td>\n",
       "      <td>2017-01-28 14:25:00</td>\n",
       "      <td>0.0</td>\n",
       "      <td>0</td>\n",
       "      <td>Shop 0</td>\n",
       "      <td>2.55</td>\n",
       "      <td>2016-12-05</td>\n",
       "      <td>0.00</td>\n",
       "    </tr>\n",
       "    <tr>\n",
       "      <th>33178</th>\n",
       "      <td>545085</td>\n",
       "      <td>22625</td>\n",
       "      <td>0</td>\n",
       "      <td>2017-02-28 11:19:00</td>\n",
       "      <td>20718.0</td>\n",
       "      <td>0</td>\n",
       "      <td>Shop 27</td>\n",
       "      <td>0.00</td>\n",
       "      <td>2017-01-25</td>\n",
       "      <td>0.00</td>\n",
       "    </tr>\n",
       "  </tbody>\n",
       "</table>\n",
       "</div>"
      ],
      "text/plain": [
       "      purchase_id product_id  quantity       purchase_time  customer_id  \\\n",
       "14359      541113      22835         2 2017-01-13 15:18:00      22454.0   \n",
       "48177      536571      21790        11 2016-12-01 15:37:00      20375.0   \n",
       "5897       544404      20726        19 2017-02-18 12:56:00      22080.0   \n",
       "18943      540350      22645         0 2017-01-06 14:14:00      23962.0   \n",
       "25167      539484      22951        23 2016-12-19 15:44:00      21319.0   \n",
       "82834      544162      22919         6 2017-02-16 13:00:00      20638.0   \n",
       "85590      542231      21547         4 2017-01-26 13:40:00      22393.0   \n",
       "3978       536401      20966         2 2016-12-01 11:21:00      21541.0   \n",
       "57256      542541      22358         0 2017-01-28 14:25:00          0.0   \n",
       "33178      545085      22625         0 2017-02-28 11:19:00      20718.0   \n",
       "\n",
       "       loyalty_program  shop_id  price_per_one       date  revenue  \n",
       "14359                1   Shop 4           4.25 2017-02-01     8.50  \n",
       "48177                0  Shop 28           0.72 2016-12-14     7.92  \n",
       "5897                 1   Shop 7           0.00 2017-01-19     0.00  \n",
       "18943                1  Shop 10           1.25 2016-12-01     0.00  \n",
       "25167                0  Shop 14           0.42 2016-12-10     9.66  \n",
       "82834                0  Shop 27           0.65 2016-12-07     3.90  \n",
       "85590                1   Shop 0           2.95 2017-02-17    11.80  \n",
       "3978                 0   Shop 8           0.00 2017-01-28     0.00  \n",
       "57256                0   Shop 0           2.55 2016-12-05     0.00  \n",
       "33178                0  Shop 27           0.00 2017-01-25     0.00  "
      ]
     },
     "execution_count": 23,
     "metadata": {},
     "output_type": "execute_result"
    }
   ],
   "source": [
    "#Menambahkan kolom revenue\n",
    "purchase_product['revenue'] = purchase_product['quantity'] * purchase_product['price_per_one']\n",
    "purchase_product.sample(n=10)"
   ]
  },
  {
   "cell_type": "markdown",
   "metadata": {},
   "source": [
    "<div class=\"alert alert-success\">\n",
    "<b>Code Reviewers's comment v.1</b> <a class=\"tocSkip\"></a>\n",
    "\n",
    "Bagus, code yang dijalankan sudah sesuai dengan instruksi dari project.\n",
    "\n",
    "</div>"
   ]
  },
  {
   "cell_type": "markdown",
   "metadata": {},
   "source": [
    "# a. Gambaran pendapatan kumulatif berdasarkan kelompok\n",
    "    - Group 1 = peserta loyalty program\n",
    "    - Group 0 = bukan peserta loyalty program"
   ]
  },
  {
   "cell_type": "code",
   "execution_count": 24,
   "metadata": {},
   "outputs": [
    {
     "data": {
      "text/html": [
       "<div>\n",
       "<style scoped>\n",
       "    .dataframe tbody tr th:only-of-type {\n",
       "        vertical-align: middle;\n",
       "    }\n",
       "\n",
       "    .dataframe tbody tr th {\n",
       "        vertical-align: top;\n",
       "    }\n",
       "\n",
       "    .dataframe thead th {\n",
       "        text-align: right;\n",
       "    }\n",
       "</style>\n",
       "<table border=\"1\" class=\"dataframe\">\n",
       "  <thead>\n",
       "    <tr style=\"text-align: right;\">\n",
       "      <th></th>\n",
       "      <th>date</th>\n",
       "      <th>loyalty_program</th>\n",
       "    </tr>\n",
       "  </thead>\n",
       "  <tbody>\n",
       "    <tr>\n",
       "      <th>0</th>\n",
       "      <td>2016-12-10</td>\n",
       "      <td>0</td>\n",
       "    </tr>\n",
       "    <tr>\n",
       "      <th>1</th>\n",
       "      <td>2016-12-14</td>\n",
       "      <td>0</td>\n",
       "    </tr>\n",
       "    <tr>\n",
       "      <th>3</th>\n",
       "      <td>2017-02-09</td>\n",
       "      <td>0</td>\n",
       "    </tr>\n",
       "    <tr>\n",
       "      <th>4</th>\n",
       "      <td>2017-02-13</td>\n",
       "      <td>1</td>\n",
       "    </tr>\n",
       "    <tr>\n",
       "      <th>5</th>\n",
       "      <td>2016-12-12</td>\n",
       "      <td>0</td>\n",
       "    </tr>\n",
       "    <tr>\n",
       "      <th>...</th>\n",
       "      <td>...</td>\n",
       "      <td>...</td>\n",
       "    </tr>\n",
       "    <tr>\n",
       "      <th>801</th>\n",
       "      <td>2017-01-26</td>\n",
       "      <td>1</td>\n",
       "    </tr>\n",
       "    <tr>\n",
       "      <th>1026</th>\n",
       "      <td>2017-01-30</td>\n",
       "      <td>1</td>\n",
       "    </tr>\n",
       "    <tr>\n",
       "      <th>1059</th>\n",
       "      <td>2017-02-07</td>\n",
       "      <td>1</td>\n",
       "    </tr>\n",
       "    <tr>\n",
       "      <th>1158</th>\n",
       "      <td>2016-12-22</td>\n",
       "      <td>1</td>\n",
       "    </tr>\n",
       "    <tr>\n",
       "      <th>1911</th>\n",
       "      <td>2017-02-10</td>\n",
       "      <td>1</td>\n",
       "    </tr>\n",
       "  </tbody>\n",
       "</table>\n",
       "<p>136 rows × 2 columns</p>\n",
       "</div>"
      ],
      "text/plain": [
       "           date  loyalty_program\n",
       "0    2016-12-10                0\n",
       "1    2016-12-14                0\n",
       "3    2017-02-09                0\n",
       "4    2017-02-13                1\n",
       "5    2016-12-12                0\n",
       "...         ...              ...\n",
       "801  2017-01-26                1\n",
       "1026 2017-01-30                1\n",
       "1059 2017-02-07                1\n",
       "1158 2016-12-22                1\n",
       "1911 2017-02-10                1\n",
       "\n",
       "[136 rows x 2 columns]"
      ]
     },
     "execution_count": 24,
     "metadata": {},
     "output_type": "execute_result"
    }
   ],
   "source": [
    "# membuat array dengan nilai kelompok tanggal berpasangan yang unik\n",
    "datesGroups = purchase_product[['date', 'loyalty_program']].drop_duplicates()\n",
    "datesGroups"
   ]
  },
  {
   "cell_type": "code",
   "execution_count": 25,
   "metadata": {},
   "outputs": [
    {
     "data": {
      "text/html": [
       "<div>\n",
       "<style scoped>\n",
       "    .dataframe tbody tr th:only-of-type {\n",
       "        vertical-align: middle;\n",
       "    }\n",
       "\n",
       "    .dataframe tbody tr th {\n",
       "        vertical-align: top;\n",
       "    }\n",
       "\n",
       "    .dataframe thead th {\n",
       "        text-align: right;\n",
       "    }\n",
       "</style>\n",
       "<table border=\"1\" class=\"dataframe\">\n",
       "  <thead>\n",
       "    <tr style=\"text-align: right;\">\n",
       "      <th></th>\n",
       "      <th>date</th>\n",
       "      <th>loyalty_program</th>\n",
       "      <th>purchase_id</th>\n",
       "      <th>customer_id</th>\n",
       "      <th>revenue</th>\n",
       "    </tr>\n",
       "  </thead>\n",
       "  <tbody>\n",
       "    <tr>\n",
       "      <th>52</th>\n",
       "      <td>2016-12-01</td>\n",
       "      <td>0</td>\n",
       "      <td>1085</td>\n",
       "      <td>581</td>\n",
       "      <td>17287.13</td>\n",
       "    </tr>\n",
       "    <tr>\n",
       "      <th>309</th>\n",
       "      <td>2016-12-01</td>\n",
       "      <td>1</td>\n",
       "      <td>453</td>\n",
       "      <td>321</td>\n",
       "      <td>7763.91</td>\n",
       "    </tr>\n",
       "    <tr>\n",
       "      <th>54</th>\n",
       "      <td>2016-12-02</td>\n",
       "      <td>0</td>\n",
       "      <td>1444</td>\n",
       "      <td>727</td>\n",
       "      <td>28837.55</td>\n",
       "    </tr>\n",
       "    <tr>\n",
       "      <th>595</th>\n",
       "      <td>2016-12-02</td>\n",
       "      <td>1</td>\n",
       "      <td>624</td>\n",
       "      <td>394</td>\n",
       "      <td>13246.14</td>\n",
       "    </tr>\n",
       "    <tr>\n",
       "      <th>36</th>\n",
       "      <td>2016-12-03</td>\n",
       "      <td>0</td>\n",
       "      <td>1698</td>\n",
       "      <td>833</td>\n",
       "      <td>41560.39</td>\n",
       "    </tr>\n",
       "    <tr>\n",
       "      <th>...</th>\n",
       "      <td>...</td>\n",
       "      <td>...</td>\n",
       "      <td>...</td>\n",
       "      <td>...</td>\n",
       "      <td>...</td>\n",
       "    </tr>\n",
       "    <tr>\n",
       "      <th>154</th>\n",
       "      <td>2017-02-25</td>\n",
       "      <td>1</td>\n",
       "      <td>1340</td>\n",
       "      <td>586</td>\n",
       "      <td>253276.67</td>\n",
       "    </tr>\n",
       "    <tr>\n",
       "      <th>15</th>\n",
       "      <td>2017-02-27</td>\n",
       "      <td>0</td>\n",
       "      <td>3533</td>\n",
       "      <td>1162</td>\n",
       "      <td>701882.67</td>\n",
       "    </tr>\n",
       "    <tr>\n",
       "      <th>268</th>\n",
       "      <td>2017-02-27</td>\n",
       "      <td>1</td>\n",
       "      <td>1341</td>\n",
       "      <td>586</td>\n",
       "      <td>254509.46</td>\n",
       "    </tr>\n",
       "    <tr>\n",
       "      <th>14</th>\n",
       "      <td>2017-02-28</td>\n",
       "      <td>0</td>\n",
       "      <td>3550</td>\n",
       "      <td>1163</td>\n",
       "      <td>713920.45</td>\n",
       "    </tr>\n",
       "    <tr>\n",
       "      <th>337</th>\n",
       "      <td>2017-02-28</td>\n",
       "      <td>1</td>\n",
       "      <td>1344</td>\n",
       "      <td>587</td>\n",
       "      <td>261525.61</td>\n",
       "    </tr>\n",
       "  </tbody>\n",
       "</table>\n",
       "<p>136 rows × 5 columns</p>\n",
       "</div>"
      ],
      "text/plain": [
       "          date  loyalty_program  purchase_id  customer_id    revenue\n",
       "52  2016-12-01                0         1085          581   17287.13\n",
       "309 2016-12-01                1          453          321    7763.91\n",
       "54  2016-12-02                0         1444          727   28837.55\n",
       "595 2016-12-02                1          624          394   13246.14\n",
       "36  2016-12-03                0         1698          833   41560.39\n",
       "..         ...              ...          ...          ...        ...\n",
       "154 2017-02-25                1         1340          586  253276.67\n",
       "15  2017-02-27                0         3533         1162  701882.67\n",
       "268 2017-02-27                1         1341          586  254509.46\n",
       "14  2017-02-28                0         3550         1163  713920.45\n",
       "337 2017-02-28                1         1344          587  261525.61\n",
       "\n",
       "[136 rows x 5 columns]"
      ]
     },
     "execution_count": 25,
     "metadata": {},
     "output_type": "execute_result"
    }
   ],
   "source": [
    "# mendapatkan data kumulatif harian agregat tentang pesanan\n",
    "ordersAggregated = datesGroups.apply(\n",
    "    lambda x: purchase_product[np.logical_and(purchase_product['date'] <= x['date'], purchase_product['loyalty_program'] == x['loyalty_program'])].agg(\n",
    "        {'date' : 'max', 'loyalty_program': 'max', 'purchase_id' : pd.Series.nunique, 'customer_id' : pd.Series.nunique, 'revenue': 'sum'})\n",
    "    , axis=1).sort_values(by=['date', 'loyalty_program'])\n",
    "ordersAggregated"
   ]
  },
  {
   "cell_type": "code",
   "execution_count": 26,
   "metadata": {},
   "outputs": [
    {
     "data": {
      "text/plain": [
       "<AxesSubplot:xlabel='date', ylabel='revenue'>"
      ]
     },
     "execution_count": 26,
     "metadata": {},
     "output_type": "execute_result"
    },
    {
     "data": {
      "image/png": "[encoded data removed]",
      "text/plain": [
       "<Figure size 1080x360 with 1 Axes>"
      ]
     },
     "metadata": {
      "needs_background": "light"
     },
     "output_type": "display_data"
    }
   ],
   "source": [
    "#Membuat diagram pendapatan kumulativ\n",
    "plt.figure(figsize=(15, 5))\n",
    "sns.lineplot(data=ordersAggregated, x='date', y='revenue', hue='loyalty_program')"
   ]
  },
  {
   "cell_type": "markdown",
   "metadata": {},
   "source": [
    "    - Pendapatan kumulativ group 0 lebih besar daripada group 1. Selama 3 bulan, pendapatan dari group 0 mencapai \n",
    "    700.000 dollar, sedangkan pendapatan kumulativ dari group 1 hanya mencapai 200.000  dollar."
   ]
  },
  {
   "cell_type": "markdown",
   "metadata": {},
   "source": [
    "<div class=\"alert alert-success\">\n",
    "<b>Code Reviewers's comment v.1</b> <a class=\"tocSkip\"></a>\n",
    "\n",
    "Bagus, code yang dijalankan sudah sesuai dengan instruksi dari project.\n",
    "\n",
    "</div>"
   ]
  },
  {
   "cell_type": "markdown",
   "metadata": {},
   "source": [
    "# b. Menghitung rata-rata pendapatan kumulativ"
   ]
  },
  {
   "cell_type": "code",
   "execution_count": 27,
   "metadata": {},
   "outputs": [
    {
     "data": {
      "text/html": [
       "<div>\n",
       "<style scoped>\n",
       "    .dataframe tbody tr th:only-of-type {\n",
       "        vertical-align: middle;\n",
       "    }\n",
       "\n",
       "    .dataframe tbody tr th {\n",
       "        vertical-align: top;\n",
       "    }\n",
       "\n",
       "    .dataframe thead th {\n",
       "        text-align: right;\n",
       "    }\n",
       "</style>\n",
       "<table border=\"1\" class=\"dataframe\">\n",
       "  <thead>\n",
       "    <tr style=\"text-align: right;\">\n",
       "      <th></th>\n",
       "      <th>date</th>\n",
       "      <th>loyalty_program</th>\n",
       "      <th>purchase_id</th>\n",
       "      <th>customer_id</th>\n",
       "      <th>revenue</th>\n",
       "      <th>avg_rev</th>\n",
       "    </tr>\n",
       "  </thead>\n",
       "  <tbody>\n",
       "    <tr>\n",
       "      <th>52</th>\n",
       "      <td>2016-12-01</td>\n",
       "      <td>0</td>\n",
       "      <td>1085</td>\n",
       "      <td>581</td>\n",
       "      <td>17287.13</td>\n",
       "      <td>15.932839</td>\n",
       "    </tr>\n",
       "    <tr>\n",
       "      <th>309</th>\n",
       "      <td>2016-12-01</td>\n",
       "      <td>1</td>\n",
       "      <td>453</td>\n",
       "      <td>321</td>\n",
       "      <td>7763.91</td>\n",
       "      <td>17.138874</td>\n",
       "    </tr>\n",
       "    <tr>\n",
       "      <th>54</th>\n",
       "      <td>2016-12-02</td>\n",
       "      <td>0</td>\n",
       "      <td>1444</td>\n",
       "      <td>727</td>\n",
       "      <td>28837.55</td>\n",
       "      <td>19.970602</td>\n",
       "    </tr>\n",
       "    <tr>\n",
       "      <th>595</th>\n",
       "      <td>2016-12-02</td>\n",
       "      <td>1</td>\n",
       "      <td>624</td>\n",
       "      <td>394</td>\n",
       "      <td>13246.14</td>\n",
       "      <td>21.227788</td>\n",
       "    </tr>\n",
       "    <tr>\n",
       "      <th>36</th>\n",
       "      <td>2016-12-03</td>\n",
       "      <td>0</td>\n",
       "      <td>1698</td>\n",
       "      <td>833</td>\n",
       "      <td>41560.39</td>\n",
       "      <td>24.476084</td>\n",
       "    </tr>\n",
       "  </tbody>\n",
       "</table>\n",
       "</div>"
      ],
      "text/plain": [
       "          date  loyalty_program  purchase_id  customer_id   revenue    avg_rev\n",
       "52  2016-12-01                0         1085          581  17287.13  15.932839\n",
       "309 2016-12-01                1          453          321   7763.91  17.138874\n",
       "54  2016-12-02                0         1444          727  28837.55  19.970602\n",
       "595 2016-12-02                1          624          394  13246.14  21.227788\n",
       "36  2016-12-03                0         1698          833  41560.39  24.476084"
      ]
     },
     "execution_count": 27,
     "metadata": {},
     "output_type": "execute_result"
    }
   ],
   "source": [
    "#Menghitung rata-rata pendapatan kumulativ\n",
    "ordersAggregated['avg_rev'] = ordersAggregated['revenue'] / ordersAggregated['purchase_id']\n",
    "ordersAggregated.head()"
   ]
  },
  {
   "cell_type": "code",
   "execution_count": 28,
   "metadata": {},
   "outputs": [
    {
     "data": {
      "text/plain": [
       "<AxesSubplot:xlabel='date', ylabel='avg_rev'>"
      ]
     },
     "execution_count": 28,
     "metadata": {},
     "output_type": "execute_result"
    },
    {
     "data": {
      "image/png": "[encoded data removed]",
      "text/plain": [
       "<Figure size 1080x360 with 1 Axes>"
      ]
     },
     "metadata": {
      "needs_background": "light"
     },
     "output_type": "display_data"
    }
   ],
   "source": [
    "#Membuat diagram rata-rata pesanan kumulativ\n",
    "plt.figure(figsize=(15, 5))\n",
    "sns.lineplot(data=ordersAggregated, x='date', y='avg_rev', hue='loyalty_program')"
   ]
  },
  {
   "cell_type": "markdown",
   "metadata": {},
   "source": [
    "    - Rata-rata pendapatan kumulativ untuk kedua group tidak berbeda jauh. Rata-rata pendapatan kumulativ group 0 \n",
    "    sedikit di atas group 1."
   ]
  },
  {
   "cell_type": "markdown",
   "metadata": {},
   "source": [
    "<div class=\"alert alert-success\">\n",
    "<b>Code Reviewers's comment v.1</b> <a class=\"tocSkip\"></a>\n",
    "\n",
    "Bagus, code yang dijalankan sudah sesuai dengan instruksi dari project.\n",
    "\n",
    "</div>"
   ]
  },
  {
   "cell_type": "markdown",
   "metadata": {},
   "source": [
    "# c. Gambaran perbedaan relatif untuk pendapatan rata-rata kumulatif kelompok 0 yang dibandingkan dengan kelompok 1"
   ]
  },
  {
   "cell_type": "code",
   "execution_count": 29,
   "metadata": {},
   "outputs": [
    {
     "data": {
      "text/html": [
       "<div>\n",
       "<style scoped>\n",
       "    .dataframe tbody tr th:only-of-type {\n",
       "        vertical-align: middle;\n",
       "    }\n",
       "\n",
       "    .dataframe tbody tr th {\n",
       "        vertical-align: top;\n",
       "    }\n",
       "\n",
       "    .dataframe thead th {\n",
       "        text-align: right;\n",
       "    }\n",
       "</style>\n",
       "<table border=\"1\" class=\"dataframe\">\n",
       "  <thead>\n",
       "    <tr style=\"text-align: right;\">\n",
       "      <th></th>\n",
       "      <th>date</th>\n",
       "      <th>loyalty_program1</th>\n",
       "      <th>purchase_id1</th>\n",
       "      <th>customer_id1</th>\n",
       "      <th>revenue1</th>\n",
       "      <th>avg_rev1</th>\n",
       "      <th>loyalty_program0</th>\n",
       "      <th>purchase_id0</th>\n",
       "      <th>customer_id0</th>\n",
       "      <th>revenue0</th>\n",
       "      <th>avg_rev0</th>\n",
       "    </tr>\n",
       "  </thead>\n",
       "  <tbody>\n",
       "    <tr>\n",
       "      <th>0</th>\n",
       "      <td>2016-12-01</td>\n",
       "      <td>1</td>\n",
       "      <td>453</td>\n",
       "      <td>321</td>\n",
       "      <td>7763.91</td>\n",
       "      <td>17.138874</td>\n",
       "      <td>0</td>\n",
       "      <td>1085</td>\n",
       "      <td>581</td>\n",
       "      <td>17287.13</td>\n",
       "      <td>15.932839</td>\n",
       "    </tr>\n",
       "    <tr>\n",
       "      <th>1</th>\n",
       "      <td>2016-12-02</td>\n",
       "      <td>1</td>\n",
       "      <td>624</td>\n",
       "      <td>394</td>\n",
       "      <td>13246.14</td>\n",
       "      <td>21.227788</td>\n",
       "      <td>0</td>\n",
       "      <td>1444</td>\n",
       "      <td>727</td>\n",
       "      <td>28837.55</td>\n",
       "      <td>19.970602</td>\n",
       "    </tr>\n",
       "    <tr>\n",
       "      <th>2</th>\n",
       "      <td>2016-12-03</td>\n",
       "      <td>1</td>\n",
       "      <td>733</td>\n",
       "      <td>431</td>\n",
       "      <td>19244.11</td>\n",
       "      <td>26.253902</td>\n",
       "      <td>0</td>\n",
       "      <td>1698</td>\n",
       "      <td>833</td>\n",
       "      <td>41560.39</td>\n",
       "      <td>24.476084</td>\n",
       "    </tr>\n",
       "    <tr>\n",
       "      <th>3</th>\n",
       "      <td>2016-12-05</td>\n",
       "      <td>1</td>\n",
       "      <td>824</td>\n",
       "      <td>458</td>\n",
       "      <td>27587.23</td>\n",
       "      <td>33.479648</td>\n",
       "      <td>0</td>\n",
       "      <td>1923</td>\n",
       "      <td>909</td>\n",
       "      <td>59310.33</td>\n",
       "      <td>30.842605</td>\n",
       "    </tr>\n",
       "    <tr>\n",
       "      <th>4</th>\n",
       "      <td>2016-12-06</td>\n",
       "      <td>1</td>\n",
       "      <td>908</td>\n",
       "      <td>490</td>\n",
       "      <td>34116.65</td>\n",
       "      <td>37.573403</td>\n",
       "      <td>0</td>\n",
       "      <td>2147</td>\n",
       "      <td>978</td>\n",
       "      <td>90086.53</td>\n",
       "      <td>41.959259</td>\n",
       "    </tr>\n",
       "  </tbody>\n",
       "</table>\n",
       "</div>"
      ],
      "text/plain": [
       "        date  loyalty_program1  purchase_id1  customer_id1  revenue1  \\\n",
       "0 2016-12-01                 1           453           321   7763.91   \n",
       "1 2016-12-02                 1           624           394  13246.14   \n",
       "2 2016-12-03                 1           733           431  19244.11   \n",
       "3 2016-12-05                 1           824           458  27587.23   \n",
       "4 2016-12-06                 1           908           490  34116.65   \n",
       "\n",
       "    avg_rev1  loyalty_program0  purchase_id0  customer_id0  revenue0  \\\n",
       "0  17.138874                 0          1085           581  17287.13   \n",
       "1  21.227788                 0          1444           727  28837.55   \n",
       "2  26.253902                 0          1698           833  41560.39   \n",
       "3  33.479648                 0          1923           909  59310.33   \n",
       "4  37.573403                 0          2147           978  90086.53   \n",
       "\n",
       "    avg_rev0  \n",
       "0  15.932839  \n",
       "1  19.970602  \n",
       "2  24.476084  \n",
       "3  30.842605  \n",
       "4  41.959259  "
      ]
     },
     "execution_count": 29,
     "metadata": {},
     "output_type": "execute_result"
    }
   ],
   "source": [
    "#Mendapatkan data kumulatif untuk group 1\n",
    "cumulativeData_1 = ordersAggregated[ordersAggregated['loyalty_program']==1].reset_index(drop=True)\n",
    "\n",
    "#Mendapatkan data kumulatif untuk group 0\n",
    "cumulativeData_0 = ordersAggregated[ordersAggregated['loyalty_program']==0].reset_index(drop=True)\n",
    "\n",
    "mergedCumulative = cumulativeData_1.merge(cumulativeData_0,\n",
    "                                 left_on='date',\n",
    "                                 right_on='date',\n",
    "                                 how='left',\n",
    "                                 suffixes=['1', '0'])\n",
    "mergedCumulative.head()"
   ]
  },
  {
   "cell_type": "code",
   "execution_count": 30,
   "metadata": {},
   "outputs": [
    {
     "data": {
      "text/plain": [
       "<matplotlib.lines.Line2D at 0x7f99de07c040>"
      ]
     },
     "execution_count": 30,
     "metadata": {},
     "output_type": "execute_result"
    },
    {
     "data": {
      "image/png": "[encoded data removed]",
      "text/plain": [
       "<Figure size 432x288 with 1 Axes>"
      ]
     },
     "metadata": {
      "needs_background": "light"
     },
     "output_type": "display_data"
    }
   ],
   "source": [
    "# membuat grafik perbedaan relatif untuk jumlah pembelian rata-rata\n",
    "plt.plot(mergedCumulative['date'], (\n",
    "    mergedCumulative['revenue0']/mergedCumulative['purchase_id0'])/(mergedCumulative['revenue1']/mergedCumulative['purchase_id1'])-1)\n",
    "\n",
    "# menambahkan sumbu X\n",
    "plt.axhline(y=0, color='black', linestyle='--') "
   ]
  },
  {
   "cell_type": "markdown",
   "metadata": {},
   "source": [
    "    - Berdasarkan grafik perbedaan relatif untuk rata-rata pendapatan, dapat dilihat bahwa nilai perbedaan relatifnya \n",
    "    lebih banyak yang positif (di atas 0), artinya rata-rata pendapatan group 0 lebih besar daripada group 1. "
   ]
  },
  {
   "cell_type": "markdown",
   "metadata": {},
   "source": [
    "<div class=\"alert alert-success\">\n",
    "<b>Code Reviewers's comment v.1</b> <a class=\"tocSkip\"></a>\n",
    "\n",
    "Bagus, code yang dijalankan sudah sesuai dengan instruksi dari project.\n",
    "\n",
    "</div>"
   ]
  },
  {
   "cell_type": "markdown",
   "metadata": {},
   "source": [
    "# d. Gambaran konversi kumulatif berdasarkan kelompok"
   ]
  },
  {
   "cell_type": "code",
   "execution_count": 31,
   "metadata": {},
   "outputs": [],
   "source": [
    "#Menghitung konversi kumulatif\n",
    "ordersAggregated['conversion'] = ordersAggregated['purchase_id']/ordersAggregated['customer_id']\n",
    "ordersAggregated1 = ordersAggregated[ordersAggregated['loyalty_program']==1]\n",
    "ordersAggregated0 = ordersAggregated[ordersAggregated['loyalty_program']==0]"
   ]
  },
  {
   "cell_type": "code",
   "execution_count": 32,
   "metadata": {},
   "outputs": [
    {
     "data": {
      "text/html": [
       "<div>\n",
       "<style scoped>\n",
       "    .dataframe tbody tr th:only-of-type {\n",
       "        vertical-align: middle;\n",
       "    }\n",
       "\n",
       "    .dataframe tbody tr th {\n",
       "        vertical-align: top;\n",
       "    }\n",
       "\n",
       "    .dataframe thead th {\n",
       "        text-align: right;\n",
       "    }\n",
       "</style>\n",
       "<table border=\"1\" class=\"dataframe\">\n",
       "  <thead>\n",
       "    <tr style=\"text-align: right;\">\n",
       "      <th></th>\n",
       "      <th>date</th>\n",
       "      <th>loyalty_program</th>\n",
       "      <th>purchase_id</th>\n",
       "      <th>customer_id</th>\n",
       "      <th>revenue</th>\n",
       "      <th>avg_rev</th>\n",
       "      <th>conversion</th>\n",
       "    </tr>\n",
       "  </thead>\n",
       "  <tbody>\n",
       "    <tr>\n",
       "      <th>52</th>\n",
       "      <td>2016-12-01</td>\n",
       "      <td>0</td>\n",
       "      <td>1085</td>\n",
       "      <td>581</td>\n",
       "      <td>17287.13</td>\n",
       "      <td>15.932839</td>\n",
       "      <td>1.867470</td>\n",
       "    </tr>\n",
       "    <tr>\n",
       "      <th>309</th>\n",
       "      <td>2016-12-01</td>\n",
       "      <td>1</td>\n",
       "      <td>453</td>\n",
       "      <td>321</td>\n",
       "      <td>7763.91</td>\n",
       "      <td>17.138874</td>\n",
       "      <td>1.411215</td>\n",
       "    </tr>\n",
       "    <tr>\n",
       "      <th>54</th>\n",
       "      <td>2016-12-02</td>\n",
       "      <td>0</td>\n",
       "      <td>1444</td>\n",
       "      <td>727</td>\n",
       "      <td>28837.55</td>\n",
       "      <td>19.970602</td>\n",
       "      <td>1.986245</td>\n",
       "    </tr>\n",
       "    <tr>\n",
       "      <th>595</th>\n",
       "      <td>2016-12-02</td>\n",
       "      <td>1</td>\n",
       "      <td>624</td>\n",
       "      <td>394</td>\n",
       "      <td>13246.14</td>\n",
       "      <td>21.227788</td>\n",
       "      <td>1.583756</td>\n",
       "    </tr>\n",
       "    <tr>\n",
       "      <th>36</th>\n",
       "      <td>2016-12-03</td>\n",
       "      <td>0</td>\n",
       "      <td>1698</td>\n",
       "      <td>833</td>\n",
       "      <td>41560.39</td>\n",
       "      <td>24.476084</td>\n",
       "      <td>2.038415</td>\n",
       "    </tr>\n",
       "    <tr>\n",
       "      <th>...</th>\n",
       "      <td>...</td>\n",
       "      <td>...</td>\n",
       "      <td>...</td>\n",
       "      <td>...</td>\n",
       "      <td>...</td>\n",
       "      <td>...</td>\n",
       "      <td>...</td>\n",
       "    </tr>\n",
       "    <tr>\n",
       "      <th>154</th>\n",
       "      <td>2017-02-25</td>\n",
       "      <td>1</td>\n",
       "      <td>1340</td>\n",
       "      <td>586</td>\n",
       "      <td>253276.67</td>\n",
       "      <td>189.012440</td>\n",
       "      <td>2.286689</td>\n",
       "    </tr>\n",
       "    <tr>\n",
       "      <th>15</th>\n",
       "      <td>2017-02-27</td>\n",
       "      <td>0</td>\n",
       "      <td>3533</td>\n",
       "      <td>1162</td>\n",
       "      <td>701882.67</td>\n",
       "      <td>198.664781</td>\n",
       "      <td>3.040448</td>\n",
       "    </tr>\n",
       "    <tr>\n",
       "      <th>268</th>\n",
       "      <td>2017-02-27</td>\n",
       "      <td>1</td>\n",
       "      <td>1341</td>\n",
       "      <td>586</td>\n",
       "      <td>254509.46</td>\n",
       "      <td>189.790798</td>\n",
       "      <td>2.288396</td>\n",
       "    </tr>\n",
       "    <tr>\n",
       "      <th>14</th>\n",
       "      <td>2017-02-28</td>\n",
       "      <td>0</td>\n",
       "      <td>3550</td>\n",
       "      <td>1163</td>\n",
       "      <td>713920.45</td>\n",
       "      <td>201.104352</td>\n",
       "      <td>3.052451</td>\n",
       "    </tr>\n",
       "    <tr>\n",
       "      <th>337</th>\n",
       "      <td>2017-02-28</td>\n",
       "      <td>1</td>\n",
       "      <td>1344</td>\n",
       "      <td>587</td>\n",
       "      <td>261525.61</td>\n",
       "      <td>194.587507</td>\n",
       "      <td>2.289608</td>\n",
       "    </tr>\n",
       "  </tbody>\n",
       "</table>\n",
       "<p>136 rows × 7 columns</p>\n",
       "</div>"
      ],
      "text/plain": [
       "          date  loyalty_program  purchase_id  customer_id    revenue  \\\n",
       "52  2016-12-01                0         1085          581   17287.13   \n",
       "309 2016-12-01                1          453          321    7763.91   \n",
       "54  2016-12-02                0         1444          727   28837.55   \n",
       "595 2016-12-02                1          624          394   13246.14   \n",
       "36  2016-12-03                0         1698          833   41560.39   \n",
       "..         ...              ...          ...          ...        ...   \n",
       "154 2017-02-25                1         1340          586  253276.67   \n",
       "15  2017-02-27                0         3533         1162  701882.67   \n",
       "268 2017-02-27                1         1341          586  254509.46   \n",
       "14  2017-02-28                0         3550         1163  713920.45   \n",
       "337 2017-02-28                1         1344          587  261525.61   \n",
       "\n",
       "        avg_rev  conversion  \n",
       "52    15.932839    1.867470  \n",
       "309   17.138874    1.411215  \n",
       "54    19.970602    1.986245  \n",
       "595   21.227788    1.583756  \n",
       "36    24.476084    2.038415  \n",
       "..          ...         ...  \n",
       "154  189.012440    2.286689  \n",
       "15   198.664781    3.040448  \n",
       "268  189.790798    2.288396  \n",
       "14   201.104352    3.052451  \n",
       "337  194.587507    2.289608  \n",
       "\n",
       "[136 rows x 7 columns]"
      ]
     },
     "execution_count": 32,
     "metadata": {},
     "output_type": "execute_result"
    }
   ],
   "source": [
    "ordersAggregated['conversion'] = ordersAggregated['purchase_id']/ordersAggregated['customer_id']\n",
    "ordersAggregated"
   ]
  },
  {
   "cell_type": "code",
   "execution_count": 33,
   "metadata": {},
   "outputs": [
    {
     "data": {
      "text/html": [
       "<div>\n",
       "<style scoped>\n",
       "    .dataframe tbody tr th:only-of-type {\n",
       "        vertical-align: middle;\n",
       "    }\n",
       "\n",
       "    .dataframe tbody tr th {\n",
       "        vertical-align: top;\n",
       "    }\n",
       "\n",
       "    .dataframe thead th {\n",
       "        text-align: right;\n",
       "    }\n",
       "</style>\n",
       "<table border=\"1\" class=\"dataframe\">\n",
       "  <thead>\n",
       "    <tr style=\"text-align: right;\">\n",
       "      <th></th>\n",
       "      <th>date</th>\n",
       "      <th>loyalty_program</th>\n",
       "      <th>purchase_id</th>\n",
       "      <th>customer_id</th>\n",
       "      <th>revenue</th>\n",
       "      <th>avg_rev</th>\n",
       "      <th>conversion</th>\n",
       "    </tr>\n",
       "  </thead>\n",
       "  <tbody>\n",
       "    <tr>\n",
       "      <th>309</th>\n",
       "      <td>2016-12-01</td>\n",
       "      <td>1</td>\n",
       "      <td>453</td>\n",
       "      <td>321</td>\n",
       "      <td>7763.91</td>\n",
       "      <td>17.138874</td>\n",
       "      <td>1.411215</td>\n",
       "    </tr>\n",
       "    <tr>\n",
       "      <th>595</th>\n",
       "      <td>2016-12-02</td>\n",
       "      <td>1</td>\n",
       "      <td>624</td>\n",
       "      <td>394</td>\n",
       "      <td>13246.14</td>\n",
       "      <td>21.227788</td>\n",
       "      <td>1.583756</td>\n",
       "    </tr>\n",
       "    <tr>\n",
       "      <th>30</th>\n",
       "      <td>2016-12-03</td>\n",
       "      <td>1</td>\n",
       "      <td>733</td>\n",
       "      <td>431</td>\n",
       "      <td>19244.11</td>\n",
       "      <td>26.253902</td>\n",
       "      <td>1.700696</td>\n",
       "    </tr>\n",
       "    <tr>\n",
       "      <th>646</th>\n",
       "      <td>2016-12-05</td>\n",
       "      <td>1</td>\n",
       "      <td>824</td>\n",
       "      <td>458</td>\n",
       "      <td>27587.23</td>\n",
       "      <td>33.479648</td>\n",
       "      <td>1.799127</td>\n",
       "    </tr>\n",
       "    <tr>\n",
       "      <th>233</th>\n",
       "      <td>2016-12-06</td>\n",
       "      <td>1</td>\n",
       "      <td>908</td>\n",
       "      <td>490</td>\n",
       "      <td>34116.65</td>\n",
       "      <td>37.573403</td>\n",
       "      <td>1.853061</td>\n",
       "    </tr>\n",
       "    <tr>\n",
       "      <th>...</th>\n",
       "      <td>...</td>\n",
       "      <td>...</td>\n",
       "      <td>...</td>\n",
       "      <td>...</td>\n",
       "      <td>...</td>\n",
       "      <td>...</td>\n",
       "      <td>...</td>\n",
       "    </tr>\n",
       "    <tr>\n",
       "      <th>608</th>\n",
       "      <td>2017-02-23</td>\n",
       "      <td>1</td>\n",
       "      <td>1338</td>\n",
       "      <td>586</td>\n",
       "      <td>243069.19</td>\n",
       "      <td>181.666061</td>\n",
       "      <td>2.283276</td>\n",
       "    </tr>\n",
       "    <tr>\n",
       "      <th>339</th>\n",
       "      <td>2017-02-24</td>\n",
       "      <td>1</td>\n",
       "      <td>1338</td>\n",
       "      <td>586</td>\n",
       "      <td>246262.21</td>\n",
       "      <td>184.052474</td>\n",
       "      <td>2.283276</td>\n",
       "    </tr>\n",
       "    <tr>\n",
       "      <th>154</th>\n",
       "      <td>2017-02-25</td>\n",
       "      <td>1</td>\n",
       "      <td>1340</td>\n",
       "      <td>586</td>\n",
       "      <td>253276.67</td>\n",
       "      <td>189.012440</td>\n",
       "      <td>2.286689</td>\n",
       "    </tr>\n",
       "    <tr>\n",
       "      <th>268</th>\n",
       "      <td>2017-02-27</td>\n",
       "      <td>1</td>\n",
       "      <td>1341</td>\n",
       "      <td>586</td>\n",
       "      <td>254509.46</td>\n",
       "      <td>189.790798</td>\n",
       "      <td>2.288396</td>\n",
       "    </tr>\n",
       "    <tr>\n",
       "      <th>337</th>\n",
       "      <td>2017-02-28</td>\n",
       "      <td>1</td>\n",
       "      <td>1344</td>\n",
       "      <td>587</td>\n",
       "      <td>261525.61</td>\n",
       "      <td>194.587507</td>\n",
       "      <td>2.289608</td>\n",
       "    </tr>\n",
       "  </tbody>\n",
       "</table>\n",
       "<p>68 rows × 7 columns</p>\n",
       "</div>"
      ],
      "text/plain": [
       "          date  loyalty_program  purchase_id  customer_id    revenue  \\\n",
       "309 2016-12-01                1          453          321    7763.91   \n",
       "595 2016-12-02                1          624          394   13246.14   \n",
       "30  2016-12-03                1          733          431   19244.11   \n",
       "646 2016-12-05                1          824          458   27587.23   \n",
       "233 2016-12-06                1          908          490   34116.65   \n",
       "..         ...              ...          ...          ...        ...   \n",
       "608 2017-02-23                1         1338          586  243069.19   \n",
       "339 2017-02-24                1         1338          586  246262.21   \n",
       "154 2017-02-25                1         1340          586  253276.67   \n",
       "268 2017-02-27                1         1341          586  254509.46   \n",
       "337 2017-02-28                1         1344          587  261525.61   \n",
       "\n",
       "        avg_rev  conversion  \n",
       "309   17.138874    1.411215  \n",
       "595   21.227788    1.583756  \n",
       "30    26.253902    1.700696  \n",
       "646   33.479648    1.799127  \n",
       "233   37.573403    1.853061  \n",
       "..          ...         ...  \n",
       "608  181.666061    2.283276  \n",
       "339  184.052474    2.283276  \n",
       "154  189.012440    2.286689  \n",
       "268  189.790798    2.288396  \n",
       "337  194.587507    2.289608  \n",
       "\n",
       "[68 rows x 7 columns]"
      ]
     },
     "execution_count": 33,
     "metadata": {},
     "output_type": "execute_result"
    }
   ],
   "source": [
    "ordersAggregated1 = ordersAggregated[ordersAggregated['loyalty_program']==1]\n",
    "ordersAggregated1"
   ]
  },
  {
   "cell_type": "code",
   "execution_count": 34,
   "metadata": {},
   "outputs": [
    {
     "data": {
      "text/html": [
       "<div>\n",
       "<style scoped>\n",
       "    .dataframe tbody tr th:only-of-type {\n",
       "        vertical-align: middle;\n",
       "    }\n",
       "\n",
       "    .dataframe tbody tr th {\n",
       "        vertical-align: top;\n",
       "    }\n",
       "\n",
       "    .dataframe thead th {\n",
       "        text-align: right;\n",
       "    }\n",
       "</style>\n",
       "<table border=\"1\" class=\"dataframe\">\n",
       "  <thead>\n",
       "    <tr style=\"text-align: right;\">\n",
       "      <th></th>\n",
       "      <th>date</th>\n",
       "      <th>loyalty_program</th>\n",
       "      <th>purchase_id</th>\n",
       "      <th>customer_id</th>\n",
       "      <th>revenue</th>\n",
       "      <th>avg_rev</th>\n",
       "      <th>conversion</th>\n",
       "    </tr>\n",
       "  </thead>\n",
       "  <tbody>\n",
       "    <tr>\n",
       "      <th>52</th>\n",
       "      <td>2016-12-01</td>\n",
       "      <td>0</td>\n",
       "      <td>1085</td>\n",
       "      <td>581</td>\n",
       "      <td>17287.13</td>\n",
       "      <td>15.932839</td>\n",
       "      <td>1.867470</td>\n",
       "    </tr>\n",
       "    <tr>\n",
       "      <th>54</th>\n",
       "      <td>2016-12-02</td>\n",
       "      <td>0</td>\n",
       "      <td>1444</td>\n",
       "      <td>727</td>\n",
       "      <td>28837.55</td>\n",
       "      <td>19.970602</td>\n",
       "      <td>1.986245</td>\n",
       "    </tr>\n",
       "    <tr>\n",
       "      <th>36</th>\n",
       "      <td>2016-12-03</td>\n",
       "      <td>0</td>\n",
       "      <td>1698</td>\n",
       "      <td>833</td>\n",
       "      <td>41560.39</td>\n",
       "      <td>24.476084</td>\n",
       "      <td>2.038415</td>\n",
       "    </tr>\n",
       "    <tr>\n",
       "      <th>35</th>\n",
       "      <td>2016-12-05</td>\n",
       "      <td>0</td>\n",
       "      <td>1923</td>\n",
       "      <td>909</td>\n",
       "      <td>59310.33</td>\n",
       "      <td>30.842605</td>\n",
       "      <td>2.115512</td>\n",
       "    </tr>\n",
       "    <tr>\n",
       "      <th>47</th>\n",
       "      <td>2016-12-06</td>\n",
       "      <td>0</td>\n",
       "      <td>2147</td>\n",
       "      <td>978</td>\n",
       "      <td>90086.53</td>\n",
       "      <td>41.959259</td>\n",
       "      <td>2.195297</td>\n",
       "    </tr>\n",
       "    <tr>\n",
       "      <th>...</th>\n",
       "      <td>...</td>\n",
       "      <td>...</td>\n",
       "      <td>...</td>\n",
       "      <td>...</td>\n",
       "      <td>...</td>\n",
       "      <td>...</td>\n",
       "      <td>...</td>\n",
       "    </tr>\n",
       "    <tr>\n",
       "      <th>58</th>\n",
       "      <td>2017-02-23</td>\n",
       "      <td>0</td>\n",
       "      <td>3511</td>\n",
       "      <td>1161</td>\n",
       "      <td>671145.83</td>\n",
       "      <td>191.155178</td>\n",
       "      <td>3.024117</td>\n",
       "    </tr>\n",
       "    <tr>\n",
       "      <th>37</th>\n",
       "      <td>2017-02-24</td>\n",
       "      <td>0</td>\n",
       "      <td>3520</td>\n",
       "      <td>1162</td>\n",
       "      <td>680587.63</td>\n",
       "      <td>193.348759</td>\n",
       "      <td>3.029260</td>\n",
       "    </tr>\n",
       "    <tr>\n",
       "      <th>122</th>\n",
       "      <td>2017-02-25</td>\n",
       "      <td>0</td>\n",
       "      <td>3527</td>\n",
       "      <td>1162</td>\n",
       "      <td>695466.59</td>\n",
       "      <td>197.183609</td>\n",
       "      <td>3.035284</td>\n",
       "    </tr>\n",
       "    <tr>\n",
       "      <th>15</th>\n",
       "      <td>2017-02-27</td>\n",
       "      <td>0</td>\n",
       "      <td>3533</td>\n",
       "      <td>1162</td>\n",
       "      <td>701882.67</td>\n",
       "      <td>198.664781</td>\n",
       "      <td>3.040448</td>\n",
       "    </tr>\n",
       "    <tr>\n",
       "      <th>14</th>\n",
       "      <td>2017-02-28</td>\n",
       "      <td>0</td>\n",
       "      <td>3550</td>\n",
       "      <td>1163</td>\n",
       "      <td>713920.45</td>\n",
       "      <td>201.104352</td>\n",
       "      <td>3.052451</td>\n",
       "    </tr>\n",
       "  </tbody>\n",
       "</table>\n",
       "<p>68 rows × 7 columns</p>\n",
       "</div>"
      ],
      "text/plain": [
       "          date  loyalty_program  purchase_id  customer_id    revenue  \\\n",
       "52  2016-12-01                0         1085          581   17287.13   \n",
       "54  2016-12-02                0         1444          727   28837.55   \n",
       "36  2016-12-03                0         1698          833   41560.39   \n",
       "35  2016-12-05                0         1923          909   59310.33   \n",
       "47  2016-12-06                0         2147          978   90086.53   \n",
       "..         ...              ...          ...          ...        ...   \n",
       "58  2017-02-23                0         3511         1161  671145.83   \n",
       "37  2017-02-24                0         3520         1162  680587.63   \n",
       "122 2017-02-25                0         3527         1162  695466.59   \n",
       "15  2017-02-27                0         3533         1162  701882.67   \n",
       "14  2017-02-28                0         3550         1163  713920.45   \n",
       "\n",
       "        avg_rev  conversion  \n",
       "52    15.932839    1.867470  \n",
       "54    19.970602    1.986245  \n",
       "36    24.476084    2.038415  \n",
       "35    30.842605    2.115512  \n",
       "47    41.959259    2.195297  \n",
       "..          ...         ...  \n",
       "58   191.155178    3.024117  \n",
       "37   193.348759    3.029260  \n",
       "122  197.183609    3.035284  \n",
       "15   198.664781    3.040448  \n",
       "14   201.104352    3.052451  \n",
       "\n",
       "[68 rows x 7 columns]"
      ]
     },
     "execution_count": 34,
     "metadata": {},
     "output_type": "execute_result"
    }
   ],
   "source": [
    "ordersAggregated0 = ordersAggregated[ordersAggregated['loyalty_program']==0]\n",
    "ordersAggregated0"
   ]
  },
  {
   "cell_type": "code",
   "execution_count": 35,
   "metadata": {},
   "outputs": [
    {
     "data": {
      "text/plain": [
       "(17136.0, 17226.0, 0.0, 5.0)"
      ]
     },
     "execution_count": 35,
     "metadata": {},
     "output_type": "execute_result"
    },
    {
     "data": {
      "image/png": "[encoded data removed]",
      "text/plain": [
       "<Figure size 1080x360 with 1 Axes>"
      ]
     },
     "metadata": {
      "needs_background": "light"
     },
     "output_type": "display_data"
    }
   ],
   "source": [
    "#Membuat grafik \n",
    "plt.figure(figsize=(15, 5))\n",
    "plt.plot(ordersAggregated1['date'], ordersAggregated1['conversion'], label='1')\n",
    "plt.plot(ordersAggregated0['date'], ordersAggregated0['conversion'], label='0')\n",
    "plt.legend()\n",
    "plt.axis([pd.to_datetime('2016-12-01'), pd.to_datetime('2017-03-01'), 0, 5])"
   ]
  },
  {
   "cell_type": "markdown",
   "metadata": {},
   "source": [
    "    - Untuk perbedaan konversi kumulatif, grup 0 selalu lebih besar daripada grup 1"
   ]
  },
  {
   "cell_type": "markdown",
   "metadata": {},
   "source": [
    "<div class=\"alert alert-success\">\n",
    "<b>Code Reviewers's comment v.1</b> <a class=\"tocSkip\"></a>\n",
    "\n",
    "Bagus, code yang dijalankan sudah sesuai dengan instruksi dari project.\n",
    "\n",
    "</div>"
   ]
  },
  {
   "cell_type": "markdown",
   "metadata": {},
   "source": [
    "# e. Diagram tebar (scatter chart) untuk jumlah pesanan per pengguna"
   ]
  },
  {
   "cell_type": "code",
   "execution_count": 36,
   "metadata": {},
   "outputs": [
    {
     "name": "stdout",
     "output_type": "stream",
     "text": [
      "    customer_id  purchase_id\n",
      "36          586            8\n",
      "81         1157            6\n",
      "33          583            5\n",
      "30          580            4\n",
      "35          585            4\n",
      "34          584            4\n",
      "54         1112            3\n",
      "83         1159            3\n",
      "86         1162            3\n",
      "61         1127            3\n"
     ]
    }
   ],
   "source": [
    "ordersByUsers = (\n",
    "    ordersAggregated.drop(['loyalty_program', 'revenue', 'date'], axis=1)\n",
    "    .groupby('customer_id', as_index=False)\n",
    "    .agg({'purchase_id': pd.Series.nunique})\n",
    ")\n",
    "ordersByUsers.columns = ['customer_id', 'purchase_id']\n",
    "\n",
    "print(ordersByUsers.sort_values(by='purchase_id', ascending=False).head(10))"
   ]
  },
  {
   "cell_type": "code",
   "execution_count": 37,
   "metadata": {},
   "outputs": [
    {
     "data": {
      "text/plain": [
       "<matplotlib.collections.PathCollection at 0x7f99d40e0fa0>"
      ]
     },
     "execution_count": 37,
     "metadata": {},
     "output_type": "execute_result"
    },
    {
     "data": {
      "image/png": "[encoded data removed]",
      "text/plain": [
       "<Figure size 1080x360 with 1 Axes>"
      ]
     },
     "metadata": {
      "needs_background": "light"
     },
     "output_type": "display_data"
    }
   ],
   "source": [
    "# rentang angka dari 0 hingga jumlah observasi di ordersByUsers\n",
    "x_values = pd.Series(range(0,len(ordersByUsers)))\n",
    "plt.figure(figsize=(15, 5))\n",
    "plt.scatter(x_values, ordersByUsers['purchase_id'])"
   ]
  },
  {
   "cell_type": "code",
   "execution_count": 38,
   "metadata": {},
   "outputs": [
    {
     "name": "stdout",
     "output_type": "stream",
     "text": [
      "Jumlah pesanan yang dibuat oleh pengguna kebanyakan berjumlah: 1 pesanan\n"
     ]
    }
   ],
   "source": [
    "print('Jumlah pesanan yang dibuat oleh pengguna kebanyakan berjumlah: {} pesanan'. format(ordersByUsers['purchase_id'].mode()[0]))"
   ]
  },
  {
   "cell_type": "markdown",
   "metadata": {},
   "source": [
    "<div class=\"alert alert-success\">\n",
    "<b>Code Reviewers's comment v.1</b> <a class=\"tocSkip\"></a>\n",
    "\n",
    "Bagus, code yang dijalankan sudah sesuai dengan instruksi dari project.\n",
    "\n",
    "</div>"
   ]
  },
  {
   "cell_type": "markdown",
   "metadata": {},
   "source": [
    "# f. Menghitung persentil ke-95 dan ke-99 untuk jumlah pesanan per pengguna dan menentukan titik ketika suatu data berubah menjadi anomali (outlier)"
   ]
  },
  {
   "cell_type": "code",
   "execution_count": 39,
   "metadata": {},
   "outputs": [
    {
     "data": {
      "text/plain": [
       "array([4.  , 6.26])"
      ]
     },
     "execution_count": 39,
     "metadata": {},
     "output_type": "execute_result"
    }
   ],
   "source": [
    "np.percentile(ordersByUsers['purchase_id'], [95, 99])"
   ]
  },
  {
   "cell_type": "code",
   "execution_count": 40,
   "metadata": {},
   "outputs": [
    {
     "data": {
      "text/plain": [
       "count    88.000000\n",
       "mean      1.477273\n",
       "std       1.183966\n",
       "min       1.000000\n",
       "25%       1.000000\n",
       "50%       1.000000\n",
       "75%       1.000000\n",
       "max       8.000000\n",
       "Name: purchase_id, dtype: float64"
      ]
     },
     "execution_count": 40,
     "metadata": {},
     "output_type": "execute_result"
    }
   ],
   "source": [
    "ordersByUsers['purchase_id'].describe()"
   ]
  },
  {
   "cell_type": "code",
   "execution_count": 41,
   "metadata": {},
   "outputs": [
    {
     "data": {
      "text/plain": [
       "<AxesSubplot:xlabel='purchase_id'>"
      ]
     },
     "execution_count": 41,
     "metadata": {},
     "output_type": "execute_result"
    },
    {
     "data": {
      "image/png": "[encoded data removed]",
      "text/plain": [
       "<Figure size 432x288 with 1 Axes>"
      ]
     },
     "metadata": {
      "needs_background": "light"
     },
     "output_type": "display_data"
    }
   ],
   "source": [
    "sns.boxplot(ordersByUsers['purchase_id'])"
   ]
  },
  {
   "cell_type": "markdown",
   "metadata": {},
   "source": [
    "    - Hanya 5% pengguna yang membeli lebih dari 4 pesanan, dan hanya 1% pengguna yang membeli dengan jumlah diatas\n",
    "    6 pesanan.\n",
    "\n",
    "    - Jumlah pesanan di atas 2 adalah outlier"
   ]
  },
  {
   "cell_type": "markdown",
   "metadata": {},
   "source": [
    "<div class=\"alert alert-success\">\n",
    "<b>Code Reviewers's comment v.1</b> <a class=\"tocSkip\"></a>\n",
    "\n",
    "Bagus, code yang dijalankan sudah sesuai dengan instruksi dari project.\n",
    "\n",
    "</div>"
   ]
  },
  {
   "cell_type": "markdown",
   "metadata": {},
   "source": [
    "# g. Membuat diagram tebar (scatter chart) untuk pendapatan"
   ]
  },
  {
   "cell_type": "code",
   "execution_count": 42,
   "metadata": {},
   "outputs": [
    {
     "data": {
      "text/html": [
       "<div>\n",
       "<style scoped>\n",
       "    .dataframe tbody tr th:only-of-type {\n",
       "        vertical-align: middle;\n",
       "    }\n",
       "\n",
       "    .dataframe tbody tr th {\n",
       "        vertical-align: top;\n",
       "    }\n",
       "\n",
       "    .dataframe thead th {\n",
       "        text-align: right;\n",
       "    }\n",
       "</style>\n",
       "<table border=\"1\" class=\"dataframe\">\n",
       "  <thead>\n",
       "    <tr style=\"text-align: right;\">\n",
       "      <th></th>\n",
       "      <th>purchase_id</th>\n",
       "      <th>product_id</th>\n",
       "      <th>quantity</th>\n",
       "      <th>purchase_time</th>\n",
       "      <th>customer_id</th>\n",
       "      <th>loyalty_program</th>\n",
       "      <th>shop_id</th>\n",
       "      <th>price_per_one</th>\n",
       "      <th>date</th>\n",
       "      <th>revenue</th>\n",
       "    </tr>\n",
       "  </thead>\n",
       "  <tbody>\n",
       "    <tr>\n",
       "      <th>103837</th>\n",
       "      <td>541431</td>\n",
       "      <td>23166</td>\n",
       "      <td>74214</td>\n",
       "      <td>2017-01-18 10:01:00</td>\n",
       "      <td>18025.0</td>\n",
       "      <td>0</td>\n",
       "      <td>Shop 15</td>\n",
       "      <td>1.04</td>\n",
       "      <td>2017-01-25</td>\n",
       "      <td>77182.56</td>\n",
       "    </tr>\n",
       "    <tr>\n",
       "      <th>66092</th>\n",
       "      <td>540815</td>\n",
       "      <td>21108</td>\n",
       "      <td>3113</td>\n",
       "      <td>2017-01-11 12:55:00</td>\n",
       "      <td>21428.0</td>\n",
       "      <td>0</td>\n",
       "      <td>Shop 20</td>\n",
       "      <td>2.10</td>\n",
       "      <td>2017-02-25</td>\n",
       "      <td>6537.30</td>\n",
       "    </tr>\n",
       "    <tr>\n",
       "      <th>59747</th>\n",
       "      <td>537659</td>\n",
       "      <td>21623</td>\n",
       "      <td>599</td>\n",
       "      <td>2016-12-07 16:43:00</td>\n",
       "      <td>23781.0</td>\n",
       "      <td>1</td>\n",
       "      <td>Shop 29</td>\n",
       "      <td>6.38</td>\n",
       "      <td>2017-02-10</td>\n",
       "      <td>3821.62</td>\n",
       "    </tr>\n",
       "    <tr>\n",
       "      <th>40077</th>\n",
       "      <td>537899</td>\n",
       "      <td>22328</td>\n",
       "      <td>1487</td>\n",
       "      <td>2016-12-09 10:44:00</td>\n",
       "      <td>18434.0</td>\n",
       "      <td>0</td>\n",
       "      <td>Shop 5</td>\n",
       "      <td>2.55</td>\n",
       "      <td>2017-01-26</td>\n",
       "      <td>3791.85</td>\n",
       "    </tr>\n",
       "    <tr>\n",
       "      <th>35725</th>\n",
       "      <td>540815</td>\n",
       "      <td>21175</td>\n",
       "      <td>1999</td>\n",
       "      <td>2017-01-11 12:55:00</td>\n",
       "      <td>21428.0</td>\n",
       "      <td>0</td>\n",
       "      <td>Shop 20</td>\n",
       "      <td>1.85</td>\n",
       "      <td>2017-01-10</td>\n",
       "      <td>3698.15</td>\n",
       "    </tr>\n",
       "  </tbody>\n",
       "</table>\n",
       "</div>"
      ],
      "text/plain": [
       "       purchase_id product_id  quantity       purchase_time  customer_id  \\\n",
       "103837      541431      23166     74214 2017-01-18 10:01:00      18025.0   \n",
       "66092       540815      21108      3113 2017-01-11 12:55:00      21428.0   \n",
       "59747       537659      21623       599 2016-12-07 16:43:00      23781.0   \n",
       "40077       537899      22328      1487 2016-12-09 10:44:00      18434.0   \n",
       "35725       540815      21175      1999 2017-01-11 12:55:00      21428.0   \n",
       "\n",
       "        loyalty_program  shop_id  price_per_one       date   revenue  \n",
       "103837                0  Shop 15           1.04 2017-01-25  77182.56  \n",
       "66092                 0  Shop 20           2.10 2017-02-25   6537.30  \n",
       "59747                 1  Shop 29           6.38 2017-02-10   3821.62  \n",
       "40077                 0   Shop 5           2.55 2017-01-26   3791.85  \n",
       "35725                 0  Shop 20           1.85 2017-01-10   3698.15  "
      ]
     },
     "execution_count": 42,
     "metadata": {},
     "output_type": "execute_result"
    }
   ],
   "source": [
    "purchase_product.sort_values(by='revenue',ascending=False).head()"
   ]
  },
  {
   "cell_type": "code",
   "execution_count": 43,
   "metadata": {},
   "outputs": [
    {
     "data": {
      "text/plain": [
       " 0       32362\n",
       " 1       16137\n",
       " 11      10265\n",
       " 5        7931\n",
       " 2        7444\n",
       "         ...  \n",
       "-291         1\n",
       " 669         1\n",
       " 94          1\n",
       " 2591        1\n",
       " 1727        1\n",
       "Name: quantity, Length: 301, dtype: int64"
      ]
     },
     "execution_count": 43,
     "metadata": {},
     "output_type": "execute_result"
    }
   ],
   "source": [
    "purchase_product['quantity'].value_counts()"
   ]
  },
  {
   "cell_type": "markdown",
   "metadata": {},
   "source": [
    "    - Nilai 0 artinya pelanggan tidak melakukan pembelian\n",
    "    - Nilai quantity negatif diasumsikan barang retur"
   ]
  },
  {
   "cell_type": "code",
   "execution_count": 44,
   "metadata": {},
   "outputs": [
    {
     "data": {
      "text/html": [
       "<div>\n",
       "<style scoped>\n",
       "    .dataframe tbody tr th:only-of-type {\n",
       "        vertical-align: middle;\n",
       "    }\n",
       "\n",
       "    .dataframe tbody tr th {\n",
       "        vertical-align: top;\n",
       "    }\n",
       "\n",
       "    .dataframe thead th {\n",
       "        text-align: right;\n",
       "    }\n",
       "</style>\n",
       "<table border=\"1\" class=\"dataframe\">\n",
       "  <thead>\n",
       "    <tr style=\"text-align: right;\">\n",
       "      <th></th>\n",
       "      <th>purchase_id</th>\n",
       "      <th>product_id</th>\n",
       "      <th>quantity</th>\n",
       "      <th>purchase_time</th>\n",
       "      <th>customer_id</th>\n",
       "      <th>loyalty_program</th>\n",
       "      <th>shop_id</th>\n",
       "      <th>price_per_one</th>\n",
       "      <th>date</th>\n",
       "      <th>revenue</th>\n",
       "    </tr>\n",
       "  </thead>\n",
       "  <tbody>\n",
       "    <tr>\n",
       "      <th>0</th>\n",
       "      <td>538280</td>\n",
       "      <td>21873</td>\n",
       "      <td>11</td>\n",
       "      <td>2016-12-10 12:50:00</td>\n",
       "      <td>18427.0</td>\n",
       "      <td>0</td>\n",
       "      <td>Shop 3</td>\n",
       "      <td>0.42</td>\n",
       "      <td>2016-12-10</td>\n",
       "      <td>4.62</td>\n",
       "    </tr>\n",
       "    <tr>\n",
       "      <th>2</th>\n",
       "      <td>540418</td>\n",
       "      <td>21873</td>\n",
       "      <td>1</td>\n",
       "      <td>2017-01-07 11:04:00</td>\n",
       "      <td>0.0</td>\n",
       "      <td>0</td>\n",
       "      <td>Shop 0</td>\n",
       "      <td>0.42</td>\n",
       "      <td>2016-12-14</td>\n",
       "      <td>0.42</td>\n",
       "    </tr>\n",
       "    <tr>\n",
       "      <th>3</th>\n",
       "      <td>541516</td>\n",
       "      <td>21873</td>\n",
       "      <td>2</td>\n",
       "      <td>2017-01-18 17:34:00</td>\n",
       "      <td>0.0</td>\n",
       "      <td>0</td>\n",
       "      <td>Shop 0</td>\n",
       "      <td>0.42</td>\n",
       "      <td>2017-02-09</td>\n",
       "      <td>0.84</td>\n",
       "    </tr>\n",
       "    <tr>\n",
       "      <th>4</th>\n",
       "      <td>541566</td>\n",
       "      <td>21873</td>\n",
       "      <td>35</td>\n",
       "      <td>2017-01-19 11:50:00</td>\n",
       "      <td>23401.0</td>\n",
       "      <td>1</td>\n",
       "      <td>Shop 22</td>\n",
       "      <td>0.42</td>\n",
       "      <td>2017-02-13</td>\n",
       "      <td>14.70</td>\n",
       "    </tr>\n",
       "    <tr>\n",
       "      <th>5</th>\n",
       "      <td>538843</td>\n",
       "      <td>21873</td>\n",
       "      <td>1</td>\n",
       "      <td>2016-12-14 13:18:00</td>\n",
       "      <td>21712.0</td>\n",
       "      <td>0</td>\n",
       "      <td>Shop 9</td>\n",
       "      <td>0.42</td>\n",
       "      <td>2016-12-12</td>\n",
       "      <td>0.42</td>\n",
       "    </tr>\n",
       "    <tr>\n",
       "      <th>...</th>\n",
       "      <td>...</td>\n",
       "      <td>...</td>\n",
       "      <td>...</td>\n",
       "      <td>...</td>\n",
       "      <td>...</td>\n",
       "      <td>...</td>\n",
       "      <td>...</td>\n",
       "      <td>...</td>\n",
       "      <td>...</td>\n",
       "      <td>...</td>\n",
       "    </tr>\n",
       "    <tr>\n",
       "      <th>104289</th>\n",
       "      <td>539988</td>\n",
       "      <td>16206B</td>\n",
       "      <td>1</td>\n",
       "      <td>2016-12-23 16:06:00</td>\n",
       "      <td>23795.0</td>\n",
       "      <td>1</td>\n",
       "      <td>Shop 14</td>\n",
       "      <td>1.25</td>\n",
       "      <td>2017-01-17</td>\n",
       "      <td>1.25</td>\n",
       "    </tr>\n",
       "    <tr>\n",
       "      <th>104294</th>\n",
       "      <td>539009</td>\n",
       "      <td>79329</td>\n",
       "      <td>5</td>\n",
       "      <td>2016-12-15 13:24:00</td>\n",
       "      <td>18900.0</td>\n",
       "      <td>0</td>\n",
       "      <td>Shop 28</td>\n",
       "      <td>1.65</td>\n",
       "      <td>2016-12-10</td>\n",
       "      <td>8.25</td>\n",
       "    </tr>\n",
       "    <tr>\n",
       "      <th>104297</th>\n",
       "      <td>538852</td>\n",
       "      <td>90058B</td>\n",
       "      <td>35</td>\n",
       "      <td>2016-12-14 13:33:00</td>\n",
       "      <td>23051.0</td>\n",
       "      <td>1</td>\n",
       "      <td>Shop 8</td>\n",
       "      <td>0.38</td>\n",
       "      <td>2016-12-13</td>\n",
       "      <td>13.30</td>\n",
       "    </tr>\n",
       "    <tr>\n",
       "      <th>104298</th>\n",
       "      <td>539988</td>\n",
       "      <td>46138B</td>\n",
       "      <td>1</td>\n",
       "      <td>2016-12-23 16:06:00</td>\n",
       "      <td>23795.0</td>\n",
       "      <td>1</td>\n",
       "      <td>Shop 14</td>\n",
       "      <td>1.95</td>\n",
       "      <td>2017-01-05</td>\n",
       "      <td>1.95</td>\n",
       "    </tr>\n",
       "    <tr>\n",
       "      <th>104300</th>\n",
       "      <td>542731</td>\n",
       "      <td>17028J</td>\n",
       "      <td>5</td>\n",
       "      <td>2017-01-31 15:27:00</td>\n",
       "      <td>19279.0</td>\n",
       "      <td>0</td>\n",
       "      <td>Shop 0</td>\n",
       "      <td>0.42</td>\n",
       "      <td>2016-12-10</td>\n",
       "      <td>2.10</td>\n",
       "    </tr>\n",
       "  </tbody>\n",
       "</table>\n",
       "<p>69864 rows × 10 columns</p>\n",
       "</div>"
      ],
      "text/plain": [
       "       purchase_id product_id  quantity       purchase_time  customer_id  \\\n",
       "0           538280      21873        11 2016-12-10 12:50:00      18427.0   \n",
       "2           540418      21873         1 2017-01-07 11:04:00          0.0   \n",
       "3           541516      21873         2 2017-01-18 17:34:00          0.0   \n",
       "4           541566      21873        35 2017-01-19 11:50:00      23401.0   \n",
       "5           538843      21873         1 2016-12-14 13:18:00      21712.0   \n",
       "...            ...        ...       ...                 ...          ...   \n",
       "104289      539988     16206B         1 2016-12-23 16:06:00      23795.0   \n",
       "104294      539009      79329         5 2016-12-15 13:24:00      18900.0   \n",
       "104297      538852     90058B        35 2016-12-14 13:33:00      23051.0   \n",
       "104298      539988     46138B         1 2016-12-23 16:06:00      23795.0   \n",
       "104300      542731     17028J         5 2017-01-31 15:27:00      19279.0   \n",
       "\n",
       "        loyalty_program  shop_id  price_per_one       date  revenue  \n",
       "0                     0   Shop 3           0.42 2016-12-10     4.62  \n",
       "2                     0   Shop 0           0.42 2016-12-14     0.42  \n",
       "3                     0   Shop 0           0.42 2017-02-09     0.84  \n",
       "4                     1  Shop 22           0.42 2017-02-13    14.70  \n",
       "5                     0   Shop 9           0.42 2016-12-12     0.42  \n",
       "...                 ...      ...            ...        ...      ...  \n",
       "104289                1  Shop 14           1.25 2017-01-17     1.25  \n",
       "104294                0  Shop 28           1.65 2016-12-10     8.25  \n",
       "104297                1   Shop 8           0.38 2016-12-13    13.30  \n",
       "104298                1  Shop 14           1.95 2017-01-05     1.95  \n",
       "104300                0   Shop 0           0.42 2016-12-10     2.10  \n",
       "\n",
       "[69864 rows x 10 columns]"
      ]
     },
     "execution_count": 44,
     "metadata": {},
     "output_type": "execute_result"
    }
   ],
   "source": [
    "#Memfilter untuk hanya megambil nilai quantity di atas 0\n",
    "quantity_positif = purchase_product[purchase_product['quantity'] > 0]\n",
    "quantity_positif"
   ]
  },
  {
   "cell_type": "code",
   "execution_count": 45,
   "metadata": {},
   "outputs": [
    {
     "data": {
      "text/plain": [
       "count    69864.000000\n",
       "mean        15.514880\n",
       "std        298.717797\n",
       "min          0.000000\n",
       "25%          1.450000\n",
       "50%          6.050000\n",
       "75%         12.750000\n",
       "max      77182.560000\n",
       "Name: revenue, dtype: float64"
      ]
     },
     "execution_count": 45,
     "metadata": {},
     "output_type": "execute_result"
    }
   ],
   "source": [
    "quantity_positif['revenue'].describe()"
   ]
  },
  {
   "cell_type": "code",
   "execution_count": 46,
   "metadata": {},
   "outputs": [
    {
     "data": {
      "text/plain": [
       "<AxesSubplot:>"
      ]
     },
     "execution_count": 46,
     "metadata": {},
     "output_type": "execute_result"
    },
    {
     "data": {
      "image/png": "[encoded data removed]",
      "text/plain": [
       "<Figure size 432x288 with 1 Axes>"
      ]
     },
     "metadata": {
      "needs_background": "light"
     },
     "output_type": "display_data"
    }
   ],
   "source": [
    "#Histogram kolom revenue\n",
    "quantity_positif['revenue'].hist(bins=25)"
   ]
  },
  {
   "cell_type": "markdown",
   "metadata": {},
   "source": [
    "    - Rata-rata pendapatan adalah 15.5 dollar\n",
    "    - Pendapatan paling tinggi mencapai 77182 dollar"
   ]
  },
  {
   "cell_type": "code",
   "execution_count": 47,
   "metadata": {},
   "outputs": [
    {
     "data": {
      "text/plain": [
       "<matplotlib.collections.PathCollection at 0x7f99d411c280>"
      ]
     },
     "execution_count": 47,
     "metadata": {},
     "output_type": "execute_result"
    },
    {
     "data": {
      "image/png": "[encoded data removed]",
      "text/plain": [
       "<Figure size 432x288 with 1 Axes>"
      ]
     },
     "metadata": {
      "needs_background": "light"
     },
     "output_type": "display_data"
    }
   ],
   "source": [
    "#Membuat scatter plot untuk kolom revenue\n",
    "x_values = pd.Series(range(0, len(quantity_positif['revenue'])))\n",
    "plt.scatter(x_values, quantity_positif['revenue'])"
   ]
  },
  {
   "cell_type": "code",
   "execution_count": 48,
   "metadata": {},
   "outputs": [
    {
     "data": {
      "text/plain": [
       "(0.0, 7000.0, 0.0, 1000.0)"
      ]
     },
     "execution_count": 48,
     "metadata": {},
     "output_type": "execute_result"
    },
    {
     "data": {
      "image/png": "[encoded data removed]",
      "text/plain": [
       "<Figure size 1080x360 with 1 Axes>"
      ]
     },
     "metadata": {
      "needs_background": "light"
     },
     "output_type": "display_data"
    }
   ],
   "source": [
    "#Diagram scatter yang dipersempit\n",
    "plt.figure(figsize=(15,5))\n",
    "x_values = pd.Series(range(0,len(quantity_positif['revenue'])))\n",
    "plt.scatter(x_values, quantity_positif['revenue'])\n",
    "plt.axis([0, 7000, 0,1000])"
   ]
  },
  {
   "cell_type": "markdown",
   "metadata": {},
   "source": [
    "- Berdasarkan diagram scatter untuk revenue, kebanyakan pendapatan toko berada di bawah 200 dollar."
   ]
  },
  {
   "cell_type": "markdown",
   "metadata": {},
   "source": [
    "<div class=\"alert alert-success\">\n",
    "<b>Code Reviewers's comment v.1</b> <a class=\"tocSkip\"></a>\n",
    "\n",
    "Bagus, code yang dijalankan sudah sesuai dengan instruksi dari project.\n",
    "\n",
    "</div>"
   ]
  },
  {
   "cell_type": "markdown",
   "metadata": {},
   "source": [
    "# h. Menghitung persentil ke-95 dan ke-99 untuk pendapatan dan menentukan titik ketika suatu titik data berubah menjadi anomali (outlier)"
   ]
  },
  {
   "cell_type": "code",
   "execution_count": 49,
   "metadata": {},
   "outputs": [
    {
     "data": {
      "text/plain": [
       "<AxesSubplot:xlabel='revenue'>"
      ]
     },
     "execution_count": 49,
     "metadata": {},
     "output_type": "execute_result"
    },
    {
     "data": {
      "image/png": "[encoded data removed]",
      "text/plain": [
       "<Figure size 432x288 with 1 Axes>"
      ]
     },
     "metadata": {
      "needs_background": "light"
     },
     "output_type": "display_data"
    }
   ],
   "source": [
    "sns.boxplot(quantity_positif['revenue'])"
   ]
  },
  {
   "cell_type": "code",
   "execution_count": 50,
   "metadata": {},
   "outputs": [
    {
     "name": "stdout",
     "output_type": "stream",
     "text": [
      "[ 25.2   47.6  159.33]\n"
     ]
    }
   ],
   "source": [
    "print(np.percentile(quantity_positif['revenue'], [90, 95, 99]))"
   ]
  },
  {
   "cell_type": "markdown",
   "metadata": {},
   "source": [
    "    - Persentase revenue di atas 47.6 dollar tidak lebih dari 5%, sedangkan revenue di atas 159.33 dollar \n",
    "    tidak lebih dari 1%. \n",
    "    - revenue 47.6 dollar adalah titik outlier"
   ]
  },
  {
   "cell_type": "markdown",
   "metadata": {},
   "source": [
    "<div class=\"alert alert-success\">\n",
    "<b>Code Reviewers's comment v.1</b> <a class=\"tocSkip\"></a>\n",
    "\n",
    "Bagus, code yang dijalankan sudah sesuai dengan instruksi dari project.\n",
    "\n",
    "</div>"
   ]
  },
  {
   "cell_type": "markdown",
   "metadata": {},
   "source": [
    "# i. Menemukan signifikansi statistik perbedaan konversi antar kelompok menggunakan data mentah"
   ]
  },
  {
   "cell_type": "code",
   "execution_count": 51,
   "metadata": {},
   "outputs": [],
   "source": [
    "# Library uji statistik\n",
    "import scipy.stats as stats\n",
    "from scipy.stats import mannwhitneyu"
   ]
  },
  {
   "cell_type": "code",
   "execution_count": 52,
   "metadata": {},
   "outputs": [
    {
     "data": {
      "text/html": [
       "<div>\n",
       "<style scoped>\n",
       "    .dataframe tbody tr th:only-of-type {\n",
       "        vertical-align: middle;\n",
       "    }\n",
       "\n",
       "    .dataframe tbody tr th {\n",
       "        vertical-align: top;\n",
       "    }\n",
       "\n",
       "    .dataframe thead th {\n",
       "        text-align: right;\n",
       "    }\n",
       "</style>\n",
       "<table border=\"1\" class=\"dataframe\">\n",
       "  <thead>\n",
       "    <tr style=\"text-align: right;\">\n",
       "      <th></th>\n",
       "      <th>purchase_id</th>\n",
       "      <th>product_id</th>\n",
       "      <th>quantity</th>\n",
       "      <th>purchase_time</th>\n",
       "      <th>customer_id</th>\n",
       "      <th>loyalty_program</th>\n",
       "      <th>shop_id</th>\n",
       "      <th>price_per_one</th>\n",
       "      <th>date</th>\n",
       "      <th>revenue</th>\n",
       "    </tr>\n",
       "  </thead>\n",
       "  <tbody>\n",
       "    <tr>\n",
       "      <th>0</th>\n",
       "      <td>538280</td>\n",
       "      <td>21873</td>\n",
       "      <td>11</td>\n",
       "      <td>2016-12-10 12:50:00</td>\n",
       "      <td>18427.0</td>\n",
       "      <td>0</td>\n",
       "      <td>Shop 3</td>\n",
       "      <td>0.42</td>\n",
       "      <td>2016-12-10</td>\n",
       "      <td>4.62</td>\n",
       "    </tr>\n",
       "    <tr>\n",
       "      <th>1</th>\n",
       "      <td>541104</td>\n",
       "      <td>21873</td>\n",
       "      <td>0</td>\n",
       "      <td>2017-01-13 14:29:00</td>\n",
       "      <td>0.0</td>\n",
       "      <td>0</td>\n",
       "      <td>Shop 0</td>\n",
       "      <td>0.42</td>\n",
       "      <td>2016-12-14</td>\n",
       "      <td>0.00</td>\n",
       "    </tr>\n",
       "    <tr>\n",
       "      <th>2</th>\n",
       "      <td>540418</td>\n",
       "      <td>21873</td>\n",
       "      <td>1</td>\n",
       "      <td>2017-01-07 11:04:00</td>\n",
       "      <td>0.0</td>\n",
       "      <td>0</td>\n",
       "      <td>Shop 0</td>\n",
       "      <td>0.42</td>\n",
       "      <td>2016-12-14</td>\n",
       "      <td>0.42</td>\n",
       "    </tr>\n",
       "    <tr>\n",
       "      <th>3</th>\n",
       "      <td>541516</td>\n",
       "      <td>21873</td>\n",
       "      <td>2</td>\n",
       "      <td>2017-01-18 17:34:00</td>\n",
       "      <td>0.0</td>\n",
       "      <td>0</td>\n",
       "      <td>Shop 0</td>\n",
       "      <td>0.42</td>\n",
       "      <td>2017-02-09</td>\n",
       "      <td>0.84</td>\n",
       "    </tr>\n",
       "    <tr>\n",
       "      <th>4</th>\n",
       "      <td>541566</td>\n",
       "      <td>21873</td>\n",
       "      <td>35</td>\n",
       "      <td>2017-01-19 11:50:00</td>\n",
       "      <td>23401.0</td>\n",
       "      <td>1</td>\n",
       "      <td>Shop 22</td>\n",
       "      <td>0.42</td>\n",
       "      <td>2017-02-13</td>\n",
       "      <td>14.70</td>\n",
       "    </tr>\n",
       "  </tbody>\n",
       "</table>\n",
       "</div>"
      ],
      "text/plain": [
       "  purchase_id product_id  quantity       purchase_time  customer_id  \\\n",
       "0      538280      21873        11 2016-12-10 12:50:00      18427.0   \n",
       "1      541104      21873         0 2017-01-13 14:29:00          0.0   \n",
       "2      540418      21873         1 2017-01-07 11:04:00          0.0   \n",
       "3      541516      21873         2 2017-01-18 17:34:00          0.0   \n",
       "4      541566      21873        35 2017-01-19 11:50:00      23401.0   \n",
       "\n",
       "   loyalty_program  shop_id  price_per_one       date  revenue  \n",
       "0                0   Shop 3           0.42 2016-12-10     4.62  \n",
       "1                0   Shop 0           0.42 2016-12-14     0.00  \n",
       "2                0   Shop 0           0.42 2016-12-14     0.42  \n",
       "3                0   Shop 0           0.42 2017-02-09     0.84  \n",
       "4                1  Shop 22           0.42 2017-02-13    14.70  "
      ]
     },
     "execution_count": 52,
     "metadata": {},
     "output_type": "execute_result"
    }
   ],
   "source": [
    "purchase_product.head()"
   ]
  },
  {
   "cell_type": "code",
   "execution_count": 53,
   "metadata": {},
   "outputs": [
    {
     "data": {
      "text/html": [
       "<div>\n",
       "<style scoped>\n",
       "    .dataframe tbody tr th:only-of-type {\n",
       "        vertical-align: middle;\n",
       "    }\n",
       "\n",
       "    .dataframe tbody tr th {\n",
       "        vertical-align: top;\n",
       "    }\n",
       "\n",
       "    .dataframe thead th {\n",
       "        text-align: right;\n",
       "    }\n",
       "</style>\n",
       "<table border=\"1\" class=\"dataframe\">\n",
       "  <thead>\n",
       "    <tr style=\"text-align: right;\">\n",
       "      <th></th>\n",
       "      <th>purchase_id</th>\n",
       "    </tr>\n",
       "    <tr>\n",
       "      <th>customer_id</th>\n",
       "      <th></th>\n",
       "    </tr>\n",
       "  </thead>\n",
       "  <tbody>\n",
       "    <tr>\n",
       "      <th>22005.0</th>\n",
       "      <td>2</td>\n",
       "    </tr>\n",
       "    <tr>\n",
       "      <th>22006.0</th>\n",
       "      <td>2</td>\n",
       "    </tr>\n",
       "    <tr>\n",
       "      <th>22011.0</th>\n",
       "      <td>1</td>\n",
       "    </tr>\n",
       "    <tr>\n",
       "      <th>22012.0</th>\n",
       "      <td>3</td>\n",
       "    </tr>\n",
       "    <tr>\n",
       "      <th>22018.0</th>\n",
       "      <td>1</td>\n",
       "    </tr>\n",
       "    <tr>\n",
       "      <th>...</th>\n",
       "      <td>...</td>\n",
       "    </tr>\n",
       "    <tr>\n",
       "      <th>23938.0</th>\n",
       "      <td>1</td>\n",
       "    </tr>\n",
       "    <tr>\n",
       "      <th>23939.0</th>\n",
       "      <td>3</td>\n",
       "    </tr>\n",
       "    <tr>\n",
       "      <th>23948.0</th>\n",
       "      <td>2</td>\n",
       "    </tr>\n",
       "    <tr>\n",
       "      <th>23956.0</th>\n",
       "      <td>1</td>\n",
       "    </tr>\n",
       "    <tr>\n",
       "      <th>23962.0</th>\n",
       "      <td>3</td>\n",
       "    </tr>\n",
       "  </tbody>\n",
       "</table>\n",
       "<p>587 rows × 1 columns</p>\n",
       "</div>"
      ],
      "text/plain": [
       "             purchase_id\n",
       "customer_id             \n",
       "22005.0                2\n",
       "22006.0                2\n",
       "22011.0                1\n",
       "22012.0                3\n",
       "22018.0                1\n",
       "...                  ...\n",
       "23938.0                1\n",
       "23939.0                3\n",
       "23948.0                2\n",
       "23956.0                1\n",
       "23962.0                3\n",
       "\n",
       "[587 rows x 1 columns]"
      ]
     },
     "execution_count": 53,
     "metadata": {},
     "output_type": "execute_result"
    }
   ],
   "source": [
    "#Jumlah pesanan untuk setiap customer grup 1\n",
    "group1 = purchase_product[purchase_product['loyalty_program']==1].groupby('customer_id', as_index=True).agg({'purchase_id': pd.Series.nunique})\n",
    "group1"
   ]
  },
  {
   "cell_type": "code",
   "execution_count": 54,
   "metadata": {},
   "outputs": [
    {
     "data": {
      "text/html": [
       "<div>\n",
       "<style scoped>\n",
       "    .dataframe tbody tr th:only-of-type {\n",
       "        vertical-align: middle;\n",
       "    }\n",
       "\n",
       "    .dataframe tbody tr th {\n",
       "        vertical-align: top;\n",
       "    }\n",
       "\n",
       "    .dataframe thead th {\n",
       "        text-align: right;\n",
       "    }\n",
       "</style>\n",
       "<table border=\"1\" class=\"dataframe\">\n",
       "  <thead>\n",
       "    <tr style=\"text-align: right;\">\n",
       "      <th></th>\n",
       "      <th>purchase_id</th>\n",
       "    </tr>\n",
       "    <tr>\n",
       "      <th>customer_id</th>\n",
       "      <th></th>\n",
       "    </tr>\n",
       "  </thead>\n",
       "  <tbody>\n",
       "    <tr>\n",
       "      <th>0.0</th>\n",
       "      <td>748</td>\n",
       "    </tr>\n",
       "    <tr>\n",
       "      <th>18025.0</th>\n",
       "      <td>2</td>\n",
       "    </tr>\n",
       "    <tr>\n",
       "      <th>18026.0</th>\n",
       "      <td>2</td>\n",
       "    </tr>\n",
       "    <tr>\n",
       "      <th>18027.0</th>\n",
       "      <td>2</td>\n",
       "    </tr>\n",
       "    <tr>\n",
       "      <th>18029.0</th>\n",
       "      <td>1</td>\n",
       "    </tr>\n",
       "    <tr>\n",
       "      <th>...</th>\n",
       "      <td>...</td>\n",
       "    </tr>\n",
       "    <tr>\n",
       "      <th>21985.0</th>\n",
       "      <td>8</td>\n",
       "    </tr>\n",
       "    <tr>\n",
       "      <th>21994.0</th>\n",
       "      <td>1</td>\n",
       "    </tr>\n",
       "    <tr>\n",
       "      <th>21995.0</th>\n",
       "      <td>2</td>\n",
       "    </tr>\n",
       "    <tr>\n",
       "      <th>21996.0</th>\n",
       "      <td>1</td>\n",
       "    </tr>\n",
       "    <tr>\n",
       "      <th>22000.0</th>\n",
       "      <td>4</td>\n",
       "    </tr>\n",
       "  </tbody>\n",
       "</table>\n",
       "<p>1163 rows × 1 columns</p>\n",
       "</div>"
      ],
      "text/plain": [
       "             purchase_id\n",
       "customer_id             \n",
       "0.0                  748\n",
       "18025.0                2\n",
       "18026.0                2\n",
       "18027.0                2\n",
       "18029.0                1\n",
       "...                  ...\n",
       "21985.0                8\n",
       "21994.0                1\n",
       "21995.0                2\n",
       "21996.0                1\n",
       "22000.0                4\n",
       "\n",
       "[1163 rows x 1 columns]"
      ]
     },
     "execution_count": 54,
     "metadata": {},
     "output_type": "execute_result"
    }
   ],
   "source": [
    "#Jumlah pesanan untuk setiap customer grup 0\n",
    "group0 = purchase_product[purchase_product['loyalty_program']==0].groupby('customer_id', as_index=True).agg({'purchase_id': pd.Series.nunique})\n",
    "group0"
   ]
  },
  {
   "cell_type": "markdown",
   "metadata": {},
   "source": [
    "***Uji signifikansi:***\n",
    "\n",
    "    - H0 = Group1 dan Group0 secara statistik SAMA (tidak ada perbedaan yang signifikan)\n",
    "    - H1 = Group1 dan Group0 secara statistik TIDAK SAMA (ada perbedaan yang signifikan)"
   ]
  },
  {
   "cell_type": "code",
   "execution_count": 55,
   "metadata": {},
   "outputs": [
    {
     "name": "stdout",
     "output_type": "stream",
     "text": [
      "Alpha  : 0.05\n",
      "P-Value: [0.37281517]\n",
      "H0 Diterima: Group1 dan Group0 tidak ada perbedaan yang signifikan\n"
     ]
    }
   ],
   "source": [
    "alpha = 0.05\n",
    "p_value = mannwhitneyu(group1, group0, nan_policy='omit').pvalue\n",
    "print(f'Alpha  : {alpha}')\n",
    "print(f'P-Value: {p_value}')\n",
    "if p_value >= alpha:\n",
    "    print('H0 Diterima: Group1 dan Group0 tidak ada perbedaan yang signifikan')\n",
    "else:\n",
    "    print('H0 Ditolak: Group1 dan Group0 ada perbedaan yang signifikan')"
   ]
  },
  {
   "cell_type": "code",
   "execution_count": 56,
   "metadata": {},
   "outputs": [
    {
     "data": {
      "text/plain": [
       "purchase_id    0.333176\n",
       "dtype: float64"
      ]
     },
     "execution_count": 56,
     "metadata": {},
     "output_type": "execute_result"
    }
   ],
   "source": [
    "mean_ratio = group0.mean() / group1.mean() - 1\n",
    "mean_ratio"
   ]
  },
  {
   "cell_type": "markdown",
   "metadata": {},
   "source": [
    "- Kesimpulan: berdasarkan data mentah yang kita gunakan, ternyata tidak ada perbedaan yang signifikan antara Group1 dan Group0. \n",
    "\n",
    "- Nilai p sebesar 0,37 yang mana lebih besar dari alpha 0,05. Oleh karena itu, kita tidak bisa menolak hipotesis nol karena tidak ditemukan perbedaan yang signifikan secara statistik dalam konversi antar kelompok. Akan tetapi, penurunan relatif dari Group0 adalah 33.3 %.  "
   ]
  },
  {
   "cell_type": "markdown",
   "metadata": {},
   "source": [
    "<div class=\"alert alert-success\">\n",
    "<b>Code Reviewers's comment v.1</b> <a class=\"tocSkip\"></a>\n",
    "\n",
    "Bagus, code yang dijalankan sudah sesuai dengan instruksi dari project.\n",
    "\n",
    "</div>"
   ]
  },
  {
   "cell_type": "markdown",
   "metadata": {},
   "source": [
    "# j. Menemukan signifikansi statistik perbedaan konversi antar kelompok menggunakan data yang telah difilter"
   ]
  },
  {
   "cell_type": "code",
   "execution_count": 57,
   "metadata": {},
   "outputs": [],
   "source": [
    "group1 = purchase_product[purchase_product['loyalty_program']==1].groupby('customer_id', \n",
    "                                            as_index=False).agg({'purchase_id': pd.Series.nunique})\n",
    "group1.columns = ['customer_id', 'purchase_id']"
   ]
  },
  {
   "cell_type": "code",
   "execution_count": 58,
   "metadata": {},
   "outputs": [],
   "source": [
    "group0 = purchase_product[purchase_product['loyalty_program']==0].groupby('customer_id', \n",
    "                                            as_index=False).agg({'purchase_id': pd.Series.nunique})\n",
    "group0.columns = ['customer_id', 'purchase_id']"
   ]
  },
  {
   "cell_type": "code",
   "execution_count": 59,
   "metadata": {},
   "outputs": [],
   "source": [
    "usersWithManyOrders = pd.concat([group1[group1['purchase_id'] > 2]['customer_id']\n",
    "                                 , group0[group0['purchase_id'] > 2]['customer_id']], axis = 0)"
   ]
  },
  {
   "cell_type": "code",
   "execution_count": 60,
   "metadata": {},
   "outputs": [],
   "source": [
    "usersWithExpensiveOrders = purchase_product[purchase_product['revenue'] > 47.6]['customer_id']"
   ]
  },
  {
   "cell_type": "code",
   "execution_count": 61,
   "metadata": {},
   "outputs": [
    {
     "data": {
      "text/plain": [
       "0             0.0\n",
       "103837    18025.0\n",
       "82028     18026.0\n",
       "14945     18027.0\n",
       "3895      18035.0\n",
       "           ...   \n",
       "577       23918.0\n",
       "578       23924.0\n",
       "581       23936.0\n",
       "583       23939.0\n",
       "586       23962.0\n",
       "Name: customer_id, Length: 785, dtype: float64"
      ]
     },
     "execution_count": 61,
     "metadata": {},
     "output_type": "execute_result"
    }
   ],
   "source": [
    "abnormalUsers = pd.concat([usersWithManyOrders, usersWithExpensiveOrders], axis = 0).drop_duplicates().sort_values()\n",
    "abnormalUsers"
   ]
  },
  {
   "cell_type": "markdown",
   "metadata": {},
   "source": [
    "- Jumlah pelanggan yang berada di luar outlier ada 785 pelanggan"
   ]
  },
  {
   "cell_type": "code",
   "execution_count": 62,
   "metadata": {},
   "outputs": [
    {
     "data": {
      "text/html": [
       "<div>\n",
       "<style scoped>\n",
       "    .dataframe tbody tr th:only-of-type {\n",
       "        vertical-align: middle;\n",
       "    }\n",
       "\n",
       "    .dataframe tbody tr th {\n",
       "        vertical-align: top;\n",
       "    }\n",
       "\n",
       "    .dataframe thead th {\n",
       "        text-align: right;\n",
       "    }\n",
       "</style>\n",
       "<table border=\"1\" class=\"dataframe\">\n",
       "  <thead>\n",
       "    <tr style=\"text-align: right;\">\n",
       "      <th></th>\n",
       "      <th>purchase_id</th>\n",
       "      <th>product_id</th>\n",
       "      <th>quantity</th>\n",
       "      <th>purchase_time</th>\n",
       "      <th>customer_id</th>\n",
       "      <th>loyalty_program</th>\n",
       "      <th>shop_id</th>\n",
       "      <th>price_per_one</th>\n",
       "      <th>date</th>\n",
       "      <th>revenue</th>\n",
       "    </tr>\n",
       "  </thead>\n",
       "  <tbody>\n",
       "    <tr>\n",
       "      <th>10</th>\n",
       "      <td>540480</td>\n",
       "      <td>21873</td>\n",
       "      <td>11</td>\n",
       "      <td>2017-01-07 15:27:00</td>\n",
       "      <td>18159.0</td>\n",
       "      <td>0</td>\n",
       "      <td>Shop 19</td>\n",
       "      <td>0.42</td>\n",
       "      <td>2016-12-08</td>\n",
       "      <td>4.62</td>\n",
       "    </tr>\n",
       "    <tr>\n",
       "      <th>14</th>\n",
       "      <td>540098</td>\n",
       "      <td>21873</td>\n",
       "      <td>0</td>\n",
       "      <td>2017-01-04 15:50:00</td>\n",
       "      <td>21920.0</td>\n",
       "      <td>0</td>\n",
       "      <td>Shop 18</td>\n",
       "      <td>0.42</td>\n",
       "      <td>2017-02-28</td>\n",
       "      <td>0.00</td>\n",
       "    </tr>\n",
       "    <tr>\n",
       "      <th>15</th>\n",
       "      <td>538508</td>\n",
       "      <td>21873</td>\n",
       "      <td>0</td>\n",
       "      <td>2016-12-12 13:32:00</td>\n",
       "      <td>21677.0</td>\n",
       "      <td>0</td>\n",
       "      <td>Shop 19</td>\n",
       "      <td>0.42</td>\n",
       "      <td>2017-02-27</td>\n",
       "      <td>0.00</td>\n",
       "    </tr>\n",
       "    <tr>\n",
       "      <th>20</th>\n",
       "      <td>544930</td>\n",
       "      <td>21873</td>\n",
       "      <td>0</td>\n",
       "      <td>2017-02-24 18:26:00</td>\n",
       "      <td>23151.0</td>\n",
       "      <td>1</td>\n",
       "      <td>Shop 3</td>\n",
       "      <td>0.42</td>\n",
       "      <td>2017-02-13</td>\n",
       "      <td>0.00</td>\n",
       "    </tr>\n",
       "    <tr>\n",
       "      <th>29</th>\n",
       "      <td>539262</td>\n",
       "      <td>21873</td>\n",
       "      <td>35</td>\n",
       "      <td>2016-12-16 14:35:00</td>\n",
       "      <td>21468.0</td>\n",
       "      <td>0</td>\n",
       "      <td>Shop 25</td>\n",
       "      <td>0.42</td>\n",
       "      <td>2017-01-24</td>\n",
       "      <td>14.70</td>\n",
       "    </tr>\n",
       "    <tr>\n",
       "      <th>...</th>\n",
       "      <td>...</td>\n",
       "      <td>...</td>\n",
       "      <td>...</td>\n",
       "      <td>...</td>\n",
       "      <td>...</td>\n",
       "      <td>...</td>\n",
       "      <td>...</td>\n",
       "      <td>...</td>\n",
       "      <td>...</td>\n",
       "      <td>...</td>\n",
       "    </tr>\n",
       "    <tr>\n",
       "      <th>104275</th>\n",
       "      <td>540247</td>\n",
       "      <td>21763</td>\n",
       "      <td>1</td>\n",
       "      <td>2017-01-05 15:56:00</td>\n",
       "      <td>21143.0</td>\n",
       "      <td>0</td>\n",
       "      <td>Shop 24</td>\n",
       "      <td>0.00</td>\n",
       "      <td>2016-12-12</td>\n",
       "      <td>0.00</td>\n",
       "    </tr>\n",
       "    <tr>\n",
       "      <th>104284</th>\n",
       "      <td>544070</td>\n",
       "      <td>84859C</td>\n",
       "      <td>1</td>\n",
       "      <td>2017-02-15 14:19:00</td>\n",
       "      <td>21049.0</td>\n",
       "      <td>0</td>\n",
       "      <td>Shop 20</td>\n",
       "      <td>5.95</td>\n",
       "      <td>2016-12-06</td>\n",
       "      <td>5.95</td>\n",
       "    </tr>\n",
       "    <tr>\n",
       "      <th>104286</th>\n",
       "      <td>544160</td>\n",
       "      <td>79406</td>\n",
       "      <td>5</td>\n",
       "      <td>2017-02-16 12:49:00</td>\n",
       "      <td>22173.0</td>\n",
       "      <td>1</td>\n",
       "      <td>Shop 9</td>\n",
       "      <td>0.22</td>\n",
       "      <td>2017-02-27</td>\n",
       "      <td>1.10</td>\n",
       "    </tr>\n",
       "    <tr>\n",
       "      <th>104287</th>\n",
       "      <td>543610</td>\n",
       "      <td>71510</td>\n",
       "      <td>11</td>\n",
       "      <td>2017-02-10 14:30:00</td>\n",
       "      <td>22104.0</td>\n",
       "      <td>1</td>\n",
       "      <td>Shop 7</td>\n",
       "      <td>0.85</td>\n",
       "      <td>2016-12-22</td>\n",
       "      <td>9.35</td>\n",
       "    </tr>\n",
       "    <tr>\n",
       "      <th>104300</th>\n",
       "      <td>542731</td>\n",
       "      <td>17028J</td>\n",
       "      <td>5</td>\n",
       "      <td>2017-01-31 15:27:00</td>\n",
       "      <td>19279.0</td>\n",
       "      <td>0</td>\n",
       "      <td>Shop 0</td>\n",
       "      <td>0.42</td>\n",
       "      <td>2016-12-10</td>\n",
       "      <td>2.10</td>\n",
       "    </tr>\n",
       "  </tbody>\n",
       "</table>\n",
       "<p>24651 rows × 10 columns</p>\n",
       "</div>"
      ],
      "text/plain": [
       "       purchase_id product_id  quantity       purchase_time  customer_id  \\\n",
       "10          540480      21873        11 2017-01-07 15:27:00      18159.0   \n",
       "14          540098      21873         0 2017-01-04 15:50:00      21920.0   \n",
       "15          538508      21873         0 2016-12-12 13:32:00      21677.0   \n",
       "20          544930      21873         0 2017-02-24 18:26:00      23151.0   \n",
       "29          539262      21873        35 2016-12-16 14:35:00      21468.0   \n",
       "...            ...        ...       ...                 ...          ...   \n",
       "104275      540247      21763         1 2017-01-05 15:56:00      21143.0   \n",
       "104284      544070     84859C         1 2017-02-15 14:19:00      21049.0   \n",
       "104286      544160      79406         5 2017-02-16 12:49:00      22173.0   \n",
       "104287      543610      71510        11 2017-02-10 14:30:00      22104.0   \n",
       "104300      542731     17028J         5 2017-01-31 15:27:00      19279.0   \n",
       "\n",
       "        loyalty_program  shop_id  price_per_one       date  revenue  \n",
       "10                    0  Shop 19           0.42 2016-12-08     4.62  \n",
       "14                    0  Shop 18           0.42 2017-02-28     0.00  \n",
       "15                    0  Shop 19           0.42 2017-02-27     0.00  \n",
       "20                    1   Shop 3           0.42 2017-02-13     0.00  \n",
       "29                    0  Shop 25           0.42 2017-01-24    14.70  \n",
       "...                 ...      ...            ...        ...      ...  \n",
       "104275                0  Shop 24           0.00 2016-12-12     0.00  \n",
       "104284                0  Shop 20           5.95 2016-12-06     5.95  \n",
       "104286                1   Shop 9           0.22 2017-02-27     1.10  \n",
       "104287                1   Shop 7           0.85 2016-12-22     9.35  \n",
       "104300                0   Shop 0           0.42 2016-12-10     2.10  \n",
       "\n",
       "[24651 rows x 10 columns]"
      ]
     },
     "execution_count": 62,
     "metadata": {},
     "output_type": "execute_result"
    }
   ],
   "source": [
    "#Membuang data outliers\n",
    "outliers_filtered = purchase_product[~purchase_product['customer_id'].isin(abnormalUsers)]\n",
    "outliers_filtered"
   ]
  },
  {
   "cell_type": "code",
   "execution_count": 63,
   "metadata": {},
   "outputs": [],
   "source": [
    "#Memfilter grup1\n",
    "group1_filtered = outliers_filtered[outliers_filtered['loyalty_program']==1].groupby('customer_id', as_index=True).agg({'purchase_id': pd.Series.nunique})"
   ]
  },
  {
   "cell_type": "code",
   "execution_count": 64,
   "metadata": {},
   "outputs": [],
   "source": [
    "#Memfilter grup0\n",
    "group0_filtered = outliers_filtered[outliers_filtered['loyalty_program']==0].groupby('customer_id', as_index=True).agg({'purchase_id': pd.Series.nunique})"
   ]
  },
  {
   "cell_type": "code",
   "execution_count": 65,
   "metadata": {},
   "outputs": [
    {
     "name": "stdout",
     "output_type": "stream",
     "text": [
      "Alpha  : 0.05\n",
      "P-Value: [0.42189165]\n",
      "H0 Diterima: Group1 dan Group0 tidak ada perbedaan yang signifikan\n"
     ]
    }
   ],
   "source": [
    "alpha = 0.05\n",
    "p_value = mannwhitneyu(group1_filtered, group0_filtered, nan_policy='omit').pvalue\n",
    "print(f'Alpha  : {alpha}')\n",
    "print(f'P-Value: {p_value}')\n",
    "if p_value >= alpha:\n",
    "    print('H0 Diterima: Group1 dan Group0 tidak ada perbedaan yang signifikan')\n",
    "else:\n",
    "    print('H0 Ditolak: Group1 dan Group0 ada perbedaan yang signifikan')"
   ]
  },
  {
   "cell_type": "code",
   "execution_count": 66,
   "metadata": {},
   "outputs": [
    {
     "data": {
      "text/plain": [
       "purchase_id   -0.018513\n",
       "dtype: float64"
      ]
     },
     "execution_count": 66,
     "metadata": {},
     "output_type": "execute_result"
    }
   ],
   "source": [
    "mean_ratio = group0_filtered.mean() / group1_filtered.mean() - 1\n",
    "mean_ratio"
   ]
  },
  {
   "cell_type": "markdown",
   "metadata": {},
   "source": [
    "- Setelah membuang data outliers, nilai p berubah sedikit menjadi 0,42, yang mana tetap lebih besar dari \n",
    "    nilai alpha 0,05. Oleh karena itu, kita tetap bisa menerima hipotesis nol karena tidak ada perbedaan yang signifikan \n",
    "    secara statistik dalam konversi antar group. \n",
    "- Perbedaan konversi relatif untuk group 0 jika dibandingkan dengan group 1 adalah 1.8 % dengan rata-rata konversi \n",
    "    grop 0 lebih kecil daripada group 1."
   ]
  },
  {
   "cell_type": "markdown",
   "metadata": {},
   "source": [
    "<div class=\"alert alert-success\">\n",
    "<b>Code Reviewers's comment v.1</b> <a class=\"tocSkip\"></a>\n",
    "\n",
    "Bagus, code yang dijalankan sudah sesuai dengan instruksi dari project.\n",
    "\n",
    "</div>"
   ]
  },
  {
   "cell_type": "markdown",
   "metadata": {},
   "source": [
    "# 4.2. Menghitung perbandingan antara peserta loyalty dengan yang bukan peserta loyalty"
   ]
  },
  {
   "cell_type": "code",
   "execution_count": 67,
   "metadata": {},
   "outputs": [
    {
     "name": "stdout",
     "output_type": "stream",
     "text": [
      "Jumlah pelanggan toko: 1750 pelanggan\n"
     ]
    }
   ],
   "source": [
    "#Menghitung jumlah pelanggan toko\n",
    "cust = len(purchase_product['customer_id'].unique())\n",
    "print('Jumlah pelanggan toko: {} pelanggan'. format(cust))"
   ]
  },
  {
   "cell_type": "code",
   "execution_count": 68,
   "metadata": {},
   "outputs": [
    {
     "data": {
      "text/html": [
       "<div>\n",
       "<style scoped>\n",
       "    .dataframe tbody tr th:only-of-type {\n",
       "        vertical-align: middle;\n",
       "    }\n",
       "\n",
       "    .dataframe tbody tr th {\n",
       "        vertical-align: top;\n",
       "    }\n",
       "\n",
       "    .dataframe thead th {\n",
       "        text-align: right;\n",
       "    }\n",
       "</style>\n",
       "<table border=\"1\" class=\"dataframe\">\n",
       "  <thead>\n",
       "    <tr style=\"text-align: right;\">\n",
       "      <th></th>\n",
       "      <th>customer_id</th>\n",
       "    </tr>\n",
       "    <tr>\n",
       "      <th>loyalty_program</th>\n",
       "      <th></th>\n",
       "    </tr>\n",
       "  </thead>\n",
       "  <tbody>\n",
       "    <tr>\n",
       "      <th>0</th>\n",
       "      <td>1163</td>\n",
       "    </tr>\n",
       "    <tr>\n",
       "      <th>1</th>\n",
       "      <td>587</td>\n",
       "    </tr>\n",
       "  </tbody>\n",
       "</table>\n",
       "</div>"
      ],
      "text/plain": [
       "                 customer_id\n",
       "loyalty_program             \n",
       "0                       1163\n",
       "1                        587"
      ]
     },
     "execution_count": 68,
     "metadata": {},
     "output_type": "execute_result"
    }
   ],
   "source": [
    "# Menghitung jumlah pelanggan peserta loyalty program dan yang bukan\n",
    "purchase_product.groupby(['loyalty_program']).agg({'customer_id':'nunique'})"
   ]
  },
  {
   "cell_type": "code",
   "execution_count": 69,
   "metadata": {},
   "outputs": [
    {
     "data": {
      "text/plain": [
       "<AxesSubplot:xlabel='loyalty_program'>"
      ]
     },
     "execution_count": 69,
     "metadata": {},
     "output_type": "execute_result"
    },
    {
     "data": {
      "image/png": "[encoded data removed]",
      "text/plain": [
       "<Figure size 720x360 with 1 Axes>"
      ]
     },
     "metadata": {
      "needs_background": "light"
     },
     "output_type": "display_data"
    }
   ],
   "source": [
    "purchase_product.groupby(['loyalty_program']).agg({'customer_id':'nunique'}).plot(kind='bar', figsize=(10, 5))"
   ]
  },
  {
   "cell_type": "markdown",
   "metadata": {},
   "source": [
    "    - Jumlah pelanggan yang merupakan peserta loyalty program ada 587 pelanggan\n",
    "    - Jumlah pelanggan yang bukan merupakan peserta loyalty program ada 1163 pelanggan"
   ]
  },
  {
   "cell_type": "code",
   "execution_count": 70,
   "metadata": {},
   "outputs": [
    {
     "data": {
      "text/html": [
       "<div>\n",
       "<style scoped>\n",
       "    .dataframe tbody tr th:only-of-type {\n",
       "        vertical-align: middle;\n",
       "    }\n",
       "\n",
       "    .dataframe tbody tr th {\n",
       "        vertical-align: top;\n",
       "    }\n",
       "\n",
       "    .dataframe thead th {\n",
       "        text-align: right;\n",
       "    }\n",
       "</style>\n",
       "<table border=\"1\" class=\"dataframe\">\n",
       "  <thead>\n",
       "    <tr style=\"text-align: right;\">\n",
       "      <th></th>\n",
       "      <th>purchase_id</th>\n",
       "    </tr>\n",
       "    <tr>\n",
       "      <th>loyalty_program</th>\n",
       "      <th></th>\n",
       "    </tr>\n",
       "  </thead>\n",
       "  <tbody>\n",
       "    <tr>\n",
       "      <th>0</th>\n",
       "      <td>80890</td>\n",
       "    </tr>\n",
       "    <tr>\n",
       "      <th>1</th>\n",
       "      <td>23412</td>\n",
       "    </tr>\n",
       "  </tbody>\n",
       "</table>\n",
       "</div>"
      ],
      "text/plain": [
       "                 purchase_id\n",
       "loyalty_program             \n",
       "0                      80890\n",
       "1                      23412"
      ]
     },
     "execution_count": 70,
     "metadata": {},
     "output_type": "execute_result"
    }
   ],
   "source": [
    "# Menghitung frekuensi belanja peserta loyalty program dan yang bukan\n",
    "loyalty_purchase = purchase_product.groupby(['loyalty_program']).agg({'purchase_id':'count'})\n",
    "loyalty_purchase"
   ]
  },
  {
   "cell_type": "code",
   "execution_count": 71,
   "metadata": {},
   "outputs": [
    {
     "data": {
      "text/plain": [
       "<AxesSubplot:xlabel='loyalty_program'>"
      ]
     },
     "execution_count": 71,
     "metadata": {},
     "output_type": "execute_result"
    },
    {
     "data": {
      "image/png": "[encoded data removed]",
      "text/plain": [
       "<Figure size 720x360 with 1 Axes>"
      ]
     },
     "metadata": {
      "needs_background": "light"
     },
     "output_type": "display_data"
    }
   ],
   "source": [
    "purchase_product.groupby(['loyalty_program']).agg({'purchase_id':'count'}).plot(kind='bar', figsize=(10, 5))"
   ]
  },
  {
   "cell_type": "markdown",
   "metadata": {},
   "source": [
    "- Pelanggan yang bukan peserta loyalty berbelanja hanya 23412 kali, sedangkan pelanggan yang bukan peserta loyalty\n",
    "berbelanja sebanyak 80890 kali."
   ]
  },
  {
   "cell_type": "code",
   "execution_count": 72,
   "metadata": {},
   "outputs": [
    {
     "data": {
      "text/plain": [
       "<Figure size 576x432 with 0 Axes>"
      ]
     },
     "metadata": {},
     "output_type": "display_data"
    },
    {
     "data": {
      "image/png": "[encoded data removed]",
      "text/plain": [
       "<Figure size 432x288 with 1 Axes>"
      ]
     },
     "metadata": {},
     "output_type": "display_data"
    }
   ],
   "source": [
    "#Membuat grafik piechart untuk perbandingan frekuensi belanja peserta loyalty\n",
    "plt.figure(figsize=(8, 6))\n",
    "loyalty_purchase.plot(kind='pie', autopct='%1.1f%%', startangle=140, subplots=True)\n",
    "plt.title('Perbandingan Frekuensi Belanja Peserta Loyalty')\n",
    "plt.axis('equal')\n",
    "plt.legend()\n",
    "plt.show()"
   ]
  },
  {
   "cell_type": "markdown",
   "metadata": {},
   "source": [
    "    - Frekuensi belanja peserta loyalty adalah 23412 kali atau 22.4 %\n",
    "    - Frekuensi belanja yang bukan peserta loyalty adalah 80890 kali atau 77.6 %"
   ]
  },
  {
   "cell_type": "markdown",
   "metadata": {},
   "source": [
    "<div class=\"alert alert-success\">\n",
    "<b>Code Reviewers's comment v.1</b> <a class=\"tocSkip\"></a>\n",
    "\n",
    "Bagus, code yang dijalankan sudah sesuai dengan instruksi dari project.\n",
    "\n",
    "</div>"
   ]
  },
  {
   "cell_type": "markdown",
   "metadata": {},
   "source": [
    "# 5. Analisis Kohort"
   ]
  },
  {
   "cell_type": "markdown",
   "metadata": {},
   "source": [
    "***5.1.Menghitung tingkat retensi pelanggan***"
   ]
  },
  {
   "cell_type": "code",
   "execution_count": 73,
   "metadata": {},
   "outputs": [
    {
     "data": {
      "text/html": [
       "<div>\n",
       "<style scoped>\n",
       "    .dataframe tbody tr th:only-of-type {\n",
       "        vertical-align: middle;\n",
       "    }\n",
       "\n",
       "    .dataframe tbody tr th {\n",
       "        vertical-align: top;\n",
       "    }\n",
       "\n",
       "    .dataframe thead th {\n",
       "        text-align: right;\n",
       "    }\n",
       "</style>\n",
       "<table border=\"1\" class=\"dataframe\">\n",
       "  <thead>\n",
       "    <tr style=\"text-align: right;\">\n",
       "      <th></th>\n",
       "      <th>purchase_id</th>\n",
       "      <th>product_id</th>\n",
       "      <th>quantity</th>\n",
       "      <th>purchase_time</th>\n",
       "      <th>customer_id</th>\n",
       "      <th>loyalty_program</th>\n",
       "      <th>shop_id</th>\n",
       "      <th>price_per_one</th>\n",
       "      <th>date</th>\n",
       "      <th>revenue</th>\n",
       "    </tr>\n",
       "  </thead>\n",
       "  <tbody>\n",
       "    <tr>\n",
       "      <th>0</th>\n",
       "      <td>538280</td>\n",
       "      <td>21873</td>\n",
       "      <td>11</td>\n",
       "      <td>2016-12-10 12:50:00</td>\n",
       "      <td>18427.0</td>\n",
       "      <td>0</td>\n",
       "      <td>Shop 3</td>\n",
       "      <td>0.42</td>\n",
       "      <td>2016-12-10</td>\n",
       "      <td>4.62</td>\n",
       "    </tr>\n",
       "    <tr>\n",
       "      <th>1</th>\n",
       "      <td>541104</td>\n",
       "      <td>21873</td>\n",
       "      <td>0</td>\n",
       "      <td>2017-01-13 14:29:00</td>\n",
       "      <td>0.0</td>\n",
       "      <td>0</td>\n",
       "      <td>Shop 0</td>\n",
       "      <td>0.42</td>\n",
       "      <td>2016-12-14</td>\n",
       "      <td>0.00</td>\n",
       "    </tr>\n",
       "    <tr>\n",
       "      <th>2</th>\n",
       "      <td>540418</td>\n",
       "      <td>21873</td>\n",
       "      <td>1</td>\n",
       "      <td>2017-01-07 11:04:00</td>\n",
       "      <td>0.0</td>\n",
       "      <td>0</td>\n",
       "      <td>Shop 0</td>\n",
       "      <td>0.42</td>\n",
       "      <td>2016-12-14</td>\n",
       "      <td>0.42</td>\n",
       "    </tr>\n",
       "    <tr>\n",
       "      <th>3</th>\n",
       "      <td>541516</td>\n",
       "      <td>21873</td>\n",
       "      <td>2</td>\n",
       "      <td>2017-01-18 17:34:00</td>\n",
       "      <td>0.0</td>\n",
       "      <td>0</td>\n",
       "      <td>Shop 0</td>\n",
       "      <td>0.42</td>\n",
       "      <td>2017-02-09</td>\n",
       "      <td>0.84</td>\n",
       "    </tr>\n",
       "    <tr>\n",
       "      <th>4</th>\n",
       "      <td>541566</td>\n",
       "      <td>21873</td>\n",
       "      <td>35</td>\n",
       "      <td>2017-01-19 11:50:00</td>\n",
       "      <td>23401.0</td>\n",
       "      <td>1</td>\n",
       "      <td>Shop 22</td>\n",
       "      <td>0.42</td>\n",
       "      <td>2017-02-13</td>\n",
       "      <td>14.70</td>\n",
       "    </tr>\n",
       "    <tr>\n",
       "      <th>...</th>\n",
       "      <td>...</td>\n",
       "      <td>...</td>\n",
       "      <td>...</td>\n",
       "      <td>...</td>\n",
       "      <td>...</td>\n",
       "      <td>...</td>\n",
       "      <td>...</td>\n",
       "      <td>...</td>\n",
       "      <td>...</td>\n",
       "      <td>...</td>\n",
       "    </tr>\n",
       "    <tr>\n",
       "      <th>104297</th>\n",
       "      <td>538852</td>\n",
       "      <td>90058B</td>\n",
       "      <td>35</td>\n",
       "      <td>2016-12-14 13:33:00</td>\n",
       "      <td>23051.0</td>\n",
       "      <td>1</td>\n",
       "      <td>Shop 8</td>\n",
       "      <td>0.38</td>\n",
       "      <td>2016-12-13</td>\n",
       "      <td>13.30</td>\n",
       "    </tr>\n",
       "    <tr>\n",
       "      <th>104298</th>\n",
       "      <td>539988</td>\n",
       "      <td>46138B</td>\n",
       "      <td>1</td>\n",
       "      <td>2016-12-23 16:06:00</td>\n",
       "      <td>23795.0</td>\n",
       "      <td>1</td>\n",
       "      <td>Shop 14</td>\n",
       "      <td>1.95</td>\n",
       "      <td>2017-01-05</td>\n",
       "      <td>1.95</td>\n",
       "    </tr>\n",
       "    <tr>\n",
       "      <th>104299</th>\n",
       "      <td>537025</td>\n",
       "      <td>90053</td>\n",
       "      <td>0</td>\n",
       "      <td>2016-12-03 16:21:00</td>\n",
       "      <td>0.0</td>\n",
       "      <td>0</td>\n",
       "      <td>Shop 0</td>\n",
       "      <td>2.55</td>\n",
       "      <td>2016-12-09</td>\n",
       "      <td>0.00</td>\n",
       "    </tr>\n",
       "    <tr>\n",
       "      <th>104300</th>\n",
       "      <td>542731</td>\n",
       "      <td>17028J</td>\n",
       "      <td>5</td>\n",
       "      <td>2017-01-31 15:27:00</td>\n",
       "      <td>19279.0</td>\n",
       "      <td>0</td>\n",
       "      <td>Shop 0</td>\n",
       "      <td>0.42</td>\n",
       "      <td>2016-12-10</td>\n",
       "      <td>2.10</td>\n",
       "    </tr>\n",
       "    <tr>\n",
       "      <th>104301</th>\n",
       "      <td>C540246</td>\n",
       "      <td>79320</td>\n",
       "      <td>-2</td>\n",
       "      <td>2017-01-05 15:43:00</td>\n",
       "      <td>18760.0</td>\n",
       "      <td>0</td>\n",
       "      <td>Shop 19</td>\n",
       "      <td>4.95</td>\n",
       "      <td>2017-02-14</td>\n",
       "      <td>-9.90</td>\n",
       "    </tr>\n",
       "  </tbody>\n",
       "</table>\n",
       "<p>104302 rows × 10 columns</p>\n",
       "</div>"
      ],
      "text/plain": [
       "       purchase_id product_id  quantity       purchase_time  customer_id  \\\n",
       "0           538280      21873        11 2016-12-10 12:50:00      18427.0   \n",
       "1           541104      21873         0 2017-01-13 14:29:00          0.0   \n",
       "2           540418      21873         1 2017-01-07 11:04:00          0.0   \n",
       "3           541516      21873         2 2017-01-18 17:34:00          0.0   \n",
       "4           541566      21873        35 2017-01-19 11:50:00      23401.0   \n",
       "...            ...        ...       ...                 ...          ...   \n",
       "104297      538852     90058B        35 2016-12-14 13:33:00      23051.0   \n",
       "104298      539988     46138B         1 2016-12-23 16:06:00      23795.0   \n",
       "104299      537025      90053         0 2016-12-03 16:21:00          0.0   \n",
       "104300      542731     17028J         5 2017-01-31 15:27:00      19279.0   \n",
       "104301     C540246      79320        -2 2017-01-05 15:43:00      18760.0   \n",
       "\n",
       "        loyalty_program  shop_id  price_per_one       date  revenue  \n",
       "0                     0   Shop 3           0.42 2016-12-10     4.62  \n",
       "1                     0   Shop 0           0.42 2016-12-14     0.00  \n",
       "2                     0   Shop 0           0.42 2016-12-14     0.42  \n",
       "3                     0   Shop 0           0.42 2017-02-09     0.84  \n",
       "4                     1  Shop 22           0.42 2017-02-13    14.70  \n",
       "...                 ...      ...            ...        ...      ...  \n",
       "104297                1   Shop 8           0.38 2016-12-13    13.30  \n",
       "104298                1  Shop 14           1.95 2017-01-05     1.95  \n",
       "104299                0   Shop 0           2.55 2016-12-09     0.00  \n",
       "104300                0   Shop 0           0.42 2016-12-10     2.10  \n",
       "104301                0  Shop 19           4.95 2017-02-14    -9.90  \n",
       "\n",
       "[104302 rows x 10 columns]"
      ]
     },
     "execution_count": 73,
     "metadata": {},
     "output_type": "execute_result"
    }
   ],
   "source": [
    "purchase_product"
   ]
  },
  {
   "cell_type": "code",
   "execution_count": 74,
   "metadata": {},
   "outputs": [],
   "source": [
    "#Menambahkan kolom first_order_date\n",
    "first_order_date = purchase_product.groupby(['customer_id'])['date'].min()"
   ]
  },
  {
   "cell_type": "code",
   "execution_count": 75,
   "metadata": {},
   "outputs": [],
   "source": [
    "first_order_date.name = 'first_order_date'"
   ]
  },
  {
   "cell_type": "code",
   "execution_count": 76,
   "metadata": {},
   "outputs": [],
   "source": [
    "purchase_product = purchase_product.join(first_order_date, on='customer_id')"
   ]
  },
  {
   "cell_type": "code",
   "execution_count": 77,
   "metadata": {},
   "outputs": [
    {
     "data": {
      "text/html": [
       "<div>\n",
       "<style scoped>\n",
       "    .dataframe tbody tr th:only-of-type {\n",
       "        vertical-align: middle;\n",
       "    }\n",
       "\n",
       "    .dataframe tbody tr th {\n",
       "        vertical-align: top;\n",
       "    }\n",
       "\n",
       "    .dataframe thead th {\n",
       "        text-align: right;\n",
       "    }\n",
       "</style>\n",
       "<table border=\"1\" class=\"dataframe\">\n",
       "  <thead>\n",
       "    <tr style=\"text-align: right;\">\n",
       "      <th></th>\n",
       "      <th>purchase_id</th>\n",
       "      <th>product_id</th>\n",
       "      <th>quantity</th>\n",
       "      <th>purchase_time</th>\n",
       "      <th>customer_id</th>\n",
       "      <th>loyalty_program</th>\n",
       "      <th>shop_id</th>\n",
       "      <th>price_per_one</th>\n",
       "      <th>date</th>\n",
       "      <th>revenue</th>\n",
       "      <th>first_order_date</th>\n",
       "    </tr>\n",
       "  </thead>\n",
       "  <tbody>\n",
       "    <tr>\n",
       "      <th>0</th>\n",
       "      <td>538280</td>\n",
       "      <td>21873</td>\n",
       "      <td>11</td>\n",
       "      <td>2016-12-10 12:50:00</td>\n",
       "      <td>18427.0</td>\n",
       "      <td>0</td>\n",
       "      <td>Shop 3</td>\n",
       "      <td>0.42</td>\n",
       "      <td>2016-12-10</td>\n",
       "      <td>4.62</td>\n",
       "      <td>2016-12-01</td>\n",
       "    </tr>\n",
       "    <tr>\n",
       "      <th>1</th>\n",
       "      <td>541104</td>\n",
       "      <td>21873</td>\n",
       "      <td>0</td>\n",
       "      <td>2017-01-13 14:29:00</td>\n",
       "      <td>0.0</td>\n",
       "      <td>0</td>\n",
       "      <td>Shop 0</td>\n",
       "      <td>0.42</td>\n",
       "      <td>2016-12-14</td>\n",
       "      <td>0.00</td>\n",
       "      <td>2016-12-01</td>\n",
       "    </tr>\n",
       "    <tr>\n",
       "      <th>2</th>\n",
       "      <td>540418</td>\n",
       "      <td>21873</td>\n",
       "      <td>1</td>\n",
       "      <td>2017-01-07 11:04:00</td>\n",
       "      <td>0.0</td>\n",
       "      <td>0</td>\n",
       "      <td>Shop 0</td>\n",
       "      <td>0.42</td>\n",
       "      <td>2016-12-14</td>\n",
       "      <td>0.42</td>\n",
       "      <td>2016-12-01</td>\n",
       "    </tr>\n",
       "    <tr>\n",
       "      <th>3</th>\n",
       "      <td>541516</td>\n",
       "      <td>21873</td>\n",
       "      <td>2</td>\n",
       "      <td>2017-01-18 17:34:00</td>\n",
       "      <td>0.0</td>\n",
       "      <td>0</td>\n",
       "      <td>Shop 0</td>\n",
       "      <td>0.42</td>\n",
       "      <td>2017-02-09</td>\n",
       "      <td>0.84</td>\n",
       "      <td>2016-12-01</td>\n",
       "    </tr>\n",
       "    <tr>\n",
       "      <th>4</th>\n",
       "      <td>541566</td>\n",
       "      <td>21873</td>\n",
       "      <td>35</td>\n",
       "      <td>2017-01-19 11:50:00</td>\n",
       "      <td>23401.0</td>\n",
       "      <td>1</td>\n",
       "      <td>Shop 22</td>\n",
       "      <td>0.42</td>\n",
       "      <td>2017-02-13</td>\n",
       "      <td>14.70</td>\n",
       "      <td>2016-12-01</td>\n",
       "    </tr>\n",
       "  </tbody>\n",
       "</table>\n",
       "</div>"
      ],
      "text/plain": [
       "  purchase_id product_id  quantity       purchase_time  customer_id  \\\n",
       "0      538280      21873        11 2016-12-10 12:50:00      18427.0   \n",
       "1      541104      21873         0 2017-01-13 14:29:00          0.0   \n",
       "2      540418      21873         1 2017-01-07 11:04:00          0.0   \n",
       "3      541516      21873         2 2017-01-18 17:34:00          0.0   \n",
       "4      541566      21873        35 2017-01-19 11:50:00      23401.0   \n",
       "\n",
       "   loyalty_program  shop_id  price_per_one       date  revenue  \\\n",
       "0                0   Shop 3           0.42 2016-12-10     4.62   \n",
       "1                0   Shop 0           0.42 2016-12-14     0.00   \n",
       "2                0   Shop 0           0.42 2016-12-14     0.42   \n",
       "3                0   Shop 0           0.42 2017-02-09     0.84   \n",
       "4                1  Shop 22           0.42 2017-02-13    14.70   \n",
       "\n",
       "  first_order_date  \n",
       "0       2016-12-01  \n",
       "1       2016-12-01  \n",
       "2       2016-12-01  \n",
       "3       2016-12-01  \n",
       "4       2016-12-01  "
      ]
     },
     "execution_count": 77,
     "metadata": {},
     "output_type": "execute_result"
    }
   ],
   "source": [
    "purchase_product.head()"
   ]
  },
  {
   "cell_type": "code",
   "execution_count": 78,
   "metadata": {},
   "outputs": [],
   "source": [
    "#enambahkan kolom oredr_week dan first_order_week\n",
    "purchase_product['order_week'] = pd.to_datetime(\n",
    "    purchase_product['date'], unit='d'\n",
    ") - pd.to_timedelta(purchase_product['date'].dt.dayofweek, unit='d')"
   ]
  },
  {
   "cell_type": "code",
   "execution_count": 79,
   "metadata": {},
   "outputs": [
    {
     "data": {
      "text/html": [
       "<div>\n",
       "<style scoped>\n",
       "    .dataframe tbody tr th:only-of-type {\n",
       "        vertical-align: middle;\n",
       "    }\n",
       "\n",
       "    .dataframe tbody tr th {\n",
       "        vertical-align: top;\n",
       "    }\n",
       "\n",
       "    .dataframe thead th {\n",
       "        text-align: right;\n",
       "    }\n",
       "</style>\n",
       "<table border=\"1\" class=\"dataframe\">\n",
       "  <thead>\n",
       "    <tr style=\"text-align: right;\">\n",
       "      <th></th>\n",
       "      <th>purchase_id</th>\n",
       "      <th>product_id</th>\n",
       "      <th>quantity</th>\n",
       "      <th>purchase_time</th>\n",
       "      <th>customer_id</th>\n",
       "      <th>loyalty_program</th>\n",
       "      <th>shop_id</th>\n",
       "      <th>price_per_one</th>\n",
       "      <th>date</th>\n",
       "      <th>revenue</th>\n",
       "      <th>first_order_date</th>\n",
       "      <th>order_week</th>\n",
       "      <th>first_order_week</th>\n",
       "    </tr>\n",
       "  </thead>\n",
       "  <tbody>\n",
       "    <tr>\n",
       "      <th>0</th>\n",
       "      <td>538280</td>\n",
       "      <td>21873</td>\n",
       "      <td>11</td>\n",
       "      <td>2016-12-10 12:50:00</td>\n",
       "      <td>18427.0</td>\n",
       "      <td>0</td>\n",
       "      <td>Shop 3</td>\n",
       "      <td>0.42</td>\n",
       "      <td>2016-12-10</td>\n",
       "      <td>4.62</td>\n",
       "      <td>2016-12-01</td>\n",
       "      <td>2016-12-05</td>\n",
       "      <td>2016-11-28</td>\n",
       "    </tr>\n",
       "    <tr>\n",
       "      <th>1</th>\n",
       "      <td>541104</td>\n",
       "      <td>21873</td>\n",
       "      <td>0</td>\n",
       "      <td>2017-01-13 14:29:00</td>\n",
       "      <td>0.0</td>\n",
       "      <td>0</td>\n",
       "      <td>Shop 0</td>\n",
       "      <td>0.42</td>\n",
       "      <td>2016-12-14</td>\n",
       "      <td>0.00</td>\n",
       "      <td>2016-12-01</td>\n",
       "      <td>2016-12-12</td>\n",
       "      <td>2016-11-28</td>\n",
       "    </tr>\n",
       "    <tr>\n",
       "      <th>2</th>\n",
       "      <td>540418</td>\n",
       "      <td>21873</td>\n",
       "      <td>1</td>\n",
       "      <td>2017-01-07 11:04:00</td>\n",
       "      <td>0.0</td>\n",
       "      <td>0</td>\n",
       "      <td>Shop 0</td>\n",
       "      <td>0.42</td>\n",
       "      <td>2016-12-14</td>\n",
       "      <td>0.42</td>\n",
       "      <td>2016-12-01</td>\n",
       "      <td>2016-12-12</td>\n",
       "      <td>2016-11-28</td>\n",
       "    </tr>\n",
       "    <tr>\n",
       "      <th>3</th>\n",
       "      <td>541516</td>\n",
       "      <td>21873</td>\n",
       "      <td>2</td>\n",
       "      <td>2017-01-18 17:34:00</td>\n",
       "      <td>0.0</td>\n",
       "      <td>0</td>\n",
       "      <td>Shop 0</td>\n",
       "      <td>0.42</td>\n",
       "      <td>2017-02-09</td>\n",
       "      <td>0.84</td>\n",
       "      <td>2016-12-01</td>\n",
       "      <td>2017-02-06</td>\n",
       "      <td>2016-11-28</td>\n",
       "    </tr>\n",
       "    <tr>\n",
       "      <th>4</th>\n",
       "      <td>541566</td>\n",
       "      <td>21873</td>\n",
       "      <td>35</td>\n",
       "      <td>2017-01-19 11:50:00</td>\n",
       "      <td>23401.0</td>\n",
       "      <td>1</td>\n",
       "      <td>Shop 22</td>\n",
       "      <td>0.42</td>\n",
       "      <td>2017-02-13</td>\n",
       "      <td>14.70</td>\n",
       "      <td>2016-12-01</td>\n",
       "      <td>2017-02-13</td>\n",
       "      <td>2016-11-28</td>\n",
       "    </tr>\n",
       "  </tbody>\n",
       "</table>\n",
       "</div>"
      ],
      "text/plain": [
       "  purchase_id product_id  quantity       purchase_time  customer_id  \\\n",
       "0      538280      21873        11 2016-12-10 12:50:00      18427.0   \n",
       "1      541104      21873         0 2017-01-13 14:29:00          0.0   \n",
       "2      540418      21873         1 2017-01-07 11:04:00          0.0   \n",
       "3      541516      21873         2 2017-01-18 17:34:00          0.0   \n",
       "4      541566      21873        35 2017-01-19 11:50:00      23401.0   \n",
       "\n",
       "   loyalty_program  shop_id  price_per_one       date  revenue  \\\n",
       "0                0   Shop 3           0.42 2016-12-10     4.62   \n",
       "1                0   Shop 0           0.42 2016-12-14     0.00   \n",
       "2                0   Shop 0           0.42 2016-12-14     0.42   \n",
       "3                0   Shop 0           0.42 2017-02-09     0.84   \n",
       "4                1  Shop 22           0.42 2017-02-13    14.70   \n",
       "\n",
       "  first_order_date order_week first_order_week  \n",
       "0       2016-12-01 2016-12-05       2016-11-28  \n",
       "1       2016-12-01 2016-12-12       2016-11-28  \n",
       "2       2016-12-01 2016-12-12       2016-11-28  \n",
       "3       2016-12-01 2017-02-06       2016-11-28  \n",
       "4       2016-12-01 2017-02-13       2016-11-28  "
      ]
     },
     "execution_count": 79,
     "metadata": {},
     "output_type": "execute_result"
    }
   ],
   "source": [
    "purchase_product['first_order_week'] = pd.to_datetime(\n",
    "    purchase_product['first_order_date'], unit='d'\n",
    ") - pd.to_timedelta(\n",
    "    purchase_product['first_order_date'].dt.dayofweek, unit='d'\n",
    ")\n",
    "purchase_product.head()"
   ]
  },
  {
   "cell_type": "code",
   "execution_count": 80,
   "metadata": {},
   "outputs": [],
   "source": [
    "#Menghitung siklus hidup pelanggan\n",
    "\n",
    "purchase_product['cohort_lifetime'] = (\n",
    "    purchase_product['order_week'] - purchase_product['first_order_week']\n",
    ")"
   ]
  },
  {
   "cell_type": "code",
   "execution_count": 81,
   "metadata": {},
   "outputs": [],
   "source": [
    "purchase_product['cohort_lifetime'] = purchase_product[\n",
    "    'cohort_lifetime'\n",
    "] / np.timedelta64(1, 'W')"
   ]
  },
  {
   "cell_type": "code",
   "execution_count": 82,
   "metadata": {},
   "outputs": [],
   "source": [
    "purchase_product['cohort_lifetime'] = purchase_product['cohort_lifetime'].astype(int)"
   ]
  },
  {
   "cell_type": "code",
   "execution_count": 83,
   "metadata": {},
   "outputs": [],
   "source": [
    "#Menghitung siklus hidup pelanggan\n",
    "\n",
    "purchase_product['cohort_lifetime'] = (\n",
    "    purchase_product['order_week'] - purchase_product['first_order_week']\n",
    ")\n",
    "purchase_product['cohort_lifetime'] = purchase_product[\n",
    "    'cohort_lifetime'\n",
    "] / np.timedelta64(1, 'W')\n",
    "purchase_product['cohort_lifetime'] = purchase_product['cohort_lifetime'].astype(int)"
   ]
  },
  {
   "cell_type": "code",
   "execution_count": 84,
   "metadata": {},
   "outputs": [
    {
     "data": {
      "text/html": [
       "<div>\n",
       "<style scoped>\n",
       "    .dataframe tbody tr th:only-of-type {\n",
       "        vertical-align: middle;\n",
       "    }\n",
       "\n",
       "    .dataframe tbody tr th {\n",
       "        vertical-align: top;\n",
       "    }\n",
       "\n",
       "    .dataframe thead th {\n",
       "        text-align: right;\n",
       "    }\n",
       "</style>\n",
       "<table border=\"1\" class=\"dataframe\">\n",
       "  <thead>\n",
       "    <tr style=\"text-align: right;\">\n",
       "      <th></th>\n",
       "      <th>first_order_week</th>\n",
       "      <th>cohort_lifetime</th>\n",
       "      <th>customer_id</th>\n",
       "    </tr>\n",
       "  </thead>\n",
       "  <tbody>\n",
       "    <tr>\n",
       "      <th>0</th>\n",
       "      <td>2016-11-28</td>\n",
       "      <td>0</td>\n",
       "      <td>1264</td>\n",
       "    </tr>\n",
       "    <tr>\n",
       "      <th>1</th>\n",
       "      <td>2016-11-28</td>\n",
       "      <td>1</td>\n",
       "      <td>1196</td>\n",
       "    </tr>\n",
       "    <tr>\n",
       "      <th>2</th>\n",
       "      <td>2016-11-28</td>\n",
       "      <td>2</td>\n",
       "      <td>1143</td>\n",
       "    </tr>\n",
       "    <tr>\n",
       "      <th>3</th>\n",
       "      <td>2016-11-28</td>\n",
       "      <td>3</td>\n",
       "      <td>927</td>\n",
       "    </tr>\n",
       "    <tr>\n",
       "      <th>4</th>\n",
       "      <td>2016-11-28</td>\n",
       "      <td>5</td>\n",
       "      <td>993</td>\n",
       "    </tr>\n",
       "    <tr>\n",
       "      <th>...</th>\n",
       "      <td>...</td>\n",
       "      <td>...</td>\n",
       "      <td>...</td>\n",
       "    </tr>\n",
       "    <tr>\n",
       "      <th>72</th>\n",
       "      <td>2017-02-06</td>\n",
       "      <td>0</td>\n",
       "      <td>3</td>\n",
       "    </tr>\n",
       "    <tr>\n",
       "      <th>73</th>\n",
       "      <td>2017-02-13</td>\n",
       "      <td>0</td>\n",
       "      <td>3</td>\n",
       "    </tr>\n",
       "    <tr>\n",
       "      <th>74</th>\n",
       "      <td>2017-02-13</td>\n",
       "      <td>1</td>\n",
       "      <td>1</td>\n",
       "    </tr>\n",
       "    <tr>\n",
       "      <th>75</th>\n",
       "      <td>2017-02-20</td>\n",
       "      <td>0</td>\n",
       "      <td>3</td>\n",
       "    </tr>\n",
       "    <tr>\n",
       "      <th>76</th>\n",
       "      <td>2017-02-27</td>\n",
       "      <td>0</td>\n",
       "      <td>2</td>\n",
       "    </tr>\n",
       "  </tbody>\n",
       "</table>\n",
       "<p>77 rows × 3 columns</p>\n",
       "</div>"
      ],
      "text/plain": [
       "   first_order_week  cohort_lifetime  customer_id\n",
       "0        2016-11-28                0         1264\n",
       "1        2016-11-28                1         1196\n",
       "2        2016-11-28                2         1143\n",
       "3        2016-11-28                3          927\n",
       "4        2016-11-28                5          993\n",
       "..              ...              ...          ...\n",
       "72       2017-02-06                0            3\n",
       "73       2017-02-13                0            3\n",
       "74       2017-02-13                1            1\n",
       "75       2017-02-20                0            3\n",
       "76       2017-02-27                0            2\n",
       "\n",
       "[77 rows x 3 columns]"
      ]
     },
     "execution_count": 84,
     "metadata": {},
     "output_type": "execute_result"
    }
   ],
   "source": [
    "cohorts = (\n",
    "    purchase_product.groupby(['first_order_week', 'cohort_lifetime'])\n",
    "    .agg({'customer_id': 'nunique'})\n",
    "    .reset_index()\n",
    ")\n",
    "cohorts"
   ]
  },
  {
   "cell_type": "code",
   "execution_count": 85,
   "metadata": {},
   "outputs": [
    {
     "name": "stdout",
     "output_type": "stream",
     "text": [
      "   first_order_week  customer_id\n",
      "0        2016-11-28         1264\n",
      "13       2016-12-05          339\n",
      "25       2016-12-12           53\n",
      "36       2016-12-19            9\n",
      "45       2017-01-02           19\n",
      "53       2017-01-09           11\n",
      "59       2017-01-16           26\n",
      "66       2017-01-23           10\n",
      "68       2017-01-30            8\n",
      "72       2017-02-06            3\n",
      "73       2017-02-13            3\n",
      "75       2017-02-20            3\n",
      "76       2017-02-27            2\n"
     ]
    }
   ],
   "source": [
    "# mencari jumlah awal pengguna dalam kohort dengan melihat minggu ke-0\n",
    "initial_customers_count = cohorts[cohorts['cohort_lifetime'] == 0][\n",
    "    ['first_order_week', 'customer_id']\n",
    "]\n",
    "print(initial_customers_count)"
   ]
  },
  {
   "cell_type": "code",
   "execution_count": 86,
   "metadata": {},
   "outputs": [],
   "source": [
    "initial_customers_count = initial_customers_count.rename(\n",
    "    columns={'customer_id': 'cohort_users'}\n",
    ")"
   ]
  },
  {
   "cell_type": "code",
   "execution_count": 87,
   "metadata": {},
   "outputs": [
    {
     "data": {
      "text/html": [
       "<div>\n",
       "<style scoped>\n",
       "    .dataframe tbody tr th:only-of-type {\n",
       "        vertical-align: middle;\n",
       "    }\n",
       "\n",
       "    .dataframe tbody tr th {\n",
       "        vertical-align: top;\n",
       "    }\n",
       "\n",
       "    .dataframe thead th {\n",
       "        text-align: right;\n",
       "    }\n",
       "</style>\n",
       "<table border=\"1\" class=\"dataframe\">\n",
       "  <thead>\n",
       "    <tr style=\"text-align: right;\">\n",
       "      <th></th>\n",
       "      <th>first_order_week</th>\n",
       "      <th>cohort_lifetime</th>\n",
       "      <th>customer_id</th>\n",
       "      <th>cohort_users</th>\n",
       "    </tr>\n",
       "  </thead>\n",
       "  <tbody>\n",
       "    <tr>\n",
       "      <th>0</th>\n",
       "      <td>2016-11-28</td>\n",
       "      <td>0</td>\n",
       "      <td>1264</td>\n",
       "      <td>1264</td>\n",
       "    </tr>\n",
       "    <tr>\n",
       "      <th>1</th>\n",
       "      <td>2016-11-28</td>\n",
       "      <td>1</td>\n",
       "      <td>1196</td>\n",
       "      <td>1264</td>\n",
       "    </tr>\n",
       "    <tr>\n",
       "      <th>2</th>\n",
       "      <td>2016-11-28</td>\n",
       "      <td>2</td>\n",
       "      <td>1143</td>\n",
       "      <td>1264</td>\n",
       "    </tr>\n",
       "    <tr>\n",
       "      <th>3</th>\n",
       "      <td>2016-11-28</td>\n",
       "      <td>3</td>\n",
       "      <td>927</td>\n",
       "      <td>1264</td>\n",
       "    </tr>\n",
       "    <tr>\n",
       "      <th>4</th>\n",
       "      <td>2016-11-28</td>\n",
       "      <td>5</td>\n",
       "      <td>993</td>\n",
       "      <td>1264</td>\n",
       "    </tr>\n",
       "    <tr>\n",
       "      <th>...</th>\n",
       "      <td>...</td>\n",
       "      <td>...</td>\n",
       "      <td>...</td>\n",
       "      <td>...</td>\n",
       "    </tr>\n",
       "    <tr>\n",
       "      <th>72</th>\n",
       "      <td>2017-02-06</td>\n",
       "      <td>0</td>\n",
       "      <td>3</td>\n",
       "      <td>3</td>\n",
       "    </tr>\n",
       "    <tr>\n",
       "      <th>73</th>\n",
       "      <td>2017-02-13</td>\n",
       "      <td>0</td>\n",
       "      <td>3</td>\n",
       "      <td>3</td>\n",
       "    </tr>\n",
       "    <tr>\n",
       "      <th>74</th>\n",
       "      <td>2017-02-13</td>\n",
       "      <td>1</td>\n",
       "      <td>1</td>\n",
       "      <td>3</td>\n",
       "    </tr>\n",
       "    <tr>\n",
       "      <th>75</th>\n",
       "      <td>2017-02-20</td>\n",
       "      <td>0</td>\n",
       "      <td>3</td>\n",
       "      <td>3</td>\n",
       "    </tr>\n",
       "    <tr>\n",
       "      <th>76</th>\n",
       "      <td>2017-02-27</td>\n",
       "      <td>0</td>\n",
       "      <td>2</td>\n",
       "      <td>2</td>\n",
       "    </tr>\n",
       "  </tbody>\n",
       "</table>\n",
       "<p>77 rows × 4 columns</p>\n",
       "</div>"
      ],
      "text/plain": [
       "   first_order_week  cohort_lifetime  customer_id  cohort_users\n",
       "0        2016-11-28                0         1264          1264\n",
       "1        2016-11-28                1         1196          1264\n",
       "2        2016-11-28                2         1143          1264\n",
       "3        2016-11-28                3          927          1264\n",
       "4        2016-11-28                5          993          1264\n",
       "..              ...              ...          ...           ...\n",
       "72       2017-02-06                0            3             3\n",
       "73       2017-02-13                0            3             3\n",
       "74       2017-02-13                1            1             3\n",
       "75       2017-02-20                0            3             3\n",
       "76       2017-02-27                0            2             2\n",
       "\n",
       "[77 rows x 4 columns]"
      ]
     },
     "execution_count": 87,
     "metadata": {},
     "output_type": "execute_result"
    }
   ],
   "source": [
    "cohorts = cohorts.merge(initial_customers_count, on='first_order_week')\n",
    "cohorts"
   ]
  },
  {
   "cell_type": "code",
   "execution_count": 88,
   "metadata": {},
   "outputs": [],
   "source": [
    "#Menghitung tingkat retensi\n",
    "\n",
    "cohorts['retention'] = cohorts['customer_id'] / cohorts['cohort_users']"
   ]
  },
  {
   "cell_type": "code",
   "execution_count": 89,
   "metadata": {},
   "outputs": [
    {
     "data": {
      "text/html": [
       "<div>\n",
       "<style scoped>\n",
       "    .dataframe tbody tr th:only-of-type {\n",
       "        vertical-align: middle;\n",
       "    }\n",
       "\n",
       "    .dataframe tbody tr th {\n",
       "        vertical-align: top;\n",
       "    }\n",
       "\n",
       "    .dataframe thead th {\n",
       "        text-align: right;\n",
       "    }\n",
       "</style>\n",
       "<table border=\"1\" class=\"dataframe\">\n",
       "  <thead>\n",
       "    <tr style=\"text-align: right;\">\n",
       "      <th>cohort_lifetime</th>\n",
       "      <th>0</th>\n",
       "      <th>1</th>\n",
       "      <th>2</th>\n",
       "      <th>3</th>\n",
       "      <th>4</th>\n",
       "      <th>5</th>\n",
       "      <th>6</th>\n",
       "      <th>7</th>\n",
       "      <th>8</th>\n",
       "      <th>9</th>\n",
       "      <th>10</th>\n",
       "      <th>11</th>\n",
       "      <th>12</th>\n",
       "      <th>13</th>\n",
       "    </tr>\n",
       "    <tr>\n",
       "      <th>first_order_week</th>\n",
       "      <th></th>\n",
       "      <th></th>\n",
       "      <th></th>\n",
       "      <th></th>\n",
       "      <th></th>\n",
       "      <th></th>\n",
       "      <th></th>\n",
       "      <th></th>\n",
       "      <th></th>\n",
       "      <th></th>\n",
       "      <th></th>\n",
       "      <th></th>\n",
       "      <th></th>\n",
       "      <th></th>\n",
       "    </tr>\n",
       "  </thead>\n",
       "  <tbody>\n",
       "    <tr>\n",
       "      <th>2016-11-28</th>\n",
       "      <td>1.0</td>\n",
       "      <td>0.946203</td>\n",
       "      <td>0.904272</td>\n",
       "      <td>0.733386</td>\n",
       "      <td>NaN</td>\n",
       "      <td>0.785601</td>\n",
       "      <td>0.875000</td>\n",
       "      <td>0.856804</td>\n",
       "      <td>0.838608</td>\n",
       "      <td>0.836234</td>\n",
       "      <td>0.750791</td>\n",
       "      <td>0.802215</td>\n",
       "      <td>0.833070</td>\n",
       "      <td>0.570411</td>\n",
       "    </tr>\n",
       "    <tr>\n",
       "      <th>2016-12-05</th>\n",
       "      <td>1.0</td>\n",
       "      <td>0.646018</td>\n",
       "      <td>0.439528</td>\n",
       "      <td>NaN</td>\n",
       "      <td>0.513274</td>\n",
       "      <td>0.613569</td>\n",
       "      <td>0.631268</td>\n",
       "      <td>0.560472</td>\n",
       "      <td>0.554572</td>\n",
       "      <td>0.418879</td>\n",
       "      <td>0.504425</td>\n",
       "      <td>0.528024</td>\n",
       "      <td>0.241888</td>\n",
       "      <td>NaN</td>\n",
       "    </tr>\n",
       "    <tr>\n",
       "      <th>2016-12-12</th>\n",
       "      <td>1.0</td>\n",
       "      <td>0.132075</td>\n",
       "      <td>NaN</td>\n",
       "      <td>0.377358</td>\n",
       "      <td>0.339623</td>\n",
       "      <td>0.396226</td>\n",
       "      <td>0.301887</td>\n",
       "      <td>0.301887</td>\n",
       "      <td>0.226415</td>\n",
       "      <td>0.226415</td>\n",
       "      <td>0.283019</td>\n",
       "      <td>0.150943</td>\n",
       "      <td>NaN</td>\n",
       "      <td>NaN</td>\n",
       "    </tr>\n",
       "    <tr>\n",
       "      <th>2016-12-19</th>\n",
       "      <td>1.0</td>\n",
       "      <td>NaN</td>\n",
       "      <td>0.222222</td>\n",
       "      <td>0.444444</td>\n",
       "      <td>0.222222</td>\n",
       "      <td>0.222222</td>\n",
       "      <td>0.111111</td>\n",
       "      <td>0.111111</td>\n",
       "      <td>0.333333</td>\n",
       "      <td>0.333333</td>\n",
       "      <td>NaN</td>\n",
       "      <td>NaN</td>\n",
       "      <td>NaN</td>\n",
       "      <td>NaN</td>\n",
       "    </tr>\n",
       "    <tr>\n",
       "      <th>2017-01-02</th>\n",
       "      <td>1.0</td>\n",
       "      <td>0.210526</td>\n",
       "      <td>0.210526</td>\n",
       "      <td>0.210526</td>\n",
       "      <td>0.263158</td>\n",
       "      <td>0.157895</td>\n",
       "      <td>0.105263</td>\n",
       "      <td>0.157895</td>\n",
       "      <td>NaN</td>\n",
       "      <td>NaN</td>\n",
       "      <td>NaN</td>\n",
       "      <td>NaN</td>\n",
       "      <td>NaN</td>\n",
       "      <td>NaN</td>\n",
       "    </tr>\n",
       "    <tr>\n",
       "      <th>2017-01-09</th>\n",
       "      <td>1.0</td>\n",
       "      <td>0.272727</td>\n",
       "      <td>0.181818</td>\n",
       "      <td>NaN</td>\n",
       "      <td>0.181818</td>\n",
       "      <td>0.090909</td>\n",
       "      <td>0.272727</td>\n",
       "      <td>NaN</td>\n",
       "      <td>NaN</td>\n",
       "      <td>NaN</td>\n",
       "      <td>NaN</td>\n",
       "      <td>NaN</td>\n",
       "      <td>NaN</td>\n",
       "      <td>NaN</td>\n",
       "    </tr>\n",
       "    <tr>\n",
       "      <th>2017-01-16</th>\n",
       "      <td>1.0</td>\n",
       "      <td>0.115385</td>\n",
       "      <td>0.230769</td>\n",
       "      <td>0.076923</td>\n",
       "      <td>0.115385</td>\n",
       "      <td>0.153846</td>\n",
       "      <td>0.076923</td>\n",
       "      <td>NaN</td>\n",
       "      <td>NaN</td>\n",
       "      <td>NaN</td>\n",
       "      <td>NaN</td>\n",
       "      <td>NaN</td>\n",
       "      <td>NaN</td>\n",
       "      <td>NaN</td>\n",
       "    </tr>\n",
       "    <tr>\n",
       "      <th>2017-01-23</th>\n",
       "      <td>1.0</td>\n",
       "      <td>NaN</td>\n",
       "      <td>NaN</td>\n",
       "      <td>NaN</td>\n",
       "      <td>0.100000</td>\n",
       "      <td>NaN</td>\n",
       "      <td>NaN</td>\n",
       "      <td>NaN</td>\n",
       "      <td>NaN</td>\n",
       "      <td>NaN</td>\n",
       "      <td>NaN</td>\n",
       "      <td>NaN</td>\n",
       "      <td>NaN</td>\n",
       "      <td>NaN</td>\n",
       "    </tr>\n",
       "    <tr>\n",
       "      <th>2017-01-30</th>\n",
       "      <td>1.0</td>\n",
       "      <td>0.125000</td>\n",
       "      <td>0.125000</td>\n",
       "      <td>0.250000</td>\n",
       "      <td>NaN</td>\n",
       "      <td>NaN</td>\n",
       "      <td>NaN</td>\n",
       "      <td>NaN</td>\n",
       "      <td>NaN</td>\n",
       "      <td>NaN</td>\n",
       "      <td>NaN</td>\n",
       "      <td>NaN</td>\n",
       "      <td>NaN</td>\n",
       "      <td>NaN</td>\n",
       "    </tr>\n",
       "    <tr>\n",
       "      <th>2017-02-06</th>\n",
       "      <td>1.0</td>\n",
       "      <td>NaN</td>\n",
       "      <td>NaN</td>\n",
       "      <td>NaN</td>\n",
       "      <td>NaN</td>\n",
       "      <td>NaN</td>\n",
       "      <td>NaN</td>\n",
       "      <td>NaN</td>\n",
       "      <td>NaN</td>\n",
       "      <td>NaN</td>\n",
       "      <td>NaN</td>\n",
       "      <td>NaN</td>\n",
       "      <td>NaN</td>\n",
       "      <td>NaN</td>\n",
       "    </tr>\n",
       "    <tr>\n",
       "      <th>2017-02-13</th>\n",
       "      <td>1.0</td>\n",
       "      <td>0.333333</td>\n",
       "      <td>NaN</td>\n",
       "      <td>NaN</td>\n",
       "      <td>NaN</td>\n",
       "      <td>NaN</td>\n",
       "      <td>NaN</td>\n",
       "      <td>NaN</td>\n",
       "      <td>NaN</td>\n",
       "      <td>NaN</td>\n",
       "      <td>NaN</td>\n",
       "      <td>NaN</td>\n",
       "      <td>NaN</td>\n",
       "      <td>NaN</td>\n",
       "    </tr>\n",
       "    <tr>\n",
       "      <th>2017-02-20</th>\n",
       "      <td>1.0</td>\n",
       "      <td>NaN</td>\n",
       "      <td>NaN</td>\n",
       "      <td>NaN</td>\n",
       "      <td>NaN</td>\n",
       "      <td>NaN</td>\n",
       "      <td>NaN</td>\n",
       "      <td>NaN</td>\n",
       "      <td>NaN</td>\n",
       "      <td>NaN</td>\n",
       "      <td>NaN</td>\n",
       "      <td>NaN</td>\n",
       "      <td>NaN</td>\n",
       "      <td>NaN</td>\n",
       "    </tr>\n",
       "    <tr>\n",
       "      <th>2017-02-27</th>\n",
       "      <td>1.0</td>\n",
       "      <td>NaN</td>\n",
       "      <td>NaN</td>\n",
       "      <td>NaN</td>\n",
       "      <td>NaN</td>\n",
       "      <td>NaN</td>\n",
       "      <td>NaN</td>\n",
       "      <td>NaN</td>\n",
       "      <td>NaN</td>\n",
       "      <td>NaN</td>\n",
       "      <td>NaN</td>\n",
       "      <td>NaN</td>\n",
       "      <td>NaN</td>\n",
       "      <td>NaN</td>\n",
       "    </tr>\n",
       "  </tbody>\n",
       "</table>\n",
       "</div>"
      ],
      "text/plain": [
       "cohort_lifetime    0         1         2         3         4         5   \\\n",
       "first_order_week                                                          \n",
       "2016-11-28        1.0  0.946203  0.904272  0.733386       NaN  0.785601   \n",
       "2016-12-05        1.0  0.646018  0.439528       NaN  0.513274  0.613569   \n",
       "2016-12-12        1.0  0.132075       NaN  0.377358  0.339623  0.396226   \n",
       "2016-12-19        1.0       NaN  0.222222  0.444444  0.222222  0.222222   \n",
       "2017-01-02        1.0  0.210526  0.210526  0.210526  0.263158  0.157895   \n",
       "2017-01-09        1.0  0.272727  0.181818       NaN  0.181818  0.090909   \n",
       "2017-01-16        1.0  0.115385  0.230769  0.076923  0.115385  0.153846   \n",
       "2017-01-23        1.0       NaN       NaN       NaN  0.100000       NaN   \n",
       "2017-01-30        1.0  0.125000  0.125000  0.250000       NaN       NaN   \n",
       "2017-02-06        1.0       NaN       NaN       NaN       NaN       NaN   \n",
       "2017-02-13        1.0  0.333333       NaN       NaN       NaN       NaN   \n",
       "2017-02-20        1.0       NaN       NaN       NaN       NaN       NaN   \n",
       "2017-02-27        1.0       NaN       NaN       NaN       NaN       NaN   \n",
       "\n",
       "cohort_lifetime         6         7         8         9         10        11  \\\n",
       "first_order_week                                                               \n",
       "2016-11-28        0.875000  0.856804  0.838608  0.836234  0.750791  0.802215   \n",
       "2016-12-05        0.631268  0.560472  0.554572  0.418879  0.504425  0.528024   \n",
       "2016-12-12        0.301887  0.301887  0.226415  0.226415  0.283019  0.150943   \n",
       "2016-12-19        0.111111  0.111111  0.333333  0.333333       NaN       NaN   \n",
       "2017-01-02        0.105263  0.157895       NaN       NaN       NaN       NaN   \n",
       "2017-01-09        0.272727       NaN       NaN       NaN       NaN       NaN   \n",
       "2017-01-16        0.076923       NaN       NaN       NaN       NaN       NaN   \n",
       "2017-01-23             NaN       NaN       NaN       NaN       NaN       NaN   \n",
       "2017-01-30             NaN       NaN       NaN       NaN       NaN       NaN   \n",
       "2017-02-06             NaN       NaN       NaN       NaN       NaN       NaN   \n",
       "2017-02-13             NaN       NaN       NaN       NaN       NaN       NaN   \n",
       "2017-02-20             NaN       NaN       NaN       NaN       NaN       NaN   \n",
       "2017-02-27             NaN       NaN       NaN       NaN       NaN       NaN   \n",
       "\n",
       "cohort_lifetime         12        13  \n",
       "first_order_week                      \n",
       "2016-11-28        0.833070  0.570411  \n",
       "2016-12-05        0.241888       NaN  \n",
       "2016-12-12             NaN       NaN  \n",
       "2016-12-19             NaN       NaN  \n",
       "2017-01-02             NaN       NaN  \n",
       "2017-01-09             NaN       NaN  \n",
       "2017-01-16             NaN       NaN  \n",
       "2017-01-23             NaN       NaN  \n",
       "2017-01-30             NaN       NaN  \n",
       "2017-02-06             NaN       NaN  \n",
       "2017-02-13             NaN       NaN  \n",
       "2017-02-20             NaN       NaN  \n",
       "2017-02-27             NaN       NaN  "
      ]
     },
     "execution_count": 89,
     "metadata": {},
     "output_type": "execute_result"
    }
   ],
   "source": [
    "retention_pivot = cohorts.pivot_table(\n",
    "    index='first_order_week',\n",
    "    columns='cohort_lifetime',\n",
    "    values='retention',\n",
    "    aggfunc='sum',\n",
    ")\n",
    "retention_pivot"
   ]
  },
  {
   "cell_type": "code",
   "execution_count": 90,
   "metadata": {},
   "outputs": [
    {
     "data": {
      "text/plain": [
       "<AxesSubplot:title={'center':'Kohort: Tingkat Retensi Pelanggan'}, xlabel='cohort_lifetime', ylabel='first_order_week'>"
      ]
     },
     "execution_count": 90,
     "metadata": {},
     "output_type": "execute_result"
    },
    {
     "data": {
      "image/png": "[encoded data removed]",
      "text/plain": [
       "<Figure size 936x648 with 2 Axes>"
      ]
     },
     "metadata": {},
     "output_type": "display_data"
    }
   ],
   "source": [
    "#Membuat diagram heatmap untuk tingkat retensi pelanggan\n",
    "sns.set(style='white')\n",
    "plt.figure(figsize=(13, 9))\n",
    "plt.title('Kohort: Tingkat Retensi Pelanggan')\n",
    "sns.heatmap(\n",
    "    retention_pivot, annot=True, fmt='.1%', linewidths=1, linecolor='gray'\n",
    ")"
   ]
  },
  {
   "cell_type": "markdown",
   "metadata": {},
   "source": [
    "- Dari grafik di atas dapat kita ketahui bahwa jumlah pelanggan dalam setiap kohort selalu berkurang setiap minggunya.\n",
    "- Tingkat retensi minggu pertama mengalami penurunan untuk setiap kohort baru. Meskipun tingkat retensi minggu pertama untuk kohort yang bergabung antara tanggal 28 November dan 5 Desember adalah 94,6%, tetapi untuk kohort yang bergabung antara tanggal 12-19 Desember tingkat retensinya hanya 13,2%.\n"
   ]
  },
  {
   "cell_type": "markdown",
   "metadata": {},
   "source": [
    "<div class=\"alert alert-success\">\n",
    "<b>Code Reviewers's comment v.1</b> <a class=\"tocSkip\"></a>\n",
    "\n",
    "Bagus, code yang dijalankan sudah sesuai dengan instruksi dari project.\n",
    "\n",
    "</div>"
   ]
  },
  {
   "cell_type": "markdown",
   "metadata": {},
   "source": [
    "***5.2.Menghitung tingkat churn***"
   ]
  },
  {
   "cell_type": "code",
   "execution_count": 91,
   "metadata": {},
   "outputs": [],
   "source": [
    "#Menghitung tingkat churn\n",
    "cohorts['churn_rate'] = cohorts.groupby(['first_order_week'])['customer_id'].pct_change()"
   ]
  },
  {
   "cell_type": "code",
   "execution_count": 92,
   "metadata": {},
   "outputs": [
    {
     "data": {
      "text/html": [
       "<div>\n",
       "<style scoped>\n",
       "    .dataframe tbody tr th:only-of-type {\n",
       "        vertical-align: middle;\n",
       "    }\n",
       "\n",
       "    .dataframe tbody tr th {\n",
       "        vertical-align: top;\n",
       "    }\n",
       "\n",
       "    .dataframe thead th {\n",
       "        text-align: right;\n",
       "    }\n",
       "</style>\n",
       "<table border=\"1\" class=\"dataframe\">\n",
       "  <thead>\n",
       "    <tr style=\"text-align: right;\">\n",
       "      <th>cohort_lifetime</th>\n",
       "      <th>0</th>\n",
       "      <th>1</th>\n",
       "      <th>2</th>\n",
       "      <th>3</th>\n",
       "      <th>4</th>\n",
       "      <th>5</th>\n",
       "      <th>6</th>\n",
       "      <th>7</th>\n",
       "      <th>8</th>\n",
       "      <th>9</th>\n",
       "      <th>10</th>\n",
       "      <th>11</th>\n",
       "      <th>12</th>\n",
       "      <th>13</th>\n",
       "    </tr>\n",
       "    <tr>\n",
       "      <th>first_order_week</th>\n",
       "      <th></th>\n",
       "      <th></th>\n",
       "      <th></th>\n",
       "      <th></th>\n",
       "      <th></th>\n",
       "      <th></th>\n",
       "      <th></th>\n",
       "      <th></th>\n",
       "      <th></th>\n",
       "      <th></th>\n",
       "      <th></th>\n",
       "      <th></th>\n",
       "      <th></th>\n",
       "      <th></th>\n",
       "    </tr>\n",
       "  </thead>\n",
       "  <tbody>\n",
       "    <tr>\n",
       "      <th>2016-11-28</th>\n",
       "      <td>0.0</td>\n",
       "      <td>-0.053797</td>\n",
       "      <td>-0.044314</td>\n",
       "      <td>-0.188976</td>\n",
       "      <td>NaN</td>\n",
       "      <td>0.071197</td>\n",
       "      <td>0.113797</td>\n",
       "      <td>-0.020796</td>\n",
       "      <td>-0.021237</td>\n",
       "      <td>-0.002830</td>\n",
       "      <td>-0.102176</td>\n",
       "      <td>0.068493</td>\n",
       "      <td>0.038462</td>\n",
       "      <td>-0.31529</td>\n",
       "    </tr>\n",
       "    <tr>\n",
       "      <th>2016-12-05</th>\n",
       "      <td>0.0</td>\n",
       "      <td>-0.353982</td>\n",
       "      <td>-0.319635</td>\n",
       "      <td>NaN</td>\n",
       "      <td>0.167785</td>\n",
       "      <td>0.195402</td>\n",
       "      <td>0.028846</td>\n",
       "      <td>-0.112150</td>\n",
       "      <td>-0.010526</td>\n",
       "      <td>-0.244681</td>\n",
       "      <td>0.204225</td>\n",
       "      <td>0.046784</td>\n",
       "      <td>-0.541899</td>\n",
       "      <td>NaN</td>\n",
       "    </tr>\n",
       "    <tr>\n",
       "      <th>2016-12-12</th>\n",
       "      <td>0.0</td>\n",
       "      <td>-0.867925</td>\n",
       "      <td>NaN</td>\n",
       "      <td>1.857143</td>\n",
       "      <td>-0.100000</td>\n",
       "      <td>0.166667</td>\n",
       "      <td>-0.238095</td>\n",
       "      <td>0.000000</td>\n",
       "      <td>-0.250000</td>\n",
       "      <td>0.000000</td>\n",
       "      <td>0.250000</td>\n",
       "      <td>-0.466667</td>\n",
       "      <td>NaN</td>\n",
       "      <td>NaN</td>\n",
       "    </tr>\n",
       "    <tr>\n",
       "      <th>2016-12-19</th>\n",
       "      <td>0.0</td>\n",
       "      <td>NaN</td>\n",
       "      <td>-0.777778</td>\n",
       "      <td>1.000000</td>\n",
       "      <td>-0.500000</td>\n",
       "      <td>0.000000</td>\n",
       "      <td>-0.500000</td>\n",
       "      <td>0.000000</td>\n",
       "      <td>2.000000</td>\n",
       "      <td>0.000000</td>\n",
       "      <td>NaN</td>\n",
       "      <td>NaN</td>\n",
       "      <td>NaN</td>\n",
       "      <td>NaN</td>\n",
       "    </tr>\n",
       "    <tr>\n",
       "      <th>2017-01-02</th>\n",
       "      <td>0.0</td>\n",
       "      <td>-0.789474</td>\n",
       "      <td>0.000000</td>\n",
       "      <td>0.000000</td>\n",
       "      <td>0.250000</td>\n",
       "      <td>-0.400000</td>\n",
       "      <td>-0.333333</td>\n",
       "      <td>0.500000</td>\n",
       "      <td>NaN</td>\n",
       "      <td>NaN</td>\n",
       "      <td>NaN</td>\n",
       "      <td>NaN</td>\n",
       "      <td>NaN</td>\n",
       "      <td>NaN</td>\n",
       "    </tr>\n",
       "    <tr>\n",
       "      <th>2017-01-09</th>\n",
       "      <td>0.0</td>\n",
       "      <td>-0.727273</td>\n",
       "      <td>-0.333333</td>\n",
       "      <td>NaN</td>\n",
       "      <td>0.000000</td>\n",
       "      <td>-0.500000</td>\n",
       "      <td>2.000000</td>\n",
       "      <td>NaN</td>\n",
       "      <td>NaN</td>\n",
       "      <td>NaN</td>\n",
       "      <td>NaN</td>\n",
       "      <td>NaN</td>\n",
       "      <td>NaN</td>\n",
       "      <td>NaN</td>\n",
       "    </tr>\n",
       "    <tr>\n",
       "      <th>2017-01-16</th>\n",
       "      <td>0.0</td>\n",
       "      <td>-0.884615</td>\n",
       "      <td>1.000000</td>\n",
       "      <td>-0.666667</td>\n",
       "      <td>0.500000</td>\n",
       "      <td>0.333333</td>\n",
       "      <td>-0.500000</td>\n",
       "      <td>NaN</td>\n",
       "      <td>NaN</td>\n",
       "      <td>NaN</td>\n",
       "      <td>NaN</td>\n",
       "      <td>NaN</td>\n",
       "      <td>NaN</td>\n",
       "      <td>NaN</td>\n",
       "    </tr>\n",
       "    <tr>\n",
       "      <th>2017-01-23</th>\n",
       "      <td>0.0</td>\n",
       "      <td>NaN</td>\n",
       "      <td>NaN</td>\n",
       "      <td>NaN</td>\n",
       "      <td>-0.900000</td>\n",
       "      <td>NaN</td>\n",
       "      <td>NaN</td>\n",
       "      <td>NaN</td>\n",
       "      <td>NaN</td>\n",
       "      <td>NaN</td>\n",
       "      <td>NaN</td>\n",
       "      <td>NaN</td>\n",
       "      <td>NaN</td>\n",
       "      <td>NaN</td>\n",
       "    </tr>\n",
       "    <tr>\n",
       "      <th>2017-01-30</th>\n",
       "      <td>0.0</td>\n",
       "      <td>-0.875000</td>\n",
       "      <td>0.000000</td>\n",
       "      <td>1.000000</td>\n",
       "      <td>NaN</td>\n",
       "      <td>NaN</td>\n",
       "      <td>NaN</td>\n",
       "      <td>NaN</td>\n",
       "      <td>NaN</td>\n",
       "      <td>NaN</td>\n",
       "      <td>NaN</td>\n",
       "      <td>NaN</td>\n",
       "      <td>NaN</td>\n",
       "      <td>NaN</td>\n",
       "    </tr>\n",
       "    <tr>\n",
       "      <th>2017-02-06</th>\n",
       "      <td>0.0</td>\n",
       "      <td>NaN</td>\n",
       "      <td>NaN</td>\n",
       "      <td>NaN</td>\n",
       "      <td>NaN</td>\n",
       "      <td>NaN</td>\n",
       "      <td>NaN</td>\n",
       "      <td>NaN</td>\n",
       "      <td>NaN</td>\n",
       "      <td>NaN</td>\n",
       "      <td>NaN</td>\n",
       "      <td>NaN</td>\n",
       "      <td>NaN</td>\n",
       "      <td>NaN</td>\n",
       "    </tr>\n",
       "    <tr>\n",
       "      <th>2017-02-13</th>\n",
       "      <td>0.0</td>\n",
       "      <td>-0.666667</td>\n",
       "      <td>NaN</td>\n",
       "      <td>NaN</td>\n",
       "      <td>NaN</td>\n",
       "      <td>NaN</td>\n",
       "      <td>NaN</td>\n",
       "      <td>NaN</td>\n",
       "      <td>NaN</td>\n",
       "      <td>NaN</td>\n",
       "      <td>NaN</td>\n",
       "      <td>NaN</td>\n",
       "      <td>NaN</td>\n",
       "      <td>NaN</td>\n",
       "    </tr>\n",
       "    <tr>\n",
       "      <th>2017-02-20</th>\n",
       "      <td>0.0</td>\n",
       "      <td>NaN</td>\n",
       "      <td>NaN</td>\n",
       "      <td>NaN</td>\n",
       "      <td>NaN</td>\n",
       "      <td>NaN</td>\n",
       "      <td>NaN</td>\n",
       "      <td>NaN</td>\n",
       "      <td>NaN</td>\n",
       "      <td>NaN</td>\n",
       "      <td>NaN</td>\n",
       "      <td>NaN</td>\n",
       "      <td>NaN</td>\n",
       "      <td>NaN</td>\n",
       "    </tr>\n",
       "    <tr>\n",
       "      <th>2017-02-27</th>\n",
       "      <td>0.0</td>\n",
       "      <td>NaN</td>\n",
       "      <td>NaN</td>\n",
       "      <td>NaN</td>\n",
       "      <td>NaN</td>\n",
       "      <td>NaN</td>\n",
       "      <td>NaN</td>\n",
       "      <td>NaN</td>\n",
       "      <td>NaN</td>\n",
       "      <td>NaN</td>\n",
       "      <td>NaN</td>\n",
       "      <td>NaN</td>\n",
       "      <td>NaN</td>\n",
       "      <td>NaN</td>\n",
       "    </tr>\n",
       "  </tbody>\n",
       "</table>\n",
       "</div>"
      ],
      "text/plain": [
       "cohort_lifetime    0         1         2         3         4         5   \\\n",
       "first_order_week                                                          \n",
       "2016-11-28        0.0 -0.053797 -0.044314 -0.188976       NaN  0.071197   \n",
       "2016-12-05        0.0 -0.353982 -0.319635       NaN  0.167785  0.195402   \n",
       "2016-12-12        0.0 -0.867925       NaN  1.857143 -0.100000  0.166667   \n",
       "2016-12-19        0.0       NaN -0.777778  1.000000 -0.500000  0.000000   \n",
       "2017-01-02        0.0 -0.789474  0.000000  0.000000  0.250000 -0.400000   \n",
       "2017-01-09        0.0 -0.727273 -0.333333       NaN  0.000000 -0.500000   \n",
       "2017-01-16        0.0 -0.884615  1.000000 -0.666667  0.500000  0.333333   \n",
       "2017-01-23        0.0       NaN       NaN       NaN -0.900000       NaN   \n",
       "2017-01-30        0.0 -0.875000  0.000000  1.000000       NaN       NaN   \n",
       "2017-02-06        0.0       NaN       NaN       NaN       NaN       NaN   \n",
       "2017-02-13        0.0 -0.666667       NaN       NaN       NaN       NaN   \n",
       "2017-02-20        0.0       NaN       NaN       NaN       NaN       NaN   \n",
       "2017-02-27        0.0       NaN       NaN       NaN       NaN       NaN   \n",
       "\n",
       "cohort_lifetime         6         7         8         9         10        11  \\\n",
       "first_order_week                                                               \n",
       "2016-11-28        0.113797 -0.020796 -0.021237 -0.002830 -0.102176  0.068493   \n",
       "2016-12-05        0.028846 -0.112150 -0.010526 -0.244681  0.204225  0.046784   \n",
       "2016-12-12       -0.238095  0.000000 -0.250000  0.000000  0.250000 -0.466667   \n",
       "2016-12-19       -0.500000  0.000000  2.000000  0.000000       NaN       NaN   \n",
       "2017-01-02       -0.333333  0.500000       NaN       NaN       NaN       NaN   \n",
       "2017-01-09        2.000000       NaN       NaN       NaN       NaN       NaN   \n",
       "2017-01-16       -0.500000       NaN       NaN       NaN       NaN       NaN   \n",
       "2017-01-23             NaN       NaN       NaN       NaN       NaN       NaN   \n",
       "2017-01-30             NaN       NaN       NaN       NaN       NaN       NaN   \n",
       "2017-02-06             NaN       NaN       NaN       NaN       NaN       NaN   \n",
       "2017-02-13             NaN       NaN       NaN       NaN       NaN       NaN   \n",
       "2017-02-20             NaN       NaN       NaN       NaN       NaN       NaN   \n",
       "2017-02-27             NaN       NaN       NaN       NaN       NaN       NaN   \n",
       "\n",
       "cohort_lifetime         12       13  \n",
       "first_order_week                     \n",
       "2016-11-28        0.038462 -0.31529  \n",
       "2016-12-05       -0.541899      NaN  \n",
       "2016-12-12             NaN      NaN  \n",
       "2016-12-19             NaN      NaN  \n",
       "2017-01-02             NaN      NaN  \n",
       "2017-01-09             NaN      NaN  \n",
       "2017-01-16             NaN      NaN  \n",
       "2017-01-23             NaN      NaN  \n",
       "2017-01-30             NaN      NaN  \n",
       "2017-02-06             NaN      NaN  \n",
       "2017-02-13             NaN      NaN  \n",
       "2017-02-20             NaN      NaN  \n",
       "2017-02-27             NaN      NaN  "
      ]
     },
     "execution_count": 92,
     "metadata": {},
     "output_type": "execute_result"
    }
   ],
   "source": [
    "churn_pivot = cohorts.pivot_table(\n",
    "    index='first_order_week',\n",
    "    columns='cohort_lifetime',\n",
    "    values='churn_rate',\n",
    "    aggfunc='sum',\n",
    ")\n",
    "churn_pivot"
   ]
  },
  {
   "cell_type": "code",
   "execution_count": 93,
   "metadata": {},
   "outputs": [
    {
     "data": {
      "text/plain": [
       "<AxesSubplot:title={'center':'Kohort: Tingkat Churn'}, xlabel='cohort_lifetime', ylabel='first_order_week'>"
      ]
     },
     "execution_count": 93,
     "metadata": {},
     "output_type": "execute_result"
    },
    {
     "data": {
      "image/png": "[encoded data removed]",
      "text/plain": [
       "<Figure size 936x648 with 2 Axes>"
      ]
     },
     "metadata": {},
     "output_type": "display_data"
    }
   ],
   "source": [
    "sns.set(style='white')\n",
    "plt.figure(figsize=(13, 9))\n",
    "plt.title('Kohort: Tingkat Churn')\n",
    "sns.heatmap(churn_pivot, annot=True, fmt='.1%', linewidths=1, linecolor='gray')"
   ]
  },
  {
   "cell_type": "markdown",
   "metadata": {},
   "source": [
    "- Berdasarkan grafik di atas, dapat kita ketahui bahwa tingkat churn untuk kohort pertama sangat rendah. Artinya sedikit pelanggan yang berhenti jadi pelanggan.\n",
    "- Namun untuk pelanggan yang baru bergabung pada tanggal 12-19 Desember, tingkat churn nya sangat tinggi mencapai 86.8%"
   ]
  },
  {
   "cell_type": "markdown",
   "metadata": {},
   "source": [
    "<div class=\"alert alert-success\">\n",
    "<b>Code Reviewers's comment v.1</b> <a class=\"tocSkip\"></a>\n",
    "\n",
    "Bagus, code yang dijalankan sudah sesuai dengan instruksi dari project.\n",
    "\n",
    "</div>"
   ]
  },
  {
   "cell_type": "markdown",
   "metadata": {},
   "source": [
    "# KESIMPULAN UMUM"
   ]
  },
  {
   "cell_type": "markdown",
   "metadata": {},
   "source": [
    "1. Pendapatan kumulativ group 0 lebih besar daripada group 1. Selama 3 bulan, pendapatan dari group 0 mencapai \n",
    "    700.000 dollar, sedangkan pendapatan kumulativ dari group 1 hanya mencapai 200.000  dollar.\n",
    "2. Rata-rata pendapatan kumulativ untuk kedua group tidak berbeda jauh. Rata-rata pendapatan kumulativ group 0 \n",
    "    sedikit di atas group 1.\n",
    "3. Berdasarkan grafik perbedaan relatif untuk rata-rata pendapatan, dapat dilihat bahwa nilai perbedaan relatifnya \n",
    "    lebih banyak yang positif (di atas 0), artinya rata-rata pendapatan group 0 lebih besar daripada group 1. \n",
    "4. Untuk perbedaan konversi kumulatif, grup 0 selalu lebih besar daripada grup 1\n",
    "5. Jumlah pesanan yang dibuat oleh pengguna kebanyakan berjumlah: 1 pesanan\n",
    "6. Hanya 5% pengguna yang membeli lebih dari 4 pesanan, dan hanya 1% pengguna yang membeli dengan jumlah diatas\n",
    "    6 pesanan.\n",
    "7. Jumlah pesanan di atas 2 adalah outlier\n",
    "8. Rata-rata pendapatan adalah 15.5 dollar\n",
    "9. Pendapatan paling tinggi mencapai 77182 dollar\n",
    "10. Berdasarkan diagram scatter untuk revenue, kebanyakan pendapatan toko berada di bawah 200 dollar.\n",
    "11. Persentase revenue di atas 47.6 dollar tidak lebih dari 5%, sedangkan revenue di atas 159.33 dollar \n",
    "    tidak lebih dari 1%. \n",
    "12. Revenue 47.6 dollar adalah titik outlier\n",
    "13. Kesimpulan: berdasarkan data mentah yang kita gunakan, ternyata tidak ada perbedaan yang signifikan antara Group1 dan Group0. \n",
    "14. Nilai p sebesar 0,37 yang mana lebih besar dari alpha 0,05. Oleh karena itu, kita tidak bisa menolak hipotesis nol karena tidak ditemukan perbedaan yang signifikan secara statistik dalam konversi antar kelompok. Akan tetapi, penurunan relatif dari Group0 adalah 33.3 %.  \n",
    "15. Setelah membuang data outliers, nilai p berubah sedikit menjadi 0,42, yang mana tetap lebih besar dari \n",
    "    nilai alpha 0,05. Oleh karena itu, kita tetap bisa menerima hipotesis nol karena tidak ada perbedaan yang signifikan \n",
    "    secara statistik dalam konversi antar group. \n",
    "16. Perbedaan konversi relatif untuk group 0 jika dibandingkan dengan group 1 adalah 1.8 % dengan rata-rata konversi \n",
    "    grop 0 lebih kecil daripada group 1.\n",
    "17. Jumlah pelanggan yang merupakan peserta loyalty program ada 587 pelanggan\n",
    "18. Jumlah pelanggan yang bukan merupakan peserta loyalty program ada 1163 pelanggan\n",
    "19. Frekuensi belanja peserta loyalty adalah 23412 kali atau 22.4 %\n",
    "20. Frekuensi belanja yang bukan peserta loyalty adalah 80890 kali atau 77.6 %\n",
    "21. Dari grafik di atas dapat kita ketahui bahwa jumlah pelanggan dalam setiap kohort selalu berkurang setiap minggunya.\n",
    "22. Tingkat retensi minggu pertama mengalami penurunan untuk setiap kohort baru. Meskipun tingkat retensi minggu pertama untuk kohort yang bergabung antara tanggal 28 November dan 5 Desember adalah 94,6%, tetapi untuk kohort yang bergabung antara tanggal 12-19 Desember tingkat retensinya hanya 13,2%.\n",
    "23. Berdasarkan grafik di atas, dapat kita ketahui bahwa tingkat churn untuk kohort pertama sangat rendah. Artinya sedikit pelanggan yang berhenti jadi pelanggan.\n",
    "24. Untuk pelanggan yang baru bergabung pada tanggal 12-19 Desember, tingkat churn nya sangat tinggi mencapai 86.8%\n"
   ]
  },
  {
   "cell_type": "markdown",
   "metadata": {},
   "source": [
    "<div class=\"alert alert-success\">\n",
    "<b>Code Reviewers's comment v.1</b> <a class=\"tocSkip\"></a>\n",
    "\n",
    "Bagus, code yang dijalankan sudah sesuai dengan instruksi dari project.\n",
    "\n",
    "</div>"
   ]
  },
  {
   "cell_type": "markdown",
   "metadata": {},
   "source": [
    "# REKOMENDASI DAN SARAN"
   ]
  },
  {
   "cell_type": "markdown",
   "metadata": {},
   "source": [
    "1. Menambah benefit untuk menarik minat pelanggan mendaftar jadi peserta loyalty program.\n",
    "2. Melakukan pembenahan data pelanggan karena masih banyak pelanggan yang belum tersimpan datanya."
   ]
  },
  {
   "cell_type": "markdown",
   "metadata": {},
   "source": [
    "<div class=\"alert alert-success\">\n",
    "<b>Code Reviewers's comment v.1</b> <a class=\"tocSkip\"></a>\n",
    "\n",
    "Bagus, code yang dijalankan sudah sesuai dengan instruksi dari project.\n",
    "\n",
    "</div>"
   ]
  },
  {
   "cell_type": "code",
   "execution_count": null,
   "metadata": {},
   "outputs": [],
   "source": []
  }
 ],
 "metadata": {
  "kernelspec": {
   "display_name": "Python 3 (ipykernel)",
   "language": "python",
   "name": "python3"
  },
  "language_info": {
   "codemirror_mode": {
    "name": "ipython",
    "version": 3
   },
   "file_extension": ".py",
   "mimetype": "text/x-python",
   "name": "python",
   "nbconvert_exporter": "python",
   "pygments_lexer": "ipython3",
   "version": "3.9.19"
  },
  "toc": {
   "base_numbering": 1,
   "nav_menu": {},
   "number_sections": true,
   "sideBar": true,
   "skip_h1_title": true,
   "title_cell": "Table of Contents",
   "title_sidebar": "Contents",
   "toc_cell": false,
   "toc_position": {},
   "toc_section_display": true,
   "toc_window_display": false
  }
 },
 "nbformat": 4,
 "nbformat_minor": 2
}
